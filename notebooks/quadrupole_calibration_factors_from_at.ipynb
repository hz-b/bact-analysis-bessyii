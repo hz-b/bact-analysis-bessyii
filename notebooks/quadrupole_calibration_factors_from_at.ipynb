{
 "cells": [
  {
   "cell_type": "code",
   "execution_count": null,
   "id": "a216c3f9",
   "metadata": {},
   "outputs": [],
   "source": [
    "from IPython.core.display import display, Markdown, HTML\n",
    "display(HTML(\"<style>.container { width:90% !important; }</style>\"))"
   ]
  },
  {
   "cell_type": "code",
   "execution_count": null,
   "id": "60c3e7f2",
   "metadata": {},
   "outputs": [],
   "source": [
    "# %matplotlib inline\n",
    "%matplotlib inline\n",
    "from bact_analysis_bessyii.bba.calc import load_calib_data\n",
    "import matplotlib.pyplot as plt\n",
    "import numpy as np\n",
    "import pandas as pd\n",
    "import xarray as xr"
   ]
  },
  {
   "cell_type": "markdown",
   "id": "9b3bba17",
   "metadata": {},
   "source": [
    "# Quadrupole calibration factors check"
   ]
  },
  {
   "cell_type": "markdown",
   "id": "04166caa",
   "metadata": {},
   "source": [
    "Checks for the calibration factors. Results found\n",
    "\n",
    "* Similar in size: thus correspond to mid field strength of an rectangular model\n",
    "* \n",
    "\n",
    "Technical data. Source:\n",
    "\n",
    "\n",
    "* Quadrupole radius: 35 mm \" Technischer Bericht BESSY TB 210/97 April 1997\"\n",
    "* Number of windings: Peter's hand note\n",
    "\n",
    "    * 28 for the main coil\n",
    "    * 75 for the muxer helper coil\n"
   ]
  },
  {
   "cell_type": "code",
   "execution_count": null,
   "id": "9d531513",
   "metadata": {},
   "outputs": [],
   "source": []
  },
  {
   "cell_type": "markdown",
   "id": "46465e12",
   "metadata": {},
   "source": [
    "## Load Data"
   ]
  },
  {
   "cell_type": "code",
   "execution_count": null,
   "id": "f08a3a9d",
   "metadata": {},
   "outputs": [],
   "source": [
    "calib = load_calib_data()"
   ]
  },
  {
   "cell_type": "code",
   "execution_count": null,
   "id": "e30d6438",
   "metadata": {},
   "outputs": [],
   "source": [
    "calib;"
   ]
  },
  {
   "cell_type": "markdown",
   "id": "4c9ceb90",
   "metadata": {},
   "source": [
    "## First consistency checks "
   ]
  },
  {
   "cell_type": "markdown",
   "id": "2ad1a330",
   "metadata": {},
   "source": [
    "Data as retrieved: but these should be absolute values: the difference is quite large . Furthermore it is checked that \n",
    "\n",
    "* hw2phys\n",
    "* phys2hw\n",
    "\n",
    "are the inverse values as expected."
   ]
  },
  {
   "cell_type": "code",
   "execution_count": null,
   "id": "8b330c08",
   "metadata": {},
   "outputs": [],
   "source": [
    "fig, ax = plt.subplots(1,1, figsize=[8, 6])\n",
    "ax.plot(\n",
    "    np.absolute(calib.hw2phys), '-'    ,\n",
    "    np.absolute(1./calib.phys2hw), '.'\n",
    ")\n",
    "ax.set_xlabel('Magnet')\n",
    "ax.set_ylabel('hw2phys [T/(m A)]')\n",
    "[tick.set_rotation('vertical') for tick in ax.get_xmajorticklabels()]\n",
    "plt.xticks(fontsize='xx-small');"
   ]
  },
  {
   "cell_type": "code",
   "execution_count": null,
   "id": "71b944ff",
   "metadata": {},
   "outputs": [],
   "source": [
    "tick = ax.get_xmajorticklabels()[0]"
   ]
  },
  {
   "cell_type": "code",
   "execution_count": null,
   "id": "ab9a40c1",
   "metadata": {},
   "outputs": [],
   "source": [
    "tick.set_rotation('vertical')"
   ]
  },
  {
   "cell_type": "markdown",
   "id": "fd6fb502",
   "metadata": {},
   "source": [
    "Relative difference: variation of roughly -6 to  4 % expected"
   ]
  },
  {
   "cell_type": "code",
   "execution_count": null,
   "id": "d45a0ece",
   "metadata": {},
   "outputs": [],
   "source": [
    "fig, ax = plt.subplots(1,1, figsize=[8, 6])\n",
    "qhw2p = np.absolute(calib.hw2phys)\n",
    "ax.plot((qhw2p/qhw2p.mean()-1)*100)\n",
    "ax.set_xlabel('Magnet')\n",
    "ax.set_ylabel('relativ gradient variaton in percent');\n",
    "[tick.set_rotation('vertical') for tick in ax.get_xmajorticklabels()];\n",
    "plt.xticks(fontsize='xx-small');"
   ]
  },
  {
   "cell_type": "markdown",
   "id": "f78fb97c",
   "metadata": {},
   "source": [
    "Variation with length. Expected difference for the different length\n",
    "\n",
    "* 200: +2 - +4 percent\n",
    "* 250: +1 - -1 precent\n",
    "* 500: -4 - -6 precent\n",
    "\n",
    "Assuming uniform steel properties for all magnets one would assume that the longer magnets would show a slightly stronger gradient. "
   ]
  },
  {
   "cell_type": "code",
   "execution_count": null,
   "id": "9182c458",
   "metadata": {},
   "outputs": [],
   "source": [
    "calib;"
   ]
  },
  {
   "cell_type": "code",
   "execution_count": null,
   "id": "2241ddd7",
   "metadata": {},
   "outputs": [],
   "source": [
    "idx = calib.length.argsort()\n",
    "length = calib.length[idx.values]\n",
    "strength = qhw2p.isel(name=idx.values)\n",
    "fig, ax = plt.subplots(1,1)\n",
    "\n",
    "ax.plot(length*1000, (strength/strength.mean()-1) *100, 'o')\n",
    "ax.set_xlabel('length [mm]')\n",
    "ax.set_ylabel('relativ gradient variaton in percent');"
   ]
  },
  {
   "cell_type": "markdown",
   "id": "c02b8b86",
   "metadata": {},
   "source": [
    "### Cross check with ideal number of laminations"
   ]
  },
  {
   "cell_type": "markdown",
   "id": "8d27638d",
   "metadata": {},
   "source": [
    "$$\n",
    "   \\frac{G r^2}  {2 \\mu_0} = N I\n",
    "$$\n",
    "\n",
    "$$\n",
    "G  = 2 \\mu_0\\frac{N I}{r^2}\n",
    "$$"
   ]
  },
  {
   "cell_type": "code",
   "execution_count": null,
   "id": "9f1ef452",
   "metadata": {},
   "outputs": [],
   "source": [
    "mu0 = 4 * np.pi * 1e-7\n",
    "\n",
    "def calculate_gradient(*, r, N, I):\n",
    "    G = 2 * mu0 * (N * I) / r**2\n",
    "    return G"
   ]
  },
  {
   "cell_type": "code",
   "execution_count": null,
   "id": "bfd544dd",
   "metadata": {},
   "outputs": [],
   "source": [
    "\n",
    "r = 35e-3\n",
    "Nturns = 28\n",
    "\n"
   ]
  },
  {
   "cell_type": "code",
   "execution_count": null,
   "id": "d9bb2935",
   "metadata": {},
   "outputs": [],
   "source": [
    "calculate_gradient(r=r,N=75,I=5)"
   ]
  },
  {
   "cell_type": "markdown",
   "id": "844aec6b",
   "metadata": {},
   "source": [
    "Peter's hand note gfives a value of $\\approx$ 0.769 T/m for 5 A"
   ]
  },
  {
   "cell_type": "markdown",
   "id": "2cd93b05",
   "metadata": {},
   "source": [
    "### Calculating B rho"
   ]
  },
  {
   "cell_type": "markdown",
   "id": "eb7cd761",
   "metadata": {},
   "source": [
    "Radius is given in the sql table"
   ]
  },
  {
   "cell_type": "code",
   "execution_count": null,
   "id": "7e5d3967",
   "metadata": {},
   "outputs": [],
   "source": [
    "rho = 4.354\n"
   ]
  },
  {
   "cell_type": "markdown",
   "id": "c3b3aebf",
   "metadata": {},
   "source": [
    "$$\n",
    "    \\frac {1}{\\rho} = \\frac{q}{p_0} B_0\n",
    "$$\n",
    "\n",
    "$$\n",
    "    B_0 = \\frac{p_0}{q}\\frac 1 \\rho\n",
    "$$"
   ]
  },
  {
   "cell_type": "code",
   "execution_count": null,
   "id": "c13078d0",
   "metadata": {},
   "outputs": [],
   "source": [
    "import scipy.constants"
   ]
  },
  {
   "cell_type": "code",
   "execution_count": null,
   "id": "7ec88458",
   "metadata": {},
   "outputs": [],
   "source": [
    "1.7e9 / 511e3"
   ]
  },
  {
   "cell_type": "code",
   "execution_count": null,
   "id": "39aedb58",
   "metadata": {},
   "outputs": [],
   "source": [
    "Brho = scipy.constants.electron_mass * 3327 * scipy.constants.speed_of_light / scipy.constants.elementary_charge\n",
    "B0 = Brho / rho\n",
    "B0 = 1.29932\n",
    "Brho, B0"
   ]
  },
  {
   "cell_type": "code",
   "execution_count": null,
   "id": "6e556fe5",
   "metadata": {},
   "outputs": [],
   "source": [
    "Brho = B0 * rho"
   ]
  },
  {
   "cell_type": "markdown",
   "id": "1de49bee",
   "metadata": {},
   "source": [
    "Gradient per turn and per Amp"
   ]
  },
  {
   "cell_type": "code",
   "execution_count": null,
   "id": "91eb95a5",
   "metadata": {},
   "outputs": [],
   "source": [
    "GpN = 2 * mu0 / r**2\n",
    "Gp = GpN * Nturns\n",
    "GpN, Gp"
   ]
  },
  {
   "cell_type": "code",
   "execution_count": null,
   "id": "345ca97b",
   "metadata": {},
   "outputs": [],
   "source": [
    "Brho"
   ]
  },
  {
   "cell_type": "markdown",
   "id": "3fc00cd0",
   "metadata": {},
   "source": [
    "According to Peter's hand note"
   ]
  },
  {
   "cell_type": "code",
   "execution_count": null,
   "id": "cb171634",
   "metadata": {},
   "outputs": [],
   "source": [
    "Brho = 5.67044"
   ]
  },
  {
   "cell_type": "code",
   "execution_count": null,
   "id": "7364c57a",
   "metadata": {},
   "outputs": [],
   "source": [
    "1/(qhw2p.sel(name=\"Q4M1T2R\") / (Gp))"
   ]
  },
  {
   "cell_type": "code",
   "execution_count": null,
   "id": "0a32acf0",
   "metadata": {},
   "outputs": [],
   "source": [
    "qhw2p.mean() * Brho / Gp"
   ]
  },
  {
   "cell_type": "markdown",
   "id": "859feff6",
   "metadata": {},
   "source": [
    "### Checking hardware 2 physics to ideal value"
   ]
  },
  {
   "cell_type": "markdown",
   "id": "3623e882",
   "metadata": {},
   "source": [
    "Hardware to physics allows deriving the K value from the excitation current\n",
    "\n",
    "The ideal value is expected to be larger than the real one as it neglects the magnetic resistance of the return yoke.\n",
    "In the plot below one can see that all values are larger than the central one. \n",
    "\n",
    "It is assumed that the mechanical yoke length was used for the rectangular approximation, thus \n",
    "neglecting the \"coil's contribution\". \n",
    "\n",
    "\n",
    "One can see that the value\n",
    "* vary strongly from family to family\n",
    "* vary for magnet 1 or magnet 2 (result of sorting)\n",
    "\n",
    "It is assumed that an average value was derived for the different magnets."
   ]
  },
  {
   "cell_type": "code",
   "execution_count": null,
   "id": "650858a1",
   "metadata": {},
   "outputs": [],
   "source": [
    "krel_ideal = qhw2p * (Brho /Gp)"
   ]
  },
  {
   "cell_type": "code",
   "execution_count": null,
   "id": "4b39c735",
   "metadata": {},
   "outputs": [],
   "source": [
    "fig, ax = plt.subplots(1,1, figsize=[16, 6])\n",
    "ax.plot((krel_ideal))\n",
    "ax.set_xlabel('Magnet')\n",
    "ax.set_ylabel('hw2phys devided by value expected from idealistic model');\n",
    "# [tick.set_rotation('vertical') for tick in ax.get_xmajorticklabels()];\n",
    "\n",
    "def align(tick):\n",
    "    tick.set_rotation(45) \n",
    "    tick.set_verticalalignment('top')\n",
    "    tick.set_horizontalalignment('right')\n",
    "    \n",
    "[align(tick) for tick in ax.get_xmajorticklabels()];\n",
    "plt.xticks(fontsize='small');"
   ]
  },
  {
   "cell_type": "code",
   "execution_count": null,
   "id": "30bc0cf5",
   "metadata": {},
   "outputs": [],
   "source": [
    "tick = ax.get_xmajorticklabels()[0]"
   ]
  },
  {
   "cell_type": "code",
   "execution_count": null,
   "id": "21155afb",
   "metadata": {},
   "outputs": [],
   "source": [
    "tick.set_horizontalalignment"
   ]
  },
  {
   "cell_type": "code",
   "execution_count": null,
   "id": "66ae1df1",
   "metadata": {},
   "outputs": [],
   "source": [
    "fig, ax = plt.subplots(1,1, figsize=[24, 6])\n",
    "ax.plot(calib.length, krel_ideal, '.')\n",
    "ax.set_xlabel('Magnet')\n",
    "ax.set_ylabel('hw2phys devided by value expected from ');\n",
    "# [tick.set_rotation('vertical') for tick in ax.get_xmajorticklabels()];\n",
    "# plt.xticks(fontsize='xx-small');"
   ]
  },
  {
   "cell_type": "markdown",
   "id": "be9cfd12",
   "metadata": {},
   "source": [
    "### New heading"
   ]
  },
  {
   "cell_type": "markdown",
   "id": "5d7f16da",
   "metadata": {},
   "source": [
    "### Cross check by database"
   ]
  },
  {
   "cell_type": "markdown",
   "id": "6ddd255c",
   "metadata": {},
   "source": [
    "There is a second database providing data for different magnets. This sql based database is crosschecked to the data provided by the mongo database"
   ]
  },
  {
   "cell_type": "code",
   "execution_count": null,
   "id": "f8e85c65",
   "metadata": {},
   "outputs": [],
   "source": [
    "import bact2_bessyii.magnets"
   ]
  },
  {
   "cell_type": "code",
   "execution_count": null,
   "id": "54d8519f",
   "metadata": {},
   "outputs": [],
   "source": [
    "df =  bact2_bessyii.magnets.quadrupole_calibration_factors().set_index(\"name\")\n",
    "df.head()"
   ]
  },
  {
   "cell_type": "code",
   "execution_count": null,
   "id": "7956af72",
   "metadata": {},
   "outputs": [],
   "source": [
    "calib_sql = xr.Dataset.from_dataframe(df)\n",
    "calib_sql;"
   ]
  },
  {
   "cell_type": "markdown",
   "id": "9166dbf3",
   "metadata": {},
   "source": [
    "The parameter \"al\" seems to correspond to the length"
   ]
  },
  {
   "cell_type": "code",
   "execution_count": null,
   "id": "4af6c473",
   "metadata": {},
   "outputs": [],
   "source": [
    "fig, ax = plt.subplots(1, 1, )\n",
    "ax.plot(calib_sql.al)"
   ]
  },
  {
   "cell_type": "code",
   "execution_count": null,
   "id": "165a398d",
   "metadata": {},
   "outputs": [],
   "source": [
    "tf = calib_sql.t / calib_sql.al"
   ]
  },
  {
   "cell_type": "markdown",
   "id": "26dae5cf",
   "metadata": {},
   "source": [
    "Division yields that the transfer function is pretty uniform"
   ]
  },
  {
   "cell_type": "code",
   "execution_count": null,
   "id": "c9d2e5de",
   "metadata": {},
   "outputs": [],
   "source": [
    "fig, ax = plt.subplots(1, 1, )\n",
    "ax.plot(tf/tf.mean())"
   ]
  },
  {
   "cell_type": "markdown",
   "id": "fb96d2cd",
   "metadata": {},
   "source": [
    "Comparison of the \"central\" transfer function"
   ]
  },
  {
   "cell_type": "code",
   "execution_count": null,
   "id": "ec1593e9",
   "metadata": {},
   "outputs": [],
   "source": [
    "fig, ax = plt.subplots(1, 1, )\n",
    "ax.plot(tf, qhw2p * Brho, '*')\n",
    "ax.set_xlabel(r'r$t_f$ [T/M A]')\n",
    "ax.set_ylabel(r'r$k_1$ * B $\\rho$ [T/M A]')"
   ]
  },
  {
   "cell_type": "markdown",
   "id": "f311872d",
   "metadata": {},
   "source": [
    "Comparison of the transfer function ratio for the different magnets"
   ]
  },
  {
   "cell_type": "code",
   "execution_count": null,
   "id": "b19c3afa",
   "metadata": {},
   "outputs": [],
   "source": [
    "fig, ax = plt.subplots(1, 1, figsize=(8, 6))\n",
    "ax.plot((tf / (qhw2p * Brho) -1) * 100, '*')\n",
    "ax.set_xlabel('magnet')\n",
    "ax.set_ylabel(r'$\\frac{t_f}{rk_1 \\cdot B \\rho}$ [%]')\n",
    "[tick.set_rotation('vertical') for tick in ax.get_xmajorticklabels()];\n",
    "#plt.xticks(fontsize='xx-small');\n",
    "fig.tight_layout()"
   ]
  },
  {
   "cell_type": "code",
   "execution_count": null,
   "id": "f8df9e61",
   "metadata": {},
   "outputs": [],
   "source": [
    "fig, ax = plt.subplots(1, 1)\n",
    "ax.plot(calib_sql.al, (tf / (qhw2p * Brho) -1) * 100, '*')\n",
    "ax.set_xlabel('l [mm]')\n",
    "ax.set_ylabel(r'$\\frac{t_f}{rk_1 \\cdot B \\rho}$ [%]')\n",
    "[tick.set_rotation('vertical') for tick in ax.get_xmajorticklabels()];\n",
    "#plt.xticks(fontsize='xx-small');\n",
    "fig.tight_layout()"
   ]
  },
  {
   "cell_type": "code",
   "execution_count": null,
   "id": "e7ebd79e",
   "metadata": {},
   "outputs": [],
   "source": [
    "def corresponding_length(length):\n",
    "    l200 = (length>0.23) & (length<0.235)\n",
    "    l250 = (length>0.27) & (length<0.275)\n",
    "    l500 = (length>0.5 ) & (length<0.51)\n",
    "    \n",
    "    check = l200 + l250 + l500\n",
    "    assert((check == 1).all())\n",
    "    \n",
    "    nl = xr.DataArray(dims=length.dims, coords=length.coords)\n",
    "    nl.loc[dict(name=l200)] = 0.2\n",
    "    nl.loc[dict(name=l250)] = 0.25\n",
    "    nl.loc[dict(name=l500)] = 0.5\n",
    "    return nl"
   ]
  },
  {
   "cell_type": "code",
   "execution_count": null,
   "id": "1df797a9",
   "metadata": {},
   "outputs": [],
   "source": [
    "mechanical_length = corresponding_length(calib_sql.al)"
   ]
  },
  {
   "cell_type": "code",
   "execution_count": null,
   "id": "541d0491",
   "metadata": {},
   "outputs": [],
   "source": [
    "set(list(calib_sql.al.values))"
   ]
  },
  {
   "cell_type": "code",
   "execution_count": null,
   "id": "c460b550",
   "metadata": {},
   "outputs": [],
   "source": [
    "tfm = calib_sql.t / mechanical_length"
   ]
  },
  {
   "cell_type": "code",
   "execution_count": null,
   "id": "51f139bf",
   "metadata": {},
   "outputs": [],
   "source": []
  },
  {
   "cell_type": "code",
   "execution_count": null,
   "id": "11956269",
   "metadata": {},
   "outputs": [],
   "source": [
    "fig, ax = plt.subplots(1, 1)\n",
    "ax.plot(calib_sql.al, (tfm / (qhw2p * Brho) -1) * 100, '*')\n",
    "ax.set_xlabel('l [mm]')\n",
    "ax.set_ylabel(r'$\\frac{t_f}{rk_1 \\cdot B \\rho}$ [%]')\n",
    "#[tick.set_rotation('vertical') for tick in ax.get_xmajorticklabels()];\n",
    "#plt.xticks(fontsize='xx-small');\n",
    "fig.tight_layout()"
   ]
  },
  {
   "cell_type": "markdown",
   "id": "8c0c704a-5e15-497d-8b87-c89a03acff63",
   "metadata": {},
   "source": [
    "## AT Measurement data "
   ]
  },
  {
   "cell_type": "code",
   "execution_count": null,
   "id": "ec335fa3-9fd6-47a3-92a8-046cdad311d8",
   "metadata": {},
   "outputs": [],
   "source": [
    " txt = \"\"\"(QUAD) Fit parameter:   1, Name : Q1M2D1R, value:  2.434852  1/m^2\n",
    "   (QUAD) Fit parameter:   2, Name : Q1M1T1R, value:  2.432500  1/m^2\n",
    "   (QUAD) Fit parameter:   3, Name : Q1M2T1R, value:  2.438276  1/m^2\n",
    "   (QUAD) Fit parameter:   4, Name : Q1M1D2R, value:  2.428871  1/m^2\n",
    "   (QUAD) Fit parameter:   5, Name : Q1M2D2R, value:  2.430467  1/m^2\n",
    "   (QUAD) Fit parameter:   6, Name : Q1M1T2R, value:  2.434239  1/m^2\n",
    "   (QUAD) Fit parameter:   7, Name : Q1M2T2R, value:  2.428813  1/m^2\n",
    "   (QUAD) Fit parameter:   8, Name : Q1M1D3R, value:  2.432423  1/m^2\n",
    "   (QUAD) Fit parameter:   9, Name : Q1M2D3R, value:  2.444430  1/m^2\n",
    "   (QUAD) Fit parameter:  10, Name : Q1M1T3R, value:  2.444282  1/m^2\n",
    "   (QUAD) Fit parameter:  11, Name : Q1M2T3R, value:  2.437315  1/m^2\n",
    "   (QUAD) Fit parameter:  12, Name : Q1M1D4R, value:  2.431714  1/m^2\n",
    "   (QUAD) Fit parameter:  13, Name : Q1M2D4R, value:  2.426608  1/m^2\n",
    "   (QUAD) Fit parameter:  14, Name : Q1M1T4R, value:  2.434197  1/m^2\n",
    "   (QUAD) Fit parameter:  15, Name : Q1M2T4R, value:  2.430148  1/m^2\n",
    "   (QUAD) Fit parameter:  16, Name : Q1M1D5R, value:  2.437458  1/m^2\n",
    "   (QUAD) Fit parameter:  17, Name : Q1M2D5R, value:  2.433468  1/m^2\n",
    "   (QUAD) Fit parameter:  18, Name : Q1M1T5R, value:  2.439687  1/m^2\n",
    "   (QUAD) Fit parameter:  19, Name : Q1M2T5R, value:  2.431409  1/m^2\n",
    "   (QUAD) Fit parameter:  20, Name : Q1M1D6R, value:  2.432905  1/m^2\n",
    "   (QUAD) Fit parameter:  21, Name : Q1M2D6R, value:  2.446809  1/m^2\n",
    "   (QUAD) Fit parameter:  22, Name : Q1M1T6R, value:  2.434695  1/m^2\n",
    "   (QUAD) Fit parameter:  23, Name : Q1M2T6R, value:  2.425819  1/m^2\n",
    "   (QUAD) Fit parameter:  24, Name : Q1M1D7R, value:  2.438531  1/m^2\n",
    "   (QUAD) Fit parameter:  25, Name : Q1M2D7R, value:  2.428425  1/m^2\n",
    "   (QUAD) Fit parameter:  26, Name : Q1M1T7R, value:  2.440111  1/m^2\n",
    "   (QUAD) Fit parameter:  27, Name : Q1M2T7R, value:  2.435483  1/m^2\n",
    "   (QUAD) Fit parameter:  28, Name : Q1M1D8R, value:  2.439362  1/m^2\n",
    "   (QUAD) Fit parameter:  29, Name : Q1M2D8R, value:  2.429829  1/m^2\n",
    "   (QUAD) Fit parameter:  30, Name : Q1M1T8R, value:  2.438577  1/m^2\n",
    "   (QUAD) Fit parameter:  31, Name : Q1M2T8R, value:  2.436092  1/m^2\n",
    "   (QUAD) Fit parameter:  32, Name : Q1M1D1R, value:  2.438516  1/m^2\n",
    "   (QUAD) Fit parameter:  33, Name : Q2M2D1R, value: -1.845751  1/m^2\n",
    "   (QUAD) Fit parameter:  34, Name : Q2M1T1R, value: -1.882292  1/m^2\n",
    "   (QUAD) Fit parameter:  35, Name : Q2M2T1R, value: -1.842973  1/m^2\n",
    "   (QUAD) Fit parameter:  36, Name : Q2M1D2R, value: -1.887146  1/m^2\n",
    "   (QUAD) Fit parameter:  37, Name : Q2M2D2R, value: -1.882148  1/m^2\n",
    "   (QUAD) Fit parameter:  38, Name : Q2M1T2R, value: -1.825845  1/m^2\n",
    "   (QUAD) Fit parameter:  39, Name : Q2M2T2R, value: -1.828352  1/m^2\n",
    "   (QUAD) Fit parameter:  40, Name : Q2M1D3R, value: -1.871478  1/m^2\n",
    "   (QUAD) Fit parameter:  41, Name : Q2M2D3R, value: -1.868630  1/m^2\n",
    "   (QUAD) Fit parameter:  42, Name : Q2M1T3R, value: -1.819808  1/m^2\n",
    "   (QUAD) Fit parameter:  43, Name : Q2M2T3R, value: -1.821105  1/m^2\n",
    "   (QUAD) Fit parameter:  44, Name : Q2M1D4R, value: -1.881955  1/m^2\n",
    "   (QUAD) Fit parameter:  45, Name : Q2M2D4R, value: -1.878322  1/m^2\n",
    "   (QUAD) Fit parameter:  46, Name : Q2M1T4R, value: -1.816713  1/m^2\n",
    "   (QUAD) Fit parameter:  47, Name : Q2M2T4R, value: -1.839283  1/m^2\n",
    "   (QUAD) Fit parameter:  48, Name : Q2M1D5R, value: -1.862095  1/m^2\n",
    "   (QUAD) Fit parameter:  49, Name : Q2M2D5R, value: -1.883766  1/m^2\n",
    "   (QUAD) Fit parameter:  50, Name : Q2M1T5R, value: -1.817666  1/m^2\n",
    "   (QUAD) Fit parameter:  51, Name : Q2M2T5R, value: -1.837172  1/m^2\n",
    "   (QUAD) Fit parameter:  52, Name : Q2M1D6R, value: -1.869564  1/m^2\n",
    "   (QUAD) Fit parameter:  53, Name : Q2M2D6R, value: -1.869799  1/m^2\n",
    "   (QUAD) Fit parameter:  54, Name : Q2M1T6R, value: -1.864825  1/m^2\n",
    "   (QUAD) Fit parameter:  55, Name : Q2M2T6R, value: -1.853606  1/m^2\n",
    "   (QUAD) Fit parameter:  56, Name : Q2M1D7R, value: -1.864121  1/m^2\n",
    "   (QUAD) Fit parameter:  57, Name : Q2M2D7R, value: -1.884701  1/m^2\n",
    "   (QUAD) Fit parameter:  58, Name : Q2M1T7R, value: -1.822435  1/m^2\n",
    "   (QUAD) Fit parameter:  59, Name : Q2M2T7R, value: -1.851085  1/m^2\n",
    "   (QUAD) Fit parameter:  60, Name : Q2M1D8R, value: -1.870231  1/m^2\n",
    "   (QUAD) Fit parameter:  61, Name : Q2M2D8R, value: -1.878520  1/m^2\n",
    "   (QUAD) Fit parameter:  62, Name : Q2M1T8R, value: -1.838834  1/m^2\n",
    "   (QUAD) Fit parameter:  63, Name : Q2M2T8R, value: -1.866194  1/m^2\n",
    "   (QUAD) Fit parameter:  64, Name : Q2M1D1R, value: -1.838139  1/m^2\n",
    "   (QUAD) Fit parameter:  65, Name : Q3M2D1R, value: -2.018753  1/m^2\n",
    "   (QUAD) Fit parameter:  66, Name : Q3M1T1R, value: -2.513644  1/m^2\n",
    "   (QUAD) Fit parameter:  67, Name : Q3M2T1R, value: -2.489925  1/m^2\n",
    "   (QUAD) Fit parameter:  68, Name : Q3M1D2R, value: -2.103146  1/m^2\n",
    "   (QUAD) Fit parameter:  69, Name : Q3M2D2R, value: -2.113701  1/m^2\n",
    "   (QUAD) Fit parameter:  70, Name : Q3M1T2R, value: -2.457846  1/m^2\n",
    "   (QUAD) Fit parameter:  71, Name : Q3M2T2R, value: -2.455187  1/m^2\n",
    "   (QUAD) Fit parameter:  72, Name : Q3M1D3R, value: -2.113817  1/m^2\n",
    "   (QUAD) Fit parameter:  73, Name : Q3M2D3R, value: -2.114554  1/m^2\n",
    "   (QUAD) Fit parameter:  74, Name : Q3M1T3R, value: -2.457973  1/m^2\n",
    "   (QUAD) Fit parameter:  75, Name : Q3M2T3R, value: -2.459593  1/m^2\n",
    "   (QUAD) Fit parameter:  76, Name : Q3M1D4R, value: -2.114393  1/m^2\n",
    "   (QUAD) Fit parameter:  77, Name : Q3M2D4R, value: -2.110309  1/m^2\n",
    "   (QUAD) Fit parameter:  78, Name : Q3M1T4R, value: -2.454027  1/m^2\n",
    "   (QUAD) Fit parameter:  79, Name : Q3M2T4R, value: -2.447107  1/m^2\n",
    "   (QUAD) Fit parameter:  80, Name : Q3M1D5R, value: -2.111989  1/m^2\n",
    "   (QUAD) Fit parameter:  81, Name : Q3M2D5R, value: -2.111254  1/m^2\n",
    "   (QUAD) Fit parameter:  82, Name : Q3M1T5R, value: -2.459242  1/m^2\n",
    "   (QUAD) Fit parameter:  83, Name : Q3M2T5R, value: -2.458475  1/m^2\n",
    "   (QUAD) Fit parameter:  84, Name : Q3M1D6R, value: -2.093306  1/m^2\n",
    "   (QUAD) Fit parameter:  85, Name : Q3M2D6R, value: -2.102154  1/m^2\n",
    "   (QUAD) Fit parameter:  86, Name : Q3M1T6R, value: -2.669755  1/m^2\n",
    "   (QUAD) Fit parameter:  87, Name : Q3M2T6R, value: -2.296469  1/m^2\n",
    "   (QUAD) Fit parameter:  88, Name : Q3M1D7R, value: -2.113762  1/m^2\n",
    "   (QUAD) Fit parameter:  89, Name : Q3M2D7R, value: -2.099826  1/m^2\n",
    "   (QUAD) Fit parameter:  90, Name : Q3M1T7R, value: -2.469869  1/m^2\n",
    "   (QUAD) Fit parameter:  91, Name : Q3M2T7R, value: -2.469500  1/m^2\n",
    "   (QUAD) Fit parameter:  92, Name : Q3M1D8R, value: -2.119245  1/m^2\n",
    "   (QUAD) Fit parameter:  93, Name : Q3M2D8R, value: -2.103575  1/m^2\n",
    "   (QUAD) Fit parameter:  94, Name : Q3M1T8R, value: -2.476209  1/m^2\n",
    "   (QUAD) Fit parameter:  95, Name : Q3M2T8R, value: -2.505566  1/m^2\n",
    "   (QUAD) Fit parameter:  96, Name : Q3M1D1R, value: -2.030975  1/m^2\n",
    "   (QUAD) Fit parameter:  97, Name : Q4M2D1R, value:  1.403441  1/m^2\n",
    "   (QUAD) Fit parameter:  98, Name : Q4M1T1R, value:  2.637748  1/m^2\n",
    "   (QUAD) Fit parameter:  99, Name : Q4M2T1R, value:  2.574446  1/m^2\n",
    "   (QUAD) Fit parameter: 100, Name : Q4M1D2R, value:  1.480546  1/m^2\n",
    "   (QUAD) Fit parameter: 101, Name : Q4M2D2R, value:  1.481529  1/m^2\n",
    "   (QUAD) Fit parameter: 102, Name : Q4M1T2R, value:  2.583164  1/m^2\n",
    "   (QUAD) Fit parameter: 103, Name : Q4M2T2R, value:  2.585376  1/m^2\n",
    "   (QUAD) Fit parameter: 104, Name : Q4M1D3R, value:  1.481568  1/m^2\n",
    "   (QUAD) Fit parameter: 105, Name : Q4M2D3R, value:  1.485072  1/m^2\n",
    "   (QUAD) Fit parameter: 106, Name : Q4M1T3R, value:  2.578520  1/m^2\n",
    "   (QUAD) Fit parameter: 107, Name : Q4M2T3R, value:  2.582798  1/m^2\n",
    "   (QUAD) Fit parameter: 108, Name : Q4M1D4R, value:  1.499967  1/m^2\n",
    "   (QUAD) Fit parameter: 109, Name : Q4M2D4R, value:  1.484875  1/m^2\n",
    "   (QUAD) Fit parameter: 110, Name : Q4M1T4R, value:  2.582721  1/m^2\n",
    "   (QUAD) Fit parameter: 111, Name : Q4M2T4R, value:  2.581386  1/m^2\n",
    "   (QUAD) Fit parameter: 112, Name : Q4M1D5R, value:  1.483486  1/m^2\n",
    "   (QUAD) Fit parameter: 113, Name : Q4M2D5R, value:  1.479909  1/m^2\n",
    "   (QUAD) Fit parameter: 114, Name : Q4M1T5R, value:  2.582541  1/m^2\n",
    "   (QUAD) Fit parameter: 115, Name : Q4M2T5R, value:  2.581872  1/m^2\n",
    "   (QUAD) Fit parameter: 116, Name : Q4M1D6R, value:  1.484540  1/m^2\n",
    "   (QUAD) Fit parameter: 117, Name : Q4M2D6R, value:  1.485975  1/m^2\n",
    "   (QUAD) Fit parameter: 118, Name : Q4M1T6R, value:  2.248588  1/m^2\n",
    "   (QUAD) Fit parameter: 119, Name : Q4M2T6R, value:  2.564476  1/m^2\n",
    "   (QUAD) Fit parameter: 120, Name : Q4M1D7R, value:  1.475396  1/m^2\n",
    "   (QUAD) Fit parameter: 121, Name : Q4M2D7R, value:  1.490089  1/m^2\n",
    "   (QUAD) Fit parameter: 122, Name : Q4M1T7R, value:  2.589398  1/m^2\n",
    "   (QUAD) Fit parameter: 123, Name : Q4M2T7R, value:  2.592736  1/m^2\n",
    "   (QUAD) Fit parameter: 124, Name : Q4M1D8R, value:  1.490483  1/m^2\n",
    "   (QUAD) Fit parameter: 125, Name : Q4M2D8R, value:  1.481112  1/m^2\n",
    "   (QUAD) Fit parameter: 126, Name : Q4M1T8R, value:  2.568419  1/m^2\n",
    "   (QUAD) Fit parameter: 127, Name : Q4M2T8R, value:  2.643976  1/m^2\n",
    "   (QUAD) Fit parameter: 128, Name : Q4M1D1R, value:  1.406749  1/m^2\n",
    "   (QUAD) Fit parameter: 129, Name : Q5M1T1R, value: -2.522543  1/m^2\n",
    "   (QUAD) Fit parameter: 130, Name : Q5M2T1R, value: -2.518521  1/m^2\n",
    "   (QUAD) Fit parameter: 131, Name : Q5M1T2R, value: -2.582140  1/m^2\n",
    "   (QUAD) Fit parameter: 132, Name : Q5M2T2R, value: -2.605689  1/m^2\n",
    "   (QUAD) Fit parameter: 133, Name : Q5M1T3R, value: -2.605526  1/m^2\n",
    "   (QUAD) Fit parameter: 134, Name : Q5M2T3R, value: -2.595408  1/m^2\n",
    "   (QUAD) Fit parameter: 135, Name : Q5M1T4R, value: -2.586966  1/m^2\n",
    "   (QUAD) Fit parameter: 136, Name : Q5M2T4R, value: -2.593508  1/m^2\n",
    "   (QUAD) Fit parameter: 137, Name : Q5M1T5R, value: -2.599672  1/m^2\n",
    "   (QUAD) Fit parameter: 138, Name : Q5M2T5R, value: -2.573553  1/m^2\n",
    "   (QUAD) Fit parameter: 139, Name : Q5M1T6R, value: -1.039136  1/m^2\n",
    "   (QUAD) Fit parameter: 140, Name : Q5M2T6R, value: -2.508676  1/m^2\n",
    "   (QUAD) Fit parameter: 141, Name : Q5M1T7R, value: -2.613940  1/m^2\n",
    "   (QUAD) Fit parameter: 142, Name : Q5M2T7R, value: -2.587546  1/m^2\n",
    "   (QUAD) Fit parameter: 143, Name : Q5M1T8R, value: -2.511650  1/m^2\n",
    "   (QUAD) Fit parameter: 144, Name : Q5M2T8R, value: -2.519138  1/m^2\n",
    "   (QUAD) Fit parameter: 145, Name : QIT6R , value: -1.078482  1/m^2\n",
    "\"\"\"\n",
    "lines = txt.split('\\n')"
   ]
  },
  {
   "cell_type": "code",
   "execution_count": null,
   "id": "dd95519c-0043-41b2-958c-f11dc98b9a33",
   "metadata": {},
   "outputs": [],
   "source": [
    "lines[-1]"
   ]
  },
  {
   "cell_type": "code",
   "execution_count": null,
   "id": "9ad9c75e-6ddc-4cca-b2b6-20f5345d0cb3",
   "metadata": {},
   "outputs": [],
   "source": [
    "import re"
   ]
  },
  {
   "cell_type": "code",
   "execution_count": null,
   "id": "f3bb6d26-bae2-4ea1-944c-01edde0f2478",
   "metadata": {},
   "outputs": [],
   "source": [
    "cols = lines[1].split(\",\")"
   ]
  },
  {
   "cell_type": "code",
   "execution_count": null,
   "id": "59f817ac-6925-4f54-b5d6-b47abadcec7f",
   "metadata": {},
   "outputs": [],
   "source": [
    "cols"
   ]
  },
  {
   "cell_type": "code",
   "execution_count": null,
   "id": "cc2137c9-7886-401b-8ba8-eeca08112e83",
   "metadata": {},
   "outputs": [],
   "source": [
    "cols[0]"
   ]
  },
  {
   "cell_type": "code",
   "execution_count": null,
   "id": "86700fe7-c315-4f9e-890f-43cbbe78c244",
   "metadata": {},
   "outputs": [],
   "source": [
    "match = re.match(\"\\s*\\((\\S*)\\)\\s\", cols[0])"
   ]
  },
  {
   "cell_type": "code",
   "execution_count": null,
   "id": "131d2e76-b3e5-4eb1-8bd3-4c5ad26f4c54",
   "metadata": {},
   "outputs": [],
   "source": [
    "match.groups()"
   ]
  },
  {
   "cell_type": "code",
   "execution_count": null,
   "id": "dded5a06-6060-46a2-bec7-48f297a0cff8",
   "metadata": {},
   "outputs": [],
   "source": [
    "match = re.match(\"\\s*Name\\s*:\\s*(\\S*)\\s*\", cols[1])\n",
    "match.groups()"
   ]
  },
  {
   "cell_type": "code",
   "execution_count": null,
   "id": "950798c1-9202-4eec-8142-5173591c5c2e",
   "metadata": {},
   "outputs": [],
   "source": [
    "match= re.match(\" value:\\s*(\\S*)\\s* 1/m\\^2\", cols[2])\n",
    "match.groups()"
   ]
  },
  {
   "cell_type": "code",
   "execution_count": null,
   "id": "9cb5994f-91e1-4cd9-afdd-13c73f554d48",
   "metadata": {},
   "outputs": [],
   "source": [
    "match_fit_type = re.compile(\"\\s*\\((\\S*)\\).*:\\s*(\\d*)\")\n",
    "match_element_name = re.compile(\"\\s*Name\\s*:\\s*(\\S*)\\s*\")\n",
    "match_value = re.compile(\" value:\\s*(\\S*)\\s* 1/m\\^2\")"
   ]
  },
  {
   "cell_type": "code",
   "execution_count": null,
   "id": "9458c052-776b-432d-b550-b560cf982ddd",
   "metadata": {},
   "outputs": [],
   "source": [
    "def convert_line(line):\n",
    "    cols = line.split(\",\")\n",
    "    fit_txt, elem_txt, val_txt = cols\n",
    "    \n",
    "    try:\n",
    "        fitm = match_fit_type.match(fit_txt)\n",
    "        family, nelem = fitm.groups()\n",
    "    except Exception:\n",
    "        print(\"Failed to convert line\", line)\n",
    "        raise\n",
    "\n",
    "    nelem = int(nelem)\n",
    "    \n",
    "    namem = match_element_name.match(elem_txt)\n",
    "    name, = namem.groups()\n",
    "    \n",
    "    valm = match_value.match(val_txt)    \n",
    "    val, = valm.groups()\n",
    "    val = float(val)\n",
    "    \n",
    "    return dict(family=family, nelem=nelem, name=name, val=val)\n",
    "\n",
    "entries = [convert_line(line) for line in lines[:-1]]"
   ]
  },
  {
   "cell_type": "code",
   "execution_count": null,
   "id": "2c772880-1829-4ba4-bae2-b9aa2c87e1a7",
   "metadata": {},
   "outputs": [],
   "source": [
    "entries;"
   ]
  },
  {
   "cell_type": "code",
   "execution_count": null,
   "id": "16ce6e72-fc0a-428a-82ba-248a386f45e1",
   "metadata": {},
   "outputs": [],
   "source": [
    "df = pd.DataFrame(entries).infer_objects()\n",
    "df"
   ]
  },
  {
   "cell_type": "code",
   "execution_count": null,
   "id": "b894ef9c-162c-4b26-aec7-f9f69c41f7d5",
   "metadata": {},
   "outputs": [],
   "source": [
    "df.to_json('bessy2_quad_strength_measured_loco.json', indent=4)"
   ]
  },
  {
   "cell_type": "code",
   "execution_count": null,
   "id": "876c3c9c-695d-4959-8c27-442cc6111591",
   "metadata": {},
   "outputs": [],
   "source": [
    "import thor_scsi.lib as ts_lib"
   ]
  },
  {
   "cell_type": "code",
   "execution_count": null,
   "id": "555a1ffc-fa37-4899-bccc-2612fae2a97f",
   "metadata": {},
   "outputs": [],
   "source": [
    "from thor_scsi.utils import accelerator\n",
    "from thor_scsi.factory import accelerator_from_config"
   ]
  },
  {
   "cell_type": "code",
   "execution_count": null,
   "id": "8295fa59-f0f0-475c-8665-c55602555a4f",
   "metadata": {},
   "outputs": [],
   "source": []
  },
  {
   "cell_type": "code",
   "execution_count": null,
   "id": "80f2af5c-c15b-4d45-bf65-d9bcb9291bcd",
   "metadata": {},
   "outputs": [],
   "source": [
    "pd.read_json('bessy2_quad_strength_measured_loco.json')"
   ]
  },
  {
   "cell_type": "code",
   "execution_count": null,
   "id": "224c05b8-f22a-43ba-ab14-09931b61349c",
   "metadata": {},
   "outputs": [],
   "source": [
    "import os.path"
   ]
  },
  {
   "cell_type": "code",
   "execution_count": null,
   "id": "07f21875-f4ac-4a62-9d3f-39a052ae1815",
   "metadata": {},
   "outputs": [],
   "source": [
    "lattice_dir = os.path.join(\n",
    "    os.environ[\"HOME\"], \"cpp\",  \"dt4acc\", \n",
    "    # \"thor-scsi-lib\", \"python\", \"tests\", \n",
    "    \"lattices\"\n",
    ")\n",
    "lattice_dir"
   ]
  },
  {
   "cell_type": "code",
   "execution_count": null,
   "id": "1e973e4d-a642-48f5-9479-cf9f37eb8d87",
   "metadata": {},
   "outputs": [],
   "source": [
    "os.listdir(lattice_dir)"
   ]
  },
  {
   "cell_type": "code",
   "execution_count": null,
   "id": "0bcda6d1-88a5-432a-bd6f-62bd4632089c",
   "metadata": {},
   "outputs": [],
   "source": [
    "lat_file = os.path.join(lattice_dir, 'b2_stduser_beamports_blm_tracy_corr.lat')\n",
    "# lat_file = os.path.join(lattice_dir, '')\n"
   ]
  },
  {
   "cell_type": "code",
   "execution_count": null,
   "id": "a0a27439-baa2-40e3-be58-8e271019fcaf",
   "metadata": {},
   "outputs": [],
   "source": [
    "acc = accelerator_from_config(lat_file)"
   ]
  },
  {
   "cell_type": "code",
   "execution_count": null,
   "id": "6b7fd868-426d-4251-a736-bc5bf79d5eb3",
   "metadata": {},
   "outputs": [],
   "source": [
    "df_lu = df.copy()\n",
    "df_lu.loc[:, \"name\"] = [tmp.lower() for tmp in df.name]\n",
    "df_lu = df_lu.set_index(\"name\")\n",
    "df_lu"
   ]
  },
  {
   "cell_type": "code",
   "execution_count": null,
   "id": "71bbda65-904b-4550-abac-9dc9aebb677d",
   "metadata": {},
   "outputs": [],
   "source": [
    "d = {elem.name: elem for elem in acc}"
   ]
  },
  {
   "cell_type": "code",
   "execution_count": null,
   "id": "d9f3fcd9-6d22-4662-b32d-192926c55188",
   "metadata": {},
   "outputs": [],
   "source": [
    "tmp = d['q1m1t1r']\n",
    "tmp.getMainMultipoleStrengthComponent()"
   ]
  },
  {
   "cell_type": "code",
   "execution_count": null,
   "id": "90e8e83c-79ac-4b2b-898a-438d4c6ab9ee",
   "metadata": {},
   "outputs": [],
   "source": []
  },
  {
   "cell_type": "code",
   "execution_count": null,
   "id": "ab6137b9-404e-49a6-83f6-82ffd436179f",
   "metadata": {},
   "outputs": [],
   "source": [
    "df_lu2 = df_lu.reindex(columns=list(df_lu.columns) + ['model', 'rel'])\n",
    "for t_name in df_lu.index:\n",
    "    if t_name == 'qit6r':\n",
    "        continue\n",
    "    df_lu2.loc[t_name, \"model\"] = d[t_name].getMainMultipoleStrengthComponent()\n",
    "df_lu2.loc[:, \"rel\"] = (df_lu2.model / df_lu.val - 1) * 1e4\n",
    "df_lu2"
   ]
  },
  {
   "cell_type": "code",
   "execution_count": null,
   "id": "d5c7dcd7-374d-40ce-bfe2-c834fe171213",
   "metadata": {},
   "outputs": [],
   "source": []
  },
  {
   "cell_type": "code",
   "execution_count": null,
   "id": "239ab86e-7de1-4357-8a79-8bea71a7cadd",
   "metadata": {},
   "outputs": [],
   "source": [
    "fig, ax = plt.subplots(1, 1 , figsize=[16, 12])\n",
    "df_lu2.rel.plot()"
   ]
  },
  {
   "cell_type": "code",
   "execution_count": null,
   "id": "44c24db0-5721-4e16-8771-bc7216e09eef",
   "metadata": {},
   "outputs": [],
   "source": [
    "### Put the strength into the model"
   ]
  },
  {
   "cell_type": "code",
   "execution_count": null,
   "id": "4b559f6a-15b1-40bb-92f2-58fa7649ec60",
   "metadata": {},
   "outputs": [],
   "source": [
    "for name, val in df_lu.val.items():\n",
    "    if name == \"qit6r\":\n",
    "        # This one is split \n",
    "        acc.find(name + 'l', 0).setMainMultipoleStrength(val)\n",
    "        acc.find(name + 'r', 0).setMainMultipoleStrength(val)\n",
    "    else:\n",
    "        acc.find(name, 0).setMainMultipoleStrength(val)\n",
    "    # print(val)\n",
    "    # break"
   ]
  },
  {
   "cell_type": "code",
   "execution_count": null,
   "id": "87eac55a-d878-4257-80ea-64f0918731f8",
   "metadata": {},
   "outputs": [],
   "source": [
    "from thor_scsi.utils.linear_optics import compute_Twiss_along_lattice\n",
    "import gtpsa\n",
    "desc = gtpsa.desc(6, 2)\n",
    "compute_Twiss_along_lattice?"
   ]
  },
  {
   "cell_type": "code",
   "execution_count": null,
   "id": "714dd797",
   "metadata": {},
   "outputs": [],
   "source": [
    "from bact_analysis.utils.preprocess import rename_doublicates"
   ]
  },
  {
   "cell_type": "code",
   "execution_count": null,
   "id": "2a7b0948-cd72-47bf-aa4b-c03647b439e7",
   "metadata": {},
   "outputs": [],
   "source": [
    "ttwiss2 = compute_Twiss_along_lattice(2, acc, desc=desc, mapping=gtpsa.default_mapping())\n",
    "ttwiss2"
   ]
  },
  {
   "cell_type": "code",
   "execution_count": null,
   "id": "7563d9a2",
   "metadata": {},
   "outputs": [],
   "source": [
    "_, pos_names_without_doublets = rename_doublicates(ttwiss2.names.values.tolist())"
   ]
  },
  {
   "cell_type": "code",
   "execution_count": null,
   "id": "4ab87bd1-b8db-4a2e-bc89-6425f2601a95",
   "metadata": {},
   "outputs": [],
   "source": [
    "ttwiss = (\n",
    "    xr.Dataset(dict(beta=ttwiss2.twiss.sel(par=\"beta\")))\n",
    "    .assign(dict(dmu=ttwiss2.twiss.sel(par=\"dnu\"), ds=ttwiss2.s))\n",
    ")\n",
    "\n",
    "ttwiss = ttwiss.assign(mu=ttwiss.dmu.cumsum(dim=\"index\")).rename(index=\"pos\").assign_coords(dict(pos=pos_names_without_doublets))\n",
    "ttwiss"
   ]
  },
  {
   "cell_type": "code",
   "execution_count": null,
   "id": "846cfd3c-8fe7-450e-9c56-b1388f27c708",
   "metadata": {},
   "outputs": [],
   "source": [
    "ls"
   ]
  },
  {
   "cell_type": "code",
   "execution_count": null,
   "id": "7e13cce0-2458-4aff-a01e-7c3d5d748d32",
   "metadata": {},
   "outputs": [],
   "source": [
    "ttwiss.to_netcdf('bessyii_twiss_thor_scsi_twin.nc')"
   ]
  },
  {
   "cell_type": "code",
   "execution_count": null,
   "id": "e3be2843",
   "metadata": {},
   "outputs": [],
   "source": [
    "os.getcwd()"
   ]
  },
  {
   "cell_type": "code",
   "execution_count": null,
   "id": "c2ceb360",
   "metadata": {},
   "outputs": [],
   "source": [
    "ls -l"
   ]
  },
  {
   "cell_type": "code",
   "execution_count": null,
   "id": "bb814855-0725-4aef-b841-cdde637cc42c",
   "metadata": {},
   "outputs": [],
   "source": [
    "plt.plot(\n",
    "    ttwiss.mu.sel(plane='x'), '-',\n",
    "    ttwiss.dmu.sel(plane='x').cumsum(), '-'\n",
    "        )"
   ]
  },
  {
   "cell_type": "code",
   "execution_count": null,
   "id": "acf0027c-545f-4c4b-9885-42dcd8fa9d38",
   "metadata": {},
   "outputs": [],
   "source": [
    "plt.plot(\n",
    "    ttwiss.mu.sel(plane='y'), '-',\n",
    "    ttwiss.dmu.sel(plane='y').cumsum(), '-'\n",
    ")"
   ]
  },
  {
   "cell_type": "code",
   "execution_count": null,
   "id": "57cb534c-9f49-45b7-9afd-f5bf8b9134d9",
   "metadata": {},
   "outputs": [],
   "source": []
  }
 ],
 "metadata": {
  "kernelspec": {
   "display_name": "Python 3 (ipykernel)",
   "language": "python",
   "name": "python3"
  },
  "language_info": {
   "codemirror_mode": {
    "name": "ipython",
    "version": 3
   },
   "file_extension": ".py",
   "mimetype": "text/x-python",
   "name": "python",
   "nbconvert_exporter": "python",
   "pygments_lexer": "ipython3",
   "version": "3.10.6"
  },
  "toc": {
   "base_numbering": 1,
   "nav_menu": {},
   "number_sections": true,
   "sideBar": true,
   "skip_h1_title": false,
   "title_cell": "Table of Contents",
   "title_sidebar": "Contents",
   "toc_cell": false,
   "toc_position": {},
   "toc_section_display": true,
   "toc_window_display": false
  }
 },
 "nbformat": 4,
 "nbformat_minor": 5
}
