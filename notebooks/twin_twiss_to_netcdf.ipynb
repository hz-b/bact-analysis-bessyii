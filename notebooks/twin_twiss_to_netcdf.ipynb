{
 "cells": [
  {
   "cell_type": "code",
   "execution_count": null,
   "id": "f54b70f4",
   "metadata": {},
   "outputs": [],
   "source": [
    "from IPython.core.display import display, Markdown, HTML\n",
    "display(HTML(\"<style>.container { width:90% !important; }</style>\"))"
   ]
  },
  {
   "cell_type": "code",
   "execution_count": null,
   "id": "8b3322db",
   "metadata": {},
   "outputs": [],
   "source": [
    "import matplotlib.pyplot as plt\n",
    "import xarray as xr"
   ]
  },
  {
   "cell_type": "code",
   "execution_count": null,
   "id": "e6bde434",
   "metadata": {},
   "outputs": [],
   "source": [
    "import epics"
   ]
  },
  {
   "cell_type": "code",
   "execution_count": null,
   "id": "7924b603",
   "metadata": {},
   "outputs": [],
   "source": [
    "from bact_analysis.utils.preprocess import rename_doublicates"
   ]
  },
  {
   "cell_type": "code",
   "execution_count": null,
   "id": "3cf41493",
   "metadata": {},
   "outputs": [],
   "source": [
    "pv_s = epics.PV('Pierre:DT:beam:s')\n",
    "pv_names = epics.PV('Pierre:DT:beam:names')"
   ]
  },
  {
   "cell_type": "code",
   "execution_count": null,
   "id": "fe554bbb",
   "metadata": {},
   "outputs": [],
   "source": [
    "def for_plane(plane):\n",
    "    assert plane in [\"x\", \"y\"]\n",
    "    pv_nu = epics.PV(f'Pierre:DT:beam:nu:{plane}')\n",
    "    pv_alpha = epics.PV(f'Pierre:DT:beam:alpha:{plane}')\n",
    "    pv_beta = epics.PV(f'Pierre:DT:beam:beta:{plane}')\n",
    "    \n",
    "    return [pv.get() for pv in (pv_alpha, pv_beta, pv_nu)]\n",
    "    "
   ]
  },
  {
   "cell_type": "code",
   "execution_count": null,
   "id": "53d14556",
   "metadata": {},
   "outputs": [],
   "source": [
    "alpha_x, beta_x, mu_x = for_plane(\"x\")\n",
    "alpha_y, beta_y, mu_y = for_plane(\"y\")\n"
   ]
  },
  {
   "cell_type": "code",
   "execution_count": null,
   "id": "3cf66640",
   "metadata": {},
   "outputs": [],
   "source": [
    "dmu_x = mu_x[1:] - mu_x[:-1]\n",
    "dmu_x.shape"
   ]
  },
  {
   "cell_type": "code",
   "execution_count": null,
   "id": "14623b3a",
   "metadata": {},
   "outputs": [],
   "source": [
    "names_twin, s_twin= [pv.get() for pv in (pv_names, pv_s)]\n"
   ]
  },
  {
   "cell_type": "markdown",
   "id": "df20a6ff",
   "metadata": {},
   "source": [
    "names_twin"
   ]
  },
  {
   "cell_type": "code",
   "execution_count": null,
   "id": "f041e2ed",
   "metadata": {},
   "outputs": [],
   "source": [
    "names_twin"
   ]
  },
  {
   "cell_type": "code",
   "execution_count": null,
   "id": "824c2066",
   "metadata": {},
   "outputs": [],
   "source": [
    "double_used_names, pos_names_without_doublets = rename_doublicates(names_twin.tolist())\n",
    "double_used_names"
   ]
  },
  {
   "cell_type": "code",
   "execution_count": null,
   "id": "606239d4",
   "metadata": {},
   "outputs": [],
   "source": [
    "twiss = xr.DataArray(name=\"twiss\", \n",
    "                    data=[[alpha_x, alpha_y], [beta_x, beta_y], [mu_x, mu_y]], dims=[\"par\", \"plane\", \"pos\"], coords=[[\"alpha\", \"beta\", \"mu\"], [\"x\",\"y\"], pos_names_without_doublets])\n",
    "mu = xr.DataArray(name=\"mu\", data=[mu_x, mu_y], dims=[\"plane\", \"pos\"], coords=[[\"x\",\"y\"], pos_names_without_doublets])\n",
    "mu"
   ]
  },
  {
   "cell_type": "code",
   "execution_count": null,
   "id": "105c14a3",
   "metadata": {},
   "outputs": [],
   "source": [
    "s = xr.DataArray(name=\"s\", data=s_twin, dims=[\"pos\"], coords=[pos_names_without_doublets])"
   ]
  },
  {
   "cell_type": "code",
   "execution_count": null,
   "id": "5131e9bc",
   "metadata": {},
   "outputs": [],
   "source": [
    "ttwiss2 = xr.merge([twiss, mu, s])\n",
    "ttwiss2"
   ]
  },
  {
   "cell_type": "code",
   "execution_count": null,
   "id": "78a78479",
   "metadata": {},
   "outputs": [],
   "source": [
    "ttwiss = (\n",
    "    xr.Dataset(dict(beta=ttwiss2.twiss.sel(par=\"beta\")))\n",
    "    .assign(dict(mu=ttwiss2.twiss.sel(par=\"mu\"), ds=ttwiss2.s))\n",
    ")\n",
    "\n",
    "ttwiss = ttwiss.assign(mu=ttwiss.mu).rename(index=\"pos\").assign_coords(dict(pos=pos_names_without_doublets))\n",
    "ttwiss"
   ]
  },
  {
   "cell_type": "code",
   "execution_count": null,
   "id": "9e2a6120",
   "metadata": {},
   "outputs": [],
   "source": [
    "plt.plot(\n",
    "    ttwiss.ds, ttwiss.mu.sel(plane=\"y\"), 'b-',\n",
    "    s_twin, mu_y, 'r-',\n",
    "    \n",
    ")"
   ]
  },
  {
   "cell_type": "code",
   "execution_count": null,
   "id": "47f07b3a",
   "metadata": {},
   "outputs": [],
   "source": [
    "plt.plot(\n",
    "    ttwiss.ds, ttwiss.beta.sel(par=\"beta\", plane=\"y\"), 'b-',\n",
    "    s_twin, beta_y, 'r-',\n",
    "    \n",
    ")"
   ]
  },
  {
   "cell_type": "code",
   "execution_count": null,
   "id": "6e33d8bd",
   "metadata": {},
   "outputs": [],
   "source": [
    "ttwiss.to_netcdf('bessyii_twiss_thor_scsi_from_twin.nc')"
   ]
  },
  {
   "cell_type": "code",
   "execution_count": null,
   "id": "3b14ac9e",
   "metadata": {},
   "outputs": [],
   "source": []
  }
 ],
 "metadata": {
  "kernelspec": {
   "display_name": "Python 3 (ipykernel)",
   "language": "python",
   "name": "python3"
  },
  "language_info": {
   "codemirror_mode": {
    "name": "ipython",
    "version": 3
   },
   "file_extension": ".py",
   "mimetype": "text/x-python",
   "name": "python",
   "nbconvert_exporter": "python",
   "pygments_lexer": "ipython3",
   "version": "3.10.6"
  }
 },
 "nbformat": 4,
 "nbformat_minor": 5
}
