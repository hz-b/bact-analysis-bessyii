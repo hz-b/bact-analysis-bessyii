{
 "cells": [
  {
   "cell_type": "code",
   "execution_count": null,
   "id": "6e00ab25-147e-4dae-962f-d4c22ec38adf",
   "metadata": {},
   "outputs": [],
   "source": [
    "from databroker import catalog\n",
    "from databroker.queries import TimeRange\n",
    "import datetime\n",
    "import matplotlib.pyplot as plt\n",
    "%matplotlib inline"
   ]
  },
  {
   "cell_type": "code",
   "execution_count": null,
   "id": "15617dbc-f4ac-4108-8718-222797eeb88a",
   "metadata": {},
   "outputs": [],
   "source": [
    "import tqdm\n",
    "import pandas as pd\n",
    "import xarray as xr\n",
    "import numpy as np"
   ]
  },
  {
   "cell_type": "code",
   "execution_count": null,
   "id": "bc56609d-0586-4160-8656-332905a631ec",
   "metadata": {},
   "outputs": [],
   "source": [
    "from bact_math_utils.misc import enumerate_changed_value, CountSame, EnumerateUniqueJustSeen\n",
    "from bact_math_utils.linear_fit import linear_fit_1d\n",
    "from bact_math_utils.tune import to_momentum, tune_frequency_to_fractional_tune"
   ]
  },
  {
   "cell_type": "code",
   "execution_count": null,
   "id": "4e15f922-3744-4f79-9f61-26c5cd02d08d",
   "metadata": {},
   "outputs": [],
   "source": [
    "db = catalog['heavy']"
   ]
  },
  {
   "cell_type": "markdown",
   "id": "efd93d1a-ae74-42c2-9e76-c3ed1c303a93",
   "metadata": {},
   "source": [
    "# Sextupole response evaluated over chromaticity"
   ]
  },
  {
   "cell_type": "markdown",
   "id": "df181e7e-9fc5-44b2-b53d-541816b54332",
   "metadata": {},
   "source": [
    "Evaluation:\n",
    "\n",
    "* Read measured data (see http://elog-v2.trs.bessy.de:8080/Machine+Devel.,+Comm./2032 for details on the measurement)\n",
    "* Sort data to the different magnets\n",
    "* Show  / fit tune shift versus momentum shift"
   ]
  },
  {
   "cell_type": "markdown",
   "id": "2e288875-a138-4c73-9df4-ec14e3109a13",
   "metadata": {},
   "source": [
    "## Select data"
   ]
  },
  {
   "cell_type": "markdown",
   "id": "d1364a17-3317-4565-a3e8-efd0d2f46f1b",
   "metadata": {},
   "source": [
    "Just to show how to find the data"
   ]
  },
  {
   "cell_type": "code",
   "execution_count": null,
   "id": "c0689a16-a522-48e0-9a26-27b33b4da56d",
   "metadata": {},
   "outputs": [],
   "source": [
    "t_search =  db.search(TimeRange(since=\"2022-11-2\", until=\"2022-11-25\"))\n",
    "possible_sextupole_response = t_search.search(dict(nickname=\"sextupole response\"))\n",
    "\n",
    "l = []\n",
    "for uid in possible_sextupole_response:\n",
    "    run = db[uid]\n",
    "    start = run.metadata[\"start\"]    \n",
    "    ts_start = datetime.datetime.fromtimestamp(int(start['time']))\n",
    "    stop = run.metadata[\"stop\"]\n",
    "    \n",
    "    if not stop:\n",
    "        print(f'{uid} {ts_start} ----')\n",
    "        continue\n",
    "    ts_end = datetime.datetime.fromtimestamp(int(stop['time']))\n",
    "    #print(f'{uid}  {ts_start} {ts_end}')./lib/python3.9/site-packages/bluesky/callbacks/core.py\n",
    "    print(f'<tr><td>{uid}</td><td> {ts_start} </td><td>{ts_end}</td></tr>')"
   ]
  },
  {
   "cell_type": "markdown",
   "id": "19a29ca5-4515-4f9f-bb76-470a70581909",
   "metadata": {},
   "source": [
    "The following uid is the one to be used for most magnet data"
   ]
  },
  {
   "cell_type": "code",
   "execution_count": null,
   "id": "61963374-19f7-448e-9796-0330e9628341",
   "metadata": {},
   "outputs": [],
   "source": [
    "uid = \"eb42c33c-a218-4fb1-a1c2-bd80403e2cc9\""
   ]
  },
  {
   "cell_type": "code",
   "execution_count": null,
   "id": "1d537f91-142a-4e69-888b-44818a85f6e1",
   "metadata": {},
   "outputs": [],
   "source": [
    "run = db[uid]\n",
    "run"
   ]
  },
  {
   "cell_type": "markdown",
   "id": "23eed89b-7c96-47bd-ad8e-4e68a9e10817",
   "metadata": {},
   "source": [
    "### Read data"
   ]
  },
  {
   "cell_type": "markdown",
   "id": "512e7f2c-8118-42de-9254-9f2f4c75214e",
   "metadata": {},
   "source": [
    "First step requires roughly 1.5 minutes"
   ]
  },
  {
   "cell_type": "code",
   "execution_count": null,
   "id": "cad64e4a-06af-4377-894a-c4536781d1c9",
   "metadata": {},
   "outputs": [],
   "source": [
    "start = datetime.datetime.now()\n",
    "data_ = run.primary.to_dask()\n",
    "end = datetime.datetime.now()\n",
    "f\"Reading data as dask arrays required:{end - start}\""
   ]
  },
  {
   "cell_type": "code",
   "execution_count": null,
   "id": "f2021638-ef4b-48df-a643-631bfeabd24c",
   "metadata": {},
   "outputs": [],
   "source": [
    "data_"
   ]
  },
  {
   "cell_type": "code",
   "execution_count": null,
   "id": "3dc5ca4f-cfe2-4f37-9251-3dee62b92908",
   "metadata": {},
   "outputs": [],
   "source": [
    "variables = [\"cs_\" + var_name for var_name in [\"tm_vert_readback\", \"tm_hor_readback\", \"mc_setpoint\", \"nu_x_nu\"]]\n",
    "variables"
   ]
  },
  {
   "cell_type": "markdown",
   "id": "b3f61329-5e53-4617-a595-9da9064006e3",
   "metadata": {},
   "source": [
    "Now loading all dask array to memory requires roughtly 20 seconds"
   ]
  },
  {
   "cell_type": "code",
   "execution_count": null,
   "id": "f5ce2908-0630-4431-a213-b981bb73525a",
   "metadata": {},
   "outputs": [],
   "source": [
    "start = datetime.datetime.now()\n",
    "for name, item in tqdm.tqdm(data_.items(),  total=len(data_.variables)):\n",
    "    item.load()\n",
    "end = datetime.datetime.now()\n",
    "f\"Loading dask array data to memory required:{end - start}\""
   ]
  },
  {
   "cell_type": "code",
   "execution_count": null,
   "id": "9a7f8a85-53e5-44d1-bd2f-4711f1a303df",
   "metadata": {},
   "outputs": [],
   "source": [
    "# data_.load()"
   ]
  },
  {
   "cell_type": "code",
   "execution_count": null,
   "id": "f137ec60-95b7-4801-b4a2-ebb1e96bb77f",
   "metadata": {},
   "outputs": [],
   "source": [
    "data_;"
   ]
  },
  {
   "cell_type": "markdown",
   "id": "70f0963c-7f44-493d-b738-d0eddc6a041f",
   "metadata": {},
   "source": [
    "### Reducing data to the last ones"
   ]
  },
  {
   "cell_type": "markdown",
   "id": "260d608d-d5a6-47c8-abe0-3ac768af71b6",
   "metadata": {},
   "source": [
    "While the phyical process is rather fast, the spectrum analyser needs a bit of time to update the wole measurement.\n",
    "Therefore lets ignore the first one s\n",
    "\n",
    "These are rather the good ones, still jitter at the beginng"
   ]
  },
  {
   "cell_type": "code",
   "execution_count": null,
   "id": "46c09037-57f9-424f-8210-fa3bfddf181a",
   "metadata": {},
   "outputs": [],
   "source": [
    "data = data_.isel(time=data_.cs_cs_setpoint > 3)"
   ]
  },
  {
   "cell_type": "markdown",
   "id": "a3560616-2b68-4951-b806-2bb55266ce40",
   "metadata": {},
   "source": [
    "Investigate the current in the machine "
   ]
  },
  {
   "cell_type": "code",
   "execution_count": null,
   "id": "595170d9-26c1-4d07-942c-1a6e411fed58",
   "metadata": {},
   "outputs": [],
   "source": [
    "data.cs_topup_current.plot()"
   ]
  },
  {
   "cell_type": "code",
   "execution_count": null,
   "id": "6fea20d8-dc78-493f-a46f-86145b81dd60",
   "metadata": {},
   "outputs": [],
   "source": [
    "magnet_names = [val[1] for val in CountSame()(data.sc_sel_selected.values) if val[0] == 0]"
   ]
  },
  {
   "cell_type": "code",
   "execution_count": null,
   "id": "d8676dea-9d20-4517-8dff-e680e054d4b6",
   "metadata": {},
   "outputs": [],
   "source": [
    "fig, ax = plt.subplots(1, 1, figsize=[8, 6])\n",
    "ax.plot(\n",
    "    data.sc_sel_selected.values,\n",
    "    data.cs_topup_current\n",
    ")\n",
    "ax.set_ylabel(\"I [mA]\")\n",
    "plt.setp(ax.yaxis.label, \"fontsize\", \"x-large\")\n",
    "for tick in ax.xaxis.get_majorticklabels() + ax.yaxis.get_majorticklabels():\n",
    "    tick.set_fontsize(\"x-large\")\n",
    "    \n",
    "for tick in ax.xaxis.get_majorticklabels():\n",
    "    tick.set_verticalalignment(\"top\")\n",
    "    tick.set_horizontalalignment(\"right\")\n",
    "    tick.set_rotation(45)    "
   ]
  },
  {
   "cell_type": "code",
   "execution_count": null,
   "id": "bef9d565-1f40-4aaa-aa67-b2e6ce273208",
   "metadata": {},
   "outputs": [],
   "source": []
  },
  {
   "cell_type": "markdown",
   "id": "e9f6e91b-ea0c-42b5-a430-a0201c8a6443",
   "metadata": {},
   "source": [
    "## Data evaluation"
   ]
  },
  {
   "cell_type": "markdown",
   "id": "60f7639c-f07a-4a7e-9580-9a8e4faf33c6",
   "metadata": {},
   "source": [
    "### Test for one magnet for for one current"
   ]
  },
  {
   "cell_type": "markdown",
   "id": "8e17054b-a52b-4777-9e79-90912f3b2aaf",
   "metadata": {},
   "source": [
    "How the power converters were executed"
   ]
  },
  {
   "cell_type": "code",
   "execution_count": null,
   "id": "60378fce-bcba-43d3-89d7-bdcfbe9d5111",
   "metadata": {},
   "outputs": [],
   "source": [
    "import bact_math_utils.misc"
   ]
  },
  {
   "cell_type": "code",
   "execution_count": null,
   "id": "a48808ef-ccb2-4951-a98f-885420110019",
   "metadata": {},
   "outputs": [],
   "source": [
    "selected_power_converter = \"s3ptr\""
   ]
  },
  {
   "cell_type": "code",
   "execution_count": null,
   "id": "c6e43df1-9174-49a5-bd3d-894e1d6af57d",
   "metadata": {},
   "outputs": [],
   "source": [
    "sel = data.isel(time=data.sc_sel_selected == selected_power_converter)"
   ]
  },
  {
   "cell_type": "code",
   "execution_count": null,
   "id": "9c956427-6299-4bde-8de3-a783921eb314",
   "metadata": {},
   "outputs": [],
   "source": [
    "sel.time.shape"
   ]
  },
  {
   "cell_type": "code",
   "execution_count": null,
   "id": "aba5699a-cc4c-4d93-a869-05d5902667cd",
   "metadata": {},
   "outputs": [],
   "source": [
    "sel.cs_mc_frequency_readback / sel.cs_md_rv_freq;"
   ]
  },
  {
   "cell_type": "code",
   "execution_count": null,
   "id": "a9c8f05a-ea00-4581-8a1d-c0704d3554d9",
   "metadata": {},
   "outputs": [],
   "source": [
    "def calculate_revolution_frequency(freq: float, n_bunches:  int) -> float:\n",
    "    return freq / n_bunches"
   ]
  },
  {
   "cell_type": "code",
   "execution_count": null,
   "id": "7d8133b7-76b9-4dfd-aa4c-63b23c03fc8f",
   "metadata": {},
   "outputs": [],
   "source": [
    "desc, = run.primary.metadata[\"descriptors\"]"
   ]
  },
  {
   "cell_type": "code",
   "execution_count": null,
   "id": "c90050bd-319e-4f0c-8863-845c32dcf41f",
   "metadata": {},
   "outputs": [],
   "source": [
    "config_data = desc[\"configuration\"][\"cs\"][\"data\"]"
   ]
  },
  {
   "cell_type": "code",
   "execution_count": null,
   "id": "858b75d2-56d3-46cf-82ac-a180ce8e59ee",
   "metadata": {},
   "outputs": [],
   "source": [
    "alpha = config_data[\"cs_md_alpha\"]\n",
    "n_bunches = config_data[\"cs_md_n_bunches\"]\n",
    "ref_freq = config_data[\"cs_ref_freq\"]\n",
    "rv_freq =  ref_freq / n_bunches\n",
    "ref_freq, rv_freq"
   ]
  },
  {
   "cell_type": "code",
   "execution_count": null,
   "id": "04fffe2c-9b5b-481f-bc60-23ce19ae5f69",
   "metadata": {},
   "outputs": [],
   "source": [
    "momentum = to_momentum(sel.cs_mc_frequency_readback, ref_freq=ref_freq, alpha=alpha)"
   ]
  },
  {
   "cell_type": "code",
   "execution_count": null,
   "id": "1328ea6c-eb86-44f7-bcae-2a2095e528e0",
   "metadata": {},
   "outputs": [],
   "source": [
    "frac_tune_x = tune_frequency_to_fractional_tune(sel.cs_tm_bpm_hor_readback, ring_frequency=rv_freq)\n",
    "frac_tune_y = tune_frequency_to_fractional_tune(sel.cs_tm_bpm_vert_readback, ring_frequency=rv_freq)"
   ]
  },
  {
   "cell_type": "code",
   "execution_count": null,
   "id": "83ed6925-baac-4a76-b2c4-edf2a51ce64e",
   "metadata": {},
   "outputs": [],
   "source": [
    "sel.cs_tm_bpm_hor_readback;"
   ]
  },
  {
   "cell_type": "code",
   "execution_count": null,
   "id": "fcc11dab-8649-4c3c-9da0-32151ee27a5f",
   "metadata": {},
   "outputs": [],
   "source": [
    "plt.plot(momentum, frac_tune_y)"
   ]
  },
  {
   "cell_type": "markdown",
   "id": "3c85f85d-54e7-45d6-9627-7674eb8ef22a",
   "metadata": {},
   "source": [
    "Plot it separately for each run "
   ]
  },
  {
   "cell_type": "markdown",
   "id": "3ac21b98-119b-456d-a28f-c7460db9dd95",
   "metadata": {},
   "source": [
    "Use the current to index the run "
   ]
  },
  {
   "cell_type": "code",
   "execution_count": null,
   "id": "cc0d5770-1271-4e86-9304-81272ddede66",
   "metadata": {},
   "outputs": [],
   "source": [
    "changed_value = enumerate_changed_value(sel.sc_sel_r_setpoint)\n",
    "\n",
    "fig, axes = plt.subplots(1, 2, figsize=[16, 12])\n",
    "ax_x, ax_y = axes\n",
    "colors = []\n",
    "for cnt in np.unique(changed_value):\n",
    "    idx = changed_value == cnt\n",
    "    line, = ax_x.plot(momentum[idx], frac_tune_x[idx], '.-', linewidth=.5)\n",
    "    colors.append(line.get_color())\n",
    "    ax_y.plot(momentum[idx], frac_tune_y[idx], '.-', linewidth=.5, color=line.get_color())\n",
    "    \n",
    "ax_x.set_xlabel(\"$\\Delta p/p\")\n",
    "ax_y.set_xlabel(\"$\\Delta p/p\")\n",
    "ax_x.set_ylabel(\"$Q_x$\")\n",
    "ax_y.set_ylabel(\"$Q_y$\")    "
   ]
  },
  {
   "cell_type": "code",
   "execution_count": null,
   "id": "19cf69e9-5414-4c3e-9949-4149a940fa6a",
   "metadata": {},
   "outputs": [],
   "source": [
    "changed_value = enumerate_changed_value(sel.sc_sel_r_setpoint)\n",
    "cv_idx = np.unique(changed_value)\n",
    "\n",
    "\n",
    "fig, axes = plt.subplots(1, 2, figsize=[16, 12])\n",
    "ax_x, ax_y = axes\n",
    "\n",
    "x_coeff_avg =  np.polyfit(momentum, frac_tune_x, deg = 1)\n",
    "y_coeff_avg =  np.polyfit(momentum, frac_tune_y, deg = 1)\n",
    "\n",
    "\n",
    "l = []\n",
    "for cnt, color in zip(cv_idx, colors):\n",
    "    idx = changed_value == cnt\n",
    "    mms = momentum[idx]\n",
    "    \n",
    "    ftx = frac_tune_x[idx]\n",
    "    fty = frac_tune_y[idx]\n",
    "    \n",
    "    dI = sel.sc_sel_p_setpoint[idx].mean()\n",
    "    p_x, dp_x = linear_fit_1d(mms, ftx)\n",
    "    p_y, dp_y = linear_fit_1d(mms, fty)\n",
    "    \n",
    "    l.append(np.array([(p_x, dp_x),(p_y, dp_y)]))\n",
    "    exp_frac_tune_x = np.polyval(x_coeff_avg, mms)\n",
    "    exp_frac_tune_y = np.polyval(y_coeff_avg, mms)\n",
    "\n",
    "    mmse = np.linspace(mms.min(), mms.max())\n",
    "    eftxr = np.polyval(x_coeff_avg, mmse)\n",
    "    eftyr = np.polyval(y_coeff_avg, mmse)\n",
    "    eftx = np.polyval(p_x, mmse)\n",
    "    efty = np.polyval(p_y, mmse)\n",
    "    \n",
    "    s = 1000\n",
    "    ax_x.plot(mms , (ftx - exp_frac_tune_x) * s, '.:', linewidth=.25, color=color)\n",
    "    ax_y.plot(mms , (fty - exp_frac_tune_y) * s, '.:', linewidth=.25, color=color)\n",
    "    ax_x.plot(mmse, (eftx - eftxr) * s, '-', linewidth=.25, color=color)\n",
    "    ax_y.plot(mmse, (efty - eftyr) * s, '-', linewidth=.25, color=color)\n",
    "    \n",
    "ax_x.set_xlabel(\"$\\Delta p/p$\")\n",
    "ax_y.set_xlabel(\"$\\Delta p/p$\")\n",
    "ax_x.set_ylabel(\"$\\Delta Q_x * 1000$\")\n",
    "ax_y.set_ylabel(\"$\\Delta Q_y * 1000$\")"
   ]
  },
  {
   "cell_type": "markdown",
   "id": "3261f5ae-a928-48f9-ab39-63384a2e4ce2",
   "metadata": {},
   "source": [
    "## Tune shifts for all magnets and current indices"
   ]
  },
  {
   "cell_type": "markdown",
   "id": "03f8a7c2-0a4c-47b4-9720-bc961a4145f4",
   "metadata": {},
   "source": [
    "### Calculating tune shift for all magnets"
   ]
  },
  {
   "cell_type": "code",
   "execution_count": null,
   "id": "d5b5815c-ba4d-4b03-b5fd-cb569d93396a",
   "metadata": {},
   "outputs": [],
   "source": [
    "def tune_shift_vs_excitation(sel, *, name):\n",
    "    changed_value = enumerate_changed_value(sel.sc_sel_r_setpoint)\n",
    "    cv_idx = np.unique(changed_value)\n",
    "    \n",
    "    momentum = to_momentum(sel.cs_mc_frequency_readback, ref_freq=ref_freq, alpha=alpha)\n",
    "    frac_tune_x = tune_frequency_to_fractional_tune(sel.cs_tm_bpm_hor_readback, ring_frequency=rv_freq)\n",
    "    frac_tune_y = tune_frequency_to_fractional_tune(sel.cs_tm_bpm_vert_readback, ring_frequency=rv_freq)\n",
    "    \n",
    "    l = []\n",
    "    currents = []\n",
    "    for cnt in cv_idx:\n",
    "        idx = changed_value == cnt\n",
    "        mms = momentum[idx]\n",
    "    \n",
    "        ftx = frac_tune_x[idx]\n",
    "        fty = frac_tune_y[idx]\n",
    "    \n",
    "        dI = sel.sc_sel_r_setpoint[idx].mean()\n",
    "        p_x, dp_x = linear_fit_1d(mms, ftx)\n",
    "        p_y, dp_y = linear_fit_1d(mms, fty)\n",
    "        l.append(np.array([(p_x, dp_x),(p_y, dp_y)]))\n",
    "        currents.append(dI)\n",
    "        \n",
    "    da = xr.DataArray(data=np.array(l)[np.newaxis,:],\n",
    "        dims=[\"name\", \"current_index\", \"plane\",  \"prop\", \"param\",], \n",
    "        coords=[[name], cv_idx, [\"x\", \"y\"],  [\"val\", \"err\"], [\"slope\", \"intercept\"],]\n",
    "    )\n",
    "\n",
    "    da_cur = xr.DataArray(data=np.array(currents)[np.newaxis,:],\n",
    "        dims=[\"name\", \"current_index\"], \n",
    "        coords=[[name], cv_idx]\n",
    "    )\n",
    "    return da, da_cur"
   ]
  },
  {
   "cell_type": "code",
   "execution_count": null,
   "id": "cbdfac2a-6fee-476c-9d26-7a6c7a6d510c",
   "metadata": {},
   "outputs": [],
   "source": [
    "tmp = [tune_shift_vs_excitation(data.isel(time=data.sc_sel_selected == pc_name), name=pc_name) for pc_name in magnet_names]"
   ]
  },
  {
   "cell_type": "code",
   "execution_count": null,
   "id": "0e5f75fd-f66d-4bff-a091-8a5a12440a42",
   "metadata": {},
   "outputs": [],
   "source": [
    "current_shifts_ = xr.concat([t[1] for t in tmp], dim=\"name\")\n",
    "current_shifts_;"
   ]
  },
  {
   "cell_type": "code",
   "execution_count": null,
   "id": "08f2a50c-d08a-4fe5-8f79-0875ab8e47e4",
   "metadata": {},
   "outputs": [],
   "source": [
    "current_shifts = current_shifts_ - current_shifts_.sel(current_index=[0,3]).mean(axis=-1)\n",
    "current_shifts"
   ]
  },
  {
   "cell_type": "code",
   "execution_count": null,
   "id": "e7c08628-050f-4f0f-832d-d52beff4e9c5",
   "metadata": {},
   "outputs": [],
   "source": [
    "tune_shifts = xr.concat([t[0] for t in tmp], dim=\"name\")\n",
    "tune_shifts;\n"
   ]
  },
  {
   "cell_type": "code",
   "execution_count": null,
   "id": "3c842f14-5f98-46ad-8282-ae5e7f7ec9f5",
   "metadata": {},
   "outputs": [],
   "source": [
    "ds = xr.Dataset(dict(tunes=tune_shifts, currents=current_shifts))\n",
    "ds.to_netcdf(\"chromaticity_vs_sextupole_current_fits.nc\")"
   ]
  },
  {
   "cell_type": "markdown",
   "id": "7820f723-6b4f-42ec-97a8-97b388bdd33e",
   "metadata": {},
   "source": [
    "### Simple plots for one power converter"
   ]
  },
  {
   "cell_type": "code",
   "execution_count": null,
   "id": "b6110521-1549-470d-952c-c493461df8da",
   "metadata": {},
   "outputs": [],
   "source": [
    "tune_shifts.coords[\"name\"]"
   ]
  },
  {
   "cell_type": "code",
   "execution_count": null,
   "id": "53d0e277-2bc7-467b-befd-2d4d586f3480",
   "metadata": {},
   "outputs": [],
   "source": [
    "fig, axes = plt.subplots(2, 2, figsize=[24, 16])\n",
    "ax_i, ax_s = axes\n",
    "ax_i_x, ax_i_y = ax_i\n",
    "ax_s_x, ax_s_y = ax_s\n",
    "\n",
    "\n",
    "for pc_name in [\"s4p2t6r\", \"s3p2t6r\", \"s4p1t6r\", \"s3p1t6r\", \"s4pd1r\", \"s3pd1r\", \"s4ptr\", \"s4pdr\", \"s3ptr\", \"s3pdr\"]:\n",
    "    ts4m = tune_shifts.sel(name=pc_name)\n",
    "    currents = current_shifts.sel(name=pc_name)\n",
    "    ax_i_x.errorbar(currents, ts4m.sel(plane=\"x\", param=\"intercept\", prop=\"val\"), yerr=ts4m.sel(plane=\"x\", param=\"intercept\", prop=\"err\"), label=pc_name)\n",
    "    ax_i_y.errorbar(currents, ts4m.sel(plane=\"y\", param=\"intercept\", prop=\"val\"), yerr=ts4m.sel(plane=\"y\", param=\"intercept\", prop=\"err\"), label=pc_name)\n",
    "\n",
    "    ax_s_x.errorbar(currents, ts4m.sel(plane=\"x\", param=\"slope\", prop=\"val\"), yerr=ts4m.sel(plane=\"x\", param=\"slope\", prop=\"err\"), label=pc_name)\n",
    "    ax_s_y.errorbar(currents, ts4m.sel(plane=\"y\", param=\"slope\", prop=\"val\"), yerr=ts4m.sel(plane=\"y\", param=\"slope\", prop=\"err\"), label=pc_name)\n",
    "\n",
    "ax_i_x.set_ylabel(r\"$\\Delta\\nu_x$\")\n",
    "ax_i_y.set_ylabel(r\"$\\Delta\\nu_y$\")\n",
    "\n",
    "ax_s_x.set_ylabel(r\"$\\Delta\\nu_x / (\\Delta P /  P) $\")\n",
    "ax_s_y.set_ylabel(r\"$\\Delta\\nu_y / (\\Delta P  / P) $\")\n",
    "\n",
    "ax_s_x.set_xlabel(r\"$\\Delta I [A]$\")\n",
    "ax_s_y.set_xlabel(r\"$\\Delta I [A]$\")\n",
    "\n",
    "ax_s_x.legend()\n",
    "\n",
    "for ax in ax_i_x, ax_i_y, ax_s_x, ax_s_y:\n",
    "    for tick in ax.xaxis.get_majorticklabels() + ax.yaxis.get_majorticklabels():\n",
    "        tick.set_fontsize(\"x-large\")\n",
    "    ax.yaxis.label.set_fontsize(\"x-large\")\n",
    "ax_s_x.yaxis.label.set_fontsize(\"x-large\")\n",
    "ax_s_y.yaxis.label.set_fontsize(\"x-large\")"
   ]
  }
 ],
 "metadata": {
  "kernelspec": {
   "display_name": "Python 3 (ipykernel)",
   "language": "python",
   "name": "python3"
  },
  "language_info": {
   "codemirror_mode": {
    "name": "ipython",
    "version": 3
   },
   "file_extension": ".py",
   "mimetype": "text/x-python",
   "name": "python",
   "nbconvert_exporter": "python",
   "pygments_lexer": "ipython3",
   "version": "3.8.10"
  }
 },
 "nbformat": 4,
 "nbformat_minor": 5
}
