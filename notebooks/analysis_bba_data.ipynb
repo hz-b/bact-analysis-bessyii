{
 "cells": [
  {
   "cell_type": "markdown",
   "source": [
    "# Displaying beam based aligmennt measurement re"
   ],
   "metadata": {
    "collapsed": false
   }
  },
  {
   "cell_type": "code",
   "execution_count": null,
   "outputs": [],
   "source": [
    "import pathlib\n",
    "\n",
    "from IPython.display import display, Markdown, HTML\n",
    "display(HTML(\"<style>.container { width:90% !important; }</style>\"))\n",
    "from pathlib import Path, PosixPath"
   ],
   "metadata": {
    "collapsed": false
   }
  },
  {
   "cell_type": "code",
   "execution_count": null,
   "metadata": {},
   "outputs": [],
   "source": [
    "import xarray as xr\n",
    "import numpy as np\n",
    "import os.path\n",
    "import matplotlib.pyplot as plt\n",
    "\n",
    "from dataclasses import dataclass\n",
    "# %matplotlib notebook\n",
    "%matplotlib inline"
   ]
  },
  {
   "cell_type": "code",
   "execution_count": null,
   "metadata": {},
   "outputs": [],
   "source": [
    "data_dir = Path(os.getcwd()) / \"..\" / \"bact_analysis_bessyii\"/ \"scripts\"\n",
    "data_dir = Path(os.path.normpath(data_dir))\n",
    "data_dir"
   ]
  },
  {
   "cell_type": "code",
   "execution_count": null,
   "metadata": {},
   "outputs": [],
   "source": [
    "os.listdir(data_dir)"
   ]
  },
  {
   "cell_type": "code",
   "execution_count": null,
   "metadata": {},
   "outputs": [],
   "source": [
    "# campain 1788\n",
    "uids = [\n",
    "    # variable names without dt ....\n",
    "    # 'bceb0543-46f4-4bf8-9757-2340cacefb3b',\n",
    "    # 'b61e48bb-6f7b-4559-9053-f6049fc51bac'\n",
    "]\n",
    "uids += ['7c58f6dd-92ce-407c-8b99-006fc532a8bb'\n",
    "]\n",
    "#campain 1945"
   ]
  },
  {
   "cell_type": "code",
   "execution_count": null,
   "outputs": [],
   "source": [
    "uid = uids[-1]\n",
    "estimated_angles = xr.load_dataset(os.path.join(data_dir, f'estimated_angles_{uid}.nc'))\n",
    "offsets = xr.load_dataarray(os.path.join(data_dir, f'offsets_{uid}.nc'))"
   ],
   "metadata": {
    "collapsed": false
   }
  },
  {
   "cell_type": "code",
   "execution_count": null,
   "outputs": [],
   "source": [],
   "metadata": {
    "collapsed": false
   }
  },
  {
   "cell_type": "code",
   "execution_count": null,
   "outputs": [],
   "source": [
    "chck_path = '/home/waheed/workspace/bact/custom/bessyii/analysis/bact_analysis_bessyii/scripts'\n",
    "os.listdir(chck_path)"
   ],
   "metadata": {
    "collapsed": false
   }
  },
  {
   "cell_type": "code",
   "execution_count": null,
   "outputs": [],
   "source": [
    "estimated_angles.orbit"
   ],
   "metadata": {
    "collapsed": false
   }
  },
  {
   "cell_type": "code",
   "execution_count": null,
   "outputs": [],
   "source": [
    "\n",
    "estimated_angles"
   ],
   "metadata": {
    "collapsed": false
   }
  },
  {
   "cell_type": "code",
   "execution_count": null,
   "outputs": [],
   "source": [
    "estimated_angles.orbit.attrs['theta']"
   ],
   "metadata": {
    "collapsed": false
   }
  },
  {
   "cell_type": "markdown",
   "source": [],
   "metadata": {
    "collapsed": false
   }
  },
  {
   "cell_type": "code",
   "execution_count": null,
   "outputs": [],
   "source": [
    "estimated_angles.fit_params.sel(name=\"q1m1d1r\", plane=\"x\", result=\"value\", parameter=\"scaled_angle\")"
   ],
   "metadata": {
    "collapsed": false
   }
  },
  {
   "cell_type": "code",
   "execution_count": null,
   "outputs": [],
   "source": [
    "pscale = 1000"
   ],
   "metadata": {
    "collapsed": false
   }
  },
  {
   "cell_type": "code",
   "execution_count": null,
   "outputs": [],
   "source": [
    "fig, ax = plt.subplots(1, 1)\n",
    "ax.plot(\n",
    "    estimated_angles.ds, estimated_angles.orbit.sel(name=\"q1m1d1r\", plane=\"x\") * pscale\n",
    ")\n",
    "ax.set_ylabel(\"dx [mm]\")\n",
    "ax.set_xlabel(\"ds [m]\")"
   ],
   "metadata": {
    "collapsed": false
   }
  },
  {
   "cell_type": "code",
   "execution_count": null,
   "metadata": {},
   "outputs": [],
   "source": [
    "fig, axes = plt.subplots(2, 1, figsize=[12, 9], sharex=True)\n",
    "ax_x, ax_y = axes\n",
    "a_scale = 1e6\n",
    "\n",
    "for uid in uids:\n",
    "    estimated_angles = xr.load_dataset(os.path.join(data_dir, f'estimated_angles_{uid}.nc'))\n",
    "    offsets = xr.load_dataarray(os.path.join(data_dir, f'offsets_{uid}.nc'))\n",
    "    \n",
    "    ds = estimated_angles.ds_elems\n",
    "    quad_names = estimated_angles.coords['name'].values\n",
    "    \n",
    "    ax_x.errorbar(\n",
    "        ds,\n",
    "        offsets.sel(name=quad_names, result=\"value\", plane=\"x\") * a_scale,\n",
    "        yerr=offsets.sel(name=quad_names, result=\"error\", plane=\"x\") * a_scale,\n",
    "        fmt=\".-\",\n",
    "    )\n",
    "    ax_y.errorbar(\n",
    "        ds,\n",
    "        offsets.sel(name=quad_names, result=\"value\", plane=\"y\") * a_scale,\n",
    "        yerr=offsets.sel(name=quad_names, result=\"error\", plane=\"y\") * a_scale,\n",
    "        fmt=\".-\",\n",
    "    )\n",
    "    ax_y.set_xlabel(\"s [m]\")\n",
    "    ax_x.set_xlabel(\"s [m]\")\n",
    "    ax_x.set_ylabel(\"x [$\\mu$m]\")\n",
    "    ax_y.set_ylabel(\"y [$\\mu$m]\")"
   ]
  },
  {
   "cell_type": "code",
   "execution_count": null,
   "outputs": [],
   "source": [],
   "metadata": {
    "collapsed": false
   }
  },
  {
   "cell_type": "code",
   "execution_count": null,
   "metadata": {},
   "outputs": [],
   "source": [
    "@dataclass\n",
    "class ReferenceOffsets:\n",
    "    x: object\n",
    "    xerr: object\n",
    "    y: object\n",
    "    yerr: object\n",
    "    ds: object"
   ]
  },
  {
   "cell_type": "code",
   "execution_count": null,
   "metadata": {},
   "outputs": [],
   "source": [
    "fig, axes = plt.subplots(2, 1, figsize=[12, 9], sharex=True)\n",
    "ax_x, ax_y = axes\n",
    "a_scale = 1e6\n",
    "\n",
    "ref = None\n",
    "for uid in uids:\n",
    "    estimated_angles = xr.load_dataset(os.path.join(data_dir, f'estimated_angles_{uid}.nc'))\n",
    "    offsets = xr.load_dataarray(os.path.join(data_dir, f'offsets_{uid}.nc'))\n",
    "    \n",
    "    \n",
    "    ds = estimated_angles.ds_elems\n",
    "    quad_names = estimated_angles.coords['name'].values\n",
    "    x = offsets.sel(name=quad_names, result=\"value\", plane=\"x\") * a_scale\n",
    "    y = offsets.sel(name=quad_names, result=\"value\", plane=\"y\") * a_scale\n",
    "    xerr = offsets.sel(name=quad_names, result=\"error\", plane=\"x\") * a_scale\n",
    "    yerr = offsets.sel(name=quad_names, result=\"error\", plane=\"x\") * a_scale\n",
    "    if not ref:\n",
    "        xerr= np.absolute(xerr)\n",
    "        yerr= np.absolute(yerr)\n",
    "        ref = ReferenceOffsets(x=x, y=y, xerr=xerr, yerr=yerr, ds=ds)\n",
    "        print(\"Set refence plots start after next plot\")\n",
    "        continue \n",
    "    else:\n",
    "        xerr = np.absolute(xerr) + ref.xerr\n",
    "        yerr = np.absolute(xerr) + ref.yerr\n",
    "        \n",
    "    ax_x.errorbar(\n",
    "        ds,\n",
    "        x - ref.x,\n",
    "        yerr=xerr,\n",
    "        fmt=\".-\"\n",
    "    )\n",
    "    ax_y.errorbar(\n",
    "        ds,\n",
    "        y - ref.y,\n",
    "        yerr=yerr,\n",
    "        fmt=\".-\",\n",
    "    )\n",
    "    ax_y.set_xlabel(\"s [m]\")\n",
    "    ax_x.set_xlabel(\"s [m]\")\n",
    "    ax_x.set_ylabel(\"x [$\\mu$m]\")\n",
    "    ax_y.set_ylabel(\"y [$\\mu$m]\")"
   ]
  },
  {
   "cell_type": "code",
   "execution_count": null,
   "metadata": {},
   "outputs": [],
   "source": []
  }
 ],
 "metadata": {
  "kernelspec": {
   "display_name": "Python 3",
   "language": "python",
   "name": "python3"
  },
  "language_info": {
   "codemirror_mode": {
    "name": "ipython",
    "version": 3
   },
   "file_extension": ".py",
   "mimetype": "text/x-python",
   "name": "python",
   "nbconvert_exporter": "python",
   "pygments_lexer": "ipython3",
   "version": "3.8.10"
  }
 },
 "nbformat": 4,
 "nbformat_minor": 4
}
