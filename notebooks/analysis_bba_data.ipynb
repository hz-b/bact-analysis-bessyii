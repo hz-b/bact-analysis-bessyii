{
 "cells": [
  {
   "cell_type": "markdown",
   "source": [
    "# Displaying beam based aligmennt measurement re"
   ],
   "metadata": {
    "collapsed": false
   }
  },
  {
   "cell_type": "code",
   "execution_count": null,
   "outputs": [],
   "source": [
    "import pathlib\n",
    "\n",
    "from IPython.display import display, Markdown, HTML\n",
    "display(HTML(\"<style>.container { width:90% !important; }</style>\"))\n",
    "from pathlib import Path, PosixPath"
   ],
   "metadata": {
    "collapsed": false
   }
  },
  {
   "cell_type": "code",
   "execution_count": null,
   "metadata": {},
   "outputs": [],
   "source": [
    "import xarray as xr\n",
    "import numpy as np\n",
    "import os.path\n",
    "import matplotlib.pyplot as plt\n",
    "\n",
    "from dataclasses import dataclass\n",
    "# %matplotlib notebook\n",
    "%matplotlib inline"
   ]
  },
  {
   "cell_type": "code",
   "execution_count": null,
   "metadata": {},
   "outputs": [],
   "source": [
    "data_dir = Path(os.getcwd()) / \"..\" / \"bact_analysis_bessyii\"/ \"scripts\"\n",
    "data_dir = Path(os.path.normpath(data_dir))\n",
    "data_dir"
   ]
  },
  {
   "cell_type": "code",
   "execution_count": null,
   "metadata": {},
   "outputs": [],
   "source": [
    "os.listdir(data_dir)"
   ]
  },
  {
   "cell_type": "code",
   "execution_count": null,
   "metadata": {},
   "outputs": [],
   "source": [
    "# campain 1788\n",
    "uids = [\n",
    "    # variable names without dt ....\n",
    "    # 'bceb0543-46f4-4bf8-9757-2340cacefb3b',\n",
    "    # 'b61e48bb-6f7b-4559-9053-f6049fc51bac'\n",
    "]\n",
    "uids += [\n",
    "    # At this run I (pierre) missed to help the script with the bump of out of range.\n",
    "     # '22a27d85-415b-4a4b-a7ed-fa69d53245b4'.  \n",
    "    # tune adjusted\n",
    "    'c6c3ad04-7c4c-4a6d-a7e8-91602cfea726'\n",
    "]\n",
    "#campain 1945\n",
    "uids += [\n",
    "    \"c95ecd6b-ebf6-425a-9a47-8499286cb32f\",\n",
    "    # why do these data not load?\n",
    "    # \"94f42695-4ef5-4659-96c4-de72a4055384\",\n",
    "    \"6fa0e851-29b9-4f14-9d1a-d2eb9d47fb80\"\n",
    "]\n",
    "uids += [\n",
    "    #campain 1966\n",
    "     \"1e6ec7f3-44a5-4e5c-a798-1d7ce12aafe1\",\n",
    "     \"22354cec-864b-4f38-ad46-a9641d07d1ac\",\n",
    "     \"eb89753c-5388-4ebb-a992-fc25b478acd8\",\n",
    "    # campain 1976\n",
    "     \"b226943c-1941-46ce-bc35-0530ea6e276c\",\n",
    "     \"e0aef7b8-f57e-4594-9618-70d01aaa65a7\",\n",
    "     \"e60215ff-62ea-4d3b-a968-f6b0d9d9ee9d\",\n",
    "     \"fa22af2e-0398-41eb-94b9-e9b957ba4f31\"\n",
    "]\n",
    "uids += [\n",
    "    # campaign 1979\n",
    "    '69eb8a83-d3bc-42cb-9803-072585124df9',\n",
    "    '31b041d9-66c6-4906-8be8-9bf9d7c7a789',\n",
    "    \n",
    "    # campaign 1982\n",
    "    '350d945b-6d2f-42b4-892b-7c2c3a9a17d0',\n",
    "    '9ba454c7-f709-4c42-84b3-410b5ac05d9d'\n",
    "]\n",
    "uids += [\n",
    "    '9e90e2b4-95bf-43a6-9dbd-73a105e28db0',\n",
    "]\n",
    "# uids = uids[-7:-4]\n",
    "uids = uids[-1:]"
   ]
  },
  {
   "cell_type": "code",
   "execution_count": null,
   "outputs": [],
   "source": [
    "uid = uids[-1]\n",
    "estimated_angles = xr.load_dataset(os.path.join(data_dir, f'estimated_angles_{uid}.nc'))\n",
    "offsets = xr.load_dataarray(os.path.join(data_dir, f'offsets_{uid}.nc'))"
   ],
   "metadata": {
    "collapsed": false
   }
  },
  {
   "cell_type": "code",
   "execution_count": null,
   "outputs": [],
   "source": [
    "estimated_angles.orbit"
   ],
   "metadata": {
    "collapsed": false
   }
  },
  {
   "cell_type": "code",
   "execution_count": null,
   "outputs": [],
   "source": [
    "\n",
    "estimated_angles"
   ],
   "metadata": {
    "collapsed": false
   }
  },
  {
   "cell_type": "code",
   "execution_count": null,
   "outputs": [],
   "source": [
    "estimated_angles.orbit.attrs['theta']"
   ],
   "metadata": {
    "collapsed": false
   }
  },
  {
   "cell_type": "markdown",
   "source": [],
   "metadata": {
    "collapsed": false
   }
  },
  {
   "cell_type": "code",
   "execution_count": null,
   "outputs": [],
   "source": [
    "estimated_angles.fit_params.sel(name=\"q1m1d1r\", plane=\"x\", result=\"value\", parameter=\"scaled_angle\")"
   ],
   "metadata": {
    "collapsed": false
   }
  },
  {
   "cell_type": "code",
   "execution_count": null,
   "outputs": [],
   "source": [
    "pscale = 1000"
   ],
   "metadata": {
    "collapsed": false
   }
  },
  {
   "cell_type": "code",
   "execution_count": null,
   "outputs": [],
   "source": [
    "fig, ax = plt.subplots(1, 1)\n",
    "ax.plot(\n",
    "    estimated_angles.ds, estimated_angles.orbit.sel(name=\"q1m1d1r\", plane=\"x\") * pscale\n",
    ")\n",
    "ax.set_ylabel(\"dx [mm]\")\n",
    "ax.set_xlabel(\"ds [m]\")"
   ],
   "metadata": {
    "collapsed": false
   }
  },
  {
   "cell_type": "code",
   "execution_count": null,
   "metadata": {},
   "outputs": [],
   "source": [
    "fig, axes = plt.subplots(2, 1, figsize=[12, 9], sharex=True)\n",
    "ax_x, ax_y = axes\n",
    "a_scale = 1e6\n",
    "\n",
    "for uid in uids:\n",
    "    estimated_angles = xr.load_dataset(os.path.join(data_dir, f'estimated_angles_{uid}.nc'))\n",
    "    offsets = xr.load_dataarray(os.path.join(data_dir, f'offsets_{uid}.nc'))\n",
    "    \n",
    "    ds = estimated_angles.ds_elems\n",
    "    quad_names = estimated_angles.coords['name'].values\n",
    "    \n",
    "    ax_x.errorbar(\n",
    "        ds,\n",
    "        offsets.sel(name=quad_names, result=\"value\", plane=\"x\") * a_scale,\n",
    "        yerr=offsets.sel(name=quad_names, result=\"error\", plane=\"x\") * a_scale,\n",
    "        fmt=\".-\",\n",
    "    )\n",
    "    ax_y.errorbar(\n",
    "        ds,\n",
    "        offsets.sel(name=quad_names, result=\"value\", plane=\"y\") * a_scale,\n",
    "        yerr=offsets.sel(name=quad_names, result=\"error\", plane=\"y\") * a_scale,\n",
    "        fmt=\".-\",\n",
    "    )\n",
    "    ax_y.set_xlabel(\"s [m]\")\n",
    "    ax_x.set_xlabel(\"s [m]\")\n",
    "    ax_x.set_ylabel(\"x [$\\mu$m]\")\n",
    "    ax_y.set_ylabel(\"y [$\\mu$m]\")"
   ]
  },
  {
   "cell_type": "code",
   "execution_count": null,
   "outputs": [],
   "source": [],
   "metadata": {
    "collapsed": false
   }
  },
  {
   "cell_type": "code",
   "execution_count": null,
   "metadata": {},
   "outputs": [],
   "source": [
    "@dataclass\n",
    "class ReferenceOffsets:\n",
    "    x: object\n",
    "    xerr: object\n",
    "    y: object\n",
    "    yerr: object\n",
    "    ds: object"
   ]
  },
  {
   "cell_type": "code",
   "execution_count": null,
   "metadata": {},
   "outputs": [],
   "source": [
    "fig, axes = plt.subplots(2, 1, figsize=[12, 9], sharex=True)\n",
    "ax_x, ax_y = axes\n",
    "a_scale = 1e6\n",
    "\n",
    "ref = None\n",
    "for uid in uids:\n",
    "    estimated_angles = xr.load_dataset(os.path.join(data_dir, f'estimated_angles_{uid}.nc'))\n",
    "    offsets = xr.load_dataarray(os.path.join(data_dir, f'offsets_{uid}.nc'))\n",
    "    \n",
    "    \n",
    "    ds = estimated_angles.ds_elems\n",
    "    quad_names = estimated_angles.coords['name'].values\n",
    "    x = offsets.sel(name=quad_names, result=\"value\", plane=\"x\") * a_scale\n",
    "    y = offsets.sel(name=quad_names, result=\"value\", plane=\"y\") * a_scale\n",
    "    xerr = offsets.sel(name=quad_names, result=\"error\", plane=\"x\") * a_scale\n",
    "    yerr = offsets.sel(name=quad_names, result=\"error\", plane=\"x\") * a_scale\n",
    "    if not ref:\n",
    "        xerr= np.absolute(xerr)\n",
    "        yerr= np.absolute(yerr)\n",
    "        ref = ReferenceOffsets(x=x, y=y, xerr=xerr, yerr=yerr, ds=ds)\n",
    "        print(\"Set refence plots start after next plot\")\n",
    "        continue \n",
    "    else:\n",
    "        xerr = np.absolute(xerr) + ref.xerr\n",
    "        yerr = np.absolute(xerr) + ref.yerr\n",
    "        \n",
    "    ax_x.errorbar(\n",
    "        ds,\n",
    "        x - ref.x,\n",
    "        yerr=xerr,\n",
    "        fmt=\".-\"\n",
    "    )\n",
    "    ax_y.errorbar(\n",
    "        ds,\n",
    "        y - ref.y,\n",
    "        yerr=yerr,\n",
    "        fmt=\".-\",\n",
    "    )\n",
    "    ax_y.set_xlabel(\"s [m]\")\n",
    "    ax_x.set_xlabel(\"s [m]\")\n",
    "    ax_x.set_ylabel(\"x [$\\mu$m]\")\n",
    "    ax_y.set_ylabel(\"y [$\\mu$m]\")"
   ]
  },
  {
   "cell_type": "code",
   "execution_count": null,
   "metadata": {},
   "outputs": [],
   "source": []
  }
 ],
 "metadata": {
  "kernelspec": {
   "display_name": "Python 3",
   "language": "python",
   "name": "python3"
  },
  "language_info": {
   "codemirror_mode": {
    "name": "ipython",
    "version": 3
   },
   "file_extension": ".py",
   "mimetype": "text/x-python",
   "name": "python",
   "nbconvert_exporter": "python",
   "pygments_lexer": "ipython3",
   "version": "3.8.10"
  }
 },
 "nbformat": 4,
 "nbformat_minor": 4
}
