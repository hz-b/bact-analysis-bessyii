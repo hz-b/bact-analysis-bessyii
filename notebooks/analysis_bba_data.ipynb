{
 "cells": [
  {
   "cell_type": "code",
   "execution_count": null,
   "metadata": {},
   "outputs": [],
   "source": [
    "from IPython.display import display, Markdown, HTML\n",
    "display(HTML(\"<style>.container { width:90% !important; }</style>\"))"
   ]
  },
  {
   "cell_type": "code",
   "execution_count": null,
   "metadata": {},
   "outputs": [],
   "source": [
    "import xarray as xr\n",
    "import os.path\n",
    "import matplotlib.pyplot as plt\n",
    "%matplotlib notebook"
   ]
  },
  {
   "cell_type": "code",
   "execution_count": null,
   "metadata": {},
   "outputs": [],
   "source": [
    "data_dir = os.path.normpath(os.path.join(os.getcwd(), os.path.pardir, os.path.pardir))"
   ]
  },
  {
   "cell_type": "code",
   "execution_count": null,
   "metadata": {},
   "outputs": [],
   "source": [
    "os.listdir(data_dir);"
   ]
  },
  {
   "cell_type": "code",
   "execution_count": null,
   "metadata": {},
   "outputs": [],
   "source": [
    "# campain 1788\n",
    "uids = [\n",
    "    # variable names without dt ....\n",
    "    # 'bceb0543-46f4-4bf8-9757-2340cacefb3b',\n",
    "    # 'b61e48bb-6f7b-4559-9053-f6049fc51bac'\n",
    "]\n",
    "uids += [\n",
    "    # At this run I (pierre) missed to help the script with the bump of out of range.\n",
    "     # '22a27d85-415b-4a4b-a7ed-fa69d53245b4'.  \n",
    "    # tune adjusted\n",
    "    'c6c3ad04-7c4c-4a6d-a7e8-91602cfea726'\n",
    "]\n",
    "#campain 1945\n",
    "uids += [\n",
    "    \"c95ecd6b-ebf6-425a-9a47-8499286cb32f\",\n",
    "    # why do these data not load?\n",
    "    # \"94f42695-4ef5-4659-96c4-de72a4055384\",\n",
    "    \"6fa0e851-29b9-4f14-9d1a-d2eb9d47fb80\"\n",
    "]\n",
    "uids += [\n",
    "    #campain 1966\n",
    "     \"1e6ec7f3-44a5-4e5c-a798-1d7ce12aafe1\",\n",
    "     \"22354cec-864b-4f38-ad46-a9641d07d1ac\",\n",
    "     \"eb89753c-5388-4ebb-a992-fc25b478acd8\",\n",
    "    # campain 1976\n",
    "     \"b226943c-1941-46ce-bc35-0530ea6e276c\",\n",
    "     \"e0aef7b8-f57e-4594-9618-70d01aaa65a7\",\n",
    "     \"e60215ff-62ea-4d3b-a968-f6b0d9d9ee9d\",\n",
    "     \"fa22af2e-0398-41eb-94b9-e9b957ba4f31\"\n",
    "]\n",
    "uids = [\n",
    "    # campaign 1979\n",
    "    #'69eb8a83-d3bc-42cb-9803-072585124df9',\n",
    "    #'31b041d9-66c6-4906-8be8-9bf9d7c7a789',\n",
    "    \n",
    "    # campaign 1982\n",
    "    '350d945b-6d2f-42b4-892b-7c2c3a9a17d0',\n",
    "    '9ba454c7-f709-4c42-84b3-410b5ac05d9d'\n",
    "]\n",
    "uids"
   ]
  },
  {
   "cell_type": "code",
   "execution_count": null,
   "metadata": {},
   "outputs": [],
   "source": [
    "fig, axes = plt.subplots(2, 1, figsize=[12, 9], sharex=True)\n",
    "ax_x, ax_y = axes\n",
    "a_scale = 1e6\n",
    "\n",
    "for uid in uids:\n",
    "    estimated_angles = xr.load_dataset(os.path.join(data_dir, f'estimated_angles_{uid}.nc'))\n",
    "    offsets = xr.load_dataarray(os.path.join(data_dir, f'offsets_{uid}.nc'))\n",
    "    \n",
    "    ds = estimated_angles.ds_elems\n",
    "    quad_names = estimated_angles.coords['name'].values\n",
    "    \n",
    "    ax_x.errorbar(\n",
    "        ds,\n",
    "        offsets.sel(name=quad_names, result=\"value\", plane=\"x\") * a_scale,\n",
    "        yerr=offsets.sel(name=quad_names, result=\"error\", plane=\"x\") * a_scale,\n",
    "        fmt=\".-\",\n",
    "    )\n",
    "    ax_y.errorbar(\n",
    "        ds,\n",
    "        offsets.sel(name=quad_names, result=\"value\", plane=\"y\") * a_scale,\n",
    "        yerr=offsets.sel(name=quad_names, result=\"error\", plane=\"y\") * a_scale,\n",
    "        fmt=\".-\",\n",
    "    )\n",
    "    ax_y.set_xlabel(\"s [m]\")\n",
    "    ax_x.set_xlabel(\"s [m]\")\n",
    "    ax_x.set_ylabel(\"x [$\\mu$m]\")\n",
    "    ax_y.set_ylabel(\"y [$\\mu$m]\")"
   ]
  }
 ],
 "metadata": {
  "kernelspec": {
   "display_name": "Python 3",
   "language": "python",
   "name": "python3"
  },
  "language_info": {
   "codemirror_mode": {
    "name": "ipython",
    "version": 3
   },
   "file_extension": ".py",
   "mimetype": "text/x-python",
   "name": "python",
   "nbconvert_exporter": "python",
   "pygments_lexer": "ipython3",
   "version": "3.8.10"
  }
 },
 "nbformat": 4,
 "nbformat_minor": 4
}
