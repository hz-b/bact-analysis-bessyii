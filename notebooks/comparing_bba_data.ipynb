{
 "cells": [
  {
   "cell_type": "code",
   "execution_count": null,
   "outputs": [],
   "source": [
    "from IPython.display import display, Markdown, HTML\n",
    "display(HTML(\"<style>.container { width:90% !important; }</style>\"))\n",
    "from pathlib import Path, PosixPath"
   ],
   "metadata": {
    "collapsed": false
   }
  },
  {
   "cell_type": "markdown",
   "source": [
    "# Visual inspection of the beam based alignment measurement"
   ],
   "metadata": {
    "collapsed": false
   }
  },
  {
   "cell_type": "markdown",
   "source": [
    "## Notebook setup"
   ],
   "metadata": {
    "collapsed": false
   }
  },
  {
   "cell_type": "code",
   "execution_count": null,
   "outputs": [],
   "source": [
    "import xarray as xr\n",
    "import pandas as pd\n",
    "import numpy as np\n",
    "import os.path\n",
    "import matplotlib.pyplot as plt\n",
    "\n",
    "from dataclasses import dataclass\n",
    "# %matplotlib notebook\n",
    "%matplotlib inline"
   ],
   "metadata": {
    "collapsed": false
   }
  },
  {
   "cell_type": "markdown",
   "source": [
    "## Loading data"
   ],
   "metadata": {
    "collapsed": false
   }
  },
  {
   "cell_type": "code",
   "execution_count": null,
   "outputs": [],
   "source": [
    "data_dir = Path(os.getcwd()) / \"..\" / \"bact_analysis_bessyii\"/ \"scripts\"\n",
    "data_dir = Path(os.path.normpath(data_dir))\n",
    "data_dir"
   ],
   "metadata": {
    "collapsed": false
   }
  },
  {
   "cell_type": "code",
   "execution_count": null,
   "outputs": [],
   "source": [
    "os.listdir(data_dir)"
   ],
   "metadata": {
    "collapsed": false
   }
  },
  {
   "cell_type": "code",
   "execution_count": null,
   "outputs": [],
   "source": [
    "data_dir"
   ],
   "metadata": {
    "collapsed": false
   }
  },
  {
   "cell_type": "code",
   "execution_count": null,
   "outputs": [],
   "source": [
    "ls -ltr '/home/waheed/workspace/bact/custom/bessyii/analysis/bact_analysis_bessyii/scripts'"
   ],
   "metadata": {
    "collapsed": false
   }
  },
  {
   "cell_type": "code",
   "execution_count": null,
   "outputs": [],
   "source": [
    "uid = 'd9ebee40-5e37-4584-bd60-42308121a81f'"
   ],
   "metadata": {
    "collapsed": false
   }
  },
  {
   "cell_type": "code",
   "execution_count": null,
   "outputs": [],
   "source": [
    "twiss_db = xr.load_dataset(\n",
    " os.path.join(data_dir, '..', 'bba', 'bessyii_twiss_thor_scsi_twin.nc')\n",
    ")\n",
    "twiss_db"
   ],
   "metadata": {
    "collapsed": false
   }
  },
  {
   "cell_type": "code",
   "execution_count": null,
   "outputs": [],
   "source": [
    "import epics"
   ],
   "metadata": {
    "collapsed": false
   }
  },
  {
   "cell_type": "code",
   "execution_count": null,
   "outputs": [],
   "source": [
    "epics.PV('Pierre:DT:beam:nu:y')"
   ],
   "metadata": {
    "collapsed": false
   }
  },
  {
   "cell_type": "markdown",
   "source": [
    "That's something perhaps to be handled by a (caching) database?"
   ],
   "metadata": {
    "collapsed": false
   }
  },
  {
   "cell_type": "code",
   "execution_count": null,
   "outputs": [],
   "source": [
    "estimated_angles = xr.load_dataset(os.path.join(data_dir, f'estimated_angles_{uid}.nc'))\n",
    "offsets = xr.load_dataarray(os.path.join(data_dir, f'offsets_{uid}.nc'))\n",
    "preprocessed_measurement_data = xr.load_dataset(os.path.join(data_dir, f'preprocessed_measurement_data_{uid}.nc'))"
   ],
   "metadata": {
    "collapsed": false
   }
  },
  {
   "cell_type": "code",
   "execution_count": null,
   "outputs": [],
   "source": [
    "preprocessed_measurement_data"
   ],
   "metadata": {
    "collapsed": false
   }
  },
  {
   "cell_type": "code",
   "execution_count": null,
   "outputs": [],
   "source": [
    "estimated_angles"
   ],
   "metadata": {
    "collapsed": false
   }
  },
  {
   "cell_type": "code",
   "execution_count": null,
   "outputs": [],
   "source": [
    "len(estimated_angles.attrs['bpm_names'])"
   ],
   "metadata": {
    "collapsed": false
   }
  },
  {
   "cell_type": "code",
   "execution_count": null,
   "outputs": [],
   "source": [
    "preprocessed_measurement_data.y_pos.shape"
   ],
   "metadata": {
    "collapsed": false
   }
  },
  {
   "cell_type": "code",
   "execution_count": null,
   "outputs": [],
   "source": [
    "fig, ax = plt.subplots(1, 1, figsize=[16, 8])\n",
    "ax.plot(\n",
    "    twiss_db.ds, estimated_angles.orbit.sel(name='q3m2t8r', plane='y')[:-1]\n",
    ")"
   ],
   "metadata": {
    "collapsed": false
   }
  },
  {
   "cell_type": "code",
   "execution_count": null,
   "outputs": [],
   "source": [
    "bpm_names_lower = [name.lower() for name in preprocessed_measurement_data.coords['bpm'].values]\n",
    "ds_bpm = twiss_db.ds.sel(pos=bpm_names_lower)\n",
    "len(ds_bpm)"
   ],
   "metadata": {
    "collapsed": false
   }
  },
  {
   "cell_type": "code",
   "execution_count": null,
   "outputs": [],
   "source": [
    "fig, axes = plt.subplots(3, 1, sharex=True, figsize=[16, 12])\n",
    "pscale = 1e6\n",
    "ax, ax_diff, ax_twiss  = axes\n",
    "sel = preprocessed_measurement_data.y_pos.sel(name=\"q3m2t8r\")\n",
    "ref = None\n",
    "for y in sel:\n",
    "    line, = ax.plot(ds_bpm, y * pscale, '.-', linewidth=.5)\n",
    "    if ref is None:\n",
    "        ref = y\n",
    "        continue\n",
    "    ax_diff.plot(ds_bpm, (y.values - ref.values) * pscale, '-', color=line.get_color())\n",
    "ax_twiss.plot(\n",
    "    twiss_db.ds, - estimated_angles.orbit.sel(name='q3m2t8r', plane='y')[:-1] * pscale, '--'\n",
    ")\n",
    "ax.set_ylabel(\"bpm\")\n",
    "ax_twiss.set_ylabel(\"orbit deviation from twiss\")\n",
    "ax_diff.set_ylabel(\"diff\")\n",
    "for ax in axes:\n",
    "    ax.grid(True)\n",
    "len(ref)"
   ],
   "metadata": {
    "collapsed": false
   }
  },
  {
   "cell_type": "code",
   "execution_count": null,
   "outputs": [],
   "source": [
    "for n1, n2 in zip(estimated_angles.attrs['bpm_names'], [name.lower() for name in preprocessed_measurement_data.coords[\"bpm\"].values]):\n",
    "    if n1 != n2:\n",
    "        print(n1 == n2, n1, n2)"
   ],
   "metadata": {
    "collapsed": false
   }
  },
  {
   "cell_type": "code",
   "execution_count": null,
   "outputs": [],
   "source": [
    "from databroker import catalog\n",
    "db = catalog[\"heavy_local\"]\n",
    "run = db[uid]\n",
    "stream =run.primary\n",
    "dataX = stream.read()\n"
   ],
   "metadata": {
    "collapsed": false
   }
  },
  {
   "cell_type": "code",
   "execution_count": null,
   "outputs": [],
   "source": [
    "dataX"
   ],
   "metadata": {
    "collapsed": false
   }
  },
  {
   "cell_type": "code",
   "execution_count": null,
   "outputs": [],
   "source": [
    "def extract(item):\n",
    "    return  item[\"y\"][\"pos_raw\"]\n",
    "\n",
    "fig, ax = plt.subplots(1, 1, figsize=[16, 6])\n",
    "for elems  in dataX.bpm_elem_data.values:\n",
    "    ax.plot(\n",
    "     dataX.bpm_ds[0],  np.array([extract(item) for item in  elems]), '.-', linewidth=.5\n",
    "    )\n",
    "    break\n"
   ],
   "metadata": {
    "collapsed": false
   }
  },
  {
   "cell_type": "raw",
   "source": [
    "todo: anything below this is not working for the time being"
   ],
   "metadata": {
    "collapsed": false
   }
  },
  {
   "cell_type": "code",
   "execution_count": null,
   "outputs": [],
   "source": [
    "\n",
    "fig, ax = plt.subplots(1, 1, figsize=[16, 8])\n",
    "ax.plot(\n",
    "    twiss_db.ds, estimated_angles.orbit.sel(name='q3m2t8r', plane='y')[1:-1]\n",
    ")"
   ],
   "metadata": {
    "collapsed": false
   }
  },
  {
   "cell_type": "code",
   "execution_count": null,
   "outputs": [],
   "source": [],
   "metadata": {
    "collapsed": false
   }
  },
  {
   "cell_type": "code",
   "execution_count": null,
   "outputs": [],
   "source": [
    "extract_data(dataX.bpm_elem_data[0, 0])"
   ],
   "metadata": {
    "collapsed": false
   }
  },
  {
   "cell_type": "code",
   "execution_count": null,
   "outputs": [],
   "source": [
    "json.loads(tmp[1:-1])"
   ],
   "metadata": {
    "collapsed": false
   }
  },
  {
   "cell_type": "code",
   "execution_count": null,
   "outputs": [],
   "source": [
    "fig, ax = plt.subplots()\n",
    "ax.plot(\n"
   ],
   "metadata": {
    "collapsed": false
   }
  },
  {
   "cell_type": "markdown",
   "source": [
    "## Display overview of quadrupole offsets"
   ],
   "metadata": {
    "collapsed": false
   }
  },
  {
   "cell_type": "markdown",
   "source": [
    "Not developed here: e.g. display a table\n",
    "\n",
    "| element name | dx | dy | mse | mae |\n",
    "|:-------------|---:|---:|---:|---:|\n",
    "| q1m1d1r      | 0.03 | 0.02 | 0.43 | 0.24 |"
   ],
   "metadata": {
    "collapsed": false
   }
  },
  {
   "cell_type": "markdown",
   "source": [
    "### Analyse the result for one quadrupole"
   ],
   "metadata": {
    "collapsed": false
   }
  },
  {
   "cell_type": "markdown",
   "source": [
    "Visual analysis:\n",
    "\n",
    "* reproduce fit data (shall one reuse the code ?)\n",
    "\n",
    "    * read estimated angle for one quadrupole (both planes)\n",
    "    * read ideal kick\n",
    "    * scale ideal kick with angle\n",
    "\n",
    "* read measurement data for one quadrupole\n",
    "\n",
    "   * subtract the offset\n",
    "   * see if the deviations correspond to the measured ones"
   ],
   "metadata": {
    "collapsed": false
   }
  },
  {
   "cell_type": "code",
   "execution_count": null,
   "outputs": [],
   "source": [
    "element_name = \"q1m1d1r\""
   ],
   "metadata": {
    "collapsed": false
   }
  },
  {
   "cell_type": "markdown",
   "source": [
    "Select the magnet data to analyse"
   ],
   "metadata": {
    "collapsed": false
   }
  },
  {
   "cell_type": "code",
   "execution_count": null,
   "outputs": [],
   "source": [
    "estimated_angles\n"
   ],
   "metadata": {
    "collapsed": false
   }
  },
  {
   "cell_type": "code",
   "execution_count": null,
   "outputs": [],
   "source": [
    "estimated_angles_for_magnet = estimated_angles.sel(name=element_name)\n",
    "estimated_angles_for_magnet"
   ],
   "metadata": {
    "collapsed": false
   }
  },
  {
   "cell_type": "markdown",
   "source": [
    "## Prepare comparison between measured data and calculated data\n",
    "\n",
    "The orbit stored in the data was calculated for a steerer placed at the element producing a\n",
    "kick of some value $\\vartheta$\n",
    "\n",
    "The visual analysis of measured data to estimated fit requires\n",
    "\n",
    "1. reduce the offsets of the BPM\"s from the measurements\n",
    "   These offsets are stored in the fit data results\n",
    "\n",
    "2. scale the orbit which was made for some value $\\vartheta$ with the fit value $\\vartheta_f$ by\n",
    "\n",
    "   $$\n",
    "       orbit \\cdot \\vartheta_f / \\vartheta\n",
    "   $$\n",
    "\n",
    "3. plot the data:\n",
    "\n",
    "    1. all together to see if the offsets are sensible\n",
    "    2. measured and calculated with the bpm offsets reduced\n",
    "\n"
   ],
   "metadata": {
    "collapsed": false
   }
  },
  {
   "cell_type": "code",
   "execution_count": null,
   "outputs": [],
   "source": [
    "ref_angle = estimated_angles_for_magnet.orbit.attrs['theta']"
   ],
   "metadata": {
    "collapsed": false
   }
  },
  {
   "cell_type": "markdown",
   "source": [
    "### Plot the orbit as stored just to see"
   ],
   "metadata": {
    "collapsed": false
   }
  },
  {
   "cell_type": "code",
   "execution_count": null,
   "outputs": [],
   "source": [
    "pscale = 1e6\n",
    "fig, ax = plt.subplots(1, 1)\n",
    "ax.plot(\n",
    "    estimated_angles_for_magnet.ds, estimated_angles_for_magnet.orbit.sel(plane=\"x\") * pscale\n",
    ")\n",
    "ax.set_ylabel(\"dx [mm]\")\n",
    "ax.set_xlabel(\"ds [m]\")"
   ],
   "metadata": {
    "collapsed": false
   }
  },
  {
   "cell_type": "markdown",
   "source": [
    "Need to retrieve the bpm names: want to extract the offset from the fit\n",
    "Luckily its an attribute"
   ],
   "metadata": {
    "collapsed": false
   }
  },
  {
   "cell_type": "code",
   "execution_count": null,
   "outputs": [],
   "source": [
    "bpm_names = estimated_angles.attrs['bpm_names']"
   ],
   "metadata": {
    "collapsed": false
   }
  },
  {
   "cell_type": "code",
   "execution_count": null,
   "outputs": [],
   "source": [
    "bpm_offsets = estimated_angles_for_magnet.fit_params.sel(parameter=bpm_names).rename(parameter=\"pos\")\n",
    "bpm_offsets"
   ],
   "metadata": {
    "collapsed": false
   }
  },
  {
   "cell_type": "code",
   "execution_count": null,
   "outputs": [],
   "source": [
    "bpm_offsets.sel(plane=\"x\", result=\"value\")"
   ],
   "metadata": {
    "collapsed": false
   }
  },
  {
   "cell_type": "code",
   "execution_count": null,
   "outputs": [],
   "source": [
    "orbit_at_bpm = estimated_angles_for_magnet.orbit.sel(pos=bpm_names)\n",
    "ds_at_bpm = estimated_angles_for_magnet.ds.sel(pos=bpm_names)\n",
    "ds_at_bpm"
   ],
   "metadata": {
    "collapsed": false
   }
  },
  {
   "cell_type": "code",
   "execution_count": null,
   "outputs": [],
   "source": [
    "estimated_angles_for_magnet"
   ],
   "metadata": {
    "collapsed": false
   }
  },
  {
   "cell_type": "code",
   "execution_count": null,
   "outputs": [],
   "source": [
    "#bpm_offsets.sel(plane=\"x\", result=\"value\").rename(fit_parameters=\"pos\")"
   ],
   "metadata": {
    "collapsed": false
   }
  },
  {
   "cell_type": "code",
   "execution_count": null,
   "outputs": [],
   "source": [
    "pscale = 1e6\n",
    "fig, axes = plt.subplots(2, 1, sharex=True, figsize=[16, 12])\n",
    "ax, ax_diff = axes\n",
    "# difference to orbit for quadrupole with piggy pack power converter at 0\n",
    "# well not exactly ... for where it would be if the magnet was ideal and\n",
    "# had no  hysteresis etc.\n",
    "\n",
    "ax.plot(ds_at_bpm, bpm_offsets.sel(plane=\"x\", result=\"value\") * pscale, 'b.')\n",
    "for cnt, x in enumerate(estimated_angles_for_magnet.x_pos):\n",
    "    line, = ax.plot(ds_at_bpm, x * pscale, '.-')\n",
    "    dx = x.values - bpm_offsets.sel(plane=\"x\", result=\"value\").values\n",
    "    ax_diff.plot(ds_at_bpm, dx * pscale, '.-', color=line.get_color())\n",
    "\n",
    "ax_diff.plot(ds_at_bpm, orbit_at_bpm.sel(plane=\"y\") * pscale / 10, '.-', color='k')\n",
    "\n",
    "ax.set_ylabel(\"x [um]\")\n",
    "ax_diff.set_ylabel(\"dx [um]\")\n",
    "ax_diff.set_xlabel(\"ds [m]\")"
   ],
   "metadata": {
    "collapsed": false
   }
  },
  {
   "cell_type": "code",
   "execution_count": null,
   "outputs": [],
   "source": [
    "pscale = 1e6\n",
    "fig, axes = plt.subplots(2, 1, sharex=True, figsize=[16, 12])\n",
    "ax, ax_diff = axes\n",
    "# difference to orbit for quadrupole with piggy pack power converter at 0\n",
    "# well not exactly ... for where it would be if the magnet was ideal and\n",
    "# had no  hysteresis etc.\n",
    "\n",
    "ax.plot(ds_at_bpm,  bpm_offsets.sel(plane=\"y\", result=\"value\") * pscale, 'b.')\n",
    "for cnt, y in enumerate(estimated_angles_for_magnet.y_pos):\n",
    "    line, = ax.plot(ds_at_bpm, y * pscale, '.-')\n",
    "    dy = y.values - bpm_offsets.sel(plane=\"y\", result=\"value\").values\n",
    "    ax_diff.plot(ds_at_bpm, dy * pscale, '.-', color=line.get_color())\n",
    "\n",
    "#ax_diff.plot(ds_at_bpm, orbit_at_bpm.sel(plane=\"y\") * pscale / 10, '.-', color='k')\n",
    "\n",
    "ax.set_ylabel(\"y [mm]\")\n",
    "ax_diff.set_ylabel(\"dy [mm]\")\n",
    "ax_diff.set_xlabel(\"ds [m]\")"
   ],
   "metadata": {
    "collapsed": false
   }
  },
  {
   "cell_type": "code",
   "execution_count": null,
   "outputs": [],
   "source": [
    "plt.plot(ds_at_bpm, orbit_at_bpm.sel(plane=\"y\") * 1e6, '.-', color='k')"
   ],
   "metadata": {
    "collapsed": false
   }
  },
  {
   "cell_type": "code",
   "execution_count": null,
   "outputs": [],
   "source": [
    "pscale = 1e6\n",
    "fig, ax = plt.subplots(1, 1)\n",
    "\n",
    "# difference to orbit for quadrupole with piggy pack power converter at 0\n",
    "# well not exactly ... for where it would be if the magnet was ideal and\n",
    "# had no  hysteresis etc.\n",
    "dx = orbit_at_bpm.sel(plane=\"x\")\n",
    "ax.plot(\n",
    "     ds_at_bpm, dx * pscale, 'b.-',\n",
    "    ds_at_bpm,  bpm_offsets.sel(plane=\"x\", result=\"value\") * pscale, 'g.'\n",
    ")\n",
    "ax.set_ylabel(\"dx [mm]\")\n",
    "ax.set_xlabel(\"ds [m]\")"
   ],
   "metadata": {
    "collapsed": false
   }
  },
  {
   "cell_type": "code",
   "execution_count": null,
   "outputs": [],
   "source": [
    "offsets.sel(result=\"error\", plane=\"x\")"
   ],
   "metadata": {
    "collapsed": false
   }
  },
  {
   "cell_type": "code",
   "execution_count": null,
   "outputs": [],
   "source": [],
   "metadata": {
    "collapsed": false
   }
  },
  {
   "cell_type": "markdown",
   "source": [
    "## Cross check to data provided by digital twin"
   ],
   "metadata": {
    "collapsed": false
   }
  },
  {
   "cell_type": "markdown",
   "source": [
    "### Twiss data as provided by the twin"
   ],
   "metadata": {
    "collapsed": false
   }
  },
  {
   "cell_type": "code",
   "execution_count": null,
   "outputs": [],
   "source": [
    "import epics"
   ],
   "metadata": {
    "collapsed": false
   }
  },
  {
   "cell_type": "code",
   "execution_count": null,
   "outputs": [],
   "source": [
    "offsets.sel(name=\"q1m1d1r\", plane=\"x\") * 1e3"
   ],
   "metadata": {
    "collapsed": false
   }
  },
  {
   "cell_type": "code",
   "execution_count": null,
   "outputs": [],
   "source": [
    "orbit_x_pv =  epics.PV(\"Pierre:DT:beam:orbit:x\")\n",
    "orbit_y_pv =  epics.PV(\"Pierre:DT:beam:orbit:y\")\n",
    "beta_x_pv =  epics.PV(\"Pierre:DT:beam:beta:x\")\n",
    "beta_y_pv =  epics.PV(\"Pierre:DT:beam:beta:y\")\n",
    "mu_x_pv =  epics.PV(\"Pierre:DT:beam:nu:x\")\n",
    "mu_y_pv =  epics.PV(\"Pierre:DT:beam:nu:y\")\n",
    "s_pv =  epics.PV(\"Pierre:DT:beam:s\")\n",
    "orbit_names = epics.PV(\"Pierre:DT:beam:names\")"
   ],
   "metadata": {
    "collapsed": false
   }
  },
  {
   "cell_type": "code",
   "execution_count": null,
   "outputs": [],
   "source": [
    "mu_x_pv.get();"
   ],
   "metadata": {
    "collapsed": false
   }
  },
  {
   "cell_type": "code",
   "execution_count": null,
   "outputs": [],
   "source": [
    "data = np.transpose([pv.get() for pv in (orbit_x_pv, orbit_y_pv, beta_x_pv, beta_y_pv, mu_x_pv, mu_y_pv, s_pv)])\n",
    "twin_twiss_df = pd.DataFrame(data, columns=[\"x\", \"y\", \"beta_x\", \"beta_y\", \"mu_x\", \"mu_y\", \"ds\"], index=orbit_names.get())\n",
    "twin_twiss_df.tail()"
   ],
   "metadata": {
    "collapsed": false
   }
  },
  {
   "cell_type": "markdown",
   "source": [
    "### Comparing used orbit distortom"
   ],
   "metadata": {
    "collapsed": false
   }
  },
  {
   "cell_type": "markdown",
   "source": [
    "The one from the twin data to the one used during calculation"
   ],
   "metadata": {
    "collapsed": false
   }
  },
  {
   "cell_type": "code",
   "execution_count": null,
   "outputs": [],
   "source": [
    "element_name"
   ],
   "metadata": {
    "collapsed": false
   }
  },
  {
   "cell_type": "code",
   "execution_count": null,
   "outputs": [],
   "source": [
    "from bact_math_utils.distorted_orbit import closed_orbit_distortion\n",
    "orbit_x = closed_orbit_distortion(\n",
    "    twin_twiss_df.beta_x, twin_twiss_df.mu_x * 2*np.pi, tune=twin_twiss_df.mu_x.iloc[-1],\n",
    "    beta_i=twin_twiss_df.loc[element_name, 'beta_x'],\n",
    "    mu_i=twin_twiss_df.loc[element_name, 'mu_x'] * 2*np.pi,\n",
    "    theta_i=1e-5,\n",
    ")"
   ],
   "metadata": {
    "collapsed": false
   }
  },
  {
   "cell_type": "code",
   "execution_count": null,
   "outputs": [],
   "source": [
    "pscale = 1e6\n",
    "fig, ax = plt.subplots()\n",
    "ax.plot(twin_twiss_df.ds, orbit_x * pscale, '-b',\n",
    "         estimated_angles_for_magnet.ds, estimated_angles_for_magnet.orbit.sel(plane=\"x\") * pscale, '-g',\n",
    "        ds_at_bpm,orbit_at_bpm.sel(plane='x') * pscale, '+r',\n",
    "        linewidth=.2\n",
    "        )\n",
    "ax.set_xlabel('s [m]')\n",
    "ax.set_ylabel('x [um]')"
   ],
   "metadata": {
    "collapsed": false
   }
  },
  {
   "cell_type": "code",
   "execution_count": null,
   "outputs": [],
   "source": [
    "bpm_names = [name for name in twin_twiss_df.index if name[:3] == \"bpm\"  ]\n",
    "bpm_names, len(bpm_names)"
   ],
   "metadata": {
    "collapsed": false
   }
  },
  {
   "cell_type": "code",
   "execution_count": null,
   "outputs": [],
   "source": [
    "bpm_indices = [ name[:3] == \"bpm\"  for name in twin_twiss_df.index]"
   ],
   "metadata": {
    "collapsed": false
   }
  },
  {
   "cell_type": "code",
   "execution_count": null,
   "outputs": [],
   "source": [
    "twin_twiss_df.index[bpm_names]"
   ],
   "metadata": {
    "collapsed": false
   }
  },
  {
   "cell_type": "markdown",
   "source": [
    "### middle offset to beam offset"
   ],
   "metadata": {
    "collapsed": false
   }
  },
  {
   "cell_type": "code",
   "execution_count": null,
   "outputs": [],
   "source": [
    "factor = 5.4\n",
    "fig, ax = plt.subplots(figsize=[16, 12])\n",
    "ax.plot(\n",
    "    twin_twiss_df.ds, orbit_x * pscale * factor, '.-b',\n",
    "    twin_twiss_df.ds[bpm_indices], orbit_x[bpm_indices] * pscale * 5.3, 'r+-',\n",
    "    ds_at_bpm, orbit_at_bpm.sel(plane=\"x\") * pscale * factor, 'k+',\n",
    "    #ds_at_bpm, bpm_offsets.sel(plane=\"x\", result=\"value\") * pscale, 'gx-',\n",
    "    twin_twiss_df.ds, twin_twiss_df.x * pscale, '.r',\n",
    "    linewidth=.2\n",
    ")\n",
    "\n"
   ],
   "metadata": {
    "collapsed": false
   }
  },
  {
   "cell_type": "code",
   "execution_count": null,
   "outputs": [],
   "source": [
    "from bact_analysis.transverse.calc import for_fitting_reference_orbit\n",
    "dir(bact_analysis.transverse.calc)"
   ],
   "metadata": {
    "collapsed": false
   }
  },
  {
   "cell_type": "code",
   "execution_count": null,
   "outputs": [],
   "source": [
    "dx_q1_pv.get() - df.loc['q1m1d1r', :] * 1e3\n"
   ],
   "metadata": {
    "collapsed": false
   }
  },
  {
   "cell_type": "code",
   "execution_count": null,
   "outputs": [],
   "source": [
    "(df*1000).plot()"
   ],
   "metadata": {
    "collapsed": false
   }
  },
  {
   "cell_type": "code",
   "execution_count": null,
   "outputs": [],
   "source": [
    "plt.plot(\n",
    "    estimated_angles_for_magnet.ds.sel(pos=df.index), df.x * 1000\n",
    ")"
   ],
   "metadata": {
    "collapsed": false
   }
  },
  {
   "cell_type": "code",
   "execution_count": null,
   "outputs": [],
   "source": [
    "dx_q1_pv = epics.PV(\"Pierre:DT:q1m1d1r:x:rdbk\")"
   ],
   "metadata": {
    "collapsed": false
   }
  },
  {
   "cell_type": "code",
   "execution_count": null,
   "outputs": [],
   "source": [
    "set(df.index.values).difference(set(estimated_angles_for_magnet.ds.coords['pos'].values)),\n",
    "set(estimated_angles_for_magnet.ds.coords['pos'].values).difference(set(df.index.values))"
   ],
   "metadata": {
    "collapsed": false
   }
  },
  {
   "cell_type": "code",
   "execution_count": null,
   "outputs": [],
   "source": [],
   "metadata": {
    "collapsed": false
   }
  },
  {
   "cell_type": "code",
   "execution_count": null,
   "outputs": [],
   "source": [
    "df.index[:2]"
   ],
   "metadata": {
    "collapsed": false
   }
  },
  {
   "cell_type": "code",
   "execution_count": null,
   "outputs": [],
   "source": [],
   "metadata": {
    "collapsed": false
   }
  }
 ],
 "metadata": {
  "kernelspec": {
   "display_name": "Python 3",
   "language": "python",
   "name": "python3"
  },
  "language_info": {
   "codemirror_mode": {
    "name": "ipython",
    "version": 2
   },
   "file_extension": ".py",
   "mimetype": "text/x-python",
   "name": "python",
   "nbconvert_exporter": "python",
   "pygments_lexer": "ipython2",
   "version": "2.7.6"
  }
 },
 "nbformat": 4,
 "nbformat_minor": 0
}
