{
 "cells": [
  {
   "cell_type": "code",
   "execution_count": null,
   "id": "8b79a8da",
   "metadata": {},
   "outputs": [],
   "source": [
    "from IPython.display import display, Markdown, HTML\n",
    "display(HTML(\"<style>.container { width:90% !important; }</style>\"))"
   ]
  },
  {
   "cell_type": "code",
   "execution_count": null,
   "id": "382ded80",
   "metadata": {},
   "outputs": [],
   "source": [
    "import pathlib\n",
    "import os\n",
    "import datetime\n",
    "import logging"
   ]
  },
  {
   "cell_type": "code",
   "execution_count": null,
   "id": "d93ce0a2",
   "metadata": {},
   "outputs": [],
   "source": [
    "logger = logging.getLogger(\"bba\")"
   ]
  },
  {
   "cell_type": "code",
   "execution_count": null,
   "id": "e182af53",
   "metadata": {},
   "outputs": [],
   "source": [
    "from databroker import catalog\n",
    "import xarray as xr\n",
    "import pandas as pd\n",
    "import matplotlib.pyplot as plt\n",
    "import numpy as np"
   ]
  },
  {
   "cell_type": "code",
   "execution_count": null,
   "id": "a0807c68",
   "metadata": {},
   "outputs": [],
   "source": [
    "import bact_analysis.utils.preprocess\n",
    "import bact_analysis_bessyii.bba.preprocess_data\n",
    "\n",
    "import bact_archiver_bessyii\n",
    "from bact_math_utils import linear_fit"
   ]
  },
  {
   "cell_type": "code",
   "execution_count": null,
   "id": "4bb90b4a",
   "metadata": {},
   "outputs": [],
   "source": []
  },
  {
   "cell_type": "markdown",
   "id": "5167ffc6",
   "metadata": {},
   "source": [
    "# Tune advances: Model to measurement comparison"
   ]
  },
  {
   "cell_type": "markdown",
   "id": "c1014b12",
   "metadata": {},
   "source": [
    "## Model data"
   ]
  },
  {
   "cell_type": "markdown",
   "id": "70247231",
   "metadata": {},
   "source": [
    "Model data to be loaded from the database \n",
    "It would be sufficient to load the lattice information ... quadrupole response matrix calculation only needs half a minute (without parallalisation)"
   ]
  },
  {
   "cell_type": "code",
   "execution_count": null,
   "id": "027b65f8",
   "metadata": {},
   "outputs": [],
   "source": [
    "path = pathlib.Path(\"/home/mfp/Devel/github/tslib-dev\")\n",
    "t_dir = path / \"python\" / \"examples\" / \"use_cases\""
   ]
  },
  {
   "cell_type": "code",
   "execution_count": null,
   "id": "6557e840",
   "metadata": {},
   "outputs": [],
   "source": [
    "os.listdir(t_dir)"
   ]
  },
  {
   "cell_type": "markdown",
   "id": "f7541c27",
   "metadata": {},
   "source": [
    "Quadrupole model with dependence data"
   ]
  },
  {
   "cell_type": "code",
   "execution_count": null,
   "id": "7bddfa74",
   "metadata": {},
   "outputs": [],
   "source": [
    "model_data = xr.open_dataset( t_dir / 'quadrupole_response_matrix2.nc')\n",
    "model_data"
   ]
  },
  {
   "cell_type": "markdown",
   "id": "d2a2c0e7",
   "metadata": {},
   "source": [
    "### Inspection of model data"
   ]
  },
  {
   "cell_type": "code",
   "execution_count": null,
   "id": "1f71e27a",
   "metadata": {},
   "outputs": [],
   "source": [
    "q1s = [quad for quad in model_data.quadrupole.values if quad[:2] == \"q1\"]\n",
    "q1s.sort()\n",
    "q1s\n",
    "q2s = [quad for quad in model_data.quadrupole.values if quad[:2] == \"q1\"]\n",
    "q2s.sort()\n",
    "q1s, q2s;"
   ]
  },
  {
   "cell_type": "code",
   "execution_count": null,
   "id": "b0ff00c3",
   "metadata": {},
   "outputs": [],
   "source": [
    "fig, axes = plt.subplots(2,1)\n",
    "ax_x, ax_y = axes\n",
    "ax_x.plot(\n",
    "    model_data.phase_advance.sel(dep=\"K\", quadrupole=q1s, plane=\"x\"), '-'\n",
    ")\n",
    "ax_y.plot(\n",
    "    model_data.phase_advance.sel(dep=\"K\", quadrupole=q1s, plane=\"y\"), '-'\n",
    ")\n"
   ]
  },
  {
   "cell_type": "markdown",
   "id": "281d1a6a",
   "metadata": {},
   "source": [
    "## Measurement data"
   ]
  },
  {
   "cell_type": "markdown",
   "id": "64b75143",
   "metadata": {},
   "source": [
    "Measurement from 3rd of April"
   ]
  },
  {
   "cell_type": "code",
   "execution_count": null,
   "id": "3778b4ba",
   "metadata": {},
   "outputs": [],
   "source": [
    "uid = '260198d3-835d-42ad-a668-c66ad10cb34a'"
   ]
  },
  {
   "cell_type": "code",
   "execution_count": null,
   "id": "3453218b",
   "metadata": {},
   "outputs": [],
   "source": [
    "db = catalog['heavy']"
   ]
  },
  {
   "cell_type": "code",
   "execution_count": null,
   "id": "734a156a",
   "metadata": {},
   "outputs": [],
   "source": [
    "run = db[uid]\n",
    "run;"
   ]
  },
  {
   "cell_type": "code",
   "execution_count": null,
   "id": "57c187d7",
   "metadata": {},
   "outputs": [],
   "source": [
    "start = datetime.datetime.now()\n",
    "data = run.primary.to_dask()\n",
    "end = datetime.datetime.now()\n",
    "dt = end - start\n",
    "dt"
   ]
  },
  {
   "cell_type": "markdown",
   "id": "72dc53d9",
   "metadata": {},
   "source": [
    "Load required data"
   ]
  },
  {
   "cell_type": "code",
   "execution_count": null,
   "id": "410e7d59",
   "metadata": {},
   "outputs": [],
   "source": [
    "data.dt_mux_power_converter_setpoint.load()\n",
    "data.dt_mux_selector_selected.load()\n",
    "data.dt_mr_tune_fb_vert_readback.load()\n",
    "data.dt_mr_tune_fb_hor_readback.load()"
   ]
  },
  {
   "cell_type": "markdown",
   "id": "b44b6112",
   "metadata": {},
   "source": [
    "### preparing measurement data"
   ]
  },
  {
   "cell_type": "code",
   "execution_count": null,
   "id": "d6dd4e43",
   "metadata": {},
   "outputs": [],
   "source": [
    "preprocessed_, dt_configuration = bact_analysis_bessyii.bba.preprocess_data.load_and_check_data(run)"
   ]
  },
  {
   "cell_type": "markdown",
   "id": "d2f51cc0",
   "metadata": {},
   "source": [
    "First of repetition not that save ... "
   ]
  },
  {
   "cell_type": "code",
   "execution_count": null,
   "id": "fe19df24",
   "metadata": {},
   "outputs": [],
   "source": [
    "idx = preprocessed_.dt_cs_setpoint >= 1\n",
    "preprocessed = preprocessed_.isel(time=idx)"
   ]
  },
  {
   "cell_type": "code",
   "execution_count": null,
   "id": "d1a8e88e",
   "metadata": {},
   "outputs": [],
   "source": [
    "rearranged = xr.concat(\n",
    "    bact_analysis.utils.preprocess.reorder_by_groups(\n",
    "        preprocessed,\n",
    "        preprocessed.groupby(preprocessed.dt_mux_selector_selected),\n",
    "        reordered_dim=\"name\",\n",
    "        dim_sel=\"time\",\n",
    "        new_indices_dim=\"step\",\n",
    "    ),\n",
    "    dim=\"name\",\n",
    ")\n",
    "rearranged"
   ]
  },
  {
   "cell_type": "markdown",
   "id": "b65aba9e",
   "metadata": {},
   "source": [
    "## Comparison for one magnet"
   ]
  },
  {
   "cell_type": "markdown",
   "id": "81b8039b",
   "metadata": {},
   "source": [
    "| Magnet family | Length | \n",
    "|---------------|--------|\n",
    "| Q1            |  0.25  |\n",
    "| Q2D           |  0.2   |\n",
    "| Q2T           |  0.2\t |\n",
    "| Q3D           |  0.25\t |\n",
    "| Q3T           |  0.25\t |\n",
    "| Q4D           |  0.5\t |\n",
    "| Q4T           |  0.5\t |\n",
    "| Q5T           |  0.2   |\n"
   ]
  },
  {
   "cell_type": "code",
   "execution_count": null,
   "id": "2f8c9a4d",
   "metadata": {},
   "outputs": [],
   "source": [
    "magnet_name =  \"Q1M1D1R\"\n",
    "magnet_length = 0.25"
   ]
  },
  {
   "cell_type": "code",
   "execution_count": null,
   "id": "2dfd0b5c",
   "metadata": {},
   "outputs": [],
   "source": [
    "magnet_name =  \"Q2M2T1R\"\n",
    "magnet_length = 0.2"
   ]
  },
  {
   "cell_type": "code",
   "execution_count": null,
   "id": "08093418",
   "metadata": {},
   "outputs": [],
   "source": [
    "magnet_name =  \"Q3M1D5R\"\n",
    "magnet_length = 0.25"
   ]
  },
  {
   "cell_type": "code",
   "execution_count": null,
   "id": "6b64ae9b",
   "metadata": {},
   "outputs": [],
   "source": [
    "magnet_name =  \"Q4M2T2R\"\n",
    "magnet_length = 0.5"
   ]
  },
  {
   "cell_type": "code",
   "execution_count": null,
   "id": "e00937f6",
   "metadata": {},
   "outputs": [],
   "source": [
    "magnet_name_lc = magnet_name.lower()\n",
    "magnet_name, magnet_name_lc, magnet_length"
   ]
  },
  {
   "cell_type": "code",
   "execution_count": null,
   "id": "08e102af",
   "metadata": {},
   "outputs": [],
   "source": [
    "sel_meas = rearranged.sel(name=magnet_name)\n",
    "sel_meas;"
   ]
  },
  {
   "cell_type": "code",
   "execution_count": null,
   "id": "c613319d",
   "metadata": {},
   "outputs": [],
   "source": [
    "sel_model = model_data.sel(quadrupole=magnet_name_lc)\n",
    "sel_model"
   ]
  },
  {
   "cell_type": "code",
   "execution_count": null,
   "id": "3a60d49b",
   "metadata": {},
   "outputs": [],
   "source": [
    "measurement_time_stamps = data.time.isel(time=data.dt_mux_selector_selected == magnet_name)\n",
    "t0, t1 =  [datetime.datetime.fromtimestamp(t)  for t in (measurement_time_stamps.values.min(), measurement_time_stamps.values.max())]\n",
    "t0, t1"
   ]
  },
  {
   "cell_type": "code",
   "execution_count": null,
   "id": "2a83e3ee",
   "metadata": {},
   "outputs": [],
   "source": [
    "main_rf_frequency = bact_archiver_bessyii.BESSY.getData(\"MCLKHX251C:freq\", t0=t0, t1=t1).values.mean()\n",
    "n_bunches = 400\n",
    "rv_f = main_rf_frequency / n_bunches\n",
    "main_rf_frequency, rv_f"
   ]
  },
  {
   "cell_type": "code",
   "execution_count": null,
   "id": "595df4a6",
   "metadata": {},
   "outputs": [],
   "source": [
    "def fractional_tune(tune_f, rv_f=rv_f):\n",
    "    return tune_f / rv_f"
   ]
  },
  {
   "cell_type": "code",
   "execution_count": null,
   "id": "32bc70e6",
   "metadata": {},
   "outputs": [],
   "source": [
    "mu0 = 4 * np.pi * 1e-7\n",
    "\n",
    "def calculate_gradient(*, r, N, I):\n",
    "    G = 2 * mu0 * (N * I) / r**2\n",
    "    return G\n"
   ]
  },
  {
   "cell_type": "markdown",
   "id": "8fa3fb97",
   "metadata": {},
   "source": [
    "BESSY II's $B \\cdot \\rho$ according to Peter's hand note"
   ]
  },
  {
   "cell_type": "code",
   "execution_count": null,
   "id": "513e2ca8",
   "metadata": {},
   "outputs": [],
   "source": [
    "# BESSY II's \n",
    "Brho = 5.67044"
   ]
  },
  {
   "cell_type": "code",
   "execution_count": null,
   "id": "938eb30b",
   "metadata": {},
   "outputs": [],
   "source": [
    "def dI2dK(I, *, magnet_length=1.0):\n",
    "    \"\"\"convert current change to dK change\n",
    "    \"\"\"\n",
    "    # BESSY II pole radius \n",
    "    r = 35e-3\n",
    "    # muxer windings on quadrupoles\n",
    "    N = 75\n",
    "    # central gradient\n",
    "    G = calculate_gradient(r=r, N=N, I=I)\n",
    "    # central Kc\n",
    "    Kc = G / Brho\n",
    "    K = Kc * magnet_length\n",
    "    return K\n",
    "\n",
    "dI2dK(1, magnet_length=.5)"
   ]
  },
  {
   "cell_type": "code",
   "execution_count": null,
   "id": "656c2387",
   "metadata": {},
   "outputs": [],
   "source": [
    "# select and prepare measurement data \n",
    "current = sel_meas.dt_mux_power_converter_setpoint\n",
    "tune_khz =   sel_meas.dt_mr_tune_fb_hor_readback\n",
    "tune = fractional_tune(tune_khz)\n",
    "dtune_x = tune - tune.isel(step=np.absolute(current)<0.1).mean()\n",
    "tune_model_dep = sel_model.phase_advance.sel(dep=\"K\", plane=\"x\")\n",
    "tune_model_x = dI2dK(current) * tune_model_dep\n",
    "\n",
    "# model data ... \n",
    "tune_khz = sel_meas.dt_mr_tune_fb_vert_readback\n",
    "tune = fractional_tune(tune_khz)\n",
    "dtune_y = tune - tune.isel(step=np.absolute(current)<0.1).mean()\n",
    "tune_model_dep = sel_model.phase_advance.sel(dep=\"K\", plane=\"y\")\n",
    "tune_model_y = dI2dK(current) * tune_model_dep\n",
    "\n",
    "# why this cooking factor?\n",
    "scale = 1.0\n",
    "\n",
    "fig, axes = plt.subplots(2,1)\n",
    "ax_x, ax_y = axes\n",
    "\n",
    "ax_x.plot(current, dtune_x * scale, 'x', label='measurement')\n",
    "ax_x.plot(current, tune_model_x, '-', label='model')\n",
    "ax_x.set_xlabel(\"I [A]\")\n",
    "ax_x.set_ylabel(r\"$\\nu_x$ [rel]\")\n",
    "ax_x.legend()\n",
    "\n",
    "\n",
    "ax_y.plot(current, dtune_y * scale * -1, 'x', label='measurement')\n",
    "ax_y.plot(current, tune_model_y, '-', label='model')\n",
    "ax_y.set_xlabel(\"I [A]\")\n",
    "ax_y.set_ylabel(r\"$\\nu_y$ [rel]\")\n",
    "ax_y.legend()"
   ]
  },
  {
   "cell_type": "code",
   "execution_count": null,
   "id": "1b48c91e",
   "metadata": {},
   "outputs": [],
   "source": [
    "tune_model_y;"
   ]
  },
  {
   "cell_type": "code",
   "execution_count": null,
   "id": "cec58522",
   "metadata": {},
   "outputs": [],
   "source": [
    "dtune_y;"
   ]
  },
  {
   "cell_type": "code",
   "execution_count": null,
   "id": "d420fb28",
   "metadata": {},
   "outputs": [],
   "source": [
    "(dtune_y / tune_model_y)"
   ]
  },
  {
   "cell_type": "code",
   "execution_count": null,
   "id": "09dc9d1b",
   "metadata": {},
   "outputs": [],
   "source": [
    "(dtune_x / tune_model_x)"
   ]
  },
  {
   "cell_type": "markdown",
   "id": "a881bbc4",
   "metadata": {},
   "source": [
    "## All magnets"
   ]
  },
  {
   "cell_type": "markdown",
   "id": "d97d9da4",
   "metadata": {},
   "source": [
    "Model provides the derivative \n",
    "\n",
    "$$\n",
    "    \\delta Q = \\frac{\\partial Q}{\\partial K}\n",
    "$$   \n",
    "\n",
    "with \n",
    "\n",
    "$$\n",
    "    K = \\frac{G}{B \\rho}\n",
    "$$\n",
    "\n",
    "\n",
    "The quadrupole gradient $G$ is given in $T/m$ and $B\\rho$ in $Tm$, Thus the dimension of $K$ is $1/m^2$\n",
    "\n",
    "The dimension of $\\delta Q$ is thus $m^2$ as $Q$ is dimensionless"
   ]
  },
  {
   "cell_type": "code",
   "execution_count": null,
   "id": "ff7b5920",
   "metadata": {},
   "outputs": [],
   "source": [
    "def calculate_fractional_tune_change(tune_khz, indices_for_ref_tune):\n",
    "    \"\"\"Calculate factional tune change\n",
    "    \n",
    "    Indices are selected to determine refernce tune\n",
    "    \"\"\"\n",
    "    tune = fractional_tune(tune_khz)\n",
    "    dtune = tune - tune.isel(step=indices_for_ref_tune).mean()\n",
    "    return dtune\n",
    "\n",
    "def calculate_tune_slope(dK, tune_khz, indices_for_ref_tune):\n",
    "    \"\"\"Caclulates fractional tune derivative depending on central K strength \n",
    "    \"\"\"\n",
    "    dtune = calculate_fractional_tune_change(tune_khz, indices_for_ref_tune)\n",
    "    slope, intercept =  linear_fit.linear_fit_1d(dK, dtune)\n",
    "    \n",
    "    try:\n",
    "        # intercept\n",
    "        # not far off from middle \n",
    "        assert np.absolute(intercept[0]) < 2e-2\n",
    "        # not too large error\n",
    "        assert np.absolute(intercept[1]) < 2e-3\n",
    "                       \n",
    "        # not too large slope error should be all pretty linear\n",
    "        assert np.absolute(slope[1]) < 2e-3\n",
    "        \n",
    "    except:\n",
    "        logger.error(f\"Check on fit failed {slope=} {intercept=}\")\n",
    "        raise \n",
    "        \n",
    "    return slope[0]\n",
    "\n",
    "def calculate_tune_slopes(sel_meas, use_diagnostic_tune=False):\n",
    "    current = sel_meas.dt_mux_power_converter_setpoint\n",
    "                             \n",
    "    indices_for_ref_tune = np.absolute(current) < 0.1\n",
    "    # Delta K for the magnet strengh for rectangular approximation\n",
    "    # that's what the model provides ..\n",
    "    dK_c = dI2dK(current, magnet_length=1)\n",
    "\n",
    "    if use_diagnostic_tune:\n",
    "        # use diagnostic data\n",
    "        tune_khz_x = sel_meas.dt_mr_tune_fb_hor_readback\n",
    "        tune_khz_y = sel_meas.dt_mr_tune_fb_vert_readback\n",
    "    else:\n",
    "        # use bunch by bunch feedback data\n",
    "        tune_khz_x = sel_meas.dt_bbfb_tune_hor_readback_val\n",
    "        tune_khz_y = sel_meas.dt_bbfb_tune_vert_readback_val\n",
    "        \n",
    "    slope_x = calculate_tune_slope(dK_c, tune_khz_x, indices_for_ref_tune)\n",
    "    slope_y = calculate_tune_slope(dK_c, tune_khz_y, indices_for_ref_tune)\n",
    "    \n",
    "    return xr.DataArray(data=[slope_x, slope_y], dims=[\"plane\"], coords=[[\"x\", \"y\"]])\n",
    "    \n",
    "    \n",
    "# calculate_tune_slopes(sel_meas)"
   ]
  },
  {
   "cell_type": "markdown",
   "id": "59e3252a",
   "metadata": {},
   "source": [
    "Prepare it for all magnets"
   ]
  },
  {
   "cell_type": "code",
   "execution_count": null,
   "id": "b37eccf2",
   "metadata": {},
   "outputs": [],
   "source": [
    "tmp = {name: calculate_tune_slopes(rearranged.sel(name=name), use_diagnostic_tune=True) for name in rearranged.name.values}"
   ]
  },
  {
   "cell_type": "markdown",
   "id": "ffdd2b92",
   "metadata": {},
   "source": [
    "Sort it by family ... use magnet name convention for that "
   ]
  },
  {
   "cell_type": "code",
   "execution_count": null,
   "id": "eb13590d",
   "metadata": {},
   "outputs": [],
   "source": [
    "names = list(tmp.keys())\n",
    "names.sort()\n",
    "names;"
   ]
  },
  {
   "cell_type": "markdown",
   "id": "89c74e75",
   "metadata": {},
   "source": [
    "Measurement uses the names using upper case letters, model uses lower case letters"
   ]
  },
  {
   "cell_type": "code",
   "execution_count": null,
   "id": "d00a697d",
   "metadata": {},
   "outputs": [],
   "source": [
    "names_lc = [name.lower() for name in names]"
   ]
  },
  {
   "cell_type": "code",
   "execution_count": null,
   "id": "de1fe64b",
   "metadata": {},
   "outputs": [],
   "source": [
    "dtunes = xr.concat([tmp[name] for name in names], pd.Index(names, name=\"name\"))"
   ]
  },
  {
   "cell_type": "markdown",
   "id": "4955e2d3",
   "metadata": {},
   "source": [
    "Besides family 1 and 4 all magnet families are using positive sign"
   ]
  },
  {
   "cell_type": "code",
   "execution_count": null,
   "id": "f14a9a57",
   "metadata": {},
   "outputs": [],
   "source": [
    "polarities = xr.DataArray(data=np.ones(len(dtunes), dtype=int), dims=[\"name\"], coords=[dtunes.coords[\"name\"].values])\n",
    "q1s = np.array([name[:2] == \"Q1\" for name in dtunes.coords[\"name\"].values])\n",
    "polarities[q1s]= -1\n",
    "q4s = np.array([name[:2] == \"Q4\" for name in dtunes.coords[\"name\"].values])\n",
    "polarities[q4s]= -1\n",
    "polarities"
   ]
  },
  {
   "cell_type": "code",
   "execution_count": null,
   "id": "1d7f1b11",
   "metadata": {},
   "outputs": [],
   "source": [
    "ks_x = np.array([model_data.phase_advance.sel(plane=\"x\", dep=\"K\", quadrupole=name) for name in names_lc])\n",
    "ks_y = np.array([model_data.phase_advance.sel(plane=\"y\", dep=\"K\", quadrupole=name) for name in names_lc])"
   ]
  },
  {
   "cell_type": "code",
   "execution_count": null,
   "id": "f79b91ec",
   "metadata": {},
   "outputs": [],
   "source": [
    "fig, axes = plt.subplots(2,2, figsize=[16, 12], sharex=True)\n",
    "ax_x, ax_y = axes[0]\n",
    "ax_x.plot(names_lc, dtunes.sel(plane=\"x\"))\n",
    "ax_y.plot(names_lc, dtunes.sel(plane=\"y\"))\n",
    "ax_x, ax_y = axes[1]\n",
    "ax_x.plot(names_lc, - ks_x * polarities)\n",
    "# minus 1 for the convention\n",
    "ax_y.plot(names_lc, - ks_y * polarities * -1)"
   ]
  },
  {
   "cell_type": "code",
   "execution_count": null,
   "id": "14d0df07",
   "metadata": {},
   "outputs": [],
   "source": [
    "rx = dtunes.sel(plane=\"x\") / ks_x\n",
    "ry = dtunes.sel(plane=\"y\") / ks_y"
   ]
  },
  {
   "cell_type": "code",
   "execution_count": null,
   "id": "f85a2e2f",
   "metadata": {},
   "outputs": [],
   "source": [
    "fig, axes = plt.subplots(2,1, figsize=[16, 12], sharex=True)\n",
    "ax_x, ax_y = axes\n",
    "\n",
    "ax_x.clear()\n",
    "ax_y.clear()\n",
    "\n",
    "ax_x.plot(names_lc, rx * polarities)\n",
    "# The -1 for the convention\n",
    "ax_y.plot(names_lc, ry * -1 * polarities)\n",
    "\n",
    "ax_x.set_ylabel(r\"$\\Delta\\nu_{meas} / \\Delta\\nu_{mod}$\")\n",
    "ax_y.set_ylabel(r\"$\\Delta\\nu_{meas} / \\Delta\\nu_{mod}$\")\n",
    "[tick.set_rotation('vertical') for tick in ax_x.get_xmajorticklabels() + ax_y.get_xmajorticklabels()]\n",
    "\n",
    "plt.xticks(fontsize='x-small');\n",
    "plt.savefig(f\"bba_tune_advance_ratio_model_measurement.pdf\")"
   ]
  },
  {
   "cell_type": "markdown",
   "id": "f4f6f90c",
   "metadata": {},
   "source": [
    "Check if the uncertainty of the gradient explains the observed difference \n",
    "\n",
    "Not really"
   ]
  },
  {
   "cell_type": "code",
   "execution_count": null,
   "id": "89116ad1",
   "metadata": {},
   "outputs": [],
   "source": [
    "fig, ax = plt.subplots(1,1, figsize=[16, 12], sharex=True)\n",
    "ax.plot(names_lc, rx /ry*-1)\n",
    "\n",
    "[tick.set_rotation('vertical') for tick in ax.get_xmajorticklabels()]\n",
    "\n",
    "plt.xticks(fontsize='x-small');"
   ]
  },
  {
   "cell_type": "code",
   "execution_count": null,
   "id": "3424ab44",
   "metadata": {},
   "outputs": [],
   "source": []
  }
 ],
 "metadata": {
  "kernelspec": {
   "display_name": "Python 3 (ipykernel)",
   "language": "python",
   "name": "python3"
  },
  "language_info": {
   "codemirror_mode": {
    "name": "ipython",
    "version": 3
   },
   "file_extension": ".py",
   "mimetype": "text/x-python",
   "name": "python",
   "nbconvert_exporter": "python",
   "pygments_lexer": "ipython3",
   "version": "3.10.6"
  }
 },
 "nbformat": 4,
 "nbformat_minor": 5
}
