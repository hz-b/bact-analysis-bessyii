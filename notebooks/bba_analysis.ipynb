{
 "cells": [
  {
   "cell_type": "code",
   "execution_count": null,
   "id": "158affbc-f0cd-49e8-826d-20e7dcc412d2",
   "metadata": {},
   "outputs": [],
   "source": [
    "from IPython.display import display, Markdown, HTML\n",
    "display(HTML(\"<style>.container { width:90% !important; }</style>\"))"
   ]
  },
  {
   "cell_type": "code",
   "execution_count": null,
   "id": "e7cef429-98f3-4109-a512-afb7b40a4940",
   "metadata": {},
   "outputs": [],
   "source": [
    "import datetime\n",
    "import tqdm\n",
    "import importlib"
   ]
  },
  {
   "cell_type": "code",
   "execution_count": null,
   "id": "5b0ba1de-3f83-4bbe-aec4-08df410ac0ed",
   "metadata": {},
   "outputs": [],
   "source": [
    "import xarray as xr\n",
    "import numpy as np\n",
    "#%matplotlib notebook\n",
    "#%matplotlib notebook\n",
    "%matplotlib inline\n",
    "import matplotlib.pyplot as plt"
   ]
  },
  {
   "cell_type": "code",
   "execution_count": null,
   "id": "8bf852fa-e2a5-4379-8136-58fd54283197",
   "metadata": {},
   "outputs": [],
   "source": [
    "from databroker import catalog"
   ]
  },
  {
   "cell_type": "code",
   "execution_count": null,
   "id": "597bbff9-d9ee-449c-ac98-6fdebe1f3873",
   "metadata": {},
   "outputs": [],
   "source": [
    "import bact_analysis\n",
    "import bact_analysis.bba.calc\n",
    "import bact_analysis.transverse.calc\n",
    "import bact_analysis.transverse.distorted_orbit\n",
    "import bact_analysis.transverse.process\n",
    "import bact_analysis.transverse.twiss_interpolate\n",
    "import bact_analysis.utils.preprocess\n",
    "import bact_analysis_bessyii.bba.preprocess_data\n",
    "import bact_analysis_bessyii.bba.calc"
   ]
  },
  {
   "cell_type": "markdown",
   "id": "992510b8-d913-4ff5-a0a5-cb3657bf8489",
   "metadata": {},
   "source": [
    "# BBA Analysis\n",
    "\n",
    "This notebook should be the center for selecting the required data and presenting the results.\n",
    "All computation or data rearangement shall be performed in libraries"
   ]
  },
  {
   "cell_type": "code",
   "execution_count": null,
   "id": "f5990203-9e7a-4206-b835-7a7a1972d25b",
   "metadata": {},
   "outputs": [],
   "source": [
    "datetime.datetime.now().strftime('%Y %m %d %H:%M')"
   ]
  },
  {
   "cell_type": "markdown",
   "id": "63b2f1bc-19c1-4001-8c19-80a4e1919a7d",
   "metadata": {},
   "source": [
    "## Data selection, check and load"
   ]
  },
  {
   "cell_type": "code",
   "execution_count": null,
   "id": "98606440-489b-4c63-b1b9-9a6a5dbda224",
   "metadata": {},
   "outputs": [],
   "source": [
    "catalog_name = 'heavy'"
   ]
  },
  {
   "cell_type": "code",
   "execution_count": null,
   "id": "d4e5847c-87f7-4c0d-8bc2-a02350a1386d",
   "metadata": {},
   "outputs": [],
   "source": [
    "db = catalog[catalog_name]"
   ]
  },
  {
   "cell_type": "markdown",
   "id": "c8e2cc8c-0e01-45be-98b5-ecd1631962db",
   "metadata": {},
   "source": [
    "For measurement elog entry see http://elog-v2.trs.bessy.de:8080/Machine+Devel.,+Comm./1788"
   ]
  },
  {
   "cell_type": "code",
   "execution_count": null,
   "id": "6bc03316-d190-4389-ade5-63ac4fee3c2e",
   "metadata": {},
   "outputs": [],
   "source": [
    "# uid = '24ff319d-b260-46e6-8356-0dfb08638fb1'\n",
    "uid = '24ff319d-b260-46e6-8356-0dfb08638fb1'\n",
    "uid = 'c6c3ad04-7c4c-4a6d-a7e8-91602cfea726'\n",
    "uid = 'eb89753c-5388-4ebb-a992-fc25b478acd8'"
   ]
  },
  {
   "cell_type": "markdown",
   "id": "e816577a-8775-4b4c-a67e-41803de21089",
   "metadata": {},
   "source": [
    "For measurement see elog entry http://elog-v2.trs.bessy.de:8080/Machine+Devel.,+Comm./1971"
   ]
  },
  {
   "cell_type": "code",
   "execution_count": null,
   "id": "61f1df00-cb4a-4eaf-9af7-77ab9a5abf91",
   "metadata": {},
   "outputs": [],
   "source": [
    "uid = 'b226943c-1941-46ce-bc35-0530ea6e276c'\n",
    "uid = 'e0aef7b8-f57e-4594-9618-70d01aaa65a7'\n",
    "uid = 'e60215ff-62ea-4d3b-a968-f6b0d9d9ee9d'\n",
    "uid = 'fa22af2e-0398-41eb-94b9-e9b957ba4f31'"
   ]
  },
  {
   "cell_type": "code",
   "execution_count": null,
   "id": "a0f6a346-12e0-466f-86e4-690be437f39c",
   "metadata": {},
   "outputs": [],
   "source": [
    "list(db.keys());"
   ]
  },
  {
   "cell_type": "code",
   "execution_count": null,
   "id": "5a2266cc-fdae-414e-b918-15a0407db7f1",
   "metadata": {},
   "outputs": [],
   "source": [
    "run = db[uid]"
   ]
  },
  {
   "cell_type": "markdown",
   "id": "75c55417-fc39-4703-a91a-55c61c46fb6a",
   "metadata": {},
   "source": [
    "### loading data"
   ]
  },
  {
   "cell_type": "code",
   "execution_count": null,
   "id": "c78b6517",
   "metadata": {},
   "outputs": [],
   "source": [
    "preprocessed_, dt_configuration = bact_analysis_bessyii.bba.preprocess_data.load_and_check_data(run)"
   ]
  },
  {
   "cell_type": "code",
   "execution_count": null,
   "id": "34ed995b",
   "metadata": {},
   "outputs": [],
   "source": [
    "preprocessed_.dt_bpm_waveform_x_rms"
   ]
  },
  {
   "cell_type": "markdown",
   "id": "1ce7b106-afdf-4ac1-a7ed-26ee3402a42b",
   "metadata": {},
   "source": [
    "### load lattice model"
   ]
  },
  {
   "cell_type": "code",
   "execution_count": null,
   "id": "5788f024-003b-475a-bf72-00ecc88a592b",
   "metadata": {},
   "outputs": [],
   "source": [
    "selected_model_ = xr.load_dataset('bessyii_twiss_thor_scsi.nc')\n",
    "selected_model_"
   ]
  },
  {
   "cell_type": "markdown",
   "id": "a4c2d4d5-4788-42e3-b15a-148c0a7bce96",
   "metadata": {},
   "source": [
    "### Checking consistency between lattice model and digital twin ... for the required elements"
   ]
  },
  {
   "cell_type": "markdown",
   "id": "c81bd720-51bf-4e91-997d-4e06fe271730",
   "metadata": {},
   "source": [
    "Check that all bpm's are in the lattice"
   ]
  },
  {
   "cell_type": "code",
   "execution_count": null,
   "id": "484a8988",
   "metadata": {},
   "outputs": [],
   "source": [
    "bpm_names = preprocessed_.coords[\"bpm\"]\n",
    "bpm_names_lc = [name.lower() for name in bpm_names.values]"
   ]
  },
  {
   "cell_type": "code",
   "execution_count": null,
   "id": "d4d82c36",
   "metadata": {},
   "outputs": [],
   "source": [
    "bpm_names_check = set(bpm_names_lc)"
   ]
  },
  {
   "cell_type": "code",
   "execution_count": null,
   "id": "705c55e9-9e61-4641-885d-77595395948d",
   "metadata": {},
   "outputs": [],
   "source": [
    "bpm_names_check.difference(selected_model_.coords[\"pos\"].values)"
   ]
  },
  {
   "cell_type": "markdown",
   "id": "9903f49a",
   "metadata": {},
   "source": [
    "Remove first reading ... bpm data not garanteed to be correct"
   ]
  },
  {
   "cell_type": "code",
   "execution_count": null,
   "id": "c740a0da",
   "metadata": {},
   "outputs": [],
   "source": [
    "idx = preprocessed_.dt_cs_setpoint >= 1#\n",
    "preprocessed = preprocessed_.isel(time=idx)"
   ]
  },
  {
   "cell_type": "code",
   "execution_count": null,
   "id": "29cef762",
   "metadata": {},
   "outputs": [],
   "source": [
    "preprocessed.dt_cs_setpoint.min();"
   ]
  },
  {
   "cell_type": "markdown",
   "id": "2474fc37-c92e-4ccd-8596-17866c16ea63",
   "metadata": {},
   "source": [
    "### Make data selectable per magnet"
   ]
  },
  {
   "cell_type": "code",
   "execution_count": null,
   "id": "ba5dc410-0deb-404f-b23a-dca50b105e84",
   "metadata": {},
   "outputs": [],
   "source": [
    "importlib.reload(bact_analysis.utils.preprocess)\n",
    "importlib.reload(bact_analysis.transverse.calc)\n",
    "importlib.reload(bact_analysis_bessyii.bba.preprocess_data)"
   ]
  },
  {
   "cell_type": "code",
   "execution_count": null,
   "id": "f32b57a9-a04f-484e-b3fe-13cceb3f989b",
   "metadata": {},
   "outputs": [],
   "source": [
    "rearranged = xr.concat(\n",
    "    bact_analysis.utils.preprocess.reorder_by_groups(\n",
    "        preprocessed,\n",
    "        preprocessed.groupby(preprocessed.dt_mux_selector_selected),\n",
    "        reordered_dim=\"name\",\n",
    "        dim_sel=\"time\",\n",
    "        new_indices_dim=\"step\",\n",
    "    ),\n",
    "    dim=\"name\",\n",
    ")"
   ]
  },
  {
   "cell_type": "code",
   "execution_count": null,
   "id": "bd699a50-a2ba-4f64-ab66-67c7709abb55",
   "metadata": {},
   "outputs": [],
   "source": [
    "rearranged;"
   ]
  },
  {
   "cell_type": "code",
   "execution_count": null,
   "id": "869160b7-b16b-4929-afab-caea0bedbec4",
   "metadata": {},
   "outputs": [],
   "source": [
    "measurement_vars = dict(\n",
    "    dt_bpm_waveform_x_pos=\"x_pos\",\n",
    "    dt_bpm_waveform_y_pos=\"y_pos\",\n",
    "    dt_bpm_waveform_x_rms=\"x_rms\",\n",
    "    dt_bpm_waveform_y_rms=\"y_rms\",\n",
    "    dt_mux_power_converter_setpoint=\"excitation\",\n",
    ")\n",
    "redm4proc = (\n",
    "    rearranged[list(measurement_vars.keys())]\n",
    "    .rename_vars(**measurement_vars)\n",
    "    .sel(bpm=bpm_names)\n",
    "    .rename_dims(bpm=\"pos\")\n",
    "    .assign_coords(pos=bpm_names_lc)\n",
    "    .reset_coords(drop=True)\n",
    ")\n",
    "# BPM Data are in mm\n",
    "m2mm = 1./1000.\n",
    "redm4proc['x_pos'] =  redm4proc.x_pos * m2mm\n",
    "redm4proc['y_pos'] =  redm4proc.y_pos * m2mm\n",
    "redm4proc['x_rms'] =  redm4proc.x_rms * m2mm\n",
    "redm4proc['y_rms'] =  redm4proc.y_rms * m2mm"
   ]
  },
  {
   "cell_type": "code",
   "execution_count": null,
   "id": "e41791f2",
   "metadata": {},
   "outputs": [],
   "source": [
    "redm4proc"
   ]
  },
  {
   "cell_type": "markdown",
   "id": "2ef4a685-cb53-4364-9585-37c983dfa506",
   "metadata": {},
   "source": [
    "## Processing data"
   ]
  },
  {
   "cell_type": "markdown",
   "id": "b7120695-73fa-4482-bef4-cd54be52a8bd",
   "metadata": {},
   "source": [
    "### Using model information"
   ]
  },
  {
   "cell_type": "markdown",
   "id": "8cbf8c00-f308-4471-834f-b6cab5377e61",
   "metadata": {},
   "source": [
    "This model information is obtained here from the model produced by the digital shadow. \n",
    "\n",
    "Should be replaced by a standard lattice from database"
   ]
  },
  {
   "cell_type": "code",
   "execution_count": null,
   "id": "34751f36",
   "metadata": {},
   "outputs": [],
   "source": [
    "redm4proc.name;"
   ]
  },
  {
   "cell_type": "markdown",
   "id": "031082c8",
   "metadata": {},
   "source": [
    "Beam dynamics codes use name labels typically for the start or the end of a model. Tracy uses it for the start. The interpretation here needs it for the middle."
   ]
  },
  {
   "cell_type": "code",
   "execution_count": null,
   "id": "3402b46b",
   "metadata": {},
   "outputs": [],
   "source": [
    "ds = selected_model_.ds.values\n",
    "assert( ((ds[1:] - ds[:-1]) >= 0 ).all() )"
   ]
  },
  {
   "cell_type": "code",
   "execution_count": null,
   "id": "81c4ab32",
   "metadata": {},
   "outputs": [],
   "source": [
    "quad_twiss_ = bact_analysis.transverse.twiss_interpolate.interpolate_twiss(\n",
    "    selected_model_, names=[name.lower() for name in redm4proc.name.values]\n",
    ")\n",
    "quad_twiss = quad_twiss_.rename_dims(name='pos').assign_coords(pos=quad_twiss_.coords['name'].values).reset_coords(drop=True)\n",
    "del quad_twiss_\n",
    "quad_twiss"
   ]
  },
  {
   "cell_type": "code",
   "execution_count": null,
   "id": "9c9c7c8f",
   "metadata": {},
   "outputs": [],
   "source": [
    "selected_model_"
   ]
  },
  {
   "cell_type": "markdown",
   "id": "f43c5bf3",
   "metadata": {},
   "source": [
    "Replace these values with the values found before .... "
   ]
  },
  {
   "cell_type": "code",
   "execution_count": null,
   "id": "c6219083",
   "metadata": {},
   "outputs": [],
   "source": [
    "importlib.reload(bact_analysis.utils.preprocess)"
   ]
  },
  {
   "cell_type": "code",
   "execution_count": null,
   "id": "36cefb7d",
   "metadata": {},
   "outputs": [],
   "source": [
    "n_index = bact_analysis.utils.preprocess.replace_names(list(selected_model_.coords['pos'].values), {name: name + '_s' for name in quad_twiss.coords['pos'].values})\n",
    "selected_model = xr.concat([selected_model_.assign_coords(pos=n_index), quad_twiss], dim='pos').sortby('ds')\n",
    "selected_model"
   ]
  },
  {
   "cell_type": "markdown",
   "id": "878f23bb",
   "metadata": {},
   "source": [
    "### Check if tune advance matches applied current changes"
   ]
  },
  {
   "cell_type": "markdown",
   "id": "d2ba1338",
   "metadata": {},
   "source": [
    "$$\n",
    "    \\Delta Q = \\frac{1}{4 \\pi} \\int_{s_0}^{s_0 + l} \\Delta k \\beta(s) d(s) \n",
    "$$\n",
    "\n",
    "Measured tune change is \n",
    "\n",
    "$$\n",
    "    \\Delta Q_m = \\frac{\\Delta T}{f_m \\cdot n_b}\n",
    "$$\n",
    "\n",
    "with $\\Delta T$ the measured tune, $f_m$ the main RF frequency and $n_b$ the number of bunches"
   ]
  },
  {
   "cell_type": "code",
   "execution_count": null,
   "id": "7a1b878f",
   "metadata": {},
   "outputs": [],
   "source": [
    "quad_name = 'Q4M2D1R'"
   ]
  },
  {
   "cell_type": "code",
   "execution_count": null,
   "id": "09fa6a9c",
   "metadata": {},
   "outputs": [],
   "source": [
    "for_mag = rearranged.sel(name=quad_name)"
   ]
  },
  {
   "cell_type": "code",
   "execution_count": null,
   "id": "d7d322de",
   "metadata": {},
   "outputs": [],
   "source": [
    "quad_twiss_sel = quad_twiss.sel(pos=quad_name.lower())"
   ]
  },
  {
   "cell_type": "code",
   "execution_count": null,
   "id": "3d50db5e",
   "metadata": {},
   "outputs": [],
   "source": [
    "tune_x = for_mag.dt_mr_tune_fb_hor_readback\n",
    "tune_y = for_mag.dt_mr_tune_fb_vert_readback"
   ]
  },
  {
   "cell_type": "code",
   "execution_count": null,
   "id": "3bd2d7e6",
   "metadata": {},
   "outputs": [],
   "source": [
    "500e6/400 * 0.04 / 1e3"
   ]
  },
  {
   "cell_type": "code",
   "execution_count": null,
   "id": "f5cc43a8",
   "metadata": {},
   "outputs": [],
   "source": [
    "data = bact_analysis_bessyii.bba.calc.load_calib_data()\n",
    "data.sel(name=quad_name)"
   ]
  },
  {
   "cell_type": "code",
   "execution_count": null,
   "id": "cd0ba36f",
   "metadata": {},
   "outputs": [],
   "source": [
    "pos = selected_model_.coords.indexes['pos']\n",
    "idx = pos.get_loc(quad_name.lower())\n",
    "idx"
   ]
  },
  {
   "cell_type": "code",
   "execution_count": null,
   "id": "41bbb907",
   "metadata": {},
   "outputs": [],
   "source": [
    "quad_sel = selected_model_.isel(pos=[idx-1, idx, idx+1])\n",
    "quad_sel.ds - quad_sel.ds.isel(pos=0)"
   ]
  },
  {
   "cell_type": "code",
   "execution_count": null,
   "id": "586e1095",
   "metadata": {},
   "outputs": [],
   "source": [
    "t_sel = selected_model_.isel(pos=np.arange(-10, 10) + idx)\n",
    "t_sel\n",
    "idx = t_sel.coords.indexes['pos'].get_loc(quad_name.lower())\n",
    "quad_sel = t_sel.isel(pos=[idx-1, idx])\n",
    "t_sel"
   ]
  },
  {
   "cell_type": "code",
   "execution_count": null,
   "id": "4c6e365c",
   "metadata": {},
   "outputs": [],
   "source": [
    "t_sel.ds.values[1:] - t_sel.ds.values[:-1]"
   ]
  },
  {
   "cell_type": "code",
   "execution_count": null,
   "id": "c289580a",
   "metadata": {},
   "outputs": [],
   "source": [
    "quad_sel"
   ]
  },
  {
   "cell_type": "code",
   "execution_count": null,
   "id": "6e4ebccb",
   "metadata": {},
   "outputs": [],
   "source": [
    "quad_sel.ds - quad_sel.ds[0]"
   ]
  },
  {
   "cell_type": "code",
   "execution_count": null,
   "id": "42d3d8d2",
   "metadata": {},
   "outputs": [],
   "source": [
    "quad_twiss_sel.ds"
   ]
  },
  {
   "cell_type": "code",
   "execution_count": null,
   "id": "3139bcbf",
   "metadata": {},
   "outputs": [],
   "source": [
    "\n",
    "fig, ax = plt.subplots(1,1, )\n",
    "line, = ax.plot(t_sel.ds, t_sel.beta.sel(plane='x'), '.-')\n",
    "ax.plot(quad_sel.ds, quad_sel.beta.sel(plane='x'), 'x-', color=line.get_color(), linewidth=3)\n",
    "ax.plot(quad_twiss_sel.ds, quad_twiss_sel.beta.sel(plane='x'), '*', color=line.get_color())\n",
    "line, = ax.plot(t_sel.ds, t_sel.beta.sel(plane='y'), '.-')\n",
    "ax.plot(quad_sel.ds, quad_sel.beta.sel(plane='y'), 'x-', color=line.get_color(), linewidth=3)\n",
    "ax.plot(quad_twiss_sel.ds, quad_twiss_sel.beta.sel(plane='y'), '*', color=line.get_color())\n",
    "ax.set_xlabel(\"ds [m]\")\n",
    "ax.set_ylabel(r\"$\\beta_ {x,y}$  [m]\")"
   ]
  },
  {
   "cell_type": "code",
   "execution_count": null,
   "id": "80e8fa59",
   "metadata": {},
   "outputs": [],
   "source": [
    "def quad_data(name):\n",
    "    pos = selected_model.coords.indexes['pos']\n",
    "    idx = pos.get_loc(name)\n",
    "    assert(idx > 0)\n",
    "    quad = selected_model.isel(pos=[idx-1,idx])\n",
    "    return quad"
   ]
  },
  {
   "cell_type": "code",
   "execution_count": null,
   "id": "89b07aff",
   "metadata": {},
   "outputs": [],
   "source": [
    "dtune_y = tune_y -tune_y[0]\n",
    "dtune_x = tune_x -tune_x[0]\n",
    "dtune_x.max().values, dtune_y.max().values, (dtune_x.max() /  dtune_y.max()).values"
   ]
  },
  {
   "cell_type": "code",
   "execution_count": null,
   "id": "0ff17119",
   "metadata": {},
   "outputs": [],
   "source": [
    "fig, ax  = plt.subplots(1, 1)\n",
    "ax.plot(for_mag.coords['step'], dtune_x, 'b.-')\n",
    "ax.plot(for_mag.coords['step'], dtune_y * -1, 'g.-')"
   ]
  },
  {
   "cell_type": "code",
   "execution_count": null,
   "id": "25d3e243",
   "metadata": {},
   "outputs": [],
   "source": [
    "quad_sel.mean(dim=\"pos\")"
   ]
  },
  {
   "cell_type": "code",
   "execution_count": null,
   "id": "ee2bdb6b",
   "metadata": {},
   "outputs": [],
   "source": [
    "dtune_x_p = bact_analysis_bessyii.bba.calc.predict_tune_change(quad_name, 2, beta=quad_sel.beta.sel(plane='x').mean()) \n",
    "dtune_y_p = bact_analysis_bessyii.bba.calc.predict_tune_change(quad_name, 2, beta=quad_sel.beta.sel(plane='y').mean()) \n",
    "dtune_y_p, dtune_x_p,  dtune_x_p/ dtune_y_p"
   ]
  },
  {
   "cell_type": "code",
   "execution_count": null,
   "id": "eb2017ef",
   "metadata": {},
   "outputs": [],
   "source": [
    "np.absolute(dtune_x).max(), np.absolute(dtune_y).max()"
   ]
  },
  {
   "cell_type": "code",
   "execution_count": null,
   "id": "14337ddb",
   "metadata": {},
   "outputs": [],
   "source": [
    "907/1250"
   ]
  },
  {
   "cell_type": "code",
   "execution_count": null,
   "id": "d7067fbf",
   "metadata": {},
   "outputs": [],
   "source": [
    "quad_data('q1m1d1r').beta.sel(plane='y').mean()"
   ]
  },
  {
   "cell_type": "code",
   "execution_count": null,
   "id": "bae64496",
   "metadata": {},
   "outputs": [],
   "source": [
    "importlib.reload(bact_analysis_bessyii.bba.calc)"
   ]
  },
  {
   "cell_type": "code",
   "execution_count": null,
   "id": "f781780d",
   "metadata": {},
   "outputs": [],
   "source": [
    "bact_analysis_bessyii.bba.calc.predict_tune_change(quad_name, 2, beta=t_sel.beta.sel(plane='x').mean())"
   ]
  },
  {
   "cell_type": "markdown",
   "id": "4ac0135a-bf52-4c21-89a5-b46ee1291973",
   "metadata": {},
   "source": [
    "## Process all magnets"
   ]
  },
  {
   "cell_type": "code",
   "execution_count": null,
   "id": "a71e6eb9-e723-41cb-87ff-980ae51d6a29",
   "metadata": {},
   "outputs": [],
   "source": [
    "importlib.reload( bact_analysis.transverse.distorted_orbit)\n",
    "importlib.reload( bact_analysis.transverse.calc)\n",
    "importlib.reload( bact_analysis.transverse.process)"
   ]
  },
  {
   "cell_type": "markdown",
   "id": "d6aad21c",
   "metadata": {},
   "source": [
    "Calculate the "
   ]
  },
  {
   "cell_type": "code",
   "execution_count": null,
   "id": "f916997b-ff81-4f09-8a77-ee6499b26610",
   "metadata": {},
   "outputs": [],
   "source": [
    "start = datetime.datetime.now()\n",
    "result = {\n",
    "    name: item for name, item in \n",
    "    tqdm.tqdm(bact_analysis.transverse.process.process_all_gen(selected_model, redm4proc, redm4proc.coords['name'].values, bpm_names=bpm_names_lc, theta=1e-5, use_weights=True), \n",
    "              total=len(redm4proc.coords['name']))\n",
    "}\n",
    "end  = datetime.datetime.now()\n",
    "end - start"
   ]
  },
  {
   "cell_type": "code",
   "execution_count": null,
   "id": "af97afa9",
   "metadata": {},
   "outputs": [],
   "source": [
    "quad_names = list(result.keys())\n",
    "quad_names_lc = [name.lower() for name in quad_names]\n",
    "ds_quads = selected_model.ds.sel(pos=quad_names_lc).rename(pos='name').assign_coords(name=quad_names)"
   ]
  },
  {
   "cell_type": "code",
   "execution_count": null,
   "id": "ecebfa86-4971-434f-9600-661cff8faba5",
   "metadata": {},
   "outputs": [],
   "source": [
    "rds = bact_analysis.transverse.process.combine_all(result).merge(dict(ds=selected_model.ds, ds_quads=ds_quads)).sortby([ 'ds_quads'])"
   ]
  },
  {
   "cell_type": "code",
   "execution_count": null,
   "id": "804e3c99-ed50-4598-bdb9-712dff337c26",
   "metadata": {},
   "outputs": [],
   "source": [
    "rds.orbit.attrs"
   ]
  },
  {
   "cell_type": "code",
   "execution_count": null,
   "id": "8278dcca",
   "metadata": {},
   "outputs": [],
   "source": [
    "rds;"
   ]
  },
  {
   "cell_type": "markdown",
   "id": "81303b1f",
   "metadata": {},
   "source": [
    "## Check calculated orbits"
   ]
  },
  {
   "cell_type": "markdown",
   "id": "38703235",
   "metadata": {},
   "source": [
    "Compare the calculated fit to the orbit"
   ]
  },
  {
   "cell_type": "code",
   "execution_count": null,
   "id": "ff42f66f",
   "metadata": {},
   "outputs": [],
   "source": [
    "redm4proc.sel(name='Q1M1D1R')"
   ]
  },
  {
   "cell_type": "code",
   "execution_count": null,
   "id": "aee9ab4b",
   "metadata": {},
   "outputs": [],
   "source": [
    "def check_kick_fit(measurement, orbit, parameters):\n",
    "    \"\"\"Difference of fit orbit to data\n",
    "    \n",
    "    Todo:\n",
    "          include measurement error\n",
    "    \"\"\"\n",
    "    bpm_names = measurement.coords['pos']\n",
    "    \n",
    "    s = parameters.sel(parameter='scaled_angle')\n",
    "    scale = s.sel(result='value')\n",
    "    scale_err = s.sel(result='error')\n",
    "    del s\n",
    "    \n",
    "    pars  = parameters.sel(parameter=bpm_names)\n",
    "    offset =  pars.sel(result='value')\n",
    "    offset_err = pars.sel(result='error')\n",
    "    del pars\n",
    "    \n",
    "    #print(parameters)\n",
    "    scaled_orbit = orbit * scale\n",
    "    scaled_orbit_err = np.absolute(orbit) * scale_err\n",
    "    \n",
    "    scaled_orbit_at_bpm = scaled_orbit.sel(pos=bpm_names)\n",
    "    s_x = scaled_orbit_at_bpm.sel(plane=\"x\") * measurement.excitation\n",
    "    s_y = scaled_orbit_at_bpm.sel(plane=\"y\") * measurement.excitation\n",
    "    m_x  = offset.sel(plane=\"x\") - measurement.x_pos\n",
    "    m_y  = offset.sel(plane=\"y\") - measurement.y_pos\n",
    "    diff_x = s_x + m_x\n",
    "    diff_y = s_y + m_y\n",
    "    del scaled_orbit_at_bpm\n",
    "    \n",
    "    so_at_bpm_err = scaled_orbit_err.sel(pos=bpm_names)\n",
    "    diff_x_err = so_at_bpm_err.sel(plane=\"x\") * measurement.excitation + offset_err.sel(plane=\"x\")\n",
    "    diff_y_err = so_at_bpm_err.sel(plane=\"y\") * measurement.excitation + offset_err.sel(plane=\"y\")\n",
    "    del so_at_bpm_err\n",
    "    \n",
    "    pos, step = diff_x.dims\n",
    "    coords = [[\"x\", \"y\"], [\"value\", \"error\", \"orbit\", \"measurement\"]]\n",
    "    dims = [\"plane\", \"result\",  pos, step]\n",
    "    coords += [diff_x.coords[pos], diff_x.coords[step]]\n",
    "    diff = xr.DataArray(data=[[diff_x, diff_x_err, s_x, m_x], [diff_y, diff_y_err, s_y, m_y]], dims=dims, coords=coords)\n",
    "    return diff"
   ]
  },
  {
   "cell_type": "code",
   "execution_count": null,
   "id": "e3beed5b",
   "metadata": {},
   "outputs": [],
   "source": [
    "def process(name): \n",
    "    measurement = redm4proc.sel(name=name)\n",
    "    orbit = rds.orbit.sel(name=name)\n",
    "    diff = check_kick_fit(measurement, orbit, rds.fit_params.sel(name=name))\n",
    "    diff = diff.expand_dims(name=[name])\n",
    "    return diff\n",
    "\n",
    "diffs_fit = xr.concat([process(name) for name in rds.coords[\"name\"].values], dim=\"name\")\n"
   ]
  },
  {
   "cell_type": "code",
   "execution_count": null,
   "id": "d43d89fa",
   "metadata": {},
   "outputs": [],
   "source": [
    "np.absolute(diffs_fit.sel(result=\"value\")).max() * 1e6, np.absolute(diffs_fit.sel(result=\"error\")).max() * 1e6"
   ]
  },
  {
   "cell_type": "code",
   "execution_count": null,
   "id": "ba4e6c2f",
   "metadata": {},
   "outputs": [],
   "source": [
    "rng = np.random.default_rng()"
   ]
  },
  {
   "cell_type": "code",
   "execution_count": null,
   "id": "d7241f45-5782-470a-801f-e32058a2b9c2",
   "metadata": {},
   "outputs": [],
   "source": [
    "quad_names = [str(name.values) for name in rds.coords[\"name\"]]\n",
    "quad_names_lc = [name.lower() for name in quad_names]"
   ]
  },
  {
   "cell_type": "code",
   "execution_count": null,
   "id": "55619403",
   "metadata": {},
   "outputs": [],
   "source": [
    "y_max =  rds.fit_params.sel(plane=\"y\", result=\"value\", parameter=\"scaled_angle\").argmax().values\n",
    "y_min =  rds.fit_params.sel(plane=\"y\", result=\"value\", parameter=\"scaled_angle\").argmin().values\n",
    "x_max =  rds.fit_params.sel(plane=\"x\", result=\"value\", parameter=\"scaled_angle\").argmax().values\n",
    "x_min =  rds.fit_params.sel(plane=\"x\", result=\"value\", parameter=\"scaled_angle\").argmin().values\n",
    "y_max, y_min"
   ]
  },
  {
   "cell_type": "code",
   "execution_count": null,
   "id": "c18afdf1",
   "metadata": {},
   "outputs": [],
   "source": [
    "list(redm4proc.variables.keys())"
   ]
  },
  {
   "cell_type": "code",
   "execution_count": null,
   "id": "12eb5c86",
   "metadata": {},
   "outputs": [],
   "source": [
    "redm4proc.x_pos.sel(name='Q1M1D1R').shape"
   ]
  },
  {
   "cell_type": "code",
   "execution_count": null,
   "id": "56d161a8",
   "metadata": {},
   "outputs": [],
   "source": [
    "plt.plot(\n",
    "    # redm4proc.x_pos.sel(name='Q1M1D1R', step=4), '-',\n",
    "    np.sqrt(1./redm4proc.y_rms.sel(name='Q1M1D1R', step=4)), 'x',\n",
    ")"
   ]
  },
  {
   "cell_type": "code",
   "execution_count": null,
   "id": "038d370b",
   "metadata": {},
   "outputs": [],
   "source": [
    "name = rng.choice(quad_names)\n",
    "name = rds.coords[\"name\"][91]\n",
    "name = rds.coords[\"name\"][x_min]\n",
    "name = \"Q4M2D1R\"\n",
    "name = \"Q3M2T2R\"\n",
    "name = \"Q4M1T4R\"\n",
    "name = \"Q5M2T5R\"\n",
    "t_diff = diffs_fit.sel(name=name)\n",
    "\n",
    "fig, axes = plt.subplots(2, 2, figsize=[14, 6], sharex=True)\n",
    "ax_comp, ax_diff = axes\n",
    "ax_x, ax_y = ax_comp\n",
    "ax_dx, ax_dy = ax_diff\n",
    "a_scale = 1e6\n",
    "err_scale = a_scale * 1\n",
    "ds = selected_model.ds.sel(pos=t_diff.pos)\n",
    "\n",
    "for step in t_diff.step:\n",
    "    t_dI = redm4proc.excitation.sel(name=name, step=step)\n",
    "    a_scale_ = a_scale * np.sign(t_dI)\n",
    "    err_scale_ = err_scale #* np.sign(step)\n",
    "    ax_x.errorbar(\n",
    "        ds, t_diff.sel(step=step, result=\"orbit\", plane=\"x\") * a_scale_,\n",
    "        yerr=t_diff.sel(step=step, result=\"error\", plane=\"x\")* err_scale_, \n",
    "        fmt= '-'\n",
    "    )\n",
    "    ax_y.errorbar(\n",
    "        ds, t_diff.sel(step=step, result=\"orbit\", plane=\"y\") * a_scale_,\n",
    "        yerr=t_diff.sel(step=step, result=\"error\", plane=\"y\")* err_scale_, \n",
    "        fmt= '-'\n",
    "    )\n",
    "    ax_x.errorbar(\n",
    "        ds, t_diff.sel(step=step, result=\"measurement\", plane=\"x\") * a_scale_ * -1,\n",
    "        yerr=t_diff.sel(step=step, result=\"error\", plane=\"x\")* err_scale_, \n",
    "        fmt= '+'\n",
    "    )\n",
    "    ax_y.errorbar(\n",
    "        ds, t_diff.sel(step=step, result=\"measurement\", plane=\"y\") * a_scale_ * -1,\n",
    "        yerr=t_diff.sel(step=step, result=\"error\", plane=\"y\") * err_scale_, \n",
    "        fmt= '+'\n",
    "    )\n",
    "    ax_dx.errorbar(\n",
    "        ds, t_diff.sel(step=step, result=\"value\", plane=\"x\") * a_scale_,\n",
    "        yerr=t_diff.sel(step=step, result=\"error\", plane=\"x\")* err_scale_, \n",
    "        fmt= '.'\n",
    "    )\n",
    "    ax_dy.errorbar(\n",
    "        ds, t_diff.sel(step=step, result=\"value\", plane=\"y\") * a_scale_,\n",
    "        yerr=t_diff.sel(step=step, result=\"error\", plane=\"y\")* err_scale_, \n",
    "        fmt= '.'\n",
    "    )\n",
    "ax_y.set_xlabel('s [m]')\n",
    "ax_x.set_ylabel('x [$\\mu$m]')\n",
    "ax_y.set_ylabel('y [$\\mu$m]');\n",
    "ax_dx.set_ylabel('dx [$\\mu$m]')\n",
    "ax_dy.set_ylabel('dy [$\\mu$m]');\n"
   ]
  },
  {
   "cell_type": "code",
   "execution_count": null,
   "id": "4c14a8e7-6258-4a26-b66a-504faabe1c24",
   "metadata": {},
   "outputs": [],
   "source": [
    "fig, axes = plt.subplots(2, 1, figsize=[12, 9], sharex=True)\n",
    "ax_x, ax_y = axes\n",
    "a_scale = rds.orbit.attrs['theta'] * 1e6\n",
    "err_scale = a_scale * 5\n",
    "ds = selected_model.ds.sel(pos=quad_names_lc)\n",
    "ax_x.errorbar(\n",
    "    ds, rds.fit_params.sel(name=quad_names, parameter='scaled_angle', result='value', plane='x') * a_scale, \n",
    "    yerr=rds.fit_params.sel(name=quad_names, parameter='scaled_angle', result='error', plane='x') * err_scale, \n",
    "    fmt= '.'\n",
    ")\n",
    "ax_y.errorbar(\n",
    "    ds, rds.fit_params.sel(name=quad_names, parameter='scaled_angle', result='value', plane='y') * a_scale, \n",
    "    yerr=rds.fit_params.sel(name=quad_names, parameter='scaled_angle', result='error', plane='y') * err_scale, \n",
    "    fmt= '.'\n",
    ")\n",
    "ax_y.set_xlabel('s [m]')\n",
    "ax_x.set_ylabel('x [$\\mu rad$]')\n",
    "ax_y.set_ylabel('y [$\\mu$ rad]')\n"
   ]
  },
  {
   "cell_type": "code",
   "execution_count": null,
   "id": "141538d2-0492-44d8-bc2d-1d56849a71cc",
   "metadata": {},
   "outputs": [],
   "source": [
    "import bact2_bessyii.magnets\n",
    "importlib.reload(bact2_bessyii.magnets)"
   ]
  },
  {
   "cell_type": "code",
   "execution_count": null,
   "id": "55981534-cdfc-403b-9f3c-8349085e107a",
   "metadata": {},
   "outputs": [],
   "source": [
    "import bact_analysis_bessyii.bba.calc\n",
    "importlib.reload(bact_analysis_bessyii.bba.calc)"
   ]
  },
  {
   "cell_type": "code",
   "execution_count": null,
   "id": "6e3c9055",
   "metadata": {},
   "outputs": [],
   "source": [
    "calib_quad = bact_analysis_bessyii.bba.calc.load_calib_data()\n",
    "calib_quad"
   ]
  },
  {
   "cell_type": "markdown",
   "id": "a1a2de09-d0a3-4545-a174-699f95dd3b33",
   "metadata": {},
   "source": [
    "Impact of muxer:\n",
    "\n",
    "* the muxer powers an auxilliary coil. This coil has 75 turns\n",
    "* the main quadrupole coil has 28 turns"
   ]
  },
  {
   "cell_type": "code",
   "execution_count": null,
   "id": "d2c525d6-65ca-4be9-a900-b86bb04682e3",
   "metadata": {},
   "outputs": [],
   "source": [
    "offsets = bact_analysis_bessyii.bba.calc.angles_to_offset_all(rds, names=quad_names, tf_scale=75.0/28.0)\n",
    "offsets;"
   ]
  },
  {
   "cell_type": "code",
   "execution_count": null,
   "id": "e1d52b67",
   "metadata": {},
   "outputs": [],
   "source": []
  },
  {
   "cell_type": "code",
   "execution_count": null,
   "id": "723e5660",
   "metadata": {},
   "outputs": [],
   "source": [
    "name"
   ]
  },
  {
   "cell_type": "code",
   "execution_count": null,
   "id": "55255879",
   "metadata": {},
   "outputs": [],
   "source": [
    "offsets.sel(name=name, result=\"value\")*1e3"
   ]
  },
  {
   "cell_type": "code",
   "execution_count": null,
   "id": "de1a5210-49ff-4303-aaef-3ff8ee77159f",
   "metadata": {},
   "outputs": [],
   "source": [
    "fig, axes = plt.subplots(1, 2, figsize=[12, 9], sharex=True)\n",
    "ax_x, ax_y = axes\n",
    "a_scale = 1e6\n",
    "ax_x.errorbar(\n",
    "    ds,\n",
    "    offsets.sel(name=quad_names, result=\"value\", plane=\"x\") * a_scale,\n",
    "    yerr=offsets.sel(name=quad_names, result=\"error\", plane=\"x\") * a_scale,\n",
    "    fmt=\".\",\n",
    ")\n",
    "ax_y.errorbar(\n",
    "    ds,\n",
    "    offsets.sel(name=quad_names, result=\"value\", plane=\"y\") * a_scale,\n",
    "    yerr=offsets.sel(name=quad_names, result=\"error\", plane=\"y\") * a_scale,\n",
    "    fmt=\".\",\n",
    ")\n",
    "ax_y.set_xlabel(\"s [m]\")\n",
    "ax_x.set_xlabel(\"s [m]\")\n",
    "ax_x.set_ylabel(\"x [$\\mu$m]\")\n",
    "ax_y.set_ylabel(\"y [$\\mu$m]\")\n",
    "fig.savefig(\"axes_offset.pdf\")"
   ]
  },
  {
   "cell_type": "markdown",
   "id": "efba7caf",
   "metadata": {},
   "source": [
    "## Comparison to classic BBA"
   ]
  },
  {
   "cell_type": "code",
   "execution_count": null,
   "id": "4e32abc7",
   "metadata": {},
   "outputs": [],
   "source": [
    "import os.path\n",
    "import pandas as pd\n",
    "import h5py"
   ]
  },
  {
   "cell_type": "code",
   "execution_count": null,
   "id": "2b442a84",
   "metadata": {},
   "outputs": [],
   "source": [
    "ls BBA_Classic"
   ]
  },
  {
   "cell_type": "code",
   "execution_count": null,
   "id": "f2cd3dc4",
   "metadata": {},
   "outputs": [],
   "source": [
    "t_dir = 'BBA_Classic'"
   ]
  },
  {
   "cell_type": "code",
   "execution_count": null,
   "id": "188397d4",
   "metadata": {},
   "outputs": [],
   "source": [
    "df_classic  = pd.read_hdf(os.path.join(t_dir, \"20210818_quadrupoleOffsetsOldSchoolAnalysis.hdf\")).set_index(\"names\")"
   ]
  },
  {
   "cell_type": "code",
   "execution_count": null,
   "id": "a48cb415",
   "metadata": {},
   "outputs": [],
   "source": [
    "ds_classic = xr.Dataset.from_dataframe(df_classic)\n",
    "ds_classic = ds_classic.rename_dims(names='name').assign_coords(name=[name.strip() for name in ds_classic.names.values]).reset_coords(drop=True)\n",
    "ds_classic"
   ]
  },
  {
   "cell_type": "code",
   "execution_count": null,
   "id": "cc52d086",
   "metadata": {},
   "outputs": [],
   "source": [
    "ds_classic.sel(name=\"Q5M2T5R\")*1e3"
   ]
  },
  {
   "cell_type": "code",
   "execution_count": null,
   "id": "c9d02074",
   "metadata": {},
   "outputs": [],
   "source": [
    "ds;"
   ]
  },
  {
   "cell_type": "code",
   "execution_count": null,
   "id": "f5d41808",
   "metadata": {},
   "outputs": [],
   "source": [
    "#quad_names = offsets.coords['name'].values\n",
    "#quad_names_lc = [name.lower() for name in quad_names]\n",
    "#quad_names;"
   ]
  },
  {
   "cell_type": "code",
   "execution_count": null,
   "id": "6327c7bf",
   "metadata": {},
   "outputs": [],
   "source": [
    "set(ds_classic.name.values).difference(quad_names)"
   ]
  },
  {
   "cell_type": "code",
   "execution_count": null,
   "id": "cf03ec45",
   "metadata": {},
   "outputs": [],
   "source": [
    "fig, axes = plt.subplots(1, 2, figsize=[12, 9], sharex=True)\n",
    "ax_x, ax_y = axes\n",
    "a_scale = 1e6\n",
    "classic_scale = 1\n",
    "ax_x.errorbar(\n",
    "    ds.sel(pos=quad_names_lc),\n",
    "    offsets.sel(name=quad_names, result=\"value\", plane=\"x\") * a_scale,\n",
    "    yerr=offsets.sel(name=quad_names, result=\"error\", plane=\"x\") * a_scale,\n",
    "    fmt=\".\",\n",
    ")\n",
    "ax_x.plot(ds_classic.s.sel(name=quad_names), ds_classic.hor_offset.sel(name=quad_names) * a_scale * classic_scale, '+')\n",
    "ax_y.errorbar(\n",
    "    ds,\n",
    "    offsets.sel(name=quad_names, result=\"value\", plane=\"y\") * a_scale,\n",
    "    yerr=offsets.sel(name=quad_names, result=\"error\", plane=\"y\") * a_scale,\n",
    "    fmt=\".\",\n",
    ")\n",
    "ax_y.plot(ds_classic.s.sel(name=quad_names), ds_classic.ver_offset.sel(name=quad_names) * a_scale * classic_scale * -1, '+')\n",
    "ax_y.set_xlabel(\"s [m]\")\n",
    "ax_x.set_ylabel(\"x [$\\mu$m]\")\n",
    "ax_y.set_ylabel(\"y [$\\mu$m]\")"
   ]
  },
  {
   "cell_type": "code",
   "execution_count": null,
   "id": "b585f821",
   "metadata": {},
   "outputs": [],
   "source": [
    "fig, axes = plt.subplots(2, 1, figsize=[12, 9], sharex=True)\n",
    "ax_x, ax_y = axes\n",
    "a_scale = 1e6\n",
    "classic_scale = 1e3 * 1\n",
    "ax_x.errorbar(\n",
    "    ds.sel(pos=quad_names_lc),\n",
    "    (offsets.sel(name=quad_names, result=\"value\", plane=\"x\") - ds_classic.hor_offset.sel(name=quad_names)) * a_scale,\n",
    "     yerr=offsets.sel(name=quad_names, result=\"error\", plane=\"x\")  * a_scale,\n",
    "    fmt=\".-\",\n",
    ")\n",
    "ax_y.errorbar(\n",
    "    ds.sel(pos=quad_names_lc),\n",
    "    (offsets.sel(name=quad_names, result=\"value\", plane=\"y\") - ds_classic.ver_offset.sel(name=quad_names) * -1) * a_scale,\n",
    "    yerr=offsets.sel(name=quad_names, result=\"error\", plane=\"y\") * a_scale,\n",
    "    fmt=\".-\",\n",
    ")\n",
    "ax_y.set_xlabel(\"s [m]\")\n",
    "ax_x.set_ylabel(\"x [$\\mu$m]\")\n",
    "ax_y.set_ylabel(\"y [$\\mu$m]\")"
   ]
  },
  {
   "cell_type": "code",
   "execution_count": null,
   "id": "f5294feb",
   "metadata": {},
   "outputs": [],
   "source": [
    "fig, ax = plt.subplots(1, 1)\n",
    "plt.plot(\n",
    "    ds.sel(pos=quad_names_lc) - ds_classic.s.sel(name=quad_names).values, '-'\n",
    "    #(ds.sel(pos=quad_names_lc).values -     \n",
    ")"
   ]
  },
  {
   "cell_type": "code",
   "execution_count": null,
   "id": "c57f4704",
   "metadata": {},
   "outputs": [],
   "source": [
    "np.array([name.lower() for name in quad_names]) == np.array(quad_names_lc)"
   ]
  },
  {
   "cell_type": "code",
   "execution_count": null,
   "id": "2bc93087",
   "metadata": {},
   "outputs": [],
   "source": []
  }
 ],
 "metadata": {
  "kernelspec": {
   "display_name": "Python 3 (ipykernel)",
   "language": "python",
   "name": "python3"
  },
  "language_info": {
   "codemirror_mode": {
    "name": "ipython",
    "version": 3
   },
   "file_extension": ".py",
   "mimetype": "text/x-python",
   "name": "python",
   "nbconvert_exporter": "python",
   "pygments_lexer": "ipython3",
   "version": "3.8.10"
  },
  "toc": {
   "base_numbering": 1,
   "nav_menu": {},
   "number_sections": true,
   "sideBar": true,
   "skip_h1_title": false,
   "title_cell": "Table of Contents",
   "title_sidebar": "Contents",
   "toc_cell": false,
   "toc_position": {},
   "toc_section_display": true,
   "toc_window_display": false
  }
 },
 "nbformat": 4,
 "nbformat_minor": 5
}
