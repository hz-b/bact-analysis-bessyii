{
 "cells": [
  {
   "cell_type": "code",
   "execution_count": null,
   "id": "24c99d8e",
   "metadata": {},
   "outputs": [],
   "source": [
    "from IPython.display import display, Markdown, HTML\n",
    "display(HTML(\"<style>.container { width:90% !important; }</style>\"))"
   ]
  },
  {
   "cell_type": "code",
   "execution_count": null,
   "id": "fd4d77b3",
   "metadata": {},
   "outputs": [],
   "source": [
    "import datetime\n",
    "import tqdm\n",
    "import importlib"
   ]
  },
  {
   "cell_type": "code",
   "execution_count": null,
   "id": "eceaa7eb",
   "metadata": {},
   "outputs": [],
   "source": [
    "import xarray as xr\n",
    "import numpy as np\n",
    "#%matplotlib notebook\n",
    "#%matplotlib notebook\n",
    "%matplotlib inline\n",
    "import matplotlib.pyplot as plt"
   ]
  },
  {
   "cell_type": "code",
   "execution_count": null,
   "id": "3bdfd2a2",
   "metadata": {},
   "outputs": [],
   "source": [
    "from databroker import catalog"
   ]
  },
  {
   "cell_type": "code",
   "execution_count": null,
   "id": "e9a1f6b0",
   "metadata": {},
   "outputs": [],
   "source": [
    "import bact_analysis\n",
    "import bact_analysis.bba.calc\n",
    "import bact_analysis.transverse.calc\n",
    "import bact_analysis.transverse.distorted_orbit\n",
    "import bact_analysis.transverse.process\n",
    "import bact_analysis.transverse.twiss_interpolate\n",
    "import bact_analysis.utils.preprocess\n",
    "import bact_analysis_bessyii.bba.preprocess_data\n",
    "import bact_analysis_bessyii.bba.calc"
   ]
  },
  {
   "cell_type": "markdown",
   "id": "4ab4e236",
   "metadata": {},
   "source": [
    "# BBA Analysis\n",
    "\n",
    "This notebook should be the center for selecting the required data and presenting the results.\n",
    "All computation or data rearangement shall be performed in libraries"
   ]
  },
  {
   "cell_type": "code",
   "execution_count": null,
   "id": "6b529a2f",
   "metadata": {},
   "outputs": [],
   "source": [
    "datetime.datetime.now().strftime('%Y %m %d %H:%M')"
   ]
  },
  {
   "cell_type": "markdown",
   "id": "192abf30",
   "metadata": {},
   "source": [
    "## Data selection, check and load"
   ]
  },
  {
   "cell_type": "code",
   "execution_count": null,
   "id": "a99c6da4",
   "metadata": {},
   "outputs": [],
   "source": [
    "catalog_name = 'heavy'"
   ]
  },
  {
   "cell_type": "code",
   "execution_count": null,
   "id": "32c6b503",
   "metadata": {},
   "outputs": [],
   "source": [
    "db = catalog[catalog_name]"
   ]
  },
  {
   "cell_type": "markdown",
   "id": "9ae574a2",
   "metadata": {},
   "source": [
    "For measurement elog entry see http://elog-v2.trs.bessy.de:8080/Machine+Devel.,+Comm./1788"
   ]
  },
  {
   "cell_type": "code",
   "execution_count": null,
   "id": "27a08ff5",
   "metadata": {},
   "outputs": [],
   "source": [
    "# uid = '24ff319d-b260-46e6-8356-0dfb08638fb1'\n",
    "uid = '24ff319d-b260-46e6-8356-0dfb08638fb1'\n",
    "uid = 'c6c3ad04-7c4c-4a6d-a7e8-91602cfea726'\n",
    "uid = 'eb89753c-5388-4ebb-a992-fc25b478acd8'"
   ]
  },
  {
   "cell_type": "markdown",
   "id": "d6181337",
   "metadata": {},
   "source": [
    "For measurement see elog entry http://elog-v2.trs.bessy.de:8080/Machine+Devel.,+Comm./1971"
   ]
  },
  {
   "cell_type": "code",
   "execution_count": null,
   "id": "b42e3c58",
   "metadata": {},
   "outputs": [],
   "source": [
    "uid = 'b226943c-1941-46ce-bc35-0530ea6e276c'\n",
    "uid = 'e0aef7b8-f57e-4594-9618-70d01aaa65a7'\n",
    "uid = 'e60215ff-62ea-4d3b-a968-f6b0d9d9ee9d'\n",
    "uid = 'fa22af2e-0398-41eb-94b9-e9b957ba4f31'"
   ]
  },
  {
   "cell_type": "markdown",
   "id": "8c9009f8-60de-40d4-9c65-03ebb965c6ec",
   "metadata": {},
   "source": [
    "See http://elog-v2.trs.bessy.de:8080/Machine+Devel.,+Comm./1982 for measurement entry"
   ]
  },
  {
   "cell_type": "code",
   "execution_count": null,
   "id": "71887dcc-9bb4-4b64-b018-4f5c81968cc1",
   "metadata": {},
   "outputs": [],
   "source": [
    "uid = \"350d945b-6d2f-42b4-892b-7c2c3a9a17d0\""
   ]
  },
  {
   "cell_type": "code",
   "execution_count": null,
   "id": "a5643491",
   "metadata": {},
   "outputs": [],
   "source": [
    "list(db.keys());"
   ]
  },
  {
   "cell_type": "code",
   "execution_count": null,
   "id": "bbd9329a",
   "metadata": {},
   "outputs": [],
   "source": [
    "run = db[uid]"
   ]
  },
  {
   "cell_type": "markdown",
   "id": "054a77d7",
   "metadata": {},
   "source": [
    "### loading data"
   ]
  },
  {
   "cell_type": "code",
   "execution_count": null,
   "id": "d14788f1",
   "metadata": {},
   "outputs": [],
   "source": [
    "preprocessed_, dt_configuration = bact_analysis_bessyii.bba.preprocess_data.load_and_check_data(run)"
   ]
  },
  {
   "cell_type": "code",
   "execution_count": null,
   "id": "6e29adac",
   "metadata": {},
   "outputs": [],
   "source": [
    "preprocessed_.dt_bpm_waveform_x_rms"
   ]
  },
  {
   "cell_type": "markdown",
   "id": "7957c80f",
   "metadata": {},
   "source": [
    "### load lattice model"
   ]
  },
  {
   "cell_type": "code",
   "execution_count": null,
   "id": "5445d479",
   "metadata": {},
   "outputs": [],
   "source": [
    "selected_model_ = xr.load_dataset(\"bessii_twiss_tracy.nc\"\n",
    "                                  #'bessyii_twiss_thor_scsi.nc'\n",
    "                                 )\n",
    "\n",
    "#del selected_model_.coords['par']\n",
    "doublets, renamed = bact_analysis.utils.preprocess.rename_doublicates(selected_model_.coords['pos'].values.tolist())\n",
    "selected_model_ = selected_model_.assign_coords(pos=renamed)\n",
    "selected_model_"
   ]
  },
  {
   "cell_type": "markdown",
   "id": "5759e27d",
   "metadata": {},
   "source": [
    "### Checking consistency between lattice model and digital twin ... for the required elements"
   ]
  },
  {
   "cell_type": "markdown",
   "id": "67e3bf2f",
   "metadata": {},
   "source": [
    "Check that all bpm's are in the lattice"
   ]
  },
  {
   "cell_type": "code",
   "execution_count": null,
   "id": "5223a125",
   "metadata": {},
   "outputs": [],
   "source": [
    "bpm_names = preprocessed_.coords[\"bpm\"]\n",
    "bpm_names_lc = [name.lower() for name in bpm_names.values]"
   ]
  },
  {
   "cell_type": "code",
   "execution_count": null,
   "id": "713e70e4",
   "metadata": {},
   "outputs": [],
   "source": [
    "bpm_names_check = set(bpm_names_lc)"
   ]
  },
  {
   "cell_type": "code",
   "execution_count": null,
   "id": "87c6c021",
   "metadata": {},
   "outputs": [],
   "source": [
    "bpm_names_check.difference(selected_model_.coords[\"pos\"].values)"
   ]
  },
  {
   "cell_type": "markdown",
   "id": "2ae3f01e",
   "metadata": {},
   "source": [
    "Remove first reading ... bpm data not garanteed to be correct"
   ]
  },
  {
   "cell_type": "code",
   "execution_count": null,
   "id": "01a74f74",
   "metadata": {},
   "outputs": [],
   "source": [
    "idx = preprocessed_.dt_cs_setpoint >= 1#\n",
    "preprocessed = preprocessed_.isel(time=idx)"
   ]
  },
  {
   "cell_type": "code",
   "execution_count": null,
   "id": "069f55bd",
   "metadata": {},
   "outputs": [],
   "source": [
    "preprocessed.dt_cs_setpoint.min();"
   ]
  },
  {
   "cell_type": "markdown",
   "id": "a412179c",
   "metadata": {},
   "source": [
    "### Make data selectable per magnet"
   ]
  },
  {
   "cell_type": "code",
   "execution_count": null,
   "id": "e5b44809",
   "metadata": {},
   "outputs": [],
   "source": [
    "importlib.reload(bact_analysis.utils.preprocess)\n",
    "importlib.reload(bact_analysis.transverse.calc)\n",
    "importlib.reload(bact_analysis_bessyii.bba.preprocess_data)"
   ]
  },
  {
   "cell_type": "code",
   "execution_count": null,
   "id": "c23c10db",
   "metadata": {},
   "outputs": [],
   "source": [
    "rearranged = xr.concat(\n",
    "    bact_analysis.utils.preprocess.reorder_by_groups(\n",
    "        preprocessed,\n",
    "        preprocessed.groupby(preprocessed.dt_mux_selector_selected),\n",
    "        reordered_dim=\"name\",\n",
    "        dim_sel=\"time\",\n",
    "        new_indices_dim=\"step\",\n",
    "    ),\n",
    "    dim=\"name\",\n",
    ")"
   ]
  },
  {
   "cell_type": "code",
   "execution_count": null,
   "id": "0e00f922",
   "metadata": {},
   "outputs": [],
   "source": [
    "rearranged;"
   ]
  },
  {
   "cell_type": "code",
   "execution_count": null,
   "id": "aa6f1a32",
   "metadata": {},
   "outputs": [],
   "source": [
    "measurement_vars = dict(\n",
    "    dt_bpm_waveform_x_pos=\"x_pos\",\n",
    "    dt_bpm_waveform_y_pos=\"y_pos\",\n",
    "    dt_bpm_waveform_x_rms=\"x_rms\",\n",
    "    dt_bpm_waveform_y_rms=\"y_rms\",\n",
    "    dt_mux_power_converter_setpoint=\"excitation\",\n",
    ")\n",
    "redm4proc = (\n",
    "    rearranged[list(measurement_vars.keys())]\n",
    "    .rename_vars(**measurement_vars)\n",
    "    .sel(bpm=bpm_names)\n",
    "    .rename_dims(bpm=\"pos\")\n",
    "    .assign_coords(pos=bpm_names_lc)\n",
    "    .reset_coords(drop=True)\n",
    ")\n",
    "# BPM Data are in mm\n",
    "m2mm = 1./1000.\n",
    "redm4proc['x_pos'] =  redm4proc.x_pos * m2mm\n",
    "redm4proc['y_pos'] =  redm4proc.y_pos * m2mm\n",
    "redm4proc['x_rms'] =  redm4proc.x_rms * m2mm\n",
    "redm4proc['y_rms'] =  redm4proc.y_rms * m2mm"
   ]
  },
  {
   "cell_type": "code",
   "execution_count": null,
   "id": "ed3ac564",
   "metadata": {},
   "outputs": [],
   "source": [
    "redm4proc"
   ]
  },
  {
   "cell_type": "markdown",
   "id": "202b6922",
   "metadata": {},
   "source": [
    "## Processing data"
   ]
  },
  {
   "cell_type": "markdown",
   "id": "a5accff5",
   "metadata": {},
   "source": [
    "### Using model information"
   ]
  },
  {
   "cell_type": "markdown",
   "id": "cafc3f10",
   "metadata": {},
   "source": [
    "This model information is obtained here from the model produced by the digital shadow. \n",
    "\n",
    "Should be replaced by a standard lattice from database"
   ]
  },
  {
   "cell_type": "code",
   "execution_count": null,
   "id": "2c75087d",
   "metadata": {},
   "outputs": [],
   "source": [
    "redm4proc.name;"
   ]
  },
  {
   "cell_type": "markdown",
   "id": "16c0d635",
   "metadata": {},
   "source": [
    "Beam dynamics codes use name labels typically for the start or the end of a model. Tracy uses it for the start. The interpretation here needs it for the middle."
   ]
  },
  {
   "cell_type": "code",
   "execution_count": null,
   "id": "d8e30e49",
   "metadata": {},
   "outputs": [],
   "source": [
    "ds = selected_model_.ds.values\n",
    "assert( ((ds[1:] - ds[:-1]) >= 0 ).all() )"
   ]
  },
  {
   "cell_type": "code",
   "execution_count": null,
   "id": "a2c2475a",
   "metadata": {},
   "outputs": [],
   "source": [
    "quad_twiss_ = bact_analysis.transverse.twiss_interpolate.interpolate_twiss(\n",
    "    selected_model_, names=[name.lower() for name in redm4proc.name.values]\n",
    ")\n",
    "quad_twiss = quad_twiss_.rename_dims(name='pos').assign_coords(pos=quad_twiss_.coords['name'].values).reset_coords(drop=True)\n",
    "del quad_twiss_\n",
    "quad_twiss"
   ]
  },
  {
   "cell_type": "code",
   "execution_count": null,
   "id": "7b37445d",
   "metadata": {},
   "outputs": [],
   "source": []
  },
  {
   "cell_type": "markdown",
   "id": "64ea7b67",
   "metadata": {},
   "source": [
    "Replace these values with the values found before .... "
   ]
  },
  {
   "cell_type": "code",
   "execution_count": null,
   "id": "325bc6cb",
   "metadata": {},
   "outputs": [],
   "source": [
    "importlib.reload(bact_analysis.utils.preprocess)"
   ]
  },
  {
   "cell_type": "code",
   "execution_count": null,
   "id": "663a78b7",
   "metadata": {},
   "outputs": [],
   "source": [
    "n_index = bact_analysis.utils.preprocess.replace_names(list(selected_model_.coords['pos'].values), {name: name + '_s' for name in quad_twiss.coords['pos'].values})\n",
    "selected_model = xr.concat([selected_model_.assign_coords(pos=n_index), quad_twiss], dim='pos').sortby('ds')\n",
    "selected_model"
   ]
  },
  {
   "cell_type": "markdown",
   "id": "bbef9e19",
   "metadata": {},
   "source": [
    "### Check if tune advance matches applied current changes"
   ]
  },
  {
   "cell_type": "markdown",
   "id": "586602f6",
   "metadata": {},
   "source": [
    "$$\n",
    "    \\Delta Q = \\frac{1}{4 \\pi} \\int_{s_0}^{s_0 + l} \\Delta k \\beta(s) d(s) \n",
    "$$\n",
    "\n",
    "Measured tune change is \n",
    "\n",
    "$$\n",
    "    \\Delta Q_m = \\frac{\\Delta T}{f_m \\cdot n_b}\n",
    "$$\n",
    "\n",
    "with $\\Delta T$ the measured tune, $f_m$ the main RF frequency and $n_b$ the number of bunches"
   ]
  },
  {
   "cell_type": "code",
   "execution_count": null,
   "id": "357db2d4",
   "metadata": {},
   "outputs": [],
   "source": [
    "quad_name = 'Q4M2D1R'"
   ]
  },
  {
   "cell_type": "code",
   "execution_count": null,
   "id": "dcc6605e",
   "metadata": {},
   "outputs": [],
   "source": [
    "for_mag = rearranged.sel(name=quad_name)"
   ]
  },
  {
   "cell_type": "code",
   "execution_count": null,
   "id": "f244de65",
   "metadata": {},
   "outputs": [],
   "source": [
    "quad_twiss_sel = quad_twiss.sel(pos=quad_name.lower())"
   ]
  },
  {
   "cell_type": "code",
   "execution_count": null,
   "id": "5ae8b10a",
   "metadata": {},
   "outputs": [],
   "source": [
    "tune_x = for_mag.dt_mr_tune_fb_hor_readback\n",
    "tune_y = for_mag.dt_mr_tune_fb_vert_readback"
   ]
  },
  {
   "cell_type": "code",
   "execution_count": null,
   "id": "693212c2",
   "metadata": {},
   "outputs": [],
   "source": [
    "500e6/400 * 0.04 / 1e3"
   ]
  },
  {
   "cell_type": "code",
   "execution_count": null,
   "id": "3f04b5c1",
   "metadata": {},
   "outputs": [],
   "source": [
    "# data = bact_analysis_bessyii.bba.calc.load_calib_data()\n",
    "# data.sel(name=quad_name)"
   ]
  },
  {
   "cell_type": "code",
   "execution_count": null,
   "id": "93d6910f",
   "metadata": {},
   "outputs": [],
   "source": [
    "pos = selected_model_.coords.indexes['pos']\n",
    "idx = pos.get_loc(quad_name.lower())\n",
    "idx"
   ]
  },
  {
   "cell_type": "code",
   "execution_count": null,
   "id": "2f4e098c",
   "metadata": {},
   "outputs": [],
   "source": [
    "quad_sel = selected_model_.isel(pos=[idx-1, idx, idx+1])\n",
    "quad_sel.ds - quad_sel.ds.isel(pos=0)"
   ]
  },
  {
   "cell_type": "code",
   "execution_count": null,
   "id": "0b85a527",
   "metadata": {},
   "outputs": [],
   "source": [
    "t_sel = selected_model_.isel(pos=np.arange(-10, 10) + idx)\n",
    "t_sel\n",
    "idx = t_sel.coords.indexes['pos'].get_loc(quad_name.lower())\n",
    "quad_sel = t_sel.isel(pos=[idx-1, idx])\n",
    "t_sel"
   ]
  },
  {
   "cell_type": "code",
   "execution_count": null,
   "id": "4714a817",
   "metadata": {},
   "outputs": [],
   "source": [
    "t_sel.ds.values[1:] - t_sel.ds.values[:-1]"
   ]
  },
  {
   "cell_type": "code",
   "execution_count": null,
   "id": "b1542a28",
   "metadata": {},
   "outputs": [],
   "source": [
    "quad_sel"
   ]
  },
  {
   "cell_type": "code",
   "execution_count": null,
   "id": "ed6b56e3",
   "metadata": {},
   "outputs": [],
   "source": [
    "quad_sel.ds - quad_sel.ds[0]"
   ]
  },
  {
   "cell_type": "code",
   "execution_count": null,
   "id": "946a46a1",
   "metadata": {},
   "outputs": [],
   "source": [
    "quad_twiss_sel.ds"
   ]
  },
  {
   "cell_type": "code",
   "execution_count": null,
   "id": "e86e9ded",
   "metadata": {},
   "outputs": [],
   "source": [
    "\n",
    "fig, ax = plt.subplots(1,1, )\n",
    "line, = ax.plot(t_sel.ds, t_sel.beta.sel(plane='x'), '.-')\n",
    "ax.plot(quad_sel.ds, quad_sel.beta.sel(plane='x'), 'x-', color=line.get_color(), linewidth=3)\n",
    "ax.plot(quad_twiss_sel.ds, quad_twiss_sel.beta.sel(plane='x'), '*', color=line.get_color())\n",
    "line, = ax.plot(t_sel.ds, t_sel.beta.sel(plane='y'), '.-')\n",
    "ax.plot(quad_sel.ds, quad_sel.beta.sel(plane='y'), 'x-', color=line.get_color(), linewidth=3)\n",
    "ax.plot(quad_twiss_sel.ds, quad_twiss_sel.beta.sel(plane='y'), '*', color=line.get_color())\n",
    "ax.set_xlabel(\"ds [m]\")\n",
    "ax.set_ylabel(r\"$\\beta_ {x,y}$  [m]\")"
   ]
  },
  {
   "cell_type": "code",
   "execution_count": null,
   "id": "b6288e72",
   "metadata": {},
   "outputs": [],
   "source": [
    "def quad_data(name):\n",
    "    pos = selected_model.coords.indexes['pos']\n",
    "    idx = pos.get_loc(name)\n",
    "    assert(idx > 0)\n",
    "    quad = selected_model.isel(pos=[idx-1,idx])\n",
    "    return quad"
   ]
  },
  {
   "cell_type": "code",
   "execution_count": null,
   "id": "c0aa8b1f",
   "metadata": {},
   "outputs": [],
   "source": [
    "dtune_y = tune_y -tune_y[0]\n",
    "dtune_x = tune_x -tune_x[0]\n",
    "dtune_x.max().values, dtune_y.max().values, (dtune_x.max() /  dtune_y.max()).values"
   ]
  },
  {
   "cell_type": "code",
   "execution_count": null,
   "id": "20b8d89d",
   "metadata": {},
   "outputs": [],
   "source": [
    "fig, ax  = plt.subplots(1, 1)\n",
    "ax.plot(for_mag.coords['step'], dtune_x, 'b.-')\n",
    "ax.plot(for_mag.coords['step'], dtune_y * -1, 'g.-')"
   ]
  },
  {
   "cell_type": "code",
   "execution_count": null,
   "id": "b50aea0b",
   "metadata": {},
   "outputs": [],
   "source": [
    "quad_sel.mean(dim=\"pos\")"
   ]
  },
  {
   "cell_type": "code",
   "execution_count": null,
   "id": "3e219459",
   "metadata": {},
   "outputs": [],
   "source": [
    "dtune_x_p = bact_analysis_bessyii.bba.calc.predict_tune_change(quad_name, 2, beta=quad_sel.beta.sel(plane='x').mean()) \n",
    "dtune_y_p = bact_analysis_bessyii.bba.calc.predict_tune_change(quad_name, 2, beta=quad_sel.beta.sel(plane='y').mean()) \n",
    "dtune_y_p, dtune_x_p,  dtune_x_p/ dtune_y_p"
   ]
  },
  {
   "cell_type": "code",
   "execution_count": null,
   "id": "954ceb6f",
   "metadata": {},
   "outputs": [],
   "source": [
    "np.absolute(dtune_x).max(), np.absolute(dtune_y).max()"
   ]
  },
  {
   "cell_type": "code",
   "execution_count": null,
   "id": "cbfa32f6",
   "metadata": {},
   "outputs": [],
   "source": [
    "907/1250"
   ]
  },
  {
   "cell_type": "code",
   "execution_count": null,
   "id": "d94af231",
   "metadata": {},
   "outputs": [],
   "source": [
    "quad_data('q1m1d1r').beta.sel(plane='y').mean()"
   ]
  },
  {
   "cell_type": "code",
   "execution_count": null,
   "id": "dfb6f49d",
   "metadata": {},
   "outputs": [],
   "source": [
    "importlib.reload(bact_analysis_bessyii.bba.calc)"
   ]
  },
  {
   "cell_type": "code",
   "execution_count": null,
   "id": "4df882d5",
   "metadata": {},
   "outputs": [],
   "source": [
    "bact_analysis_bessyii.bba.calc.predict_tune_change(quad_name, 2, beta=t_sel.beta.sel(plane='x').mean())"
   ]
  },
  {
   "cell_type": "markdown",
   "id": "295c2e33",
   "metadata": {},
   "source": [
    "## Process all magnets"
   ]
  },
  {
   "cell_type": "code",
   "execution_count": null,
   "id": "afec25e0",
   "metadata": {},
   "outputs": [],
   "source": [
    "importlib.reload( bact_analysis.transverse.distorted_orbit)\n",
    "importlib.reload( bact_analysis.transverse.calc)\n",
    "importlib.reload( bact_analysis.transverse.process)"
   ]
  },
  {
   "cell_type": "code",
   "execution_count": null,
   "id": "75596177",
   "metadata": {},
   "outputs": [],
   "source": []
  },
  {
   "cell_type": "code",
   "execution_count": null,
   "id": "52855aee",
   "metadata": {},
   "outputs": [],
   "source": [
    "bact_analysis.utils.preprocess.rename_doublicates"
   ]
  },
  {
   "cell_type": "code",
   "execution_count": null,
   "id": "788764b9",
   "metadata": {},
   "outputs": [],
   "source": [
    "bact_analysis.utils.preprocess.rename_doublicates(selected_model.coords[\"pos\"].values.tolist())[0]"
   ]
  },
  {
   "cell_type": "markdown",
   "id": "13e24ae9",
   "metadata": {},
   "source": [
    "Calculate the "
   ]
  },
  {
   "cell_type": "code",
   "execution_count": null,
   "id": "13455833",
   "metadata": {},
   "outputs": [],
   "source": [
    "start = datetime.datetime.now()\n",
    "result = {\n",
    "    name: item for name, item in \n",
    "    tqdm.tqdm(bact_analysis.transverse.process.process_all_gen(selected_model, redm4proc, redm4proc.coords['name'].values, bpm_names=bpm_names_lc, theta=1e-5, use_weights=True), \n",
    "              total=len(redm4proc.coords['name']))\n",
    "}\n",
    "end  = datetime.datetime.now()\n",
    "end - start"
   ]
  },
  {
   "cell_type": "code",
   "execution_count": null,
   "id": "dba8fb81",
   "metadata": {},
   "outputs": [],
   "source": [
    "quad_names = list(result.keys())\n",
    "quad_names_lc = [name.lower() for name in quad_names]\n",
    "ds_quads = selected_model.ds.sel(pos=quad_names_lc).rename(pos='name').assign_coords(name=quad_names)"
   ]
  },
  {
   "cell_type": "code",
   "execution_count": null,
   "id": "4941c1da",
   "metadata": {},
   "outputs": [],
   "source": [
    "rds = bact_analysis.transverse.process.combine_all(result).merge(dict(ds=selected_model.ds, ds_quads=ds_quads)).sortby([ 'ds_quads'])"
   ]
  },
  {
   "cell_type": "code",
   "execution_count": null,
   "id": "c3418941",
   "metadata": {},
   "outputs": [],
   "source": [
    "rds.orbit.attrs"
   ]
  },
  {
   "cell_type": "code",
   "execution_count": null,
   "id": "4de5a346",
   "metadata": {},
   "outputs": [],
   "source": [
    "rds;"
   ]
  },
  {
   "cell_type": "markdown",
   "id": "284d3499",
   "metadata": {},
   "source": [
    "## Check calculated orbits"
   ]
  },
  {
   "cell_type": "markdown",
   "id": "46f36727",
   "metadata": {},
   "source": [
    "Compare the calculated fit to the orbit"
   ]
  },
  {
   "cell_type": "code",
   "execution_count": null,
   "id": "d20231e0",
   "metadata": {},
   "outputs": [],
   "source": [
    "redm4proc.sel(name='Q1M1D1R')"
   ]
  },
  {
   "cell_type": "code",
   "execution_count": null,
   "id": "b31700f9",
   "metadata": {},
   "outputs": [],
   "source": [
    "def check_kick_fit(measurement, orbit, parameters):\n",
    "    \"\"\"Difference of fit orbit to data\n",
    "    \n",
    "    Todo:\n",
    "          include measurement error\n",
    "    \"\"\"\n",
    "    bpm_names = measurement.coords['pos']\n",
    "    \n",
    "    s = parameters.sel(parameter='scaled_angle')\n",
    "    scale = s.sel(result='value')\n",
    "    scale_err = s.sel(result='error')\n",
    "    del s\n",
    "    \n",
    "    pars  = parameters.sel(parameter=bpm_names)\n",
    "    offset =  pars.sel(result='value')\n",
    "    offset_err = pars.sel(result='error')\n",
    "    del pars\n",
    "    \n",
    "    #print(parameters)\n",
    "    scaled_orbit = orbit * scale\n",
    "    scaled_orbit_err = np.absolute(orbit) * scale_err\n",
    "    \n",
    "    scaled_orbit_at_bpm = scaled_orbit.sel(pos=bpm_names)\n",
    "    s_x = scaled_orbit_at_bpm.sel(plane=\"x\") * measurement.excitation\n",
    "    s_y = scaled_orbit_at_bpm.sel(plane=\"y\") * measurement.excitation\n",
    "    m_x  = offset.sel(plane=\"x\") - measurement.x_pos\n",
    "    m_y  = offset.sel(plane=\"y\") - measurement.y_pos\n",
    "    diff_x = s_x + m_x\n",
    "    diff_y = s_y + m_y\n",
    "    del scaled_orbit_at_bpm\n",
    "    \n",
    "    so_at_bpm_err = scaled_orbit_err.sel(pos=bpm_names)\n",
    "    diff_x_err = so_at_bpm_err.sel(plane=\"x\") * measurement.excitation + offset_err.sel(plane=\"x\")\n",
    "    diff_y_err = so_at_bpm_err.sel(plane=\"y\") * measurement.excitation + offset_err.sel(plane=\"y\")\n",
    "    del so_at_bpm_err\n",
    "    \n",
    "    pos, step = diff_x.dims\n",
    "    coords = [[\"x\", \"y\"], [\"value\", \"error\", \"orbit\", \"measurement\"]]\n",
    "    dims = [\"plane\", \"result\",  pos, step]\n",
    "    coords += [diff_x.coords[pos], diff_x.coords[step]]\n",
    "    diff = xr.DataArray(data=[[diff_x, diff_x_err, s_x, m_x], [diff_y, diff_y_err, s_y, m_y]], dims=dims, coords=coords)\n",
    "    return diff"
   ]
  },
  {
   "cell_type": "code",
   "execution_count": null,
   "id": "5cf65855",
   "metadata": {},
   "outputs": [],
   "source": [
    "def process(name): \n",
    "    measurement = redm4proc.sel(name=name)\n",
    "    orbit = rds.orbit.sel(name=name)\n",
    "    diff = check_kick_fit(measurement, orbit, rds.fit_params.sel(name=name))\n",
    "    diff = diff.expand_dims(name=[name])\n",
    "    return diff\n",
    "\n",
    "diffs_fit = xr.concat([process(name) for name in rds.coords[\"name\"].values], dim=\"name\")\n"
   ]
  },
  {
   "cell_type": "code",
   "execution_count": null,
   "id": "66e92ebd",
   "metadata": {},
   "outputs": [],
   "source": [
    "np.absolute(diffs_fit.sel(result=\"value\")).max() * 1e6, np.absolute(diffs_fit.sel(result=\"error\")).max() * 1e6"
   ]
  },
  {
   "cell_type": "code",
   "execution_count": null,
   "id": "bdd12853",
   "metadata": {},
   "outputs": [],
   "source": [
    "rng = np.random.default_rng()"
   ]
  },
  {
   "cell_type": "code",
   "execution_count": null,
   "id": "58dd11d6",
   "metadata": {},
   "outputs": [],
   "source": [
    "quad_names = [str(name.values) for name in rds.coords[\"name\"]]\n",
    "quad_names_lc = [name.lower() for name in quad_names]"
   ]
  },
  {
   "cell_type": "code",
   "execution_count": null,
   "id": "fba5ca73",
   "metadata": {},
   "outputs": [],
   "source": [
    "y_max =  rds.fit_params.sel(plane=\"y\", result=\"value\", parameter=\"scaled_angle\").argmax().values\n",
    "y_min =  rds.fit_params.sel(plane=\"y\", result=\"value\", parameter=\"scaled_angle\").argmin().values\n",
    "x_max =  rds.fit_params.sel(plane=\"x\", result=\"value\", parameter=\"scaled_angle\").argmax().values\n",
    "x_min =  rds.fit_params.sel(plane=\"x\", result=\"value\", parameter=\"scaled_angle\").argmin().values\n",
    "y_max, y_min"
   ]
  },
  {
   "cell_type": "code",
   "execution_count": null,
   "id": "248a394e",
   "metadata": {},
   "outputs": [],
   "source": [
    "list(redm4proc.variables.keys())"
   ]
  },
  {
   "cell_type": "code",
   "execution_count": null,
   "id": "9a3ded9d",
   "metadata": {},
   "outputs": [],
   "source": [
    "redm4proc.x_pos.sel(name='Q1M1D1R').shape"
   ]
  },
  {
   "cell_type": "code",
   "execution_count": null,
   "id": "c39709c6",
   "metadata": {},
   "outputs": [],
   "source": [
    "plt.plot(\n",
    "    # redm4proc.x_pos.sel(name='Q1M1D1R', step=4), '-',\n",
    "    np.sqrt(1./redm4proc.y_rms.sel(name='Q1M1D1R', step=4)), 'x',\n",
    ")"
   ]
  },
  {
   "cell_type": "code",
   "execution_count": null,
   "id": "8c8294a2",
   "metadata": {},
   "outputs": [],
   "source": [
    "name = rng.choice(quad_names)\n",
    "name = rds.coords[\"name\"][91]\n",
    "name = rds.coords[\"name\"][x_min]\n",
    "name = \"Q4M2D1R\"\n",
    "name = \"Q3M2T2R\"\n",
    "name = \"Q4M1T4R\"\n",
    "name = \"Q5M2T5R\"\n",
    "t_diff = diffs_fit.sel(name=name)\n",
    "\n",
    "fig, axes = plt.subplots(2, 2, figsize=[14, 6], sharex=True)\n",
    "ax_comp, ax_diff = axes\n",
    "ax_x, ax_y = ax_comp\n",
    "ax_dx, ax_dy = ax_diff\n",
    "a_scale = 1e6\n",
    "err_scale = a_scale * 1\n",
    "ds = selected_model.ds.sel(pos=t_diff.pos)\n",
    "\n",
    "for step in t_diff.step:\n",
    "    t_dI = redm4proc.excitation.sel(name=name, step=step)\n",
    "    a_scale_ = a_scale * np.sign(t_dI)\n",
    "    err_scale_ = err_scale #* np.sign(step)\n",
    "    ax_x.errorbar(\n",
    "        ds, t_diff.sel(step=step, result=\"orbit\", plane=\"x\") * a_scale_,\n",
    "        yerr=t_diff.sel(step=step, result=\"error\", plane=\"x\")* err_scale_, \n",
    "        fmt= '-'\n",
    "    )\n",
    "    ax_y.errorbar(\n",
    "        ds, t_diff.sel(step=step, result=\"orbit\", plane=\"y\") * a_scale_,\n",
    "        yerr=t_diff.sel(step=step, result=\"error\", plane=\"y\")* err_scale_, \n",
    "        fmt= '-'\n",
    "    )\n",
    "    ax_x.errorbar(\n",
    "        ds, t_diff.sel(step=step, result=\"measurement\", plane=\"x\") * a_scale_ * -1,\n",
    "        yerr=t_diff.sel(step=step, result=\"error\", plane=\"x\")* err_scale_, \n",
    "        fmt= '+'\n",
    "    )\n",
    "    ax_y.errorbar(\n",
    "        ds, t_diff.sel(step=step, result=\"measurement\", plane=\"y\") * a_scale_ * -1,\n",
    "        yerr=t_diff.sel(step=step, result=\"error\", plane=\"y\") * err_scale_, \n",
    "        fmt= '+'\n",
    "    )\n",
    "    ax_dx.errorbar(\n",
    "        ds, t_diff.sel(step=step, result=\"value\", plane=\"x\") * a_scale_,\n",
    "        yerr=t_diff.sel(step=step, result=\"error\", plane=\"x\")* err_scale_, \n",
    "        fmt= '.'\n",
    "    )\n",
    "    ax_dy.errorbar(\n",
    "        ds, t_diff.sel(step=step, result=\"value\", plane=\"y\") * a_scale_,\n",
    "        yerr=t_diff.sel(step=step, result=\"error\", plane=\"y\")* err_scale_, \n",
    "        fmt= '.'\n",
    "    )\n",
    "ax_y.set_xlabel('s [m]')\n",
    "ax_x.set_ylabel('x [$\\mu$m]')\n",
    "ax_y.set_ylabel('y [$\\mu$m]');\n",
    "ax_dx.set_ylabel('dx [$\\mu$m]')\n",
    "ax_dy.set_ylabel('dy [$\\mu$m]');\n"
   ]
  },
  {
   "cell_type": "code",
   "execution_count": null,
   "id": "6c6ed776",
   "metadata": {},
   "outputs": [],
   "source": [
    "fig, axes = plt.subplots(2, 1, figsize=[12, 9], sharex=True)\n",
    "ax_x, ax_y = axes\n",
    "a_scale = rds.orbit.attrs['theta'] * 1e6\n",
    "err_scale = a_scale * 5\n",
    "ds = selected_model.ds.sel(pos=quad_names_lc)\n",
    "ax_x.errorbar(\n",
    "    ds, rds.fit_params.sel(name=quad_names, parameter='scaled_angle', result='value', plane='x') * a_scale, \n",
    "    yerr=rds.fit_params.sel(name=quad_names, parameter='scaled_angle', result='error', plane='x') * err_scale, \n",
    "    fmt= '.'\n",
    ")\n",
    "ax_y.errorbar(\n",
    "    ds, rds.fit_params.sel(name=quad_names, parameter='scaled_angle', result='value', plane='y') * a_scale, \n",
    "    yerr=rds.fit_params.sel(name=quad_names, parameter='scaled_angle', result='error', plane='y') * err_scale, \n",
    "    fmt= '.'\n",
    ")\n",
    "ax_y.set_xlabel('s [m]')\n",
    "ax_x.set_ylabel('x [$\\mu rad$]')\n",
    "ax_y.set_ylabel('y [$\\mu$ rad]')\n"
   ]
  },
  {
   "cell_type": "code",
   "execution_count": null,
   "id": "d70023a1",
   "metadata": {},
   "outputs": [],
   "source": [
    "import bact2_bessyii.magnets\n",
    "importlib.reload(bact2_bessyii.magnets)"
   ]
  },
  {
   "cell_type": "code",
   "execution_count": null,
   "id": "d79f7bfc",
   "metadata": {},
   "outputs": [],
   "source": [
    "import bact_analysis_bessyii.bba.calc\n",
    "importlib.reload(bact_analysis_bessyii.bba.calc)"
   ]
  },
  {
   "cell_type": "code",
   "execution_count": null,
   "id": "6c5fcf24",
   "metadata": {},
   "outputs": [],
   "source": [
    "calib_quad = bact_analysis_bessyii.bba.calc.load_calib_data()\n",
    "calib_quad"
   ]
  },
  {
   "cell_type": "markdown",
   "id": "d8718bea",
   "metadata": {},
   "source": [
    "Impact of muxer:\n",
    "\n",
    "* the muxer powers an auxilliary coil. This coil has 75 turns\n",
    "* the main quadrupole coil has 28 turns"
   ]
  },
  {
   "cell_type": "code",
   "execution_count": null,
   "id": "5817eed7",
   "metadata": {},
   "outputs": [],
   "source": [
    "offsets = bact_analysis_bessyii.bba.calc.angles_to_offset_all(rds, names=quad_names, tf_scale=75.0/28.0)\n",
    "offsets;"
   ]
  },
  {
   "cell_type": "code",
   "execution_count": null,
   "id": "fe3c2591",
   "metadata": {},
   "outputs": [],
   "source": []
  },
  {
   "cell_type": "code",
   "execution_count": null,
   "id": "f3667302",
   "metadata": {},
   "outputs": [],
   "source": [
    "name"
   ]
  },
  {
   "cell_type": "code",
   "execution_count": null,
   "id": "2390741d",
   "metadata": {},
   "outputs": [],
   "source": [
    "offsets.sel(name=name, result=\"value\")*1e3"
   ]
  },
  {
   "cell_type": "code",
   "execution_count": null,
   "id": "12df95f5",
   "metadata": {},
   "outputs": [],
   "source": [
    "fig, axes = plt.subplots(2, 1, figsize=[12, 9], sharex=True)\n",
    "ax_x, ax_y = axes\n",
    "a_scale = 1e6\n",
    "ax_x.errorbar(\n",
    "    ds,\n",
    "    offsets.sel(name=quad_names, result=\"value\", plane=\"x\") * a_scale,\n",
    "    yerr=offsets.sel(name=quad_names, result=\"error\", plane=\"x\") * a_scale,\n",
    "    fmt=\".-\",\n",
    ")\n",
    "ax_y.errorbar(\n",
    "    ds,\n",
    "    offsets.sel(name=quad_names, result=\"value\", plane=\"y\") * a_scale,\n",
    "    yerr=offsets.sel(name=quad_names, result=\"error\", plane=\"y\") * a_scale,\n",
    "    fmt=\".-\",\n",
    ")\n",
    "ax_y.set_xlabel(\"s [m]\")\n",
    "ax_x.set_xlabel(\"s [m]\")\n",
    "ax_x.set_ylabel(\"x [$\\mu$m]\")\n",
    "ax_y.set_ylabel(\"y [$\\mu$m]\")\n",
    "fig.savefig(\"axes_offset.pdf\")"
   ]
  },
  {
   "cell_type": "markdown",
   "id": "1d7fe97b",
   "metadata": {},
   "source": [
    "## Comparison to classic BBA"
   ]
  },
  {
   "cell_type": "code",
   "execution_count": null,
   "id": "0c7bb961",
   "metadata": {},
   "outputs": [],
   "source": [
    "import os.path\n",
    "import pandas as pd\n",
    "import h5py"
   ]
  },
  {
   "cell_type": "code",
   "execution_count": null,
   "id": "b9419f81",
   "metadata": {},
   "outputs": [],
   "source": [
    "ls BBA_Classic"
   ]
  },
  {
   "cell_type": "code",
   "execution_count": null,
   "id": "20e818f6",
   "metadata": {},
   "outputs": [],
   "source": [
    "t_dir = 'BBA_Classic'"
   ]
  },
  {
   "cell_type": "code",
   "execution_count": null,
   "id": "074ede98",
   "metadata": {},
   "outputs": [],
   "source": [
    "df_classic  = pd.read_hdf(os.path.join(t_dir, \"20210818_quadrupoleOffsetsOldSchoolAnalysis.hdf\")).set_index(\"names\")"
   ]
  },
  {
   "cell_type": "code",
   "execution_count": null,
   "id": "f9fc4cc0",
   "metadata": {},
   "outputs": [],
   "source": [
    "ds_classic = xr.Dataset.from_dataframe(df_classic)\n",
    "ds_classic = ds_classic.rename_dims(names='name').assign_coords(name=[name.strip() for name in ds_classic.names.values]).reset_coords(drop=True)\n",
    "ds_classic"
   ]
  },
  {
   "cell_type": "code",
   "execution_count": null,
   "id": "1b36a73a-e5ad-48d5-b334-29feb406a88e",
   "metadata": {},
   "outputs": [],
   "source": [
    "filename = 'bba_classic.nc'"
   ]
  },
  {
   "cell_type": "code",
   "execution_count": null,
   "id": "da4278b5-7903-43ea-846b-4cb138df76e8",
   "metadata": {},
   "outputs": [],
   "source": [
    "ds_classic = xr.load_dataset('bba_classic.nc')"
   ]
  },
  {
   "cell_type": "code",
   "execution_count": null,
   "id": "17c169a5",
   "metadata": {},
   "outputs": [],
   "source": [
    "ds_classic.sel(name=\"Q5M2T5R\")*1e3"
   ]
  },
  {
   "cell_type": "code",
   "execution_count": null,
   "id": "57a76c09",
   "metadata": {},
   "outputs": [],
   "source": [
    "ds;"
   ]
  },
  {
   "cell_type": "code",
   "execution_count": null,
   "id": "ab58f3c5",
   "metadata": {},
   "outputs": [],
   "source": [
    "#quad_names = offsets.coords['name'].values\n",
    "#quad_names_lc = [name.lower() for name in quad_names]\n",
    "#quad_names;"
   ]
  },
  {
   "cell_type": "code",
   "execution_count": null,
   "id": "7b4a6276",
   "metadata": {},
   "outputs": [],
   "source": [
    "set(ds_classic.name.values).difference(quad_names)"
   ]
  },
  {
   "cell_type": "code",
   "execution_count": null,
   "id": "18a1f937-7f6e-4482-adcc-1cfb95f9aeb4",
   "metadata": {},
   "outputs": [],
   "source": [
    "ds_classic.dX.sel(name=quad_names)"
   ]
  },
  {
   "cell_type": "code",
   "execution_count": null,
   "id": "257e7d6c",
   "metadata": {},
   "outputs": [],
   "source": [
    "fig, axes = plt.subplots(2, 1, figsize=[24, 12], sharex=True)\n",
    "ax_x, ax_y = axes\n",
    "a_scale = 1e6 * 2.5\n",
    "classic_scale = 1e3\n",
    "ax_x.errorbar(\n",
    "    ds.sel(pos=quad_names_lc),\n",
    "    offsets.sel(name=quad_names, result=\"value\", plane=\"x\") * a_scale,\n",
    "    yerr=offsets.sel(name=quad_names, result=\"error\", plane=\"x\") * a_scale,\n",
    "    fmt=\".\",\n",
    ")\n",
    "ax_x.errorbar(\n",
    "    ds.sel(pos=quad_names_lc),\n",
    "    ds_classic.dX.sel(name=quad_names) * classic_scale,\n",
    "    yerr=ds_classic.dXerr.sel(name=quad_names) * classic_scale,\n",
    "    fmt=\"+\",\n",
    ")\n",
    "ax_y.errorbar(\n",
    "    ds,\n",
    "    offsets.sel(name=quad_names, result=\"value\", plane=\"y\") * a_scale,\n",
    "    yerr=offsets.sel(name=quad_names, result=\"error\", plane=\"y\") * a_scale,\n",
    "    fmt=\".\",\n",
    ")\n",
    "ax_y.errorbar(\n",
    "    ds.sel(pos=quad_names_lc),\n",
    "    ds_classic.dY.sel(name=quad_names) * classic_scale,\n",
    "    yerr=ds_classic.dYerr.sel(name=quad_names) * classic_scale,\n",
    "    fmt=\"+\",\n",
    ")\n",
    "ax_y.set_xlabel(\"s [m]\")\n",
    "ax_x.set_ylabel(\"x [$\\mu$m]\")\n",
    "ax_y.set_ylabel(\"y [$\\mu$m]\")"
   ]
  },
  {
   "cell_type": "code",
   "execution_count": null,
   "id": "b1b7c169",
   "metadata": {},
   "outputs": [],
   "source": [
    "fig, axes = plt.subplots(2, 1, figsize=[12, 9], sharex=True)\n",
    "ax_x, ax_y = axes\n",
    "# a_scale = 1e6 * 2\n",
    "# classic_scale = 1e3 \n",
    "\n",
    "dx = offsets.sel(name=quad_names, result=\"value\", plane=\"x\") * a_scale - ds_classic.dX.sel(name=quad_names) * classic_scale\n",
    "dy = offsets.sel(name=quad_names, result=\"value\", plane=\"y\") * a_scale - ds_classic.dY.sel(name=quad_names) * classic_scale\n",
    "\n",
    "delta_dx = offsets.sel(name=quad_names, result=\"error\", plane=\"x\") * a_scale + ds_classic.dXerr.sel(name=quad_names) * classic_scale\n",
    "delta_dy = offsets.sel(name=quad_names, result=\"error\", plane=\"y\") * a_scale + ds_classic.dYerr.sel(name=quad_names) * classic_scale\n",
    "ax_x.errorbar(\n",
    "    ds.sel(pos=quad_names_lc), dx,\n",
    "    yerr=delta_dx,\n",
    "    fmt=\".-\",\n",
    ")\n",
    "ax_y.errorbar(\n",
    "    ds.sel(pos=quad_names_lc),\n",
    "    dy,\n",
    "    yerr=delta_dy,\n",
    "    fmt=\".-\",\n",
    ")\n",
    "ax_y.set_xlabel(\"s [m]\")\n",
    "ax_x.set_ylabel(\"x [$\\mu$m]\")\n",
    "ax_y.set_ylabel(\"y [$\\mu$m]\")"
   ]
  },
  {
   "cell_type": "code",
   "execution_count": null,
   "id": "8e2e015a",
   "metadata": {},
   "outputs": [],
   "source": [
    "fig, ax = plt.subplots(1, 1)\n",
    "plt.plot(\n",
    "    ds.sel(pos=quad_names_lc) - ds_classic.s.sel(name=quad_names).values, '-'\n",
    "    #(ds.sel(pos=quad_names_lc).values -     \n",
    ")"
   ]
  },
  {
   "cell_type": "code",
   "execution_count": null,
   "id": "3856152f",
   "metadata": {},
   "outputs": [],
   "source": [
    "np.array([name.lower() for name in quad_names]) == np.array(quad_names_lc)"
   ]
  },
  {
   "cell_type": "code",
   "execution_count": null,
   "id": "0dd98794",
   "metadata": {},
   "outputs": [],
   "source": []
  }
 ],
 "metadata": {
  "kernelspec": {
   "display_name": "Python 3 (ipykernel)",
   "language": "python",
   "name": "python3"
  },
  "language_info": {
   "codemirror_mode": {
    "name": "ipython",
    "version": 3
   },
   "file_extension": ".py",
   "mimetype": "text/x-python",
   "name": "python",
   "nbconvert_exporter": "python",
   "pygments_lexer": "ipython3",
   "version": "3.8.10"
  },
  "toc": {
   "base_numbering": 1,
   "nav_menu": {},
   "number_sections": true,
   "sideBar": true,
   "skip_h1_title": false,
   "title_cell": "Table of Contents",
   "title_sidebar": "Contents",
   "toc_cell": false,
   "toc_position": {},
   "toc_section_display": true,
   "toc_window_display": false
  }
 },
 "nbformat": 4,
 "nbformat_minor": 5
}
