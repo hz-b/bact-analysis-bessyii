{
 "cells": [
  {
   "cell_type": "code",
   "execution_count": 1,
   "id": "eaf2b380",
   "metadata": {},
   "outputs": [
    {
     "data": {
      "text/html": [
       "<style>.container { width:90% !important; }</style>"
      ],
      "text/plain": [
       "<IPython.core.display.HTML object>"
      ]
     },
     "metadata": {},
     "output_type": "display_data"
    }
   ],
   "source": [
    "from IPython.display import display, Markdown, HTML\n",
    "display(HTML(\"<style>.container { width:90% !important; }</style>\"))"
   ]
  },
  {
   "cell_type": "code",
   "execution_count": 2,
   "id": "8cf31b7d",
   "metadata": {},
   "outputs": [],
   "source": [
    "import datetime\n",
    "import tqdm\n",
    "import importlib"
   ]
  },
  {
   "cell_type": "code",
   "execution_count": 3,
   "id": "f6f84d1a",
   "metadata": {},
   "outputs": [],
   "source": [
    "import xarray as xr\n",
    "import numpy as np\n",
    "#%matplotlib notebook\n",
    "#%matplotlib notebook\n",
    "%matplotlib inline\n",
    "import matplotlib.pyplot as plt"
   ]
  },
  {
   "cell_type": "code",
   "execution_count": 4,
   "id": "2f3e6cc8",
   "metadata": {},
   "outputs": [],
   "source": [
    "from databroker import catalog"
   ]
  },
  {
   "cell_type": "code",
   "execution_count": 5,
   "id": "90af1b6e",
   "metadata": {},
   "outputs": [
    {
     "ename": "ModuleNotFoundError",
     "evalue": "No module named 'bact_bessyii_ophyd'",
     "output_type": "error",
     "traceback": [
      "\u001b[0;31m---------------------------------------------------------------------------\u001b[0m",
      "\u001b[0;31mModuleNotFoundError\u001b[0m                       Traceback (most recent call last)",
      "\u001b[0;32m/tmp/ipykernel_105622/1448589058.py\u001b[0m in \u001b[0;36m<module>\u001b[0;34m\u001b[0m\n\u001b[1;32m      6\u001b[0m \u001b[0;32mimport\u001b[0m \u001b[0mbact_analysis\u001b[0m\u001b[0;34m.\u001b[0m\u001b[0mtransverse\u001b[0m\u001b[0;34m.\u001b[0m\u001b[0mtwiss_interpolate\u001b[0m\u001b[0;34m\u001b[0m\u001b[0;34m\u001b[0m\u001b[0m\n\u001b[1;32m      7\u001b[0m \u001b[0;32mimport\u001b[0m \u001b[0mbact_analysis\u001b[0m\u001b[0;34m.\u001b[0m\u001b[0mutils\u001b[0m\u001b[0;34m.\u001b[0m\u001b[0mpreprocess\u001b[0m\u001b[0;34m\u001b[0m\u001b[0;34m\u001b[0m\u001b[0m\n\u001b[0;32m----> 8\u001b[0;31m \u001b[0;32mimport\u001b[0m \u001b[0mbact_analysis_bessyii\u001b[0m\u001b[0;34m.\u001b[0m\u001b[0mbba\u001b[0m\u001b[0;34m.\u001b[0m\u001b[0mpreprocess_data\u001b[0m\u001b[0;34m\u001b[0m\u001b[0;34m\u001b[0m\u001b[0m\n\u001b[0m\u001b[1;32m      9\u001b[0m \u001b[0;32mimport\u001b[0m \u001b[0mbact_analysis_bessyii\u001b[0m\u001b[0;34m.\u001b[0m\u001b[0mbba\u001b[0m\u001b[0;34m.\u001b[0m\u001b[0mcalc\u001b[0m\u001b[0;34m\u001b[0m\u001b[0;34m\u001b[0m\u001b[0m\n",
      "\u001b[0;32m~/Devel/github/bact/custom/bessyii/analysis/bact_analysis_bessyii/bba/preprocess_data.py\u001b[0m in \u001b[0;36m<module>\u001b[0;34m\u001b[0m\n\u001b[1;32m      1\u001b[0m \u001b[0;32mfrom\u001b[0m \u001b[0mbact_analysis\u001b[0m\u001b[0;34m.\u001b[0m\u001b[0mutils\u001b[0m \u001b[0;32mimport\u001b[0m \u001b[0mpreprocess\u001b[0m\u001b[0;34m\u001b[0m\u001b[0;34m\u001b[0m\u001b[0m\n\u001b[1;32m      2\u001b[0m \u001b[0;32mimport\u001b[0m \u001b[0mtqdm\u001b[0m\u001b[0;34m\u001b[0m\u001b[0;34m\u001b[0m\u001b[0m\n\u001b[0;32m----> 3\u001b[0;31m \u001b[0;32mfrom\u001b[0m \u001b[0mbact_analysis_bessyii\u001b[0m\u001b[0;34m.\u001b[0m\u001b[0mmodel\u001b[0m\u001b[0;34m.\u001b[0m\u001b[0manalysis_model\u001b[0m \u001b[0;32mimport\u001b[0m  \u001b[0mMeasurementData\u001b[0m\u001b[0;34m\u001b[0m\u001b[0;34m\u001b[0m\u001b[0m\n\u001b[0m\u001b[1;32m      4\u001b[0m \u001b[0;32mfrom\u001b[0m \u001b[0mbact_analysis_bessyii\u001b[0m\u001b[0;34m.\u001b[0m\u001b[0mmodel\u001b[0m\u001b[0;34m.\u001b[0m\u001b[0manalysis_util\u001b[0m \u001b[0;32mimport\u001b[0m \u001b[0mget_measurement_per_magnet\u001b[0m\u001b[0;34m,\u001b[0m \u001b[0mflatten_for_fit\u001b[0m\u001b[0;34m\u001b[0m\u001b[0;34m\u001b[0m\u001b[0m\n\u001b[1;32m      5\u001b[0m \u001b[0;31m#: variables with bpm names\u001b[0m\u001b[0;34m\u001b[0m\u001b[0;34m\u001b[0m\u001b[0m\n",
      "\u001b[0;32m~/Devel/github/bact/custom/bessyii/analysis/bact_analysis_bessyii/model/analysis_model.py\u001b[0m in \u001b[0;36m<module>\u001b[0;34m\u001b[0m\n\u001b[1;32m      5\u001b[0m \u001b[0;32mimport\u001b[0m \u001b[0mnumpy\u001b[0m \u001b[0;32mas\u001b[0m \u001b[0mnp\u001b[0m\u001b[0;34m\u001b[0m\u001b[0;34m\u001b[0m\u001b[0m\n\u001b[1;32m      6\u001b[0m \u001b[0;34m\u001b[0m\u001b[0m\n\u001b[0;32m----> 7\u001b[0;31m \u001b[0;32mfrom\u001b[0m \u001b[0mbact_bessyii_ophyd\u001b[0m\u001b[0;34m.\u001b[0m\u001b[0mdevices\u001b[0m\u001b[0;34m.\u001b[0m\u001b[0mpp\u001b[0m\u001b[0;34m.\u001b[0m\u001b[0mbpmElem\u001b[0m \u001b[0;32mimport\u001b[0m \u001b[0mBpmElem\u001b[0m\u001b[0;34m\u001b[0m\u001b[0;34m\u001b[0m\u001b[0m\n\u001b[0m\u001b[1;32m      8\u001b[0m \u001b[0;34m\u001b[0m\u001b[0m\n\u001b[1;32m      9\u001b[0m \u001b[0;34m\u001b[0m\u001b[0m\n",
      "\u001b[0;31mModuleNotFoundError\u001b[0m: No module named 'bact_bessyii_ophyd'"
     ]
    }
   ],
   "source": [
    "import bact_analysis\n",
    "import bact_analysis.bba.calc\n",
    "import bact_analysis.transverse.calc\n",
    "import bact_analysis.transverse.distorted_orbit\n",
    "import bact_analysis.transverse.process\n",
    "import bact_analysis.transverse.twiss_interpolate\n",
    "import bact_analysis.utils.preprocess\n",
    "import bact_analysis_bessyii.bba.preprocess_data\n",
    "import bact_analysis_bessyii.bba.calc"
   ]
  },
  {
   "cell_type": "markdown",
   "id": "ace2af80",
   "metadata": {},
   "source": [
    "# BBA Analysis\n",
    "\n",
    "This notebook should be the center for selecting the required data and presenting the results.\n",
    "All computation or data rearangement shall be performed in libraries"
   ]
  },
  {
   "cell_type": "code",
   "execution_count": 6,
   "id": "a4d785c3",
   "metadata": {},
   "outputs": [
    {
     "data": {
      "text/plain": [
       "'2023 08 24 14:29'"
      ]
     },
     "execution_count": 6,
     "metadata": {},
     "output_type": "execute_result"
    }
   ],
   "source": [
    "datetime.datetime.now().strftime('%Y %m %d %H:%M')"
   ]
  },
  {
   "cell_type": "markdown",
   "id": "15093f42",
   "metadata": {},
   "source": [
    "## Data selection, check and load"
   ]
  },
  {
   "cell_type": "code",
   "execution_count": 7,
   "id": "0454f9f1",
   "metadata": {},
   "outputs": [],
   "source": [
    "catalog_name = 'heavy'"
   ]
  },
  {
   "cell_type": "code",
   "execution_count": 8,
   "id": "92de15b4",
   "metadata": {},
   "outputs": [],
   "source": [
    "db = catalog[catalog_name]"
   ]
  },
  {
   "cell_type": "markdown",
   "id": "a5fbf89d",
   "metadata": {},
   "source": [
    "For measurement elog entry see http://elog-v2.trs.bessy.de:8080/Machine+Devel.,+Comm./1788"
   ]
  },
  {
   "cell_type": "code",
   "execution_count": 9,
   "id": "d554ad30",
   "metadata": {},
   "outputs": [],
   "source": [
    "# uid = '24ff319d-b260-46e6-8356-0dfb08638fb1'\n",
    "uid = '24ff319d-b260-46e6-8356-0dfb08638fb1'\n",
    "uid = 'c6c3ad04-7c4c-4a6d-a7e8-91602cfea726'\n",
    "uid = 'eb89753c-5388-4ebb-a992-fc25b478acd8'"
   ]
  },
  {
   "cell_type": "markdown",
   "id": "29b73e91",
   "metadata": {},
   "source": [
    "For measurement see elog entry http://elog-v2.trs.bessy.de:8080/Machine+Devel.,+Comm./1971"
   ]
  },
  {
   "cell_type": "code",
   "execution_count": 10,
   "id": "4883ceb6",
   "metadata": {},
   "outputs": [],
   "source": [
    "uid = 'b226943c-1941-46ce-bc35-0530ea6e276c'\n",
    "uid = 'e0aef7b8-f57e-4594-9618-70d01aaa65a7'\n",
    "uid = 'e60215ff-62ea-4d3b-a968-f6b0d9d9ee9d'\n",
    "uid = 'fa22af2e-0398-41eb-94b9-e9b957ba4f31'"
   ]
  },
  {
   "cell_type": "markdown",
   "id": "c510e41d",
   "metadata": {},
   "source": [
    "See http://elog-v2.trs.bessy.de:8080/Machine+Devel.,+Comm./1982 for measurement entry"
   ]
  },
  {
   "cell_type": "code",
   "execution_count": 11,
   "id": "49320244",
   "metadata": {},
   "outputs": [],
   "source": [
    "uid = \"350d945b-6d2f-42b4-892b-7c2c3a9a17d0\""
   ]
  },
  {
   "cell_type": "code",
   "execution_count": 12,
   "id": "ef2f4520",
   "metadata": {},
   "outputs": [
    {
     "ename": "ServerSelectionTimeoutError",
     "evalue": "mongodb.bessy.de:27017: timed out, Timeout: 30s, Topology Description: <TopologyDescription id: 64e74d330701cdb99bc2405e, topology_type: Single, servers: [<ServerDescription ('mongodb.bessy.de', 27017) server_type: Unknown, rtt: None, error=NetworkTimeout('mongodb.bessy.de:27017: timed out')>]>",
     "output_type": "error",
     "traceback": [
      "\u001b[0;31m---------------------------------------------------------------------------\u001b[0m",
      "\u001b[0;31mServerSelectionTimeoutError\u001b[0m               Traceback (most recent call last)",
      "\u001b[0;32m/tmp/ipykernel_105622/1706295276.py\u001b[0m in \u001b[0;36m<module>\u001b[0;34m\u001b[0m\n\u001b[0;32m----> 1\u001b[0;31m \u001b[0mlist\u001b[0m\u001b[0;34m(\u001b[0m\u001b[0mdb\u001b[0m\u001b[0;34m.\u001b[0m\u001b[0mkeys\u001b[0m\u001b[0;34m(\u001b[0m\u001b[0;34m)\u001b[0m\u001b[0;34m)\u001b[0m\u001b[0;34m;\u001b[0m\u001b[0;34m\u001b[0m\u001b[0;34m\u001b[0m\u001b[0m\n\u001b[0m",
      "\u001b[0;32m~/.local/lib/python3.10/site-packages/databroker/_drivers/mongo_normalized.py\u001b[0m in \u001b[0;36m__iter__\u001b[0;34m(self)\u001b[0m\n\u001b[1;32m     68\u001b[0m         cursor = self.catalog._run_start_collection.find(\n\u001b[1;32m     69\u001b[0m             self.catalog._query, **find_kwargs)\n\u001b[0;32m---> 70\u001b[0;31m         \u001b[0;32mfor\u001b[0m \u001b[0mrun_start_doc\u001b[0m \u001b[0;32min\u001b[0m \u001b[0mcursor\u001b[0m\u001b[0;34m:\u001b[0m\u001b[0;34m\u001b[0m\u001b[0;34m\u001b[0m\u001b[0m\n\u001b[0m\u001b[1;32m     71\u001b[0m             \u001b[0;32myield\u001b[0m \u001b[0mrun_start_doc\u001b[0m\u001b[0;34m[\u001b[0m\u001b[0;34m'uid'\u001b[0m\u001b[0;34m]\u001b[0m\u001b[0;34m\u001b[0m\u001b[0;34m\u001b[0m\u001b[0m\n\u001b[1;32m     72\u001b[0m \u001b[0;34m\u001b[0m\u001b[0m\n",
      "\u001b[0;32m/usr/lib/python3/dist-packages/pymongo/cursor.py\u001b[0m in \u001b[0;36mnext\u001b[0;34m(self)\u001b[0m\n\u001b[1;32m   1205\u001b[0m         \u001b[0;32mif\u001b[0m \u001b[0mself\u001b[0m\u001b[0;34m.\u001b[0m\u001b[0m__empty\u001b[0m\u001b[0;34m:\u001b[0m\u001b[0;34m\u001b[0m\u001b[0;34m\u001b[0m\u001b[0m\n\u001b[1;32m   1206\u001b[0m             \u001b[0;32mraise\u001b[0m \u001b[0mStopIteration\u001b[0m\u001b[0;34m\u001b[0m\u001b[0;34m\u001b[0m\u001b[0m\n\u001b[0;32m-> 1207\u001b[0;31m         \u001b[0;32mif\u001b[0m \u001b[0mlen\u001b[0m\u001b[0;34m(\u001b[0m\u001b[0mself\u001b[0m\u001b[0;34m.\u001b[0m\u001b[0m__data\u001b[0m\u001b[0;34m)\u001b[0m \u001b[0;32mor\u001b[0m \u001b[0mself\u001b[0m\u001b[0;34m.\u001b[0m\u001b[0m_refresh\u001b[0m\u001b[0;34m(\u001b[0m\u001b[0;34m)\u001b[0m\u001b[0;34m:\u001b[0m\u001b[0;34m\u001b[0m\u001b[0;34m\u001b[0m\u001b[0m\n\u001b[0m\u001b[1;32m   1208\u001b[0m             \u001b[0;32mif\u001b[0m \u001b[0mself\u001b[0m\u001b[0;34m.\u001b[0m\u001b[0m__manipulate\u001b[0m\u001b[0;34m:\u001b[0m\u001b[0;34m\u001b[0m\u001b[0;34m\u001b[0m\u001b[0m\n\u001b[1;32m   1209\u001b[0m                 \u001b[0m_db\u001b[0m \u001b[0;34m=\u001b[0m \u001b[0mself\u001b[0m\u001b[0;34m.\u001b[0m\u001b[0m__collection\u001b[0m\u001b[0;34m.\u001b[0m\u001b[0mdatabase\u001b[0m\u001b[0;34m\u001b[0m\u001b[0;34m\u001b[0m\u001b[0m\n",
      "\u001b[0;32m/usr/lib/python3/dist-packages/pymongo/cursor.py\u001b[0m in \u001b[0;36m_refresh\u001b[0;34m(self)\u001b[0m\n\u001b[1;32m   1098\u001b[0m \u001b[0;34m\u001b[0m\u001b[0m\n\u001b[1;32m   1099\u001b[0m         \u001b[0;32mif\u001b[0m \u001b[0;32mnot\u001b[0m \u001b[0mself\u001b[0m\u001b[0;34m.\u001b[0m\u001b[0m__session\u001b[0m\u001b[0;34m:\u001b[0m\u001b[0;34m\u001b[0m\u001b[0;34m\u001b[0m\u001b[0m\n\u001b[0;32m-> 1100\u001b[0;31m             \u001b[0mself\u001b[0m\u001b[0;34m.\u001b[0m\u001b[0m__session\u001b[0m \u001b[0;34m=\u001b[0m \u001b[0mself\u001b[0m\u001b[0;34m.\u001b[0m\u001b[0m__collection\u001b[0m\u001b[0;34m.\u001b[0m\u001b[0mdatabase\u001b[0m\u001b[0;34m.\u001b[0m\u001b[0mclient\u001b[0m\u001b[0;34m.\u001b[0m\u001b[0m_ensure_session\u001b[0m\u001b[0;34m(\u001b[0m\u001b[0;34m)\u001b[0m\u001b[0;34m\u001b[0m\u001b[0;34m\u001b[0m\u001b[0m\n\u001b[0m\u001b[1;32m   1101\u001b[0m \u001b[0;34m\u001b[0m\u001b[0m\n\u001b[1;32m   1102\u001b[0m         \u001b[0;32mif\u001b[0m \u001b[0mself\u001b[0m\u001b[0;34m.\u001b[0m\u001b[0m__id\u001b[0m \u001b[0;32mis\u001b[0m \u001b[0;32mNone\u001b[0m\u001b[0;34m:\u001b[0m  \u001b[0;31m# Query\u001b[0m\u001b[0;34m\u001b[0m\u001b[0;34m\u001b[0m\u001b[0m\n",
      "\u001b[0;32m/usr/lib/python3/dist-packages/pymongo/mongo_client.py\u001b[0m in \u001b[0;36m_ensure_session\u001b[0;34m(self, session)\u001b[0m\n\u001b[1;32m   1814\u001b[0m             \u001b[0;31m# Don't make implicit sessions causally consistent. Applications\u001b[0m\u001b[0;34m\u001b[0m\u001b[0;34m\u001b[0m\u001b[0m\n\u001b[1;32m   1815\u001b[0m             \u001b[0;31m# should always opt-in.\u001b[0m\u001b[0;34m\u001b[0m\u001b[0;34m\u001b[0m\u001b[0m\n\u001b[0;32m-> 1816\u001b[0;31m             \u001b[0;32mreturn\u001b[0m \u001b[0mself\u001b[0m\u001b[0;34m.\u001b[0m\u001b[0m__start_session\u001b[0m\u001b[0;34m(\u001b[0m\u001b[0;32mTrue\u001b[0m\u001b[0;34m,\u001b[0m \u001b[0mcausal_consistency\u001b[0m\u001b[0;34m=\u001b[0m\u001b[0;32mFalse\u001b[0m\u001b[0;34m)\u001b[0m\u001b[0;34m\u001b[0m\u001b[0;34m\u001b[0m\u001b[0m\n\u001b[0m\u001b[1;32m   1817\u001b[0m         \u001b[0;32mexcept\u001b[0m \u001b[0;34m(\u001b[0m\u001b[0mConfigurationError\u001b[0m\u001b[0;34m,\u001b[0m \u001b[0mInvalidOperation\u001b[0m\u001b[0;34m)\u001b[0m\u001b[0;34m:\u001b[0m\u001b[0;34m\u001b[0m\u001b[0;34m\u001b[0m\u001b[0m\n\u001b[1;32m   1818\u001b[0m             \u001b[0;31m# Sessions not supported, or multiple users authenticated.\u001b[0m\u001b[0;34m\u001b[0m\u001b[0;34m\u001b[0m\u001b[0m\n",
      "\u001b[0;32m/usr/lib/python3/dist-packages/pymongo/mongo_client.py\u001b[0m in \u001b[0;36m__start_session\u001b[0;34m(self, implicit, **kwargs)\u001b[0m\n\u001b[1;32m   1764\u001b[0m \u001b[0;34m\u001b[0m\u001b[0m\n\u001b[1;32m   1765\u001b[0m         \u001b[0;31m# Raises ConfigurationError if sessions are not supported.\u001b[0m\u001b[0;34m\u001b[0m\u001b[0;34m\u001b[0m\u001b[0m\n\u001b[0;32m-> 1766\u001b[0;31m         \u001b[0mserver_session\u001b[0m \u001b[0;34m=\u001b[0m \u001b[0mself\u001b[0m\u001b[0;34m.\u001b[0m\u001b[0m_get_server_session\u001b[0m\u001b[0;34m(\u001b[0m\u001b[0;34m)\u001b[0m\u001b[0;34m\u001b[0m\u001b[0;34m\u001b[0m\u001b[0m\n\u001b[0m\u001b[1;32m   1767\u001b[0m         \u001b[0mopts\u001b[0m \u001b[0;34m=\u001b[0m \u001b[0mclient_session\u001b[0m\u001b[0;34m.\u001b[0m\u001b[0mSessionOptions\u001b[0m\u001b[0;34m(\u001b[0m\u001b[0;34m**\u001b[0m\u001b[0mkwargs\u001b[0m\u001b[0;34m)\u001b[0m\u001b[0;34m\u001b[0m\u001b[0;34m\u001b[0m\u001b[0m\n\u001b[1;32m   1768\u001b[0m         return client_session.ClientSession(\n",
      "\u001b[0;32m/usr/lib/python3/dist-packages/pymongo/mongo_client.py\u001b[0m in \u001b[0;36m_get_server_session\u001b[0;34m(self)\u001b[0m\n\u001b[1;32m   1800\u001b[0m     \u001b[0;32mdef\u001b[0m \u001b[0m_get_server_session\u001b[0m\u001b[0;34m(\u001b[0m\u001b[0mself\u001b[0m\u001b[0;34m)\u001b[0m\u001b[0;34m:\u001b[0m\u001b[0;34m\u001b[0m\u001b[0;34m\u001b[0m\u001b[0m\n\u001b[1;32m   1801\u001b[0m         \u001b[0;34m\"\"\"Internal: start or resume a _ServerSession.\"\"\"\u001b[0m\u001b[0;34m\u001b[0m\u001b[0;34m\u001b[0m\u001b[0m\n\u001b[0;32m-> 1802\u001b[0;31m         \u001b[0;32mreturn\u001b[0m \u001b[0mself\u001b[0m\u001b[0;34m.\u001b[0m\u001b[0m_topology\u001b[0m\u001b[0;34m.\u001b[0m\u001b[0mget_server_session\u001b[0m\u001b[0;34m(\u001b[0m\u001b[0;34m)\u001b[0m\u001b[0;34m\u001b[0m\u001b[0;34m\u001b[0m\u001b[0m\n\u001b[0m\u001b[1;32m   1803\u001b[0m \u001b[0;34m\u001b[0m\u001b[0m\n\u001b[1;32m   1804\u001b[0m     \u001b[0;32mdef\u001b[0m \u001b[0m_return_server_session\u001b[0m\u001b[0;34m(\u001b[0m\u001b[0mself\u001b[0m\u001b[0;34m,\u001b[0m \u001b[0mserver_session\u001b[0m\u001b[0;34m,\u001b[0m \u001b[0mlock\u001b[0m\u001b[0;34m)\u001b[0m\u001b[0;34m:\u001b[0m\u001b[0;34m\u001b[0m\u001b[0;34m\u001b[0m\u001b[0m\n",
      "\u001b[0;32m/usr/lib/python3/dist-packages/pymongo/topology.py\u001b[0m in \u001b[0;36mget_server_session\u001b[0;34m(self)\u001b[0m\n\u001b[1;32m    483\u001b[0m                 \u001b[0;32mif\u001b[0m \u001b[0mself\u001b[0m\u001b[0;34m.\u001b[0m\u001b[0m_description\u001b[0m\u001b[0;34m.\u001b[0m\u001b[0mtopology_type\u001b[0m \u001b[0;34m==\u001b[0m \u001b[0mTOPOLOGY_TYPE\u001b[0m\u001b[0;34m.\u001b[0m\u001b[0mSingle\u001b[0m\u001b[0;34m:\u001b[0m\u001b[0;34m\u001b[0m\u001b[0;34m\u001b[0m\u001b[0m\n\u001b[1;32m    484\u001b[0m                     \u001b[0;32mif\u001b[0m \u001b[0;32mnot\u001b[0m \u001b[0mself\u001b[0m\u001b[0;34m.\u001b[0m\u001b[0m_description\u001b[0m\u001b[0;34m.\u001b[0m\u001b[0mhas_known_servers\u001b[0m\u001b[0;34m:\u001b[0m\u001b[0;34m\u001b[0m\u001b[0;34m\u001b[0m\u001b[0m\n\u001b[0;32m--> 485\u001b[0;31m                         self._select_servers_loop(\n\u001b[0m\u001b[1;32m    486\u001b[0m                             \u001b[0many_server_selector\u001b[0m\u001b[0;34m,\u001b[0m\u001b[0;34m\u001b[0m\u001b[0;34m\u001b[0m\u001b[0m\n\u001b[1;32m    487\u001b[0m                             \u001b[0mself\u001b[0m\u001b[0;34m.\u001b[0m\u001b[0m_settings\u001b[0m\u001b[0;34m.\u001b[0m\u001b[0mserver_selection_timeout\u001b[0m\u001b[0;34m,\u001b[0m\u001b[0;34m\u001b[0m\u001b[0;34m\u001b[0m\u001b[0m\n",
      "\u001b[0;32m/usr/lib/python3/dist-packages/pymongo/topology.py\u001b[0m in \u001b[0;36m_select_servers_loop\u001b[0;34m(self, selector, timeout, address)\u001b[0m\n\u001b[1;32m    213\u001b[0m             \u001b[0;31m# No suitable servers.\u001b[0m\u001b[0;34m\u001b[0m\u001b[0;34m\u001b[0m\u001b[0m\n\u001b[1;32m    214\u001b[0m             \u001b[0;32mif\u001b[0m \u001b[0mtimeout\u001b[0m \u001b[0;34m==\u001b[0m \u001b[0;36m0\u001b[0m \u001b[0;32mor\u001b[0m \u001b[0mnow\u001b[0m \u001b[0;34m>\u001b[0m \u001b[0mend_time\u001b[0m\u001b[0;34m:\u001b[0m\u001b[0;34m\u001b[0m\u001b[0;34m\u001b[0m\u001b[0m\n\u001b[0;32m--> 215\u001b[0;31m                 raise ServerSelectionTimeoutError(\n\u001b[0m\u001b[1;32m    216\u001b[0m                     \u001b[0;34m\"%s, Timeout: %ss, Topology Description: %r\"\u001b[0m \u001b[0;34m%\u001b[0m\u001b[0;34m\u001b[0m\u001b[0;34m\u001b[0m\u001b[0m\n\u001b[1;32m    217\u001b[0m                     (self._error_message(selector), timeout, self.description))\n",
      "\u001b[0;31mServerSelectionTimeoutError\u001b[0m: mongodb.bessy.de:27017: timed out, Timeout: 30s, Topology Description: <TopologyDescription id: 64e74d330701cdb99bc2405e, topology_type: Single, servers: [<ServerDescription ('mongodb.bessy.de', 27017) server_type: Unknown, rtt: None, error=NetworkTimeout('mongodb.bessy.de:27017: timed out')>]>"
     ]
    }
   ],
   "source": [
    "list(db.keys());"
   ]
  },
  {
   "cell_type": "code",
   "execution_count": null,
   "id": "3129b4b3",
   "metadata": {},
   "outputs": [],
   "source": [
    "run = db[uid]"
   ]
  },
  {
   "cell_type": "markdown",
   "id": "0e7b9134",
   "metadata": {},
   "source": [
    "### loading data"
   ]
  },
  {
   "cell_type": "code",
   "execution_count": null,
   "id": "b857dbd5",
   "metadata": {},
   "outputs": [],
   "source": [
    "preprocessed_, dt_configuration = bact_analysis_bessyii.bba.preprocess_data.load_and_check_data(run)"
   ]
  },
  {
   "cell_type": "code",
   "execution_count": null,
   "id": "3b794e39",
   "metadata": {},
   "outputs": [],
   "source": [
    "preprocessed_.dt_bpm_waveform_x_rms"
   ]
  },
  {
   "cell_type": "code",
   "execution_count": null,
   "id": "9deedc5a",
   "metadata": {},
   "outputs": [],
   "source": []
  },
  {
   "cell_type": "markdown",
   "id": "3d952058",
   "metadata": {},
   "source": [
    "### load lattice model"
   ]
  },
  {
   "cell_type": "markdown",
   "id": "0646fac1",
   "metadata": {},
   "source": [
    "Load the lattice model. Rename all position names that are not unique in the model.\n",
    "\n",
    "\n",
    "This is required later on so that the position name can be used as index"
   ]
  },
  {
   "cell_type": "code",
   "execution_count": 14,
   "id": "d88926b9",
   "metadata": {},
   "outputs": [
    {
     "ename": "FileNotFoundError",
     "evalue": "[Errno 2] No such file or directory: b'/home/mfp/Devel/github/bact/custom/bessyii/analysis/notebooks/bessyii_twiss_thor_scsi.nc'",
     "output_type": "error",
     "traceback": [
      "\u001b[0;31m---------------------------------------------------------------------------\u001b[0m",
      "\u001b[0;31mKeyError\u001b[0m                                  Traceback (most recent call last)",
      "\u001b[0;32m/usr/lib/python3/dist-packages/xarray/backends/file_manager.py\u001b[0m in \u001b[0;36m_acquire_with_cache_info\u001b[0;34m(self, needs_lock)\u001b[0m\n\u001b[1;32m    198\u001b[0m             \u001b[0;32mtry\u001b[0m\u001b[0;34m:\u001b[0m\u001b[0;34m\u001b[0m\u001b[0;34m\u001b[0m\u001b[0m\n\u001b[0;32m--> 199\u001b[0;31m                 \u001b[0mfile\u001b[0m \u001b[0;34m=\u001b[0m \u001b[0mself\u001b[0m\u001b[0;34m.\u001b[0m\u001b[0m_cache\u001b[0m\u001b[0;34m[\u001b[0m\u001b[0mself\u001b[0m\u001b[0;34m.\u001b[0m\u001b[0m_key\u001b[0m\u001b[0;34m]\u001b[0m\u001b[0;34m\u001b[0m\u001b[0;34m\u001b[0m\u001b[0m\n\u001b[0m\u001b[1;32m    200\u001b[0m             \u001b[0;32mexcept\u001b[0m \u001b[0mKeyError\u001b[0m\u001b[0;34m:\u001b[0m\u001b[0;34m\u001b[0m\u001b[0;34m\u001b[0m\u001b[0m\n",
      "\u001b[0;32m/usr/lib/python3/dist-packages/xarray/backends/lru_cache.py\u001b[0m in \u001b[0;36m__getitem__\u001b[0;34m(self, key)\u001b[0m\n\u001b[1;32m     52\u001b[0m         \u001b[0;32mwith\u001b[0m \u001b[0mself\u001b[0m\u001b[0;34m.\u001b[0m\u001b[0m_lock\u001b[0m\u001b[0;34m:\u001b[0m\u001b[0;34m\u001b[0m\u001b[0;34m\u001b[0m\u001b[0m\n\u001b[0;32m---> 53\u001b[0;31m             \u001b[0mvalue\u001b[0m \u001b[0;34m=\u001b[0m \u001b[0mself\u001b[0m\u001b[0;34m.\u001b[0m\u001b[0m_cache\u001b[0m\u001b[0;34m[\u001b[0m\u001b[0mkey\u001b[0m\u001b[0;34m]\u001b[0m\u001b[0;34m\u001b[0m\u001b[0;34m\u001b[0m\u001b[0m\n\u001b[0m\u001b[1;32m     54\u001b[0m             \u001b[0mself\u001b[0m\u001b[0;34m.\u001b[0m\u001b[0m_cache\u001b[0m\u001b[0;34m.\u001b[0m\u001b[0mmove_to_end\u001b[0m\u001b[0;34m(\u001b[0m\u001b[0mkey\u001b[0m\u001b[0;34m)\u001b[0m\u001b[0;34m\u001b[0m\u001b[0;34m\u001b[0m\u001b[0m\n",
      "\u001b[0;31mKeyError\u001b[0m: [<class 'netCDF4._netCDF4.Dataset'>, ('/home/mfp/Devel/github/bact/custom/bessyii/analysis/notebooks/bessyii_twiss_thor_scsi.nc',), 'r', (('clobber', True), ('diskless', False), ('format', 'NETCDF4'), ('persist', False))]",
      "\nDuring handling of the above exception, another exception occurred:\n",
      "\u001b[0;31mFileNotFoundError\u001b[0m                         Traceback (most recent call last)",
      "\u001b[0;32m/tmp/ipykernel_105622/1135197727.py\u001b[0m in \u001b[0;36m<module>\u001b[0;34m\u001b[0m\n\u001b[1;32m      1\u001b[0m \u001b[0;31m# selected_model_tr_ = xr.load_dataset(\"bessii_twiss_tracy.nc\")\u001b[0m\u001b[0;34m\u001b[0m\u001b[0;34m\u001b[0m\u001b[0m\n\u001b[0;32m----> 2\u001b[0;31m \u001b[0mselected_model_ts_\u001b[0m \u001b[0;34m=\u001b[0m \u001b[0mxr\u001b[0m\u001b[0;34m.\u001b[0m\u001b[0mload_dataset\u001b[0m\u001b[0;34m(\u001b[0m\u001b[0;34m\"bessyii_twiss_thor_scsi.nc\"\u001b[0m\u001b[0;34m)\u001b[0m\u001b[0;34m\u001b[0m\u001b[0;34m\u001b[0m\u001b[0m\n\u001b[0m\u001b[1;32m      3\u001b[0m \u001b[0;31m# selected_model_ts_['mu'] = selected_model_ts_.mu / (2 * np.pi)\u001b[0m\u001b[0;34m\u001b[0m\u001b[0;34m\u001b[0m\u001b[0m\n\u001b[1;32m      4\u001b[0m \u001b[0;31m# selected_model_ts_['dmu'] = selected_model_ts_.mu / (2 * np.pi)\u001b[0m\u001b[0;34m\u001b[0m\u001b[0;34m\u001b[0m\u001b[0m\n\u001b[1;32m      5\u001b[0m \u001b[0;32mdel\u001b[0m \u001b[0mselected_model_ts_\u001b[0m\u001b[0;34m.\u001b[0m\u001b[0mcoords\u001b[0m\u001b[0;34m[\u001b[0m\u001b[0;34m'par'\u001b[0m\u001b[0;34m]\u001b[0m\u001b[0;34m\u001b[0m\u001b[0;34m\u001b[0m\u001b[0m\n",
      "\u001b[0;32m/usr/lib/python3/dist-packages/xarray/backends/api.py\u001b[0m in \u001b[0;36mload_dataset\u001b[0;34m(filename_or_obj, **kwargs)\u001b[0m\n\u001b[1;32m    239\u001b[0m         \u001b[0;32mraise\u001b[0m \u001b[0mTypeError\u001b[0m\u001b[0;34m(\u001b[0m\u001b[0;34m\"cache has no effect in this context\"\u001b[0m\u001b[0;34m)\u001b[0m\u001b[0;34m\u001b[0m\u001b[0;34m\u001b[0m\u001b[0m\n\u001b[1;32m    240\u001b[0m \u001b[0;34m\u001b[0m\u001b[0m\n\u001b[0;32m--> 241\u001b[0;31m     \u001b[0;32mwith\u001b[0m \u001b[0mopen_dataset\u001b[0m\u001b[0;34m(\u001b[0m\u001b[0mfilename_or_obj\u001b[0m\u001b[0;34m,\u001b[0m \u001b[0;34m**\u001b[0m\u001b[0mkwargs\u001b[0m\u001b[0;34m)\u001b[0m \u001b[0;32mas\u001b[0m \u001b[0mds\u001b[0m\u001b[0;34m:\u001b[0m\u001b[0;34m\u001b[0m\u001b[0;34m\u001b[0m\u001b[0m\n\u001b[0m\u001b[1;32m    242\u001b[0m         \u001b[0;32mreturn\u001b[0m \u001b[0mds\u001b[0m\u001b[0;34m.\u001b[0m\u001b[0mload\u001b[0m\u001b[0;34m(\u001b[0m\u001b[0;34m)\u001b[0m\u001b[0;34m\u001b[0m\u001b[0;34m\u001b[0m\u001b[0m\n\u001b[1;32m    243\u001b[0m \u001b[0;34m\u001b[0m\u001b[0m\n",
      "\u001b[0;32m/usr/lib/python3/dist-packages/xarray/backends/api.py\u001b[0m in \u001b[0;36mopen_dataset\u001b[0;34m(filename_or_obj, engine, chunks, cache, decode_cf, mask_and_scale, decode_times, decode_timedelta, use_cftime, concat_characters, decode_coords, drop_variables, backend_kwargs, *args, **kwargs)\u001b[0m\n\u001b[1;32m    493\u001b[0m \u001b[0;34m\u001b[0m\u001b[0m\n\u001b[1;32m    494\u001b[0m     \u001b[0moverwrite_encoded_chunks\u001b[0m \u001b[0;34m=\u001b[0m \u001b[0mkwargs\u001b[0m\u001b[0;34m.\u001b[0m\u001b[0mpop\u001b[0m\u001b[0;34m(\u001b[0m\u001b[0;34m\"overwrite_encoded_chunks\"\u001b[0m\u001b[0;34m,\u001b[0m \u001b[0;32mNone\u001b[0m\u001b[0;34m)\u001b[0m\u001b[0;34m\u001b[0m\u001b[0;34m\u001b[0m\u001b[0m\n\u001b[0;32m--> 495\u001b[0;31m     backend_ds = backend.open_dataset(\n\u001b[0m\u001b[1;32m    496\u001b[0m         \u001b[0mfilename_or_obj\u001b[0m\u001b[0;34m,\u001b[0m\u001b[0;34m\u001b[0m\u001b[0;34m\u001b[0m\u001b[0m\n\u001b[1;32m    497\u001b[0m         \u001b[0mdrop_variables\u001b[0m\u001b[0;34m=\u001b[0m\u001b[0mdrop_variables\u001b[0m\u001b[0;34m,\u001b[0m\u001b[0;34m\u001b[0m\u001b[0;34m\u001b[0m\u001b[0m\n",
      "\u001b[0;32m/usr/lib/python3/dist-packages/xarray/backends/netCDF4_.py\u001b[0m in \u001b[0;36mopen_dataset\u001b[0;34m(self, filename_or_obj, mask_and_scale, decode_times, concat_characters, decode_coords, drop_variables, use_cftime, decode_timedelta, group, mode, format, clobber, diskless, persist, lock, autoclose)\u001b[0m\n\u001b[1;32m    551\u001b[0m \u001b[0;34m\u001b[0m\u001b[0m\n\u001b[1;32m    552\u001b[0m         \u001b[0mfilename_or_obj\u001b[0m \u001b[0;34m=\u001b[0m \u001b[0m_normalize_path\u001b[0m\u001b[0;34m(\u001b[0m\u001b[0mfilename_or_obj\u001b[0m\u001b[0;34m)\u001b[0m\u001b[0;34m\u001b[0m\u001b[0;34m\u001b[0m\u001b[0m\n\u001b[0;32m--> 553\u001b[0;31m         store = NetCDF4DataStore.open(\n\u001b[0m\u001b[1;32m    554\u001b[0m             \u001b[0mfilename_or_obj\u001b[0m\u001b[0;34m,\u001b[0m\u001b[0;34m\u001b[0m\u001b[0;34m\u001b[0m\u001b[0m\n\u001b[1;32m    555\u001b[0m             \u001b[0mmode\u001b[0m\u001b[0;34m=\u001b[0m\u001b[0mmode\u001b[0m\u001b[0;34m,\u001b[0m\u001b[0;34m\u001b[0m\u001b[0;34m\u001b[0m\u001b[0m\n",
      "\u001b[0;32m/usr/lib/python3/dist-packages/xarray/backends/netCDF4_.py\u001b[0m in \u001b[0;36mopen\u001b[0;34m(cls, filename, mode, format, group, clobber, diskless, persist, lock, lock_maker, autoclose)\u001b[0m\n\u001b[1;32m    380\u001b[0m             \u001b[0mnetCDF4\u001b[0m\u001b[0;34m.\u001b[0m\u001b[0mDataset\u001b[0m\u001b[0;34m,\u001b[0m \u001b[0mfilename\u001b[0m\u001b[0;34m,\u001b[0m \u001b[0mmode\u001b[0m\u001b[0;34m=\u001b[0m\u001b[0mmode\u001b[0m\u001b[0;34m,\u001b[0m \u001b[0mkwargs\u001b[0m\u001b[0;34m=\u001b[0m\u001b[0mkwargs\u001b[0m\u001b[0;34m\u001b[0m\u001b[0;34m\u001b[0m\u001b[0m\n\u001b[1;32m    381\u001b[0m         )\n\u001b[0;32m--> 382\u001b[0;31m         \u001b[0;32mreturn\u001b[0m \u001b[0mcls\u001b[0m\u001b[0;34m(\u001b[0m\u001b[0mmanager\u001b[0m\u001b[0;34m,\u001b[0m \u001b[0mgroup\u001b[0m\u001b[0;34m=\u001b[0m\u001b[0mgroup\u001b[0m\u001b[0;34m,\u001b[0m \u001b[0mmode\u001b[0m\u001b[0;34m=\u001b[0m\u001b[0mmode\u001b[0m\u001b[0;34m,\u001b[0m \u001b[0mlock\u001b[0m\u001b[0;34m=\u001b[0m\u001b[0mlock\u001b[0m\u001b[0;34m,\u001b[0m \u001b[0mautoclose\u001b[0m\u001b[0;34m=\u001b[0m\u001b[0mautoclose\u001b[0m\u001b[0;34m)\u001b[0m\u001b[0;34m\u001b[0m\u001b[0;34m\u001b[0m\u001b[0m\n\u001b[0m\u001b[1;32m    383\u001b[0m \u001b[0;34m\u001b[0m\u001b[0m\n\u001b[1;32m    384\u001b[0m     \u001b[0;32mdef\u001b[0m \u001b[0m_acquire\u001b[0m\u001b[0;34m(\u001b[0m\u001b[0mself\u001b[0m\u001b[0;34m,\u001b[0m \u001b[0mneeds_lock\u001b[0m\u001b[0;34m=\u001b[0m\u001b[0;32mTrue\u001b[0m\u001b[0;34m)\u001b[0m\u001b[0;34m:\u001b[0m\u001b[0;34m\u001b[0m\u001b[0;34m\u001b[0m\u001b[0m\n",
      "\u001b[0;32m/usr/lib/python3/dist-packages/xarray/backends/netCDF4_.py\u001b[0m in \u001b[0;36m__init__\u001b[0;34m(self, manager, group, mode, lock, autoclose)\u001b[0m\n\u001b[1;32m    328\u001b[0m         \u001b[0mself\u001b[0m\u001b[0;34m.\u001b[0m\u001b[0m_group\u001b[0m \u001b[0;34m=\u001b[0m \u001b[0mgroup\u001b[0m\u001b[0;34m\u001b[0m\u001b[0;34m\u001b[0m\u001b[0m\n\u001b[1;32m    329\u001b[0m         \u001b[0mself\u001b[0m\u001b[0;34m.\u001b[0m\u001b[0m_mode\u001b[0m \u001b[0;34m=\u001b[0m \u001b[0mmode\u001b[0m\u001b[0;34m\u001b[0m\u001b[0;34m\u001b[0m\u001b[0m\n\u001b[0;32m--> 330\u001b[0;31m         \u001b[0mself\u001b[0m\u001b[0;34m.\u001b[0m\u001b[0mformat\u001b[0m \u001b[0;34m=\u001b[0m \u001b[0mself\u001b[0m\u001b[0;34m.\u001b[0m\u001b[0mds\u001b[0m\u001b[0;34m.\u001b[0m\u001b[0mdata_model\u001b[0m\u001b[0;34m\u001b[0m\u001b[0;34m\u001b[0m\u001b[0m\n\u001b[0m\u001b[1;32m    331\u001b[0m         \u001b[0mself\u001b[0m\u001b[0;34m.\u001b[0m\u001b[0m_filename\u001b[0m \u001b[0;34m=\u001b[0m \u001b[0mself\u001b[0m\u001b[0;34m.\u001b[0m\u001b[0mds\u001b[0m\u001b[0;34m.\u001b[0m\u001b[0mfilepath\u001b[0m\u001b[0;34m(\u001b[0m\u001b[0;34m)\u001b[0m\u001b[0;34m\u001b[0m\u001b[0;34m\u001b[0m\u001b[0m\n\u001b[1;32m    332\u001b[0m         \u001b[0mself\u001b[0m\u001b[0;34m.\u001b[0m\u001b[0mis_remote\u001b[0m \u001b[0;34m=\u001b[0m \u001b[0mis_remote_uri\u001b[0m\u001b[0;34m(\u001b[0m\u001b[0mself\u001b[0m\u001b[0;34m.\u001b[0m\u001b[0m_filename\u001b[0m\u001b[0;34m)\u001b[0m\u001b[0;34m\u001b[0m\u001b[0;34m\u001b[0m\u001b[0m\n",
      "\u001b[0;32m/usr/lib/python3/dist-packages/xarray/backends/netCDF4_.py\u001b[0m in \u001b[0;36mds\u001b[0;34m(self)\u001b[0m\n\u001b[1;32m    389\u001b[0m     \u001b[0;34m@\u001b[0m\u001b[0mproperty\u001b[0m\u001b[0;34m\u001b[0m\u001b[0;34m\u001b[0m\u001b[0m\n\u001b[1;32m    390\u001b[0m     \u001b[0;32mdef\u001b[0m \u001b[0mds\u001b[0m\u001b[0;34m(\u001b[0m\u001b[0mself\u001b[0m\u001b[0;34m)\u001b[0m\u001b[0;34m:\u001b[0m\u001b[0;34m\u001b[0m\u001b[0;34m\u001b[0m\u001b[0m\n\u001b[0;32m--> 391\u001b[0;31m         \u001b[0;32mreturn\u001b[0m \u001b[0mself\u001b[0m\u001b[0;34m.\u001b[0m\u001b[0m_acquire\u001b[0m\u001b[0;34m(\u001b[0m\u001b[0;34m)\u001b[0m\u001b[0;34m\u001b[0m\u001b[0;34m\u001b[0m\u001b[0m\n\u001b[0m\u001b[1;32m    392\u001b[0m \u001b[0;34m\u001b[0m\u001b[0m\n\u001b[1;32m    393\u001b[0m     \u001b[0;32mdef\u001b[0m \u001b[0mopen_store_variable\u001b[0m\u001b[0;34m(\u001b[0m\u001b[0mself\u001b[0m\u001b[0;34m,\u001b[0m \u001b[0mname\u001b[0m\u001b[0;34m,\u001b[0m \u001b[0mvar\u001b[0m\u001b[0;34m)\u001b[0m\u001b[0;34m:\u001b[0m\u001b[0;34m\u001b[0m\u001b[0;34m\u001b[0m\u001b[0m\n",
      "\u001b[0;32m/usr/lib/python3/dist-packages/xarray/backends/netCDF4_.py\u001b[0m in \u001b[0;36m_acquire\u001b[0;34m(self, needs_lock)\u001b[0m\n\u001b[1;32m    383\u001b[0m \u001b[0;34m\u001b[0m\u001b[0m\n\u001b[1;32m    384\u001b[0m     \u001b[0;32mdef\u001b[0m \u001b[0m_acquire\u001b[0m\u001b[0;34m(\u001b[0m\u001b[0mself\u001b[0m\u001b[0;34m,\u001b[0m \u001b[0mneeds_lock\u001b[0m\u001b[0;34m=\u001b[0m\u001b[0;32mTrue\u001b[0m\u001b[0;34m)\u001b[0m\u001b[0;34m:\u001b[0m\u001b[0;34m\u001b[0m\u001b[0;34m\u001b[0m\u001b[0m\n\u001b[0;32m--> 385\u001b[0;31m         \u001b[0;32mwith\u001b[0m \u001b[0mself\u001b[0m\u001b[0;34m.\u001b[0m\u001b[0m_manager\u001b[0m\u001b[0;34m.\u001b[0m\u001b[0macquire_context\u001b[0m\u001b[0;34m(\u001b[0m\u001b[0mneeds_lock\u001b[0m\u001b[0;34m)\u001b[0m \u001b[0;32mas\u001b[0m \u001b[0mroot\u001b[0m\u001b[0;34m:\u001b[0m\u001b[0;34m\u001b[0m\u001b[0;34m\u001b[0m\u001b[0m\n\u001b[0m\u001b[1;32m    386\u001b[0m             \u001b[0mds\u001b[0m \u001b[0;34m=\u001b[0m \u001b[0m_nc4_require_group\u001b[0m\u001b[0;34m(\u001b[0m\u001b[0mroot\u001b[0m\u001b[0;34m,\u001b[0m \u001b[0mself\u001b[0m\u001b[0;34m.\u001b[0m\u001b[0m_group\u001b[0m\u001b[0;34m,\u001b[0m \u001b[0mself\u001b[0m\u001b[0;34m.\u001b[0m\u001b[0m_mode\u001b[0m\u001b[0;34m)\u001b[0m\u001b[0;34m\u001b[0m\u001b[0;34m\u001b[0m\u001b[0m\n\u001b[1;32m    387\u001b[0m         \u001b[0;32mreturn\u001b[0m \u001b[0mds\u001b[0m\u001b[0;34m\u001b[0m\u001b[0;34m\u001b[0m\u001b[0m\n",
      "\u001b[0;32m/usr/lib/python3.10/contextlib.py\u001b[0m in \u001b[0;36m__enter__\u001b[0;34m(self)\u001b[0m\n\u001b[1;32m    133\u001b[0m         \u001b[0;32mdel\u001b[0m \u001b[0mself\u001b[0m\u001b[0;34m.\u001b[0m\u001b[0margs\u001b[0m\u001b[0;34m,\u001b[0m \u001b[0mself\u001b[0m\u001b[0;34m.\u001b[0m\u001b[0mkwds\u001b[0m\u001b[0;34m,\u001b[0m \u001b[0mself\u001b[0m\u001b[0;34m.\u001b[0m\u001b[0mfunc\u001b[0m\u001b[0;34m\u001b[0m\u001b[0;34m\u001b[0m\u001b[0m\n\u001b[1;32m    134\u001b[0m         \u001b[0;32mtry\u001b[0m\u001b[0;34m:\u001b[0m\u001b[0;34m\u001b[0m\u001b[0;34m\u001b[0m\u001b[0m\n\u001b[0;32m--> 135\u001b[0;31m             \u001b[0;32mreturn\u001b[0m \u001b[0mnext\u001b[0m\u001b[0;34m(\u001b[0m\u001b[0mself\u001b[0m\u001b[0;34m.\u001b[0m\u001b[0mgen\u001b[0m\u001b[0;34m)\u001b[0m\u001b[0;34m\u001b[0m\u001b[0;34m\u001b[0m\u001b[0m\n\u001b[0m\u001b[1;32m    136\u001b[0m         \u001b[0;32mexcept\u001b[0m \u001b[0mStopIteration\u001b[0m\u001b[0;34m:\u001b[0m\u001b[0;34m\u001b[0m\u001b[0;34m\u001b[0m\u001b[0m\n\u001b[1;32m    137\u001b[0m             \u001b[0;32mraise\u001b[0m \u001b[0mRuntimeError\u001b[0m\u001b[0;34m(\u001b[0m\u001b[0;34m\"generator didn't yield\"\u001b[0m\u001b[0;34m)\u001b[0m \u001b[0;32mfrom\u001b[0m \u001b[0;32mNone\u001b[0m\u001b[0;34m\u001b[0m\u001b[0;34m\u001b[0m\u001b[0m\n",
      "\u001b[0;32m/usr/lib/python3/dist-packages/xarray/backends/file_manager.py\u001b[0m in \u001b[0;36macquire_context\u001b[0;34m(self, needs_lock)\u001b[0m\n\u001b[1;32m    185\u001b[0m     \u001b[0;32mdef\u001b[0m \u001b[0macquire_context\u001b[0m\u001b[0;34m(\u001b[0m\u001b[0mself\u001b[0m\u001b[0;34m,\u001b[0m \u001b[0mneeds_lock\u001b[0m\u001b[0;34m=\u001b[0m\u001b[0;32mTrue\u001b[0m\u001b[0;34m)\u001b[0m\u001b[0;34m:\u001b[0m\u001b[0;34m\u001b[0m\u001b[0;34m\u001b[0m\u001b[0m\n\u001b[1;32m    186\u001b[0m         \u001b[0;34m\"\"\"Context manager for acquiring a file.\"\"\"\u001b[0m\u001b[0;34m\u001b[0m\u001b[0;34m\u001b[0m\u001b[0m\n\u001b[0;32m--> 187\u001b[0;31m         \u001b[0mfile\u001b[0m\u001b[0;34m,\u001b[0m \u001b[0mcached\u001b[0m \u001b[0;34m=\u001b[0m \u001b[0mself\u001b[0m\u001b[0;34m.\u001b[0m\u001b[0m_acquire_with_cache_info\u001b[0m\u001b[0;34m(\u001b[0m\u001b[0mneeds_lock\u001b[0m\u001b[0;34m)\u001b[0m\u001b[0;34m\u001b[0m\u001b[0;34m\u001b[0m\u001b[0m\n\u001b[0m\u001b[1;32m    188\u001b[0m         \u001b[0;32mtry\u001b[0m\u001b[0;34m:\u001b[0m\u001b[0;34m\u001b[0m\u001b[0;34m\u001b[0m\u001b[0m\n\u001b[1;32m    189\u001b[0m             \u001b[0;32myield\u001b[0m \u001b[0mfile\u001b[0m\u001b[0;34m\u001b[0m\u001b[0;34m\u001b[0m\u001b[0m\n",
      "\u001b[0;32m/usr/lib/python3/dist-packages/xarray/backends/file_manager.py\u001b[0m in \u001b[0;36m_acquire_with_cache_info\u001b[0;34m(self, needs_lock)\u001b[0m\n\u001b[1;32m    203\u001b[0m                     \u001b[0mkwargs\u001b[0m \u001b[0;34m=\u001b[0m \u001b[0mkwargs\u001b[0m\u001b[0;34m.\u001b[0m\u001b[0mcopy\u001b[0m\u001b[0;34m(\u001b[0m\u001b[0;34m)\u001b[0m\u001b[0;34m\u001b[0m\u001b[0;34m\u001b[0m\u001b[0m\n\u001b[1;32m    204\u001b[0m                     \u001b[0mkwargs\u001b[0m\u001b[0;34m[\u001b[0m\u001b[0;34m\"mode\"\u001b[0m\u001b[0;34m]\u001b[0m \u001b[0;34m=\u001b[0m \u001b[0mself\u001b[0m\u001b[0;34m.\u001b[0m\u001b[0m_mode\u001b[0m\u001b[0;34m\u001b[0m\u001b[0;34m\u001b[0m\u001b[0m\n\u001b[0;32m--> 205\u001b[0;31m                 \u001b[0mfile\u001b[0m \u001b[0;34m=\u001b[0m \u001b[0mself\u001b[0m\u001b[0;34m.\u001b[0m\u001b[0m_opener\u001b[0m\u001b[0;34m(\u001b[0m\u001b[0;34m*\u001b[0m\u001b[0mself\u001b[0m\u001b[0;34m.\u001b[0m\u001b[0m_args\u001b[0m\u001b[0;34m,\u001b[0m \u001b[0;34m**\u001b[0m\u001b[0mkwargs\u001b[0m\u001b[0;34m)\u001b[0m\u001b[0;34m\u001b[0m\u001b[0;34m\u001b[0m\u001b[0m\n\u001b[0m\u001b[1;32m    206\u001b[0m                 \u001b[0;32mif\u001b[0m \u001b[0mself\u001b[0m\u001b[0;34m.\u001b[0m\u001b[0m_mode\u001b[0m \u001b[0;34m==\u001b[0m \u001b[0;34m\"w\"\u001b[0m\u001b[0;34m:\u001b[0m\u001b[0;34m\u001b[0m\u001b[0;34m\u001b[0m\u001b[0m\n\u001b[1;32m    207\u001b[0m                     \u001b[0;31m# ensure file doesn't get overriden when opened again\u001b[0m\u001b[0;34m\u001b[0m\u001b[0;34m\u001b[0m\u001b[0m\n",
      "\u001b[0;32msrc/netCDF4/_netCDF4.pyx\u001b[0m in \u001b[0;36mnetCDF4._netCDF4.Dataset.__init__\u001b[0;34m()\u001b[0m\n",
      "\u001b[0;32msrc/netCDF4/_netCDF4.pyx\u001b[0m in \u001b[0;36mnetCDF4._netCDF4._ensure_nc_success\u001b[0;34m()\u001b[0m\n",
      "\u001b[0;31mFileNotFoundError\u001b[0m: [Errno 2] No such file or directory: b'/home/mfp/Devel/github/bact/custom/bessyii/analysis/notebooks/bessyii_twiss_thor_scsi.nc'"
     ]
    }
   ],
   "source": [
    "# selected_model_tr_ = xr.load_dataset(\"bessii_twiss_tracy.nc\")\n",
    "selected_model_ts_ = xr.load_dataset(\"bessyii_twiss_thor_scsi.nc\")\n",
    "# selected_model_ts_['mu'] = selected_model_ts_.mu / (2 * np.pi)\n",
    "# selected_model_ts_['dmu'] = selected_model_ts_.mu / (2 * np.pi)\n",
    "del selected_model_ts_.coords['par']\n",
    "selected_model = selected_model_ts_\n",
    "doublets, renamed = bact_analysis.utils.preprocess.rename_doublicates(selected_model_.coords['pos'].values.tolist())\n",
    "selected_model_ = selected_model_.assign_coords(pos=renamed)\n",
    "selected_model_"
   ]
  },
  {
   "cell_type": "code",
   "execution_count": null,
   "id": "6152fd18",
   "metadata": {},
   "outputs": [],
   "source": [
    "selected_model_tr_"
   ]
  },
  {
   "cell_type": "code",
   "execution_count": null,
   "id": "168609b3",
   "metadata": {},
   "outputs": [],
   "source": [
    "selected_model_ts_"
   ]
  },
  {
   "cell_type": "code",
   "execution_count": null,
   "id": "78a1ccb1",
   "metadata": {},
   "outputs": [],
   "source": [
    "fig, axes = plt.subplots(2, 1, figsize=[16,12])\n",
    "ax_x, ax_y = axes\n",
    "\n",
    "tr, = ax_x.plot(\n",
    "    selected_model_tr_.ds, selected_model_tr_.beta.sel(plane='x')\n",
    ")\n",
    "ax_y.plot(\n",
    "    selected_model_tr_.ds, selected_model_tr_.beta.sel(plane='y'), color=tr.get_color()\n",
    ")\n",
    "\n",
    "ts, = ax_x.plot(\n",
    "    selected_model_ts_.ds, selected_model_ts_.beta.sel(plane='x')\n",
    ")\n",
    "ax_y.plot(\n",
    "    selected_model_ts_.ds, selected_model_ts_.beta.sel(plane='y'), color=ts.get_color()\n",
    ")\n",
    "\n"
   ]
  },
  {
   "cell_type": "code",
   "execution_count": null,
   "id": "7084f70a",
   "metadata": {},
   "outputs": [],
   "source": [
    "fig, axes = plt.subplots(2, 1, figsize=[16,12])\n",
    "ax_x, ax_y = axes\n",
    "\n",
    "tr, = ax_x.plot(\n",
    "    selected_model_tr_.ds, selected_model_tr_.mu.sel(plane='x')\n",
    ")\n",
    "ax_y.plot(\n",
    "    selected_model_tr_.ds, selected_model_tr_.mu.sel(plane='y'), color=tr.get_color()\n",
    ")\n",
    "\n",
    "ts, = ax_x.plot(\n",
    "    selected_model_ts_.ds, selected_model_ts_.mu.sel(plane='x')\n",
    ")\n",
    "ax_y.plot(\n",
    "    selected_model_ts_.ds, selected_model_ts_.mu.sel(plane='y'), color=ts.get_color()\n",
    ")\n",
    "\n"
   ]
  },
  {
   "cell_type": "markdown",
   "id": "725e2d93",
   "metadata": {},
   "source": [
    "### Checking consistency between lattice model and digital twin ... for the required elements"
   ]
  },
  {
   "cell_type": "markdown",
   "id": "ddcea888",
   "metadata": {},
   "source": [
    "Check that all bpm's are in the lattice\n",
    "\n",
    "* Handle that lattice typically uses names in lower case\n",
    "* Check that all bpm names that are known to the data also occur in\n",
    "  the data"
   ]
  },
  {
   "cell_type": "code",
   "execution_count": null,
   "id": "fbddda41",
   "metadata": {},
   "outputs": [],
   "source": [
    "bpm_names = preprocessed_.coords[\"bpm\"]\n",
    "bpm_names_lc = [name.lower() for name in bpm_names.values]"
   ]
  },
  {
   "cell_type": "code",
   "execution_count": null,
   "id": "61c1cac2",
   "metadata": {},
   "outputs": [],
   "source": [
    "bpm_names_check = set(bpm_names_lc)"
   ]
  },
  {
   "cell_type": "code",
   "execution_count": null,
   "id": "fe3cd416",
   "metadata": {},
   "outputs": [],
   "source": [
    "bpm_names_check.difference(selected_model_.coords[\"pos\"].values)"
   ]
  },
  {
   "cell_type": "markdown",
   "id": "6243b849",
   "metadata": {},
   "source": [
    "Remove first reading ... bpm data not garanteed to be correct"
   ]
  },
  {
   "cell_type": "code",
   "execution_count": null,
   "id": "d97304f2",
   "metadata": {},
   "outputs": [],
   "source": [
    "idx = preprocessed_.dt_cs_setpoint >= 1#\n",
    "preprocessed = preprocessed_.isel(time=idx)"
   ]
  },
  {
   "cell_type": "code",
   "execution_count": null,
   "id": "bcc10598",
   "metadata": {},
   "outputs": [],
   "source": [
    "preprocessed.dt_cs_setpoint.min();"
   ]
  },
  {
   "cell_type": "markdown",
   "id": "d22ff2e3",
   "metadata": {},
   "source": [
    "### Make data selectable per magnet"
   ]
  },
  {
   "cell_type": "code",
   "execution_count": null,
   "id": "9d977094",
   "metadata": {},
   "outputs": [],
   "source": [
    "importlib.reload(bact_analysis.utils.preprocess)\n",
    "importlib.reload(bact_analysis.transverse.calc)\n",
    "importlib.reload(bact_analysis_bessyii.bba.preprocess_data)"
   ]
  },
  {
   "cell_type": "markdown",
   "id": "cfff90ee",
   "metadata": {},
   "source": [
    "Groups data by the selection of the muxer: make it a new dimension"
   ]
  },
  {
   "cell_type": "code",
   "execution_count": null,
   "id": "911321c5",
   "metadata": {},
   "outputs": [],
   "source": [
    "rearranged = xr.concat(\n",
    "    bact_analysis.utils.preprocess.reorder_by_groups(\n",
    "        preprocessed,\n",
    "        preprocessed.groupby(preprocessed.dt_mux_selector_selected),\n",
    "        reordered_dim=\"name\",\n",
    "        dim_sel=\"time\",\n",
    "        new_indices_dim=\"step\",\n",
    "    ),\n",
    "    dim=\"name\",\n",
    ")"
   ]
  },
  {
   "cell_type": "code",
   "execution_count": null,
   "id": "526b58b6",
   "metadata": {},
   "outputs": [],
   "source": [
    "rearranged;"
   ]
  },
  {
   "cell_type": "markdown",
   "id": "8cb256b1",
   "metadata": {},
   "source": [
    "Magnees the rearranged data a bit \n",
    "* renames the variables (as typically produced by bluesky) to simpler names: a bit of interface decoupling\n",
    "* selects data for bpm names: e.g. if more bpm's are in the model than in the measurement data\n",
    "* uses lower case bpm names\n",
    "\n",
    "Assums that measurement (bpm) data are in mm: convert them to m (SI units and consistent to model) "
   ]
  },
  {
   "cell_type": "code",
   "execution_count": null,
   "id": "d31a670e",
   "metadata": {},
   "outputs": [],
   "source": [
    "measurement_vars = dict(\n",
    "    dt_bpm_waveform_x_pos=\"x_pos\",\n",
    "    dt_bpm_waveform_y_pos=\"y_pos\",\n",
    "    dt_bpm_waveform_x_rms=\"x_rms\",\n",
    "    dt_bpm_waveform_y_rms=\"y_rms\",\n",
    "    dt_mux_power_converter_setpoint=\"excitation\",\n",
    ")\n",
    "redm4proc = (\n",
    "    rearranged[list(measurement_vars.keys())]\n",
    "    .rename_vars(**measurement_vars)\n",
    "    .sel(bpm=bpm_names)\n",
    "    .rename_dims(bpm=\"pos\")\n",
    "    .assign_coords(pos=bpm_names_lc)\n",
    "    .reset_coords(drop=True)\n",
    ")\n",
    "# BPM Data are in mm\n",
    "m2mm = 1./1000.\n",
    "redm4proc['x_pos'] =  redm4proc.x_pos * m2mm\n",
    "redm4proc['y_pos'] =  redm4proc.y_pos * m2mm\n",
    "redm4proc['x_rms'] =  redm4proc.x_rms * m2mm\n",
    "redm4proc['y_rms'] =  redm4proc.y_rms * m2mm"
   ]
  },
  {
   "cell_type": "code",
   "execution_count": null,
   "id": "11aedb3e",
   "metadata": {},
   "outputs": [],
   "source": [
    "redm4proc"
   ]
  },
  {
   "cell_type": "markdown",
   "id": "efc65595",
   "metadata": {},
   "source": [
    "## Processing data"
   ]
  },
  {
   "cell_type": "markdown",
   "id": "0d884975",
   "metadata": {},
   "source": [
    "### Using model information"
   ]
  },
  {
   "cell_type": "markdown",
   "id": "537322a9",
   "metadata": {},
   "source": [
    "This model information is obtained here from the model produced by the digital shadow. \n",
    "\n",
    "Should be replaced by a standard lattice from database"
   ]
  },
  {
   "cell_type": "code",
   "execution_count": null,
   "id": "7c70ec54",
   "metadata": {},
   "outputs": [],
   "source": [
    "redm4proc.name;"
   ]
  },
  {
   "cell_type": "markdown",
   "id": "96c56138",
   "metadata": {},
   "source": [
    "Beam dynamics codes use name labels typically for the start or the end of a model. Tracy uses it for the start. The interpretation here needs it for the middle."
   ]
  },
  {
   "cell_type": "code",
   "execution_count": null,
   "id": "24183ada",
   "metadata": {},
   "outputs": [],
   "source": [
    "ds = selected_model_.ds.values\n",
    "assert( ((ds[1:] - ds[:-1]) >= 0 ).all() )"
   ]
  },
  {
   "cell_type": "code",
   "execution_count": null,
   "id": "d678028f",
   "metadata": {},
   "outputs": [],
   "source": [
    "quad_twiss_ = bact_analysis.transverse.twiss_interpolate.interpolate_twiss(\n",
    "    selected_model_, names=[name.lower() for name in redm4proc.name.values]\n",
    ")\n",
    "quad_twiss = quad_twiss_.rename_dims(name='pos').assign_coords(pos=quad_twiss_.coords['name'].values).reset_coords(drop=True)\n",
    "del quad_twiss_\n",
    "quad_twiss"
   ]
  },
  {
   "cell_type": "code",
   "execution_count": null,
   "id": "ab7d4440",
   "metadata": {},
   "outputs": [],
   "source": []
  },
  {
   "cell_type": "markdown",
   "id": "8f6575aa",
   "metadata": {},
   "source": [
    "Replace these values with the values found before .... "
   ]
  },
  {
   "cell_type": "code",
   "execution_count": null,
   "id": "7d38600f",
   "metadata": {},
   "outputs": [],
   "source": [
    "importlib.reload(bact_analysis.utils.preprocess)"
   ]
  },
  {
   "cell_type": "code",
   "execution_count": null,
   "id": "064b99b8",
   "metadata": {},
   "outputs": [],
   "source": [
    "n_index = bact_analysis.utils.preprocess.replace_names(list(selected_model_.coords['pos'].values), {name: name + '_s' for name in quad_twiss.coords['pos'].values})\n",
    "selected_model = xr.concat([selected_model_.assign_coords(pos=n_index), quad_twiss], dim='pos').sortby('ds')\n",
    "selected_model"
   ]
  },
  {
   "cell_type": "markdown",
   "id": "aa60549e",
   "metadata": {},
   "source": [
    "### Check if tune advance matches applied current changes"
   ]
  },
  {
   "cell_type": "markdown",
   "id": "ab3d8e98",
   "metadata": {},
   "source": [
    "$$\n",
    "    \\Delta Q = \\frac{1}{4 \\pi} \\int_{s_0}^{s_0 + l} \\Delta k \\beta(s) d(s) \n",
    "$$\n",
    "\n",
    "Measured tune change is \n",
    "\n",
    "$$\n",
    "    \\Delta Q_m = \\frac{\\Delta T}{f_m \\cdot n_b}\n",
    "$$\n",
    "\n",
    "with $\\Delta T$ the measured tune, $f_m$ the main RF frequency and $n_b$ the number of bunches"
   ]
  },
  {
   "cell_type": "code",
   "execution_count": null,
   "id": "c22682e4",
   "metadata": {},
   "outputs": [],
   "source": [
    "quad_name = 'Q4M2D1R'"
   ]
  },
  {
   "cell_type": "code",
   "execution_count": null,
   "id": "85dff2f3",
   "metadata": {},
   "outputs": [],
   "source": [
    "for_mag = rearranged.sel(name=quad_name)"
   ]
  },
  {
   "cell_type": "code",
   "execution_count": null,
   "id": "85116cd1",
   "metadata": {},
   "outputs": [],
   "source": [
    "quad_twiss_sel = quad_twiss.sel(pos=quad_name.lower())"
   ]
  },
  {
   "cell_type": "code",
   "execution_count": null,
   "id": "42119e89",
   "metadata": {},
   "outputs": [],
   "source": [
    "tune_x = for_mag.dt_mr_tune_fb_hor_readback\n",
    "tune_y = for_mag.dt_mr_tune_fb_vert_readback"
   ]
  },
  {
   "cell_type": "code",
   "execution_count": null,
   "id": "4b83bfe0",
   "metadata": {},
   "outputs": [],
   "source": [
    "500e6/400 * 0.04 / 1e3"
   ]
  },
  {
   "cell_type": "code",
   "execution_count": null,
   "id": "28a00c6d",
   "metadata": {},
   "outputs": [],
   "source": [
    "# data = bact_analysis_bessyii.bba.calc.load_calib_data()\n",
    "# data.sel(name=quad_name)"
   ]
  },
  {
   "cell_type": "code",
   "execution_count": null,
   "id": "9e37e00e",
   "metadata": {},
   "outputs": [],
   "source": [
    "pos = selected_model_.coords.indexes['pos']\n",
    "idx = pos.get_loc(quad_name.lower())\n",
    "idx"
   ]
  },
  {
   "cell_type": "code",
   "execution_count": null,
   "id": "70c6a016",
   "metadata": {},
   "outputs": [],
   "source": [
    "quad_sel = selected_model_.isel(pos=[idx-1, idx, idx+1])\n",
    "quad_sel.ds - quad_sel.ds.isel(pos=0)"
   ]
  },
  {
   "cell_type": "code",
   "execution_count": null,
   "id": "b7973d29",
   "metadata": {},
   "outputs": [],
   "source": [
    "t_sel = selected_model_.isel(pos=np.arange(-10, 10) + idx)\n",
    "t_sel\n",
    "idx = t_sel.coords.indexes['pos'].get_loc(quad_name.lower())\n",
    "quad_sel = t_sel.isel(pos=[idx-1, idx])\n",
    "t_sel"
   ]
  },
  {
   "cell_type": "code",
   "execution_count": null,
   "id": "7f1aaf22",
   "metadata": {},
   "outputs": [],
   "source": [
    "t_sel.ds.values[1:] - t_sel.ds.values[:-1]"
   ]
  },
  {
   "cell_type": "code",
   "execution_count": null,
   "id": "c4e923f7",
   "metadata": {},
   "outputs": [],
   "source": [
    "quad_sel"
   ]
  },
  {
   "cell_type": "code",
   "execution_count": null,
   "id": "3cf1a3f4",
   "metadata": {},
   "outputs": [],
   "source": [
    "quad_sel.ds - quad_sel.ds[0]"
   ]
  },
  {
   "cell_type": "code",
   "execution_count": null,
   "id": "8ac8f62a",
   "metadata": {},
   "outputs": [],
   "source": [
    "quad_twiss_sel.ds"
   ]
  },
  {
   "cell_type": "code",
   "execution_count": null,
   "id": "f2620ba2",
   "metadata": {},
   "outputs": [],
   "source": [
    "\n",
    "fig, ax = plt.subplots(1,1, )\n",
    "line, = ax.plot(t_sel.ds, t_sel.beta.sel(plane='x'), '.-')\n",
    "ax.plot(quad_sel.ds, quad_sel.beta.sel(plane='x'), 'x-', color=line.get_color(), linewidth=3)\n",
    "ax.plot(quad_twiss_sel.ds, quad_twiss_sel.beta.sel(plane='x'), '*', color=line.get_color())\n",
    "line, = ax.plot(t_sel.ds, t_sel.beta.sel(plane='y'), '.-')\n",
    "ax.plot(quad_sel.ds, quad_sel.beta.sel(plane='y'), 'x-', color=line.get_color(), linewidth=3)\n",
    "ax.plot(quad_twiss_sel.ds, quad_twiss_sel.beta.sel(plane='y'), '*', color=line.get_color())\n",
    "ax.set_xlabel(\"ds [m]\")\n",
    "ax.set_ylabel(r\"$\\beta_ {x,y}$  [m]\")"
   ]
  },
  {
   "cell_type": "code",
   "execution_count": null,
   "id": "77f0abcb",
   "metadata": {},
   "outputs": [],
   "source": [
    "def quad_data(name):\n",
    "    pos = selected_model.coords.indexes['pos']\n",
    "    idx = pos.get_loc(name)\n",
    "    assert(idx > 0)\n",
    "    quad = selected_model.isel(pos=[idx-1,idx])\n",
    "    return quad"
   ]
  },
  {
   "cell_type": "code",
   "execution_count": null,
   "id": "75671ff2",
   "metadata": {},
   "outputs": [],
   "source": [
    "dtune_y = tune_y -tune_y[0]\n",
    "dtune_x = tune_x -tune_x[0]\n",
    "dtune_x.max().values, dtune_y.max().values, (dtune_x.max() /  dtune_y.max()).values"
   ]
  },
  {
   "cell_type": "code",
   "execution_count": null,
   "id": "b1003d9e",
   "metadata": {},
   "outputs": [],
   "source": [
    "fig, ax  = plt.subplots(1, 1)\n",
    "ax.plot(for_mag.coords['step'], dtune_x, 'b.-')\n",
    "ax.plot(for_mag.coords['step'], dtune_y * -1, 'g.-')"
   ]
  },
  {
   "cell_type": "code",
   "execution_count": null,
   "id": "c21c0fe3",
   "metadata": {},
   "outputs": [],
   "source": [
    "quad_sel.mean(dim=\"pos\")"
   ]
  },
  {
   "cell_type": "code",
   "execution_count": null,
   "id": "3ff1e1d9",
   "metadata": {},
   "outputs": [],
   "source": [
    "dtune_x_p = bact_analysis_bessyii.bba.calc.predict_tune_change(quad_name, 2, beta=quad_sel.beta.sel(plane='x').mean()) \n",
    "dtune_y_p = bact_analysis_bessyii.bba.calc.predict_tune_change(quad_name, 2, beta=quad_sel.beta.sel(plane='y').mean()) \n",
    "dtune_y_p, dtune_x_p,  dtune_x_p/ dtune_y_p"
   ]
  },
  {
   "cell_type": "code",
   "execution_count": null,
   "id": "a63b427b",
   "metadata": {},
   "outputs": [],
   "source": [
    "np.absolute(dtune_x).max(), np.absolute(dtune_y).max()"
   ]
  },
  {
   "cell_type": "code",
   "execution_count": null,
   "id": "b8830e68",
   "metadata": {},
   "outputs": [],
   "source": [
    "907/1250"
   ]
  },
  {
   "cell_type": "code",
   "execution_count": null,
   "id": "4749caef",
   "metadata": {},
   "outputs": [],
   "source": [
    "quad_data('q1m1d1r').beta.sel(plane='y').mean()"
   ]
  },
  {
   "cell_type": "code",
   "execution_count": null,
   "id": "5f35f8b9",
   "metadata": {},
   "outputs": [],
   "source": [
    "importlib.reload(bact_analysis_bessyii.bba.calc)"
   ]
  },
  {
   "cell_type": "code",
   "execution_count": null,
   "id": "86d64986",
   "metadata": {},
   "outputs": [],
   "source": [
    "bact_analysis_bessyii.bba.calc.predict_tune_change(quad_name, 2, beta=t_sel.beta.sel(plane='x').mean())"
   ]
  },
  {
   "cell_type": "markdown",
   "id": "71005f2d",
   "metadata": {},
   "source": [
    "## Process all magnets"
   ]
  },
  {
   "cell_type": "code",
   "execution_count": null,
   "id": "04d87ce6",
   "metadata": {},
   "outputs": [],
   "source": [
    "importlib.reload( bact_analysis.transverse.distorted_orbit)\n",
    "importlib.reload( bact_analysis.transverse.calc)\n",
    "importlib.reload( bact_analysis.transverse.process)"
   ]
  },
  {
   "cell_type": "code",
   "execution_count": null,
   "id": "66ef9ac9",
   "metadata": {},
   "outputs": [],
   "source": []
  },
  {
   "cell_type": "code",
   "execution_count": null,
   "id": "445439d5",
   "metadata": {},
   "outputs": [],
   "source": [
    "bact_analysis.utils.preprocess.rename_doublicates"
   ]
  },
  {
   "cell_type": "code",
   "execution_count": null,
   "id": "f77a8052",
   "metadata": {},
   "outputs": [],
   "source": [
    "bact_analysis.utils.preprocess.rename_doublicates(selected_model.coords[\"pos\"].values.tolist())[0]"
   ]
  },
  {
   "cell_type": "markdown",
   "id": "5f8e4559",
   "metadata": {},
   "source": [
    "Calculate the "
   ]
  },
  {
   "cell_type": "code",
   "execution_count": null,
   "id": "64dc0b7c",
   "metadata": {},
   "outputs": [],
   "source": [
    "start = datetime.datetime.now()\n",
    "result = {\n",
    "    name: item for name, item in \n",
    "    tqdm.tqdm(bact_analysis.transverse.process.process_all_gen(selected_model, redm4proc, redm4proc.coords['name'].values, bpm_names=bpm_names_lc, theta=1e-5, use_weights=True), \n",
    "              total=len(redm4proc.coords['name']))\n",
    "}\n",
    "end  = datetime.datetime.now()\n",
    "end - start"
   ]
  },
  {
   "cell_type": "code",
   "execution_count": null,
   "id": "acc7e183",
   "metadata": {},
   "outputs": [],
   "source": [
    "quad_names = list(result.keys())\n",
    "quad_names_lc = [name.lower() for name in quad_names]\n",
    "ds_quads = selected_model.ds.sel(pos=quad_names_lc).rename(pos='name').assign_coords(name=quad_names)"
   ]
  },
  {
   "cell_type": "code",
   "execution_count": null,
   "id": "38a26bb4",
   "metadata": {},
   "outputs": [],
   "source": [
    "rds = bact_analysis.transverse.process.combine_all(result).merge(dict(ds=selected_model.ds, ds_quads=ds_quads)).sortby([ 'ds_quads'])"
   ]
  },
  {
   "cell_type": "code",
   "execution_count": null,
   "id": "a34c92eb",
   "metadata": {},
   "outputs": [],
   "source": [
    "rds.orbit.attrs"
   ]
  },
  {
   "cell_type": "code",
   "execution_count": null,
   "id": "6c27335b",
   "metadata": {},
   "outputs": [],
   "source": [
    "rds;"
   ]
  },
  {
   "cell_type": "markdown",
   "id": "fa0ac52f",
   "metadata": {},
   "source": [
    "## Check calculated orbits"
   ]
  },
  {
   "cell_type": "markdown",
   "id": "3d144461",
   "metadata": {},
   "source": [
    "Compare the calculated fit to the orbit"
   ]
  },
  {
   "cell_type": "code",
   "execution_count": null,
   "id": "b9b46941",
   "metadata": {},
   "outputs": [],
   "source": [
    "redm4proc.sel(name='Q1M1D1R')"
   ]
  },
  {
   "cell_type": "code",
   "execution_count": null,
   "id": "92539742",
   "metadata": {},
   "outputs": [],
   "source": [
    "def check_kick_fit(measurement, orbit, parameters):\n",
    "    \"\"\"Difference of fit orbit to data\n",
    "    \n",
    "    Todo:\n",
    "          include measurement error\n",
    "    \"\"\"\n",
    "    bpm_names = measurement.coords['pos']\n",
    "    \n",
    "    s = parameters.sel(parameter='scaled_angle')\n",
    "    scale = s.sel(result='value')\n",
    "    scale_err = s.sel(result='error')\n",
    "    del s\n",
    "    \n",
    "    pars  = parameters.sel(parameter=bpm_names)\n",
    "    offset =  pars.sel(result='value')\n",
    "    offset_err = pars.sel(result='error')\n",
    "    del pars\n",
    "    \n",
    "    #print(parameters)\n",
    "    scaled_orbit = orbit * scale\n",
    "    scaled_orbit_err = np.absolute(orbit) * scale_err\n",
    "    \n",
    "    scaled_orbit_at_bpm = scaled_orbit.sel(pos=bpm_names)\n",
    "    s_x = scaled_orbit_at_bpm.sel(plane=\"x\") * measurement.excitation\n",
    "    s_y = scaled_orbit_at_bpm.sel(plane=\"y\") * measurement.excitation\n",
    "    m_x  = offset.sel(plane=\"x\") - measurement.x_pos\n",
    "    m_y  = offset.sel(plane=\"y\") - measurement.y_pos\n",
    "    diff_x = s_x + m_x\n",
    "    diff_y = s_y + m_y\n",
    "    del scaled_orbit_at_bpm\n",
    "    \n",
    "    so_at_bpm_err = scaled_orbit_err.sel(pos=bpm_names)\n",
    "    diff_x_err = so_at_bpm_err.sel(plane=\"x\") * measurement.excitation + offset_err.sel(plane=\"x\")\n",
    "    diff_y_err = so_at_bpm_err.sel(plane=\"y\") * measurement.excitation + offset_err.sel(plane=\"y\")\n",
    "    del so_at_bpm_err\n",
    "    \n",
    "    pos, step = diff_x.dims\n",
    "    coords = [[\"x\", \"y\"], [\"value\", \"error\", \"orbit\", \"measurement\"]]\n",
    "    dims = [\"plane\", \"result\",  pos, step]\n",
    "    coords += [diff_x.coords[pos], diff_x.coords[step]]\n",
    "    diff = xr.DataArray(data=[[diff_x, diff_x_err, s_x, m_x], [diff_y, diff_y_err, s_y, m_y]], dims=dims, coords=coords)\n",
    "    return diff"
   ]
  },
  {
   "cell_type": "code",
   "execution_count": null,
   "id": "5d360353",
   "metadata": {},
   "outputs": [],
   "source": [
    "def process(name): \n",
    "    measurement = redm4proc.sel(name=name)\n",
    "    orbit = rds.orbit.sel(name=name)\n",
    "    diff = check_kick_fit(measurement, orbit, rds.fit_params.sel(name=name))\n",
    "    diff = diff.expand_dims(name=[name])\n",
    "    return diff\n",
    "\n",
    "diffs_fit = xr.concat([process(name) for name in rds.coords[\"name\"].values], dim=\"name\")\n"
   ]
  },
  {
   "cell_type": "code",
   "execution_count": null,
   "id": "146ef240",
   "metadata": {},
   "outputs": [],
   "source": [
    "np.absolute(diffs_fit.sel(result=\"value\")).max() * 1e6, np.absolute(diffs_fit.sel(result=\"error\")).max() * 1e6"
   ]
  },
  {
   "cell_type": "code",
   "execution_count": null,
   "id": "77a543b4",
   "metadata": {},
   "outputs": [],
   "source": [
    "rng = np.random.default_rng()"
   ]
  },
  {
   "cell_type": "code",
   "execution_count": null,
   "id": "72438be7",
   "metadata": {},
   "outputs": [],
   "source": [
    "quad_names = [str(name.values) for name in rds.coords[\"name\"]]\n",
    "quad_names_lc = [name.lower() for name in quad_names]"
   ]
  },
  {
   "cell_type": "code",
   "execution_count": null,
   "id": "fbbf1482",
   "metadata": {},
   "outputs": [],
   "source": [
    "y_max =  rds.fit_params.sel(plane=\"y\", result=\"value\", parameter=\"scaled_angle\").argmax().values\n",
    "y_min =  rds.fit_params.sel(plane=\"y\", result=\"value\", parameter=\"scaled_angle\").argmin().values\n",
    "x_max =  rds.fit_params.sel(plane=\"x\", result=\"value\", parameter=\"scaled_angle\").argmax().values\n",
    "x_min =  rds.fit_params.sel(plane=\"x\", result=\"value\", parameter=\"scaled_angle\").argmin().values\n",
    "y_max, y_min"
   ]
  },
  {
   "cell_type": "code",
   "execution_count": null,
   "id": "30ec4809",
   "metadata": {},
   "outputs": [],
   "source": [
    "list(redm4proc.variables.keys())"
   ]
  },
  {
   "cell_type": "code",
   "execution_count": null,
   "id": "5e78f91f",
   "metadata": {},
   "outputs": [],
   "source": [
    "redm4proc.x_pos.sel(name='Q1M1D1R').shape"
   ]
  },
  {
   "cell_type": "code",
   "execution_count": null,
   "id": "0cebec94",
   "metadata": {},
   "outputs": [],
   "source": [
    "plt.plot(\n",
    "    # redm4proc.x_pos.sel(name='Q1M1D1R', step=4), '-',\n",
    "    np.sqrt(1./redm4proc.y_rms.sel(name='Q1M1D1R', step=4)), 'x',\n",
    ")"
   ]
  },
  {
   "cell_type": "code",
   "execution_count": null,
   "id": "23b291cd",
   "metadata": {},
   "outputs": [],
   "source": [
    "# name = rng.choice(quad_names)\n",
    "name = rds.coords[\"name\"][91]\n",
    "# name = rds.coords[\"name\"][x_min]\n",
    "name = \"Q4M2D1R\"\n",
    "name = \"Q3M2T2R\"\n",
    "name = \"Q4M1T4R\"\n",
    "name = \"Q5M2T5R\"\n",
    "t_diff = diffs_fit.sel(name=name)\n",
    "\n",
    "fig, axes = plt.subplots(2, 2, figsize=[14, 6], sharex=True)\n",
    "ax_comp, ax_diff = axes\n",
    "ax_x, ax_y = ax_comp\n",
    "ax_dx, ax_dy = ax_diff\n",
    "a_scale = 1e6\n",
    "err_scale = a_scale * 1\n",
    "ds = selected_model.ds.sel(pos=t_diff.pos)\n",
    "\n",
    "for step in t_diff.step:\n",
    "    t_dI = redm4proc.excitation.sel(name=name, step=step)\n",
    "    a_scale_ = a_scale * np.sign(t_dI)\n",
    "    err_scale_ = err_scale #* np.sign(step)\n",
    "    ax_x.errorbar(\n",
    "        ds, t_diff.sel(step=step, result=\"orbit\", plane=\"x\") * a_scale_,\n",
    "        yerr=t_diff.sel(step=step, result=\"error\", plane=\"x\")* err_scale_, \n",
    "        fmt= '-'\n",
    "    )\n",
    "    ax_y.errorbar(\n",
    "        ds, t_diff.sel(step=step, result=\"orbit\", plane=\"y\") * a_scale_ *100,\n",
    "        yerr=t_diff.sel(step=step, result=\"error\", plane=\"y\")* err_scale_, \n",
    "        fmt= '-'\n",
    "    )\n",
    "    ax_x.errorbar(\n",
    "        ds, t_diff.sel(step=step, result=\"measurement\", plane=\"x\") * a_scale_ * -1,\n",
    "        yerr=t_diff.sel(step=step, result=\"error\", plane=\"x\")* err_scale_, \n",
    "        fmt= '+'\n",
    "    )\n",
    "    ax_y.errorbar(\n",
    "        ds, t_diff.sel(step=step, result=\"measurement\", plane=\"y\") * a_scale_ * -1,\n",
    "        yerr=t_diff.sel(step=step, result=\"error\", plane=\"y\") * err_scale_, \n",
    "        fmt= '+'\n",
    "    )\n",
    "    ax_dx.errorbar(\n",
    "        ds, t_diff.sel(step=step, result=\"value\", plane=\"x\") * a_scale_,\n",
    "        yerr=t_diff.sel(step=step, result=\"error\", plane=\"x\")* err_scale_, \n",
    "        fmt= '.'\n",
    "    )\n",
    "    ax_dy.errorbar(\n",
    "        ds, t_diff.sel(step=step, result=\"value\", plane=\"y\") * a_scale_,\n",
    "        yerr=t_diff.sel(step=step, result=\"error\", plane=\"y\")* err_scale_, \n",
    "        fmt= '.'\n",
    "    )\n",
    "ax_y.set_xlabel('s [m]')\n",
    "ax_x.set_ylabel('x [$\\mu$m]')\n",
    "ax_y.set_ylabel('y [$\\mu$m]');\n",
    "ax_dx.set_ylabel('dx [$\\mu$m]')\n",
    "ax_dy.set_ylabel('dy [$\\mu$m]');\n"
   ]
  },
  {
   "cell_type": "code",
   "execution_count": null,
   "id": "34e00d53",
   "metadata": {},
   "outputs": [],
   "source": [
    "fig, axes = plt.subplots(2, 1, figsize=[12, 9], sharex=True)\n",
    "ax_x, ax_y = axes\n",
    "a_scale = rds.orbit.attrs['theta'] * 1e6\n",
    "err_scale = a_scale * 5\n",
    "ds = selected_model.ds.sel(pos=quad_names_lc)\n",
    "ax_x.errorbar(\n",
    "    ds, rds.fit_params.sel(name=quad_names, parameter='scaled_angle', result='value', plane='x') * a_scale, \n",
    "    yerr=rds.fit_params.sel(name=quad_names, parameter='scaled_angle', result='error', plane='x') * err_scale, \n",
    "    fmt= '.'\n",
    ")\n",
    "ax_y.errorbar(\n",
    "    ds, rds.fit_params.sel(name=quad_names, parameter='scaled_angle', result='value', plane='y') * a_scale, \n",
    "    yerr=rds.fit_params.sel(name=quad_names, parameter='scaled_angle', result='error', plane='y') * err_scale, \n",
    "    fmt= '.'\n",
    ")\n",
    "ax_y.set_xlabel('s [m]')\n",
    "ax_x.set_ylabel('x [$\\mu rad$]')\n",
    "ax_y.set_ylabel('y [$\\mu$ rad]')\n"
   ]
  },
  {
   "cell_type": "code",
   "execution_count": null,
   "id": "8675a584",
   "metadata": {},
   "outputs": [],
   "source": [
    "import bact2_bessyii.magnets\n",
    "importlib.reload(bact2_bessyii.magnets)"
   ]
  },
  {
   "cell_type": "code",
   "execution_count": null,
   "id": "9d27e208",
   "metadata": {},
   "outputs": [],
   "source": [
    "import bact_analysis_bessyii.bba.calc\n",
    "importlib.reload(bact_analysis_bessyii.bba.calc)"
   ]
  },
  {
   "cell_type": "code",
   "execution_count": null,
   "id": "35dafa12",
   "metadata": {},
   "outputs": [],
   "source": [
    "calib_quad = bact_analysis_bessyii.bba.calc.load_calib_data()\n",
    "calib_quad"
   ]
  },
  {
   "cell_type": "markdown",
   "id": "55f4a224",
   "metadata": {},
   "source": [
    "Impact of muxer:\n",
    "\n",
    "* the muxer powers an auxilliary coil. This coil has 75 turns\n",
    "* the main quadrupole coil has 28 turns"
   ]
  },
  {
   "cell_type": "code",
   "execution_count": null,
   "id": "9b5b831e",
   "metadata": {},
   "outputs": [],
   "source": [
    "offsets = bact_analysis_bessyii.bba.calc.angles_to_offset_all(rds, names=quad_names, tf_scale=75.0/28.0)\n",
    "offsets;"
   ]
  },
  {
   "cell_type": "code",
   "execution_count": null,
   "id": "c31b4649",
   "metadata": {},
   "outputs": [],
   "source": []
  },
  {
   "cell_type": "code",
   "execution_count": null,
   "id": "8a7f4423",
   "metadata": {},
   "outputs": [],
   "source": [
    "name"
   ]
  },
  {
   "cell_type": "code",
   "execution_count": null,
   "id": "e146ee39",
   "metadata": {},
   "outputs": [],
   "source": [
    "offsets.sel(name=name, result=\"value\")*1e3"
   ]
  },
  {
   "cell_type": "code",
   "execution_count": null,
   "id": "0730283e",
   "metadata": {},
   "outputs": [],
   "source": [
    "fig, axes = plt.subplots(2, 1, figsize=[12, 9], sharex=True)\n",
    "ax_x, ax_y = axes\n",
    "a_scale = 1e6\n",
    "ax_x.errorbar(\n",
    "    ds,\n",
    "    offsets.sel(name=quad_names, result=\"value\", plane=\"x\") * a_scale,\n",
    "    yerr=offsets.sel(name=quad_names, result=\"error\", plane=\"x\") * a_scale,\n",
    "    fmt=\".\",\n",
    ")\n",
    "ax_y.errorbar(\n",
    "    ds,\n",
    "    offsets.sel(name=quad_names, result=\"value\", plane=\"y\") * a_scale,\n",
    "    yerr=offsets.sel(name=quad_names, result=\"error\", plane=\"y\") * a_scale,\n",
    "    fmt=\".\",\n",
    ")\n",
    "ax_y.set_xlabel(\"s [m]\")\n",
    "ax_x.set_xlabel(\"s [m]\")\n",
    "ax_x.set_ylabel(\"x [$\\mu$m]\")\n",
    "ax_y.set_ylabel(\"y [$\\mu$m]\")\n",
    "fig.savefig(\"axes_offset.pdf\")"
   ]
  },
  {
   "cell_type": "markdown",
   "id": "a8e5b109",
   "metadata": {},
   "source": [
    "## Comparison to classic BBA"
   ]
  },
  {
   "cell_type": "code",
   "execution_count": null,
   "id": "43c54334",
   "metadata": {},
   "outputs": [],
   "source": [
    "import os.path\n",
    "import pandas as pd\n",
    "import h5py"
   ]
  },
  {
   "cell_type": "code",
   "execution_count": null,
   "id": "8e4d4443",
   "metadata": {},
   "outputs": [],
   "source": [
    "ls BBA_Classic"
   ]
  },
  {
   "cell_type": "code",
   "execution_count": null,
   "id": "1bf74d3f",
   "metadata": {},
   "outputs": [],
   "source": [
    "t_dir = 'BBA_Classic'"
   ]
  },
  {
   "cell_type": "code",
   "execution_count": null,
   "id": "c4c64924",
   "metadata": {},
   "outputs": [],
   "source": [
    "df_classic  = pd.read_hdf(os.path.join(t_dir, \"20210818_quadrupoleOffsetsOldSchoolAnalysis.hdf\")).set_index(\"names\")"
   ]
  },
  {
   "cell_type": "code",
   "execution_count": null,
   "id": "86d40e7a",
   "metadata": {},
   "outputs": [],
   "source": [
    "ds_classic = xr.Dataset.from_dataframe(df_classic)\n",
    "ds_classic = ds_classic.rename_dims(names='name').assign_coords(name=[name.strip() for name in ds_classic.names.values]).reset_coords(drop=True)\n",
    "ds_classic"
   ]
  },
  {
   "cell_type": "code",
   "execution_count": null,
   "id": "bc8743b3",
   "metadata": {},
   "outputs": [],
   "source": [
    "filename = 'bba_classic.nc'"
   ]
  },
  {
   "cell_type": "code",
   "execution_count": null,
   "id": "da521520",
   "metadata": {},
   "outputs": [],
   "source": [
    "ds_classic = xr.load_dataset('bba_classic.nc')"
   ]
  },
  {
   "cell_type": "code",
   "execution_count": null,
   "id": "15313157",
   "metadata": {},
   "outputs": [],
   "source": [
    "ds_classic.sel(name=\"Q5M2T5R\")*1e3"
   ]
  },
  {
   "cell_type": "code",
   "execution_count": null,
   "id": "e0667f97",
   "metadata": {},
   "outputs": [],
   "source": [
    "ds;"
   ]
  },
  {
   "cell_type": "code",
   "execution_count": null,
   "id": "2f49d15f",
   "metadata": {},
   "outputs": [],
   "source": [
    "#quad_names = offsets.coords['name'].values\n",
    "#quad_names_lc = [name.lower() for name in quad_names]\n",
    "#quad_names;"
   ]
  },
  {
   "cell_type": "code",
   "execution_count": null,
   "id": "591db66c",
   "metadata": {},
   "outputs": [],
   "source": [
    "set(ds_classic.name.values).difference(quad_names)"
   ]
  },
  {
   "cell_type": "code",
   "execution_count": null,
   "id": "c640b6c8",
   "metadata": {},
   "outputs": [],
   "source": [
    "ds_classic.dX.sel(name=quad_names)"
   ]
  },
  {
   "cell_type": "code",
   "execution_count": null,
   "id": "b2116c1b",
   "metadata": {},
   "outputs": [],
   "source": [
    "fig, axes = plt.subplots(2, 1, figsize=[24, 12], sharex=True)\n",
    "ax_x, ax_y = axes\n",
    "a_scale = 1e6 * 2\n",
    "classic_scale = 1e3\n",
    "ax_x.errorbar(\n",
    "    ds.sel(pos=quad_names_lc),\n",
    "    offsets.sel(name=quad_names, result=\"value\", plane=\"x\") * a_scale,\n",
    "    yerr=offsets.sel(name=quad_names, result=\"error\", plane=\"x\") * a_scale,\n",
    "    fmt=\".\",\n",
    ")\n",
    "ax_x.errorbar(\n",
    "    ds.sel(pos=quad_names_lc),\n",
    "    ds_classic.dX.sel(name=quad_names) * classic_scale,\n",
    "    yerr=ds_classic.dXerr.sel(name=quad_names) * classic_scale,\n",
    "    fmt=\"+\",\n",
    ")\n",
    "ax_y.errorbar(\n",
    "    ds,\n",
    "    offsets.sel(name=quad_names, result=\"value\", plane=\"y\") * a_scale,\n",
    "    yerr=offsets.sel(name=quad_names, result=\"error\", plane=\"y\") * a_scale,\n",
    "    fmt=\".\",\n",
    ")\n",
    "ax_y.errorbar(\n",
    "    ds.sel(pos=quad_names_lc),\n",
    "    ds_classic.dY.sel(name=quad_names) * classic_scale,\n",
    "    yerr=ds_classic.dYerr.sel(name=quad_names) * classic_scale,\n",
    "    fmt=\"+\",\n",
    ")\n",
    "ax_y.set_xlabel(\"s [m]\")\n",
    "ax_x.set_ylabel(\"x [$\\mu$m]\")\n",
    "ax_y.set_ylabel(\"y [$\\mu$m]\")"
   ]
  },
  {
   "cell_type": "code",
   "execution_count": null,
   "id": "dc1fccdc",
   "metadata": {},
   "outputs": [],
   "source": [
    "fig, axes = plt.subplots(2, 1, figsize=[12, 9], sharex=True)\n",
    "ax_x, ax_y = axes\n",
    "# a_scale = 1e6 * 2\n",
    "# classic_scale = 1e3 \n",
    "\n",
    "dx = offsets.sel(name=quad_names, result=\"value\", plane=\"x\") * a_scale - ds_classic.dX.sel(name=quad_names) * classic_scale\n",
    "dy = offsets.sel(name=quad_names, result=\"value\", plane=\"y\") * a_scale - ds_classic.dY.sel(name=quad_names) * classic_scale\n",
    "\n",
    "delta_dx = offsets.sel(name=quad_names, result=\"error\", plane=\"x\") * a_scale + ds_classic.dXerr.sel(name=quad_names) * classic_scale\n",
    "delta_dy = offsets.sel(name=quad_names, result=\"error\", plane=\"y\") * a_scale + ds_classic.dYerr.sel(name=quad_names) * classic_scale\n",
    "ax_x.errorbar(\n",
    "    ds.sel(pos=quad_names_lc), dx,\n",
    "    yerr=delta_dx,\n",
    "    fmt=\".-\",\n",
    ")\n",
    "ax_y.errorbar(\n",
    "    ds.sel(pos=quad_names_lc),\n",
    "    dy,\n",
    "    yerr=delta_dy,\n",
    "    fmt=\".-\",\n",
    ")\n",
    "ax_y.set_xlabel(\"s [m]\")\n",
    "ax_x.set_ylabel(\"x [$\\mu$m]\")\n",
    "ax_y.set_ylabel(\"y [$\\mu$m]\")"
   ]
  },
  {
   "cell_type": "code",
   "execution_count": null,
   "id": "889caa28",
   "metadata": {},
   "outputs": [],
   "source": [
    "from scipy.optimize import lsq_linear"
   ]
  },
  {
   "cell_type": "code",
   "execution_count": null,
   "id": "51666113",
   "metadata": {},
   "outputs": [],
   "source": [
    "r = lsq_linear(offsets.sel(name=quad_names, result=\"value\", plane=\"x\").values[:, np.newaxis], ds_classic.dX.sel(name=quad_names).values )\n",
    "r.x / 1000 / 2. * 100"
   ]
  },
  {
   "cell_type": "code",
   "execution_count": null,
   "id": "e27aaa65",
   "metadata": {},
   "outputs": [],
   "source": [
    "r.x / np.pi / 1000"
   ]
  },
  {
   "cell_type": "code",
   "execution_count": null,
   "id": "4769474c",
   "metadata": {},
   "outputs": [],
   "source": []
  }
 ],
 "metadata": {
  "kernelspec": {
   "display_name": "Python 3 (ipykernel)",
   "language": "python",
   "name": "python3"
  },
  "language_info": {
   "codemirror_mode": {
    "name": "ipython",
    "version": 3
   },
   "file_extension": ".py",
   "mimetype": "text/x-python",
   "name": "python",
   "nbconvert_exporter": "python",
   "pygments_lexer": "ipython3",
   "version": "3.10.12"
  },
  "toc": {
   "base_numbering": 1,
   "nav_menu": {},
   "number_sections": true,
   "sideBar": true,
   "skip_h1_title": false,
   "title_cell": "Table of Contents",
   "title_sidebar": "Contents",
   "toc_cell": false,
   "toc_position": {},
   "toc_section_display": true,
   "toc_window_display": false
  }
 },
 "nbformat": 4,
 "nbformat_minor": 5
}
