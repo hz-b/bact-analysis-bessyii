{
 "cells": [
  {
   "cell_type": "code",
   "execution_count": null,
   "id": "158affbc-f0cd-49e8-826d-20e7dcc412d2",
   "metadata": {},
   "outputs": [],
   "source": [
    "from IPython.core.display import display, Markdown, HTML\n",
    "display(HTML(\"<style>.container { width:90% !important; }</style>\"))"
   ]
  },
  {
   "cell_type": "code",
   "execution_count": null,
   "id": "e7cef429-98f3-4109-a512-afb7b40a4940",
   "metadata": {},
   "outputs": [],
   "source": [
    "import datetime\n",
    "import tqdm\n",
    "import importlib"
   ]
  },
  {
   "cell_type": "code",
   "execution_count": null,
   "id": "5b0ba1de-3f83-4bbe-aec4-08df410ac0ed",
   "metadata": {},
   "outputs": [],
   "source": [
    "import xarray as xr\n",
    "import numpy as np\n",
    "%matplotlib notebook\n",
    "%matplotlib notebook\n",
    "import matplotlib.pyplot as plt"
   ]
  },
  {
   "cell_type": "code",
   "execution_count": null,
   "id": "8bf852fa-e2a5-4379-8136-58fd54283197",
   "metadata": {},
   "outputs": [],
   "source": [
    "from databroker import catalog"
   ]
  },
  {
   "cell_type": "code",
   "execution_count": null,
   "id": "597bbff9-d9ee-449c-ac98-6fdebe1f3873",
   "metadata": {},
   "outputs": [],
   "source": [
    "import bact_analysis\n",
    "import bact_analysis.bba.calc\n",
    "import bact_analysis.transverse.calc\n",
    "import bact_analysis.transverse.distorted_orbit\n",
    "import bact_analysis.transverse.process\n",
    "import bact_analysis.utils.preprocess\n",
    "import bact_analysis_bessyii.bba.preprocess_data"
   ]
  },
  {
   "cell_type": "markdown",
   "id": "992510b8-d913-4ff5-a0a5-cb3657bf8489",
   "metadata": {},
   "source": [
    "# BBA Analysis\n",
    "\n",
    "This notebook should be the center for selecting the required data and presenting the results.\n",
    "All computation or data rearangement shall be performed in libraries"
   ]
  },
  {
   "cell_type": "code",
   "execution_count": null,
   "id": "f5990203-9e7a-4206-b835-7a7a1972d25b",
   "metadata": {},
   "outputs": [],
   "source": [
    "datetime.datetime.now().strftime('%Y %m %d %H:%M')"
   ]
  },
  {
   "cell_type": "markdown",
   "id": "63b2f1bc-19c1-4001-8c19-80a4e1919a7d",
   "metadata": {},
   "source": [
    "## Data selection, check and load"
   ]
  },
  {
   "cell_type": "code",
   "execution_count": null,
   "id": "98606440-489b-4c63-b1b9-9a6a5dbda224",
   "metadata": {},
   "outputs": [],
   "source": [
    "catalog_name = 'heavy'"
   ]
  },
  {
   "cell_type": "code",
   "execution_count": null,
   "id": "d4e5847c-87f7-4c0d-8bc2-a02350a1386d",
   "metadata": {},
   "outputs": [],
   "source": [
    "db = catalog[catalog_name]"
   ]
  },
  {
   "cell_type": "markdown",
   "id": "c8e2cc8c-0e01-45be-98b5-ecd1631962db",
   "metadata": {},
   "source": [
    "For measurement elog entry see http://elog-v2.trs.bessy.de:8080/Machine+Devel.,+Comm./1788"
   ]
  },
  {
   "cell_type": "code",
   "execution_count": null,
   "id": "6bc03316-d190-4389-ade5-63ac4fee3c2e",
   "metadata": {},
   "outputs": [],
   "source": [
    "# uid = '24ff319d-b260-46e6-8356-0dfb08638fb1'\n",
    "uid = '24ff319d-b260-46e6-8356-0dfb08638fb1'\n",
    "uid = 'c6c3ad04-7c4c-4a6d-a7e8-91602cfea726'"
   ]
  },
  {
   "cell_type": "code",
   "execution_count": null,
   "id": "a0f6a346-12e0-466f-86e4-690be437f39c",
   "metadata": {},
   "outputs": [],
   "source": [
    "list(db.keys());"
   ]
  },
  {
   "cell_type": "code",
   "execution_count": null,
   "id": "5a2266cc-fdae-414e-b918-15a0407db7f1",
   "metadata": {},
   "outputs": [],
   "source": [
    "run = db[uid]"
   ]
  },
  {
   "cell_type": "code",
   "execution_count": null,
   "id": "4d132028",
   "metadata": {},
   "outputs": [],
   "source": [
    "type(run)"
   ]
  },
  {
   "cell_type": "code",
   "execution_count": null,
   "id": "9bb9eb00-fb83-4e93-9640-d2f24205d2ea",
   "metadata": {},
   "outputs": [],
   "source": [
    "descriptor, = run.primary.metadata['descriptors']\n",
    "descriptor;"
   ]
  },
  {
   "cell_type": "markdown",
   "id": "0057ef78",
   "metadata": {},
   "source": [
    "configuration = descriptor['configuration']\n",
    "dt_configuration = configuration['dt']\n",
    "list(configuration.keys()), list(dt_configuration.keys())"
   ]
  },
  {
   "cell_type": "markdown",
   "id": "75c55417-fc39-4703-a91a-55c61c46fb6a",
   "metadata": {},
   "source": [
    "### loading data"
   ]
  },
  {
   "cell_type": "markdown",
   "id": "4c64b0b2-4ac6-46dc-be9e-e2d746e43ba8",
   "metadata": {},
   "source": [
    "Loading dask seems to be the fastest approach"
   ]
  },
  {
   "cell_type": "markdown",
   "id": "2d47a7b4",
   "metadata": {},
   "source": [
    "start = datetime.datetime.now()\n",
    "all_data_ = run.primary.to_dask()\n",
    "end = datetime.datetime.now()\n",
    "\n",
    "end - start"
   ]
  },
  {
   "cell_type": "markdown",
   "id": "b80c4d8a-bec3-440a-9a3f-695b79886864",
   "metadata": {},
   "source": [
    "Now load all data"
   ]
  },
  {
   "cell_type": "code",
   "execution_count": null,
   "id": "ee263e11-3a49-4d2d-9e84-9278f9f7f212",
   "metadata": {},
   "outputs": [],
   "source": [
    "for name, item in tqdm.tqdm(all_data_.items(), total=len(all_data_.variables)):\n",
    "    item.load()"
   ]
  },
  {
   "cell_type": "markdown",
   "id": "1ce7b106-afdf-4ac1-a7ed-26ee3402a42b",
   "metadata": {},
   "source": [
    "### load lattice model"
   ]
  },
  {
   "cell_type": "code",
   "execution_count": null,
   "id": "5788f024-003b-475a-bf72-00ecc88a592b",
   "metadata": {},
   "outputs": [],
   "source": [
    "selected_model = xr.load_dataset('bessii_twiss_tracy.nc')\n",
    "selected_model"
   ]
  },
  {
   "cell_type": "markdown",
   "id": "a4c2d4d5-4788-42e3-b15a-148c0a7bce96",
   "metadata": {},
   "source": [
    "### Checking consistency between lattice model and digital twin ... for the required elements"
   ]
  },
  {
   "cell_type": "code",
   "execution_count": null,
   "id": "283ba54c-390d-4d01-9e5e-3def76edbd34",
   "metadata": {},
   "outputs": [],
   "source": [
    "device_name = 'dt'\n",
    "descriptor, = run.primary.metadata['descriptors']\n",
    "configuration = descriptor['configuration']\n",
    "dt_configuration = configuration[device_name]"
   ]
  },
  {
   "cell_type": "code",
   "execution_count": null,
   "id": "2c624158-7b16-4aa1-bc0f-d7fab17794e3",
   "metadata": {},
   "outputs": [],
   "source": [
    "importlib.reload(bact_analysis.utils.preprocess)"
   ]
  },
  {
   "cell_type": "code",
   "execution_count": null,
   "id": "a6ff952c-911a-44c8-bec2-348b91c9c167",
   "metadata": {},
   "outputs": [],
   "source": [
    "if False:\n",
    "    bpm_names = dt_configuration['data']['dt_bpm_waveform_names']\n",
    "    bpm_names_lc = [name.lower() for name in bpm_names]\n",
    "else:\n",
    "    bpm_names = all_data_.dt_bpm_waveform_names.isel(time=0).values\n",
    "    bpm_names_lc = [name.lower() for name in bpm_names]"
   ]
  },
  {
   "cell_type": "code",
   "execution_count": null,
   "id": "6f933e0c-8cf7-4d63-91c7-75f89192e033",
   "metadata": {},
   "outputs": [],
   "source": [
    "bpm_names_check = set(bpm_names_lc)"
   ]
  },
  {
   "cell_type": "markdown",
   "id": "c81bd720-51bf-4e91-997d-4e06fe271730",
   "metadata": {},
   "source": [
    "Check that all bpm's are in the lattice"
   ]
  },
  {
   "cell_type": "code",
   "execution_count": null,
   "id": "705c55e9-9e61-4641-885d-77595395948d",
   "metadata": {},
   "outputs": [],
   "source": [
    "bpm_names_check.difference(selected_model.coords[\"pos\"].values)"
   ]
  },
  {
   "cell_type": "markdown",
   "id": "9903f49a",
   "metadata": {},
   "source": [
    "Remove first reading ... bpm data not garanteed to be correct"
   ]
  },
  {
   "cell_type": "code",
   "execution_count": null,
   "id": "c740a0da",
   "metadata": {},
   "outputs": [],
   "source": [
    "idx = all_data_.dt_cs_setpoint != 0#\n",
    "all_data__ = all_data_.isel(time=idx)"
   ]
  },
  {
   "cell_type": "code",
   "execution_count": null,
   "id": "29cef762",
   "metadata": {},
   "outputs": [],
   "source": [
    "all_data__.dt_cs_setpoint.max();"
   ]
  },
  {
   "cell_type": "code",
   "execution_count": null,
   "id": "d9ffe078",
   "metadata": {},
   "outputs": [],
   "source": []
  },
  {
   "cell_type": "markdown",
   "id": "5d24020b-5da5-4994-9b97-1fbf090cd18b",
   "metadata": {},
   "source": [
    "### Collapsing the number of different dimensions"
   ]
  },
  {
   "cell_type": "markdown",
   "id": "633e6741-3bb7-49d5-b352-02278cf2edbb",
   "metadata": {},
   "source": [
    "Replace them with known lablled alternatives"
   ]
  },
  {
   "cell_type": "code",
   "execution_count": null,
   "id": "1d88f5f8-0aff-4d97-b9a2-ca0762b95e77",
   "metadata": {},
   "outputs": [],
   "source": [
    "bpm_dims = bact_analysis_bessyii.bba.preprocess_data.replaceable_dims_bpm(\n",
    "    all_data__, prefix=\"dt_\", expected_length=len(bpm_names)\n",
    ")"
   ]
  },
  {
   "cell_type": "markdown",
   "id": "4e976203-aad3-4fc8-bc3b-81cfaf57f794",
   "metadata": {},
   "source": [
    "These are only relevant for digital twin data. Steerer data are not further processed here thus these are ignored."
   ]
  },
  {
   "cell_type": "markdown",
   "id": "dab90b3b-d374-4c6f-91a2-efdee5ed8edd",
   "metadata": {},
   "source": [
    "### Derive info on measurement"
   ]
  },
  {
   "cell_type": "markdown",
   "id": "099aa777-f6b8-450d-820c-5aae70f98333",
   "metadata": {},
   "source": [
    "When were magnets strength was switched or magnet was reselected"
   ]
  },
  {
   "cell_type": "code",
   "execution_count": null,
   "id": "2809095b-ec3c-4458-88bd-5eb57e54fed2",
   "metadata": {},
   "outputs": [],
   "source": [
    "muxer_pc_current_change = bact_analysis.utils.preprocess.enumerate_changed_value(all_data_.dt_mux_power_converter_setpoint)\n",
    "muxer_pc_current_change.name = \"muxer_pc_current_change\" \n",
    "muxer_or_pc_current_change = bact_analysis.utils.preprocess.enumerate_changed_value_pairs(all_data_.dt_mux_power_converter_setpoint, all_data_.dt_mux_selector_selected)\n",
    "muxer_or_pc_current_change.name = \"muxer_or_pc_current_change\" "
   ]
  },
  {
   "cell_type": "markdown",
   "id": "e722957e-c2a0-4c61-9195-65db947013a5",
   "metadata": {},
   "source": [
    "### Combine all info to new xarray "
   ]
  },
  {
   "cell_type": "code",
   "execution_count": null,
   "id": "73d58ca0-ffb5-4bc5-8408-4ce56c30c09e",
   "metadata": {},
   "outputs": [],
   "source": [
    "replace_dims = {dim : 'bpm' for dim in bpm_dims}\n",
    "# replace_dims.update({dim : 'pos' for dim in beam_dims})\n",
    "all_data = all_data_.rename(replace_dims).assign_coords(bpm=list(bpm_names), pos=selected_model.coords['pos'])\n",
    "all_data"
   ]
  },
  {
   "cell_type": "code",
   "execution_count": null,
   "id": "adaa4772-ed0d-45f4-948d-5a953f811c97",
   "metadata": {},
   "outputs": [],
   "source": [
    "preprocessed = xr.merge([all_data, muxer_pc_current_change, muxer_or_pc_current_change])\n",
    "preprocessed"
   ]
  },
  {
   "cell_type": "code",
   "execution_count": null,
   "id": "46f2c5df",
   "metadata": {},
   "outputs": [],
   "source": [
    "type(dt_configuration)"
   ]
  },
  {
   "cell_type": "code",
   "execution_count": null,
   "id": "39a3e1d5",
   "metadata": {},
   "outputs": [],
   "source": [
    "importlib.reload(bact_analysis_bessyii.bba.preprocess_data)"
   ]
  },
  {
   "cell_type": "code",
   "execution_count": null,
   "id": "b666d34c",
   "metadata": {},
   "outputs": [],
   "source": [
    "preprocessed, dt_configuration = bact_analysis_bessyii.bba.preprocess_data.load_and_check_data(run)"
   ]
  },
  {
   "cell_type": "markdown",
   "id": "2474fc37-c92e-4ccd-8596-17866c16ea63",
   "metadata": {},
   "source": [
    "### Make data selectable per magnet"
   ]
  },
  {
   "cell_type": "code",
   "execution_count": null,
   "id": "5a198e8c",
   "metadata": {},
   "outputs": [],
   "source": []
  },
  {
   "cell_type": "code",
   "execution_count": null,
   "id": "ba5dc410-0deb-404f-b23a-dca50b105e84",
   "metadata": {},
   "outputs": [],
   "source": [
    "importlib.reload(bact_analysis.utils.preprocess)\n",
    "importlib.reload(bact_analysis.transverse.calc)\n",
    "importlib.reload(bact_analysis_bessyii.bba.preprocess_data)"
   ]
  },
  {
   "cell_type": "code",
   "execution_count": null,
   "id": "607e8988-677d-4741-abf1-a924cd1e7cb0",
   "metadata": {},
   "outputs": [],
   "source": [
    "type(preprocessed)"
   ]
  },
  {
   "cell_type": "code",
   "execution_count": null,
   "id": "f32b57a9-a04f-484e-b3fe-13cceb3f989b",
   "metadata": {},
   "outputs": [],
   "source": [
    "rearranged = xr.concat(\n",
    "    bact_analysis.utils.preprocess.reorder_by_groups(\n",
    "        preprocessed,\n",
    "        preprocessed.groupby(preprocessed.dt_mux_selector_selected),\n",
    "        reordered_dim=\"name\",\n",
    "        dim_sel=\"time\",\n",
    "        new_indices_dim=\"step\",\n",
    "    ),\n",
    "    dim=\"name\",\n",
    ")"
   ]
  },
  {
   "cell_type": "code",
   "execution_count": null,
   "id": "bd699a50-a2ba-4f64-ab66-67c7709abb55",
   "metadata": {},
   "outputs": [],
   "source": [
    "rearranged;"
   ]
  },
  {
   "cell_type": "code",
   "execution_count": null,
   "id": "869160b7-b16b-4929-afab-caea0bedbec4",
   "metadata": {},
   "outputs": [],
   "source": [
    "measurement_vars = dict(\n",
    "    dt_bpm_waveform_x_pos=\"x_pos\",\n",
    "    dt_bpm_waveform_y_pos=\"y_pos\",\n",
    "    dt_mux_power_converter_setpoint=\"excitation\",\n",
    ")\n",
    "redm4proc = (\n",
    "    rearranged[list(measurement_vars.keys())]\n",
    "    .rename_vars(**measurement_vars)\n",
    "    .sel(bpm=bpm_names)\n",
    "    .rename_dims(bpm=\"pos\")\n",
    "    .assign_coords(pos=bpm_names_lc)\n",
    ")\n",
    "# BPM Data are in mm\n",
    "redm4proc['x_pos'] =  redm4proc.x_pos/ 1000\n",
    "redm4proc['y_pos'] =  redm4proc.y_pos/ 1000"
   ]
  },
  {
   "cell_type": "code",
   "execution_count": null,
   "id": "824bb26c-d8e3-4599-a12e-5ad75d9ec170",
   "metadata": {},
   "outputs": [],
   "source": []
  },
  {
   "cell_type": "markdown",
   "id": "2ef4a685-cb53-4364-9585-37c983dfa506",
   "metadata": {},
   "source": [
    "## Processing data"
   ]
  },
  {
   "cell_type": "markdown",
   "id": "b7120695-73fa-4482-bef4-cd54be52a8bd",
   "metadata": {},
   "source": [
    "### Using model information"
   ]
  },
  {
   "cell_type": "markdown",
   "id": "8cbf8c00-f308-4471-834f-b6cab5377e61",
   "metadata": {},
   "source": [
    "This model information is obtained here from the model produced by the digital shadow. \n",
    "\n",
    "Should be replaced by a standard lattice from database"
   ]
  },
  {
   "cell_type": "markdown",
   "id": "4ac0135a-bf52-4c21-89a5-b46ee1291973",
   "metadata": {},
   "source": [
    "## Test processing capabilities"
   ]
  },
  {
   "cell_type": "code",
   "execution_count": null,
   "id": "98dc03ca-306b-48e2-a5ae-a00a6cad926f",
   "metadata": {},
   "outputs": [],
   "source": [
    "# d = {name: item for name, item in red4proc.coords.items()}"
   ]
  },
  {
   "cell_type": "code",
   "execution_count": null,
   "id": "0629322a-4e24-4d6c-8961-9d6a186714af",
   "metadata": {},
   "outputs": [],
   "source": [
    "#red4proc.x_pos.expand_dims?"
   ]
  },
  {
   "cell_type": "code",
   "execution_count": null,
   "id": "a71e6eb9-e723-41cb-87ff-980ae51d6a29",
   "metadata": {},
   "outputs": [],
   "source": [
    "importlib.reload( bact_analysis.transverse.distorted_orbit)\n",
    "importlib.reload( bact_analysis.transverse.calc)\n",
    "importlib.reload( bact_analysis.transverse.process)"
   ]
  },
  {
   "cell_type": "code",
   "execution_count": null,
   "id": "f916997b-ff81-4f09-8a77-ee6499b26610",
   "metadata": {},
   "outputs": [],
   "source": [
    "start = datetime.datetime.now()\n",
    "result = {\n",
    "    name: item for name, item in \n",
    "    tqdm.tqdm(bact_analysis.transverse.process.process_all_gen(selected_model, redm4proc, redm4proc.coords['name'].values, bpm_names=bpm_names_lc, theta=1e-5), \n",
    "              total=len(redm4proc.coords['name']))\n",
    "}\n",
    "end  = datetime.datetime.now()\n",
    "end - start"
   ]
  },
  {
   "cell_type": "code",
   "execution_count": null,
   "id": "ecebfa86-4971-434f-9600-661cff8faba5",
   "metadata": {},
   "outputs": [],
   "source": [
    "rds = bact_analysis.transverse.process.combine_all(result)"
   ]
  },
  {
   "cell_type": "code",
   "execution_count": null,
   "id": "804e3c99-ed50-4598-bdb9-712dff337c26",
   "metadata": {},
   "outputs": [],
   "source": [
    "rds.orbit.attrs"
   ]
  },
  {
   "cell_type": "markdown",
   "id": "81303b1f",
   "metadata": {},
   "source": [
    "## Check calculated orbits"
   ]
  },
  {
   "cell_type": "code",
   "execution_count": null,
   "id": "ff42f66f",
   "metadata": {},
   "outputs": [],
   "source": [
    "redm4proc.sel(name='Q1M1D1R')"
   ]
  },
  {
   "cell_type": "code",
   "execution_count": null,
   "id": "aee9ab4b",
   "metadata": {},
   "outputs": [],
   "source": [
    "def check_kick_fit(measurement, orbit, parameters):\n",
    "    \"\"\"\n",
    "    \n",
    "    Todo:\n",
    "          include measurement error\n",
    "    \"\"\"\n",
    "    bpm_names = measurement.coords['pos']\n",
    "    \n",
    "    s = parameters.sel(parameter='scaled_angle')\n",
    "    scale = s.sel(result='value')\n",
    "    scale_err = s.sel(result='error')\n",
    "    del s\n",
    "    \n",
    "    pars  = parameters.sel(parameter=bpm_names)\n",
    "    offset =  pars.sel(result='value')\n",
    "    offset_err = pars.sel(result='error')\n",
    "    del pars\n",
    "    \n",
    "    #print(parameters)\n",
    "    scaled_orbit = orbit * scale\n",
    "    scaled_orbit_err = np.absolute(orbit) * scale_err\n",
    "    \n",
    "    scaled_orbit_at_bpm = scaled_orbit.sel(pos=bpm_names)\n",
    "    s_x = scaled_orbit_at_bpm.sel(plane=\"x\") * measurement.excitation\n",
    "    s_y = scaled_orbit_at_bpm.sel(plane=\"y\") * measurement.excitation\n",
    "    m_x  = offset.sel(plane=\"x\") - measurement.x_pos\n",
    "    m_y  = offset.sel(plane=\"y\") - measurement.y_pos\n",
    "    diff_x = s_x + m_x\n",
    "    diff_y = s_y + m_y\n",
    "    del scaled_orbit_at_bpm\n",
    "    \n",
    "    so_at_bpm_err = scaled_orbit_err.sel(pos=bpm_names)\n",
    "    diff_x_err = so_at_bpm_err.sel(plane=\"x\") * measurement.excitation + offset_err.sel(plane=\"x\")\n",
    "    diff_y_err = so_at_bpm_err.sel(plane=\"y\") * measurement.excitation + offset_err.sel(plane=\"y\")\n",
    "    del so_at_bpm_err\n",
    "    \n",
    "    pos, step = diff_x.dims\n",
    "    coords = [[\"x\", \"y\"], [\"value\", \"error\", \"orbit\", \"measurement\"]]\n",
    "    dims = [\"plane\", \"result\",  pos, step]\n",
    "    coords += [diff_x.coords[pos], diff_x.coords[step]]\n",
    "    diff = xr.DataArray(data=[[diff_x, diff_x_err, s_x, m_x], [diff_y, diff_y_err, s_y, m_y]], dims=dims, coords=coords)\n",
    "    return diff"
   ]
  },
  {
   "cell_type": "code",
   "execution_count": null,
   "id": "e3beed5b",
   "metadata": {},
   "outputs": [],
   "source": [
    "def process(name): \n",
    "    measurement = redm4proc.sel(name=name)\n",
    "    orbit = rds.orbit.sel(name=name)\n",
    "    diff = check_kick_fit(measurement, orbit, rds.fit_params.sel(name=name))\n",
    "    diff = diff.expand_dims(name=[name])\n",
    "    return diff\n",
    "\n",
    "diffs_fit = xr.concat([process(name) for name in rds.coords[\"name\"].values], dim=\"name\")\n"
   ]
  },
  {
   "cell_type": "code",
   "execution_count": null,
   "id": "d43d89fa",
   "metadata": {},
   "outputs": [],
   "source": [
    "np.absolute(diffs_fit.sel(result=\"value\")).max() * 1e6, np.absolute(diffs_fit.sel(result=\"error\")).max() * 1e6"
   ]
  },
  {
   "cell_type": "code",
   "execution_count": null,
   "id": "ba4e6c2f",
   "metadata": {},
   "outputs": [],
   "source": [
    "rng = np.random.default_rng()"
   ]
  },
  {
   "cell_type": "code",
   "execution_count": null,
   "id": "d7241f45-5782-470a-801f-e32058a2b9c2",
   "metadata": {},
   "outputs": [],
   "source": [
    "quad_names = [str(name.values) for name in rds.coords[\"name\"]]\n",
    "quad_names_lc = [name.lower() for name in quad_names]"
   ]
  },
  {
   "cell_type": "code",
   "execution_count": null,
   "id": "55619403",
   "metadata": {},
   "outputs": [],
   "source": [
    "y_max =  rds.fit_params.sel(plane=\"y\", result=\"value\", parameter=\"scaled_angle\").argmax().values\n",
    "y_min =  rds.fit_params.sel(plane=\"y\", result=\"value\", parameter=\"scaled_angle\").argmin().values\n",
    "x_max =  rds.fit_params.sel(plane=\"x\", result=\"value\", parameter=\"scaled_angle\").argmax().values\n",
    "x_min =  rds.fit_params.sel(plane=\"x\", result=\"value\", parameter=\"scaled_angle\").argmin().values\n",
    "y_max, y_min"
   ]
  },
  {
   "cell_type": "code",
   "execution_count": null,
   "id": "0438fd17",
   "metadata": {},
   "outputs": [],
   "source": [
    "redm4proc.excitation.min()"
   ]
  },
  {
   "cell_type": "code",
   "execution_count": null,
   "id": "038d370b",
   "metadata": {},
   "outputs": [],
   "source": [
    "name = rng.choice(quad_names)\n",
    "name = rds.coords[\"name\"][91]\n",
    "name = rds.coords[\"name\"][x_min]\n",
    "name = \"Q4M2D1R\"\n",
    "name = \"Q3M2T2R\"\n",
    "name = \"Q4M1T4R\"\n",
    "name = \"Q5M2T5R\"\n",
    "t_diff = diffs_fit.sel(name=name)\n",
    "\n",
    "fig, axes = plt.subplots(2, 2, figsize=[14, 6], sharex=True)\n",
    "ax_comp, ax_diff = axes\n",
    "ax_x, ax_y = ax_comp\n",
    "ax_dx, ax_dy = ax_diff\n",
    "a_scale = 1e6 / 2\n",
    "err_scale = a_scale * 1\n",
    "ds = selected_model.ds.sel(pos=t_diff.pos)\n",
    "\n",
    "for step in t_diff.step:\n",
    "    t_dI = redm4proc.excitation.sel(name=name, step=step)\n",
    "    a_scale_ = a_scale * np.sign(t_dI)\n",
    "    err_scale_ = err_scale #* np.sign(step)\n",
    "    ax_x.errorbar(\n",
    "        ds, t_diff.sel(step=step, result=\"orbit\", plane=\"x\") * a_scale_,\n",
    "        yerr=t_diff.sel(step=step, result=\"error\", plane=\"x\")* err_scale_, \n",
    "        fmt= '-'\n",
    "    )\n",
    "    ax_y.errorbar(\n",
    "        ds, t_diff.sel(step=step, result=\"orbit\", plane=\"y\") * a_scale_,\n",
    "        yerr=t_diff.sel(step=step, result=\"error\", plane=\"y\")* err_scale_, \n",
    "        fmt= '-'\n",
    "    )\n",
    "    ax_x.errorbar(\n",
    "        ds, t_diff.sel(step=step, result=\"measurement\", plane=\"x\") * a_scale_ * -1,\n",
    "        yerr=t_diff.sel(step=step, result=\"error\", plane=\"x\")* err_scale_, \n",
    "        fmt= '+'\n",
    "    )\n",
    "    ax_y.errorbar(\n",
    "        ds, t_diff.sel(step=step, result=\"measurement\", plane=\"y\") * a_scale_ * -1,\n",
    "        # yerr=t_diff.sel(step=step, result=\"error\", plane=\"y\") err_scale_, \n",
    "        fmt= '+'\n",
    "    )\n",
    "    ax_dx.errorbar(\n",
    "        ds, t_diff.sel(step=step, result=\"value\", plane=\"x\") * a_scale_,\n",
    "        yerr=t_diff.sel(step=step, result=\"error\", plane=\"x\")* err_scale_, \n",
    "        fmt= '.'\n",
    "    )\n",
    "    ax_dy.errorbar(\n",
    "        ds, t_diff.sel(step=step, result=\"value\", plane=\"y\") * a_scale_,\n",
    "        yerr=t_diff.sel(step=step, result=\"error\", plane=\"y\")* err_scale_, \n",
    "        fmt= '.'\n",
    "    )\n",
    "ax_y.set_xlabel('s [m]')\n",
    "ax_x.set_ylabel('x [$\\mu rad$]')\n",
    "ax_y.set_ylabel('y [$\\mu$ rad]');\n",
    "ax_dx.set_ylabel('dx [$\\mu rad$]')\n",
    "ax_dy.set_ylabel('dy [$\\mu$ rad]');\n"
   ]
  },
  {
   "cell_type": "code",
   "execution_count": null,
   "id": "4c14a8e7-6258-4a26-b66a-504faabe1c24",
   "metadata": {},
   "outputs": [],
   "source": [
    "fig, axes = plt.subplots(2, 1, figsize=[12, 9], sharex=True)\n",
    "ax_x, ax_y = axes\n",
    "a_scale = rds.orbit.attrs['theta'] * 1e6\n",
    "err_scale = a_scale * 5\n",
    "ds = selected_model.ds.sel(pos=quad_names_lc)\n",
    "ax_x.errorbar(\n",
    "    ds, rds.fit_params.sel(name=quad_names, parameter='scaled_angle', result='value', plane='x') * a_scale, \n",
    "    yerr=rds.fit_params.sel(name=quad_names, parameter='scaled_angle', result='error', plane='x') * err_scale, \n",
    "    fmt= '.'\n",
    ")\n",
    "ax_y.errorbar(\n",
    "    ds, rds.fit_params.sel(name=quad_names, parameter='scaled_angle', result='value', plane='y') * a_scale, \n",
    "    yerr=rds.fit_params.sel(name=quad_names, parameter='scaled_angle', result='error', plane='y') * err_scale, \n",
    "    fmt= '.'\n",
    ")\n",
    "ax_y.set_xlabel('s [m]')\n",
    "ax_x.set_ylabel('x [$\\mu rad$]')\n",
    "ax_y.set_ylabel('y [$\\mu$ rad]')\n"
   ]
  },
  {
   "cell_type": "code",
   "execution_count": null,
   "id": "141538d2-0492-44d8-bc2d-1d56849a71cc",
   "metadata": {},
   "outputs": [],
   "source": [
    "import bact2_bessyii.magnets\n",
    "importlib.reload(bact2_bessyii.magnets)"
   ]
  },
  {
   "cell_type": "code",
   "execution_count": null,
   "id": "55981534-cdfc-403b-9f3c-8349085e107a",
   "metadata": {},
   "outputs": [],
   "source": [
    "import bact_analysis_bessyii.bba.calc\n",
    "importlib.reload(bact_analysis_bessyii.bba.calc)"
   ]
  },
  {
   "cell_type": "code",
   "execution_count": null,
   "id": "cff2c0bc",
   "metadata": {},
   "outputs": [],
   "source": [
    "calib_quad = bact_analysis_bessyii.bba.calc.load_calib_data()\n",
    "calib_quad"
   ]
  },
  {
   "cell_type": "code",
   "execution_count": null,
   "id": "d2c525d6-65ca-4be9-a900-b86bb04682e3",
   "metadata": {},
   "outputs": [],
   "source": [
    "offsets = bact_analysis_bessyii.bba.calc.angles_to_offset_all(rds, names=quad_names)\n",
    "offsets;"
   ]
  },
  {
   "cell_type": "code",
   "execution_count": null,
   "id": "094135e1",
   "metadata": {},
   "outputs": [],
   "source": [
    "rds.n"
   ]
  },
  {
   "cell_type": "code",
   "execution_count": null,
   "id": "92e690e9",
   "metadata": {},
   "outputs": [],
   "source": [
    "name"
   ]
  },
  {
   "cell_type": "code",
   "execution_count": null,
   "id": "fedbe038",
   "metadata": {},
   "outputs": [],
   "source": [
    "offsets.sel(name=name, result=\"value\")*1e3*2"
   ]
  },
  {
   "cell_type": "code",
   "execution_count": null,
   "id": "de1a5210-49ff-4303-aaef-3ff8ee77159f",
   "metadata": {},
   "outputs": [],
   "source": [
    "fig, axes = plt.subplots(2, 1, figsize=[12, 9], sharex=True)\n",
    "ax_x, ax_y = axes\n",
    "a_scale = 1e6\n",
    "ax_x.errorbar(\n",
    "    ds,\n",
    "    offsets.sel(name=quad_names, result=\"value\", plane=\"x\") * a_scale,\n",
    "    yerr=offsets.sel(name=quad_names, result=\"error\", plane=\"x\") * a_scale,\n",
    "    fmt=\".\",\n",
    ")\n",
    "ax_y.errorbar(\n",
    "    ds,\n",
    "    offsets.sel(name=quad_names, result=\"value\", plane=\"y\") * a_scale,\n",
    "    yerr=offsets.sel(name=quad_names, result=\"error\", plane=\"y\") * a_scale,\n",
    "    fmt=\".\",\n",
    ")\n",
    "ax_y.set_xlabel(\"s [m]\")\n",
    "ax_x.set_ylabel(\"x [$\\mu$m]\")\n",
    "ax_y.set_ylabel(\"y [$\\mu$m]\")"
   ]
  },
  {
   "cell_type": "markdown",
   "id": "efba7caf",
   "metadata": {},
   "source": [
    "## Comparison to classic BBA"
   ]
  },
  {
   "cell_type": "code",
   "execution_count": null,
   "id": "4e32abc7",
   "metadata": {},
   "outputs": [],
   "source": [
    "import os.path\n",
    "import pandas as pd\n",
    "import h5py"
   ]
  },
  {
   "cell_type": "code",
   "execution_count": null,
   "id": "2b442a84",
   "metadata": {},
   "outputs": [],
   "source": [
    "ls BBA_Classic"
   ]
  },
  {
   "cell_type": "code",
   "execution_count": null,
   "id": "f2cd3dc4",
   "metadata": {},
   "outputs": [],
   "source": [
    "t_dir = 'BBA_Classic'"
   ]
  },
  {
   "cell_type": "code",
   "execution_count": null,
   "id": "188397d4",
   "metadata": {},
   "outputs": [],
   "source": [
    "df_classic  = pd.read_hdf(os.path.join(t_dir, \"20210818_quadrupoleOffsetsOldSchoolAnalysis.hdf\")).set_index(\"names\")"
   ]
  },
  {
   "cell_type": "code",
   "execution_count": null,
   "id": "6777f138",
   "metadata": {},
   "outputs": [],
   "source": [
    "ds_classic = xr.Dataset.from_dataframe(df_classic)\n",
    "ds_classic = ds_classic.assign_coords(names=[name.strip() for name in ds_classic.names.values])\n",
    "ds_classic"
   ]
  },
  {
   "cell_type": "code",
   "execution_count": null,
   "id": "cc52d086",
   "metadata": {},
   "outputs": [],
   "source": [
    "ds_classic.sel(names=\"Q5M2T5R\")*1e3"
   ]
  },
  {
   "cell_type": "code",
   "execution_count": null,
   "id": "beda1e4d",
   "metadata": {},
   "outputs": [],
   "source": [
    "ds;"
   ]
  },
  {
   "cell_type": "code",
   "execution_count": null,
   "id": "e839031f",
   "metadata": {},
   "outputs": [],
   "source": [
    "quad_names = offsets.coords['name'].values\n",
    "quad_names_lc = [name.lower() for name in quad_names]\n",
    "quad_names;"
   ]
  },
  {
   "cell_type": "code",
   "execution_count": null,
   "id": "da2bbaa0",
   "metadata": {},
   "outputs": [],
   "source": [
    "set(ds_classic.names.values).difference(quad_names)"
   ]
  },
  {
   "cell_type": "code",
   "execution_count": null,
   "id": "cf03ec45",
   "metadata": {},
   "outputs": [],
   "source": [
    "fig, axes = plt.subplots(2, 1, figsize=[12, 9], sharex=True)\n",
    "ax_x, ax_y = axes\n",
    "a_scale = 1e6\n",
    "classic_scale = 1\n",
    "ax_x.errorbar(\n",
    "    ds.sel(pos=quad_names_lc),\n",
    "    offsets.sel(name=quad_names, result=\"value\", plane=\"x\") * a_scale,\n",
    "    yerr=offsets.sel(name=quad_names, result=\"error\", plane=\"x\") * a_scale,\n",
    "    fmt=\".\",\n",
    ")\n",
    "ax_x.plot(ds_classic.s.sel(names=quad_names), ds_classic.hor_offset.sel(names=quad_names) * a_scale * classic_scale, '+')\n",
    "ax_y.errorbar(\n",
    "    ds,\n",
    "    offsets.sel(name=quad_names, result=\"value\", plane=\"y\") * a_scale,\n",
    "    yerr=offsets.sel(name=quad_names, result=\"error\", plane=\"y\") * a_scale,\n",
    "    fmt=\".\",\n",
    ")\n",
    "ax_y.plot(ds_classic.s.sel(names=quad_names), ds_classic.ver_offset.sel(names=quad_names) * a_scale * classic_scale * -1, '+')\n",
    "ax_y.set_xlabel(\"s [m]\")\n",
    "ax_x.set_ylabel(\"x [$\\mu$m]\")\n",
    "ax_y.set_ylabel(\"y [$\\mu$m]\")"
   ]
  },
  {
   "cell_type": "code",
   "execution_count": null,
   "id": "ec7ddab4",
   "metadata": {},
   "outputs": [],
   "source": [
    "fig, axes = plt.subplots(2, 1, figsize=[12, 9], sharex=True)\n",
    "ax_x, ax_y = axes\n",
    "a_scale = 1e3\n",
    "classic_scale = 1e3 * 1\n",
    "ax_x.errorbar(\n",
    "    ds,\n",
    "    offsets.sel(name=quad_names, result=\"value\", plane=\"x\") - ds_classic.hor_offset.sel(name=quad_names),\n",
    "    #yerr=offsets.sel(name=quad_names, result=\"error\", plane=\"x\") * a_scale,\n",
    "    fmt=\".\",\n",
    ")\n",
    "ax_y.errorbar(\n",
    "    ds,\n",
    "    offsets.sel(name=quad_names, result=\"value\", plane=\"y\") - ds_classic.ver_offset.sel(name=quad_names),\n",
    "    # yerr=offsets.sel(name=quad_names, result=\"error\", plane=\"y\") * a_scale,\n",
    "    fmt=\".\",\n",
    ")\n",
    "ax_y.set_xlabel(\"s [m]\")\n",
    "ax_x.set_ylabel(\"x [$\\mu$m]\")\n",
    "ax_y.set_ylabel(\"y [$\\mu$m]\")"
   ]
  },
  {
   "cell_type": "code",
   "execution_count": null,
   "id": "d27d45e8",
   "metadata": {},
   "outputs": [],
   "source": [
    "## Hacks below"
   ]
  },
  {
   "cell_type": "code",
   "execution_count": null,
   "id": "c18f6c1d",
   "metadata": {},
   "outputs": [],
   "source": [
    " df = bact2_bessyii.magnets.quadrupole_calbration_factors_mongodb()"
   ]
  },
  {
   "cell_type": "code",
   "execution_count": null,
   "id": "5cc538cf",
   "metadata": {},
   "outputs": [],
   "source": [
    "df.loc['Q5M2T5R']"
   ]
  },
  {
   "cell_type": "code",
   "execution_count": null,
   "id": "0798e894",
   "metadata": {},
   "outputs": [],
   "source": [
    "brho = 1.2 *4.23"
   ]
  },
  {
   "cell_type": "code",
   "execution_count": null,
   "id": "547009f4",
   "metadata": {},
   "outputs": [],
   "source": [
    "df.loc['Q5M2T5R'].hw2phys  * brho"
   ]
  },
  {
   "cell_type": "code",
   "execution_count": null,
   "id": "3340bc1f",
   "metadata": {},
   "outputs": [],
   "source": [
    "import epics"
   ]
  },
  {
   "cell_type": "code",
   "execution_count": null,
   "id": "53490086",
   "metadata": {},
   "outputs": [],
   "source": [
    "pv = epics.PV(df.loc['Q5M2T5R'].Setpoint)\n",
    "c_val = pv.get()\n",
    "c_val, c_val * df.loc['Q5M2T5R'].hw2phys  * brho * 50e-3"
   ]
  },
  {
   "cell_type": "code",
   "execution_count": null,
   "id": "bb705ad7",
   "metadata": {},
   "outputs": [],
   "source": []
  }
 ],
 "metadata": {
  "kernelspec": {
   "display_name": "Python 3 (ipykernel)",
   "language": "python",
   "name": "python3"
  },
  "language_info": {
   "codemirror_mode": {
    "name": "ipython",
    "version": 3
   },
   "file_extension": ".py",
   "mimetype": "text/x-python",
   "name": "python",
   "nbconvert_exporter": "python",
   "pygments_lexer": "ipython3",
   "version": "3.8.10"
  },
  "toc": {
   "base_numbering": 1,
   "nav_menu": {},
   "number_sections": true,
   "sideBar": true,
   "skip_h1_title": false,
   "title_cell": "Table of Contents",
   "title_sidebar": "Contents",
   "toc_cell": false,
   "toc_position": {},
   "toc_section_display": true,
   "toc_window_display": false
  }
 },
 "nbformat": 4,
 "nbformat_minor": 5
}
