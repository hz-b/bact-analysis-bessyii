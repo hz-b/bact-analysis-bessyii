{
 "cells": [
  {
   "cell_type": "code",
   "execution_count": null,
   "id": "158affbc-f0cd-49e8-826d-20e7dcc412d2",
   "metadata": {},
   "outputs": [],
   "source": [
    "from IPython.display import display, Markdown, HTML\n",
    "display(HTML(\"<style>.container { width:90% !important; }</style>\"))"
   ]
  },
  {
   "cell_type": "code",
   "execution_count": null,
   "id": "6c076be2",
   "metadata": {},
   "outputs": [],
   "source": [
    "import matplotlib.pyplot as plt\n",
    "# %matplotlib notebook"
   ]
  },
  {
   "cell_type": "code",
   "execution_count": null,
   "id": "e7cef429-98f3-4109-a512-afb7b40a4940",
   "metadata": {},
   "outputs": [],
   "source": [
    "import datetime\n",
    "from dataclasses import dataclass\n",
    "import tqdm\n",
    "import importlib"
   ]
  },
  {
   "cell_type": "code",
   "execution_count": null,
   "id": "5b0ba1de-3f83-4bbe-aec4-08df410ac0ed",
   "metadata": {},
   "outputs": [],
   "source": [
    "import xarray as xr\n",
    "import numpy as np\n",
    "import matplotlib.pyplot as plt"
   ]
  },
  {
   "cell_type": "code",
   "execution_count": null,
   "id": "8bf852fa-e2a5-4379-8136-58fd54283197",
   "metadata": {},
   "outputs": [],
   "source": [
    "from databroker import catalog"
   ]
  },
  {
   "cell_type": "code",
   "execution_count": null,
   "id": "597bbff9-d9ee-449c-ac98-6fdebe1f3873",
   "metadata": {},
   "outputs": [],
   "source": [
    "# import bact_analysis\n",
    "# import bact_analysis.bba.calc\n",
    "# import bact_analysis.transverse.calc\n",
    "# import bact_analysis.transverse.distorted_orbit\n",
    "# import bact_analysis.transverse.process\n",
    "import bact_analysis.utils.preprocess\n",
    "import bact_analysis_bessyii.bba.preprocess_data\n",
    "# import bact_math_utils"
   ]
  },
  {
   "cell_type": "code",
   "execution_count": null,
   "id": "893ae0bc-f504-4dd1-ba24-31606c7d0097",
   "metadata": {},
   "outputs": [],
   "source": [
    "from bact_math_utils.linear_fit import linear_fit_1d"
   ]
  },
  {
   "cell_type": "markdown",
   "id": "992510b8-d913-4ff5-a0a5-cb3657bf8489",
   "metadata": {},
   "source": [
    "# BBA Analysis\n",
    "\n",
    "This notebook should be the center for selecting the required data and presenting the results.\n",
    "All computation or data rearangement shall be performed in libraries"
   ]
  },
  {
   "cell_type": "code",
   "execution_count": null,
   "id": "f5990203-9e7a-4206-b835-7a7a1972d25b",
   "metadata": {},
   "outputs": [],
   "source": [
    "datetime.datetime.now().strftime('%Y %m %d %H:%M')"
   ]
  },
  {
   "cell_type": "markdown",
   "id": "63b2f1bc-19c1-4001-8c19-80a4e1919a7d",
   "metadata": {},
   "source": [
    "## Data selection, check and load"
   ]
  },
  {
   "cell_type": "markdown",
   "id": "e2106d71-2611-426a-b4da-6afb3bbc10c8",
   "metadata": {},
   "source": [
    "Define the catalog database. In case of questions have a look at https://blueskyproject.io/databroker/"
   ]
  },
  {
   "cell_type": "code",
   "execution_count": null,
   "id": "98606440-489b-4c63-b1b9-9a6a5dbda224",
   "metadata": {},
   "outputs": [],
   "source": [
    "catalog_name = 'datascc_bba_test'"
   ]
  },
  {
   "cell_type": "markdown",
   "id": "a3bb6514",
   "metadata": {},
   "source": [
    "Standard large database for HZB"
   ]
  },
  {
   "cell_type": "code",
   "execution_count": null,
   "id": "4c7d6b50",
   "metadata": {},
   "outputs": [],
   "source": [
    "catalog_name = 'heavy'"
   ]
  },
  {
   "cell_type": "code",
   "execution_count": null,
   "id": "d4e5847c-87f7-4c0d-8bc2-a02350a1386d",
   "metadata": {},
   "outputs": [],
   "source": [
    "db = catalog[catalog_name]"
   ]
  },
  {
   "cell_type": "code",
   "execution_count": null,
   "id": "dfc16971-f972-41dd-8ada-9b095aa2040c",
   "metadata": {},
   "outputs": [],
   "source": [
    "db[-1]"
   ]
  },
  {
   "cell_type": "markdown",
   "id": "2e9d0742-f9a4-420f-86bf-ba51783cf45f",
   "metadata": {},
   "source": [
    "Define the universal id of the run"
   ]
  },
  {
   "cell_type": "code",
   "execution_count": null,
   "id": "6bc03316-d190-4389-ade5-63ac4fee3c2e",
   "metadata": {},
   "outputs": [],
   "source": [
    "uid = '6c3d31df-0714-4ea9-b7e0-64df3ff039c0'"
   ]
  },
  {
   "cell_type": "markdown",
   "id": "d9a441ab",
   "metadata": {},
   "source": [
    "Here an illustration how to search for measurements\n",
    "\n",
    "* I first define the acceptable time range\n",
    "* From this time range I use the one that have the nickname \"bba\" set"
   ]
  },
  {
   "cell_type": "code",
   "execution_count": null,
   "id": "1e097ff3",
   "metadata": {},
   "outputs": [],
   "source": [
    "from databroker.queries import TimeRange"
   ]
  },
  {
   "cell_type": "code",
   "execution_count": null,
   "id": "f7a9c549",
   "metadata": {},
   "outputs": [],
   "source": [
    "t_search =  db.search(TimeRange(since=\"2022-08-17\", until=\"2022-08-20\"))\n",
    "possible_bba = t_search.search(dict(nickname=\"bba\"))\n",
    "\n",
    "l = []\n",
    "for uid in possible_bba:\n",
    "    run = db[uid]\n",
    "    start = run.metadata[\"start\"]    \n",
    "    ts_start = datetime.datetime.fromtimestamp(int(start['time']))\n",
    "    stop = run.metadata[\"stop\"]\n",
    "    # print(run.metadata['start'].keys())\n",
    "    nickname = run.metadata['start'][\"nickname\"]\n",
    "    if not stop:\n",
    "        # print(f'{uid} {nickname:20s} {ts_start} ----')\n",
    "        continue\n",
    "    ts_end = datetime.datetime.fromtimestamp(int(stop['time']))\n",
    "    # print(f'{uid} {nickname:20s} {ts_start} {ts_end}')\n",
    "      \n",
    "    l.append((uid, ts_start, ts_end))\n",
    "    \n",
    "    \n",
    "def htmlify_table_entry(entry, *, label, newline=''):\n",
    "    tmp = f' </{label}>{newline}<{label}> '.join([str(tmp) for tmp in entry])\n",
    "    return f'<{label}> {tmp} </{label}>{newline}'\n",
    "\n",
    "txt = htmlify_table_entry([htmlify_table_entry(entry, label='td') for entry in l[:4]][::-1], label='tr', newline='\\n')\n",
    "print(txt)\n",
    "print([e[0] for e in l[:4][::-1]])"
   ]
  },
  {
   "cell_type": "code",
   "execution_count": null,
   "id": "a9741179",
   "metadata": {},
   "outputs": [],
   "source": [
    "uid = '20e55c8b-6804-4f5f-bf22-a5a6a8521e41'\n",
    "# uid = '874631e7-fec9-4666-a112-8dfa2e42545c'"
   ]
  },
  {
   "cell_type": "code",
   "execution_count": null,
   "id": "460343fd",
   "metadata": {},
   "outputs": [],
   "source": [
    "# uid = 'e5c25993-feab-4820-b4c5-b6d27e97942a'"
   ]
  },
  {
   "cell_type": "code",
   "execution_count": null,
   "id": "3ba9bc00-1d4d-487d-924f-47340b1ffe68",
   "metadata": {},
   "outputs": [],
   "source": [
    "uid = '22354cec-864b-4f38-ad46-a9641d07d1ac'\n",
    "uid = '1e6ec7f3-44a5-4e5c-a798-1d7ce12aafe1'\n",
    "uid = \"eb89753c-5388-4ebb-a992-fc25b478acd8\"\n"
   ]
  },
  {
   "cell_type": "markdown",
   "id": "26e64ade-4628-42a7-825d-112d55e21c83",
   "metadata": {},
   "source": [
    "For measurement see elog entry http://elog-v2.trs.bessy.de:8080/Machine+Devel.,+Comm./1971"
   ]
  },
  {
   "cell_type": "code",
   "execution_count": null,
   "id": "c475eb65-524c-4d99-9ab9-4ac0b7236c24",
   "metadata": {},
   "outputs": [],
   "source": [
    "uid = 'b226943c-1941-46ce-bc35-0530ea6e276c'\n",
    "uid = 'e0aef7b8-f57e-4594-9618-70d01aaa65a7'\n",
    "uid = 'e60215ff-62ea-4d3b-a968-f6b0d9d9ee9d'\n",
    "uid = 'fa22af2e-0398-41eb-94b9-e9b957ba4f31'"
   ]
  },
  {
   "cell_type": "code",
   "execution_count": null,
   "id": "8aabc270",
   "metadata": {},
   "outputs": [],
   "source": [
    " run = db[uid]"
   ]
  },
  {
   "cell_type": "markdown",
   "id": "75c55417-fc39-4703-a91a-55c61c46fb6a",
   "metadata": {},
   "source": [
    "### loading data"
   ]
  },
  {
   "cell_type": "code",
   "execution_count": null,
   "id": "9bb9eb00-fb83-4e93-9640-d2f24205d2ea",
   "metadata": {},
   "outputs": [],
   "source": [
    "descriptor, = run.primary.metadata['descriptors']\n",
    "descriptor;"
   ]
  },
  {
   "cell_type": "code",
   "execution_count": null,
   "id": "eb6625a5-2a0e-42b4-a4bf-8175bc2111ed",
   "metadata": {
    "tags": []
   },
   "outputs": [],
   "source": [
    "configuration = descriptor['configuration']\n",
    "dt_configuration = configuration['dt']\n",
    "list(configuration.keys()), list(dt_configuration.keys())"
   ]
  },
  {
   "cell_type": "markdown",
   "id": "4c64b0b2-4ac6-46dc-be9e-e2d746e43ba8",
   "metadata": {},
   "source": [
    "Loading dask seems to be the fastest approach"
   ]
  },
  {
   "cell_type": "code",
   "execution_count": null,
   "id": "fb858d9c-d63b-48f3-bc20-7a137f288434",
   "metadata": {},
   "outputs": [],
   "source": [
    "start = datetime.datetime.now()\n",
    "all_data_ = run.primary.to_dask()\n",
    "end = datetime.datetime.now()\n",
    "\n",
    "end - start"
   ]
  },
  {
   "cell_type": "markdown",
   "id": "b80c4d8a-bec3-440a-9a3f-695b79886864",
   "metadata": {},
   "source": [
    "Now load all data"
   ]
  },
  {
   "cell_type": "code",
   "execution_count": null,
   "id": "ee263e11-3a49-4d2d-9e84-9278f9f7f212",
   "metadata": {},
   "outputs": [],
   "source": [
    "for name, item in tqdm.tqdm(all_data_.items(), total=len(all_data_.variables)):\n",
    "    item.load()"
   ]
  },
  {
   "cell_type": "markdown",
   "id": "887d8fd5",
   "metadata": {},
   "source": [
    "The bpm names should be stored as configuration values: this is not the case for old data"
   ]
  },
  {
   "cell_type": "code",
   "execution_count": null,
   "id": "cb373b1c-36b4-4599-a209-0f800dc14faf",
   "metadata": {},
   "outputs": [],
   "source": [
    "bpm_names = all_data_.dt_bpm_waveform_names.values[0]"
   ]
  },
  {
   "cell_type": "markdown",
   "id": "5d24020b-5da5-4994-9b97-1fbf090cd18b",
   "metadata": {},
   "source": [
    "### Collapsing the number of different dimensions"
   ]
  },
  {
   "cell_type": "markdown",
   "id": "633e6741-3bb7-49d5-b352-02278cf2edbb",
   "metadata": {},
   "source": [
    "Replace them with known lablled alternatives"
   ]
  },
  {
   "cell_type": "code",
   "execution_count": null,
   "id": "1d88f5f8-0aff-4d97-b9a2-ca0762b95e77",
   "metadata": {},
   "outputs": [],
   "source": [
    "bpm_dims = bact_analysis_bessyii.bba.preprocess_data.replaceable_dims_bpm(\n",
    "    all_data_, prefix=\"dt_\", expected_length=len(bpm_names)\n",
    ")"
   ]
  },
  {
   "cell_type": "markdown",
   "id": "dab90b3b-d374-4c6f-91a2-efdee5ed8edd",
   "metadata": {},
   "source": [
    "### Derive info on measurement"
   ]
  },
  {
   "cell_type": "markdown",
   "id": "099aa777-f6b8-450d-820c-5aae70f98333",
   "metadata": {},
   "source": [
    "When were magnets strength was switched or magnet was reselected"
   ]
  },
  {
   "cell_type": "code",
   "execution_count": null,
   "id": "2809095b-ec3c-4458-88bd-5eb57e54fed2",
   "metadata": {},
   "outputs": [],
   "source": [
    "muxer_pc_current_change = bact_analysis.utils.preprocess.enumerate_changed_value(all_data_.dt_mux_power_converter_setpoint)\n",
    "muxer_pc_current_change.name = \"muxer_pc_current_change\" \n",
    "muxer_or_pc_current_change = bact_analysis.utils.preprocess.enumerate_changed_value_pairs(all_data_.dt_mux_power_converter_setpoint, all_data_.dt_mux_selector_selected)\n",
    "muxer_or_pc_current_change.name = \"muxer_or_pc_current_change\" "
   ]
  },
  {
   "cell_type": "markdown",
   "id": "e722957e-c2a0-4c61-9195-65db947013a5",
   "metadata": {},
   "source": [
    "### Combine all info to new xarray "
   ]
  },
  {
   "cell_type": "code",
   "execution_count": null,
   "id": "73d58ca0-ffb5-4bc5-8408-4ce56c30c09e",
   "metadata": {},
   "outputs": [],
   "source": [
    "replace_dims = {dim : 'bpm' for dim in bpm_dims}\n",
    "# replace_dims.update({dim : 'pos' for dim in beam_dims})\n",
    "all_data = all_data_.rename(replace_dims).assign_coords(bpm=list(bpm_names))\n",
    "all_data;"
   ]
  },
  {
   "cell_type": "code",
   "execution_count": null,
   "id": "adaa4772-ed0d-45f4-948d-5a953f811c97",
   "metadata": {},
   "outputs": [],
   "source": [
    "preprocessed = xr.merge([all_data, muxer_pc_current_change, muxer_or_pc_current_change])\n",
    "preprocessed;"
   ]
  },
  {
   "cell_type": "markdown",
   "id": "2474fc37-c92e-4ccd-8596-17866c16ea63",
   "metadata": {},
   "source": [
    "### Make data selectable per magnet"
   ]
  },
  {
   "cell_type": "code",
   "execution_count": null,
   "id": "ba5dc410-0deb-404f-b23a-dca50b105e84",
   "metadata": {},
   "outputs": [],
   "source": [
    "importlib.reload(bact_analysis.utils.preprocess)\n",
    "importlib.reload(bact_analysis.transverse.calc)\n",
    "importlib.reload(bact_analysis_bessyii.bba.preprocess_data)"
   ]
  },
  {
   "cell_type": "code",
   "execution_count": null,
   "id": "607e8988-677d-4741-abf1-a924cd1e7cb0",
   "metadata": {},
   "outputs": [],
   "source": [
    "type(preprocessed)"
   ]
  },
  {
   "cell_type": "code",
   "execution_count": null,
   "id": "f32b57a9-a04f-484e-b3fe-13cceb3f989b",
   "metadata": {},
   "outputs": [],
   "source": [
    "rearranged = xr.concat(\n",
    "    bact_analysis.utils.preprocess.reorder_by_groups(\n",
    "        preprocessed,\n",
    "        preprocessed.groupby(preprocessed.dt_mux_selector_selected),\n",
    "        reordered_dim=\"name\",\n",
    "        dim_sel=\"time\",\n",
    "        new_indices_dim=\"step\",\n",
    "    ),\n",
    "    dim=\"name\",\n",
    ")"
   ]
  },
  {
   "cell_type": "code",
   "execution_count": null,
   "id": "495e2adb-51a6-40eb-b2d5-8f03c3e9a1c4",
   "metadata": {},
   "outputs": [],
   "source": [
    "preprocessed.dt_mr_tune_fb_vert_readback"
   ]
  },
  {
   "cell_type": "code",
   "execution_count": null,
   "id": "cf1c6db7-1f06-4e52-a73a-500e16d518d0",
   "metadata": {},
   "outputs": [],
   "source": [
    "preprocessed.dt_mr_tune_fb_hor_readback"
   ]
  },
  {
   "cell_type": "code",
   "execution_count": null,
   "id": "bd699a50-a2ba-4f64-ab66-67c7709abb55",
   "metadata": {},
   "outputs": [],
   "source": [
    "tune_data = xr.merge([rearranged.dt_mr_tune_fb_hor_readback, rearranged.dt_mr_tune_fb_vert_readback, rearranged.dt_mux_power_converter_setpoint, rearranged.dt_mux_power_converter_readback])"
   ]
  },
  {
   "cell_type": "code",
   "execution_count": null,
   "id": "fdd71740",
   "metadata": {},
   "outputs": [],
   "source": [
    "tune_sel = tune_data.sel(name=\"Q2M1T1R\")"
   ]
  },
  {
   "cell_type": "code",
   "execution_count": null,
   "id": "8e096e38",
   "metadata": {},
   "outputs": [],
   "source": []
  },
  {
   "cell_type": "code",
   "execution_count": null,
   "id": "7bdb6acb",
   "metadata": {},
   "outputs": [],
   "source": [
    "@dataclass\n",
    "class TuneFitResult:\n",
    "    x: np.ndarray\n",
    "    std: np.ndarray\n",
    "    \n",
    "def fit_tune_shift(dI, tune):\n",
    "    x, std =  linear_fit_1d(dI, tune)\n",
    "    return TuneFitResult(x=x, std=std)"
   ]
  },
  {
   "cell_type": "code",
   "execution_count": null,
   "id": "bd5fab9b",
   "metadata": {},
   "outputs": [],
   "source": [
    "res = fit_tune_shift(tune_sel.dt_mux_power_converter_setpoint, tune_sel.dt_mr_tune_fb_hor_readback)"
   ]
  },
  {
   "cell_type": "code",
   "execution_count": null,
   "id": "e6d187fe",
   "metadata": {},
   "outputs": [],
   "source": [
    "res"
   ]
  },
  {
   "cell_type": "code",
   "execution_count": null,
   "id": "199ecae3",
   "metadata": {},
   "outputs": [],
   "source": [
    "x = np.linspace(-2.2, 2.2)\n",
    "t_f = res.x[0] * x\n",
    "y = res.x[1] + t_f\n",
    "t_f_m = tune_sel.dt_mr_tune_fb_hor_readback  - res.x[1]"
   ]
  },
  {
   "cell_type": "code",
   "execution_count": null,
   "id": "04a9edce",
   "metadata": {},
   "outputs": [],
   "source": [
    "fig, axes = plt.subplots(1, 2, num=100, figsize=[12, 6])\n",
    "ax1, ax2= axes\n",
    "line, = ax1.plot(tune_sel.dt_mux_power_converter_setpoint, tune_sel.dt_mr_tune_fb_hor_readback, 'x')\n",
    "ax1.plot(x, y, '-', color=line.get_color())\n",
    "ax1.set_xlabel(r\"\\Delta I [A]\")\n",
    "ax1.set_ylabel(r\"f [kHz]\")\n",
    "ax2.plot(tune_sel.dt_mux_power_converter_setpoint, t_f_m, 'x', color=line.get_color())\n",
    "ax2.plot(x, t_f, '-', color=line.get_color())\n",
    "ax2.set_xlabel(r\"\\Delta I [A]\")\n",
    "ax2.set_ylabel(r\"\\Delta t [kHz]\")\n"
   ]
  },
  {
   "cell_type": "code",
   "execution_count": null,
   "id": "f0f75a9e-53da-41c0-b07a-9a988e737e17",
   "metadata": {},
   "outputs": [],
   "source": [
    "all_data.dt_mr_tune_fb_hor_readback"
   ]
  },
  {
   "cell_type": "code",
   "execution_count": null,
   "id": "869160b7-b16b-4929-afab-caea0bedbec4",
   "metadata": {},
   "outputs": [],
   "source": [
    "# measurement_vars = dict(dt='x_pos', dt_beam_orbit_y='y_pos', dt_mux_power_converter_setpoint='excitation')\n",
    "measurement_vars = dict(\n",
    "    dt_bpm_waveform_x_pos=\"x_pos\",\n",
    "    dt_bpm_waveform_y_pos=\"y_pos\",\n",
    "    dt_mr_tune_fb_hor_readback=\"x_tune\",\n",
    "    dt_mr_tune_fb_vert_readback=\"y_tune\",\n",
    "    dt_mux_power_converter_setpoint=\"excitation\",\n",
    ")\n",
    "redm4proc = (\n",
    "    rearranged[list(measurement_vars.keys())]\n",
    "    .rename_vars(**measurement_vars)\n",
    "    .sel(bpm=bpm_names)\n",
    ")\n",
    "redm4proc;"
   ]
  },
  {
   "cell_type": "markdown",
   "id": "2ef4a685-cb53-4364-9585-37c983dfa506",
   "metadata": {},
   "source": [
    "## Processing data"
   ]
  },
  {
   "cell_type": "markdown",
   "id": "3d044c2a-31c5-46b7-ae7c-feb994f2c051",
   "metadata": {},
   "source": [
    "## Preparing for calculation"
   ]
  },
  {
   "cell_type": "code",
   "execution_count": null,
   "id": "a3be256f-5ab4-4d8b-95c7-aa3a633d12a4",
   "metadata": {},
   "outputs": [],
   "source": [
    "redm4proc"
   ]
  },
  {
   "cell_type": "markdown",
   "id": "da5f0235-06ae-47a3-b302-52ae46cb54d8",
   "metadata": {},
   "source": [
    "## Fitting data"
   ]
  },
  {
   "cell_type": "code",
   "execution_count": null,
   "id": "2807d179-095e-420d-bc9c-f3967a2db0e8",
   "metadata": {},
   "outputs": [],
   "source": [
    "def fit_tune_shift_all(ds, name):\n",
    "    x = fit_tune_shift(ds.excitation, ds.x_tune)\n",
    "    y = fit_tune_shift(ds.excitation, ds.y_tune)\n",
    "\n",
    "\n",
    "    ndx = xr.DataArray(\n",
    "        name=\"x\",\n",
    "        data=[[x.x, x.std]],\n",
    "        dims=[\"name\", \"res\", \"coeff\"],\n",
    "        coords=[[name], [\"val\", \"std\"], [\"slope\", \"intercept\"]],\n",
    "    )\n",
    "    \n",
    "    ndy = xr.DataArray(\n",
    "        name=\"y\",\n",
    "        data=[[y.x, y.std]],\n",
    "        dims=[\"name\", \"res\", \"coeff\"],\n",
    "        coords=[[name],[\"val\", \"std\"], [\"slope\", \"intercept\"]],\n",
    "    )\n",
    "    \n",
    "    nds = xr.merge([ndx, ndy])\n",
    "    return nds"
   ]
  },
  {
   "cell_type": "code",
   "execution_count": null,
   "id": "8c84fb5f-8021-4ba8-80fc-836f3f819a4b",
   "metadata": {},
   "outputs": [],
   "source": [
    "tune_fits = xr.concat(\n",
    "    [\n",
    "        fit_tune_shift_all(redm4proc.sel(name=name), name)\n",
    "        for name in redm4proc.coords[\"name\"].values\n",
    "    ],\n",
    "    dim=\"name\",\n",
    ")\n",
    "# tune_fits.metadata['uid'] = uid"
   ]
  },
  {
   "cell_type": "code",
   "execution_count": null,
   "id": "c0dcbb47-5445-4d10-8a23-716c0d7ed018",
   "metadata": {},
   "outputs": [],
   "source": [
    "def adjust_tick(tick):\n",
    "    tick.set_fontsize(\"small\")\n",
    "    tick.set_rotation(45)\n",
    "    tick.set_horizontalalignment(\"right\")\n",
    "    tick.set_verticalalignment(\"top\")\n",
    "\n",
    "\n",
    "for fignum, family_name in enumerate([\"Q4\", \"Q2\", \"Q3\", \"Q5\", \"Q1\"]):\n",
    "    sel = tune_fits.isel(\n",
    "        name=[\n",
    "            name[: len(family_name)] == family_name\n",
    "            for name in tune_fits.coords[\"name\"].values\n",
    "        ]\n",
    "    )\n",
    "    fig, axes = plt.subplots(2, 1, num=fignum, sharex=True, figsize=[16, 6])\n",
    "    ax_x, ax_y = axes\n",
    "    names = sel.x.coords[\"name\"].values\n",
    "    line, x_err, y_err = ax_x.errorbar(\n",
    "        names,\n",
    "        sel.x.sel(res=\"val\", coeff=\"slope\"),\n",
    "        yerr=sel.x.sel(res=\"std\", coeff=\"slope\"),\n",
    "        linestyle=\"\",\n",
    "    )\n",
    "    ax_y.errorbar(\n",
    "        names,\n",
    "        sel.y.sel(res=\"val\", coeff=\"slope\"),\n",
    "        yerr=sel.y.sel(res=\"std\", coeff=\"slope\"),\n",
    "        linestyle=\"\",\n",
    "        color=line.get_color()\n",
    "    )\n",
    "\n",
    "    [adjust_tick(tick) for tick in ax_y.get_xmajorticklabels()];"
   ]
  },
  {
   "cell_type": "code",
   "execution_count": null,
   "id": "a51c77e1-fdff-4a62-a878-cfd58d088093",
   "metadata": {},
   "outputs": [],
   "source": []
  }
 ],
 "metadata": {
  "kernelspec": {
   "display_name": "Python 3 (ipykernel)",
   "language": "python",
   "name": "python3"
  },
  "language_info": {
   "codemirror_mode": {
    "name": "ipython",
    "version": 3
   },
   "file_extension": ".py",
   "mimetype": "text/x-python",
   "name": "python",
   "nbconvert_exporter": "python",
   "pygments_lexer": "ipython3",
   "version": "3.10.12"
  },
  "toc": {
   "base_numbering": 1,
   "nav_menu": {},
   "number_sections": true,
   "sideBar": true,
   "skip_h1_title": false,
   "title_cell": "Table of Contents",
   "title_sidebar": "Contents",
   "toc_cell": false,
   "toc_position": {},
   "toc_section_display": true,
   "toc_window_display": false
  }
 },
 "nbformat": 4,
 "nbformat_minor": 5
}
