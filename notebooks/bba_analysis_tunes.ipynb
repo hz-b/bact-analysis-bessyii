{
 "cells": [
  {
   "cell_type": "code",
   "execution_count": null,
   "id": "158affbc-f0cd-49e8-826d-20e7dcc412d2",
   "metadata": {},
   "outputs": [],
   "source": [
    "from IPython.display import display, Markdown, HTML\n",
    "display(HTML(\"<style>.container { width:90% !important; }</style>\"))"
   ]
  },
  {
   "cell_type": "code",
   "execution_count": null,
   "id": "6c076be2",
   "metadata": {},
   "outputs": [],
   "source": [
    "import matplotlib.pyplot as plt\n",
    "%matplotlib notebook"
   ]
  },
  {
   "cell_type": "code",
   "execution_count": null,
   "id": "e7cef429-98f3-4109-a512-afb7b40a4940",
   "metadata": {},
   "outputs": [],
   "source": [
    "import datetime\n",
    "import tqdm\n",
    "import importlib"
   ]
  },
  {
   "cell_type": "code",
   "execution_count": null,
   "id": "5b0ba1de-3f83-4bbe-aec4-08df410ac0ed",
   "metadata": {},
   "outputs": [],
   "source": [
    "import xarray as xr\n",
    "import numpy as np\n",
    "import matplotlib.pyplot as plt"
   ]
  },
  {
   "cell_type": "code",
   "execution_count": null,
   "id": "8bf852fa-e2a5-4379-8136-58fd54283197",
   "metadata": {},
   "outputs": [],
   "source": [
    "from databroker import catalog"
   ]
  },
  {
   "cell_type": "code",
   "execution_count": null,
   "id": "597bbff9-d9ee-449c-ac98-6fdebe1f3873",
   "metadata": {},
   "outputs": [],
   "source": [
    "import bact_analysis\n",
    "import bact_analysis.bba.calc\n",
    "import bact_analysis.transverse.calc\n",
    "import bact_analysis.transverse.distorted_orbit\n",
    "import bact_analysis.transverse.process\n",
    "import bact_analysis.utils.preprocess\n",
    "import bact_analysis_bessyii.bba.preprocess_data"
   ]
  },
  {
   "cell_type": "markdown",
   "id": "992510b8-d913-4ff5-a0a5-cb3657bf8489",
   "metadata": {},
   "source": [
    "# BBA Analysis\n",
    "\n",
    "This notebook should be the center for selecting the required data and presenting the results.\n",
    "All computation or data rearangement shall be performed in libraries"
   ]
  },
  {
   "cell_type": "code",
   "execution_count": null,
   "id": "f5990203-9e7a-4206-b835-7a7a1972d25b",
   "metadata": {},
   "outputs": [],
   "source": [
    "datetime.datetime.now().strftime('%Y %m %d %H:%M')"
   ]
  },
  {
   "cell_type": "markdown",
   "id": "63b2f1bc-19c1-4001-8c19-80a4e1919a7d",
   "metadata": {},
   "source": [
    "## Data selection, check and load"
   ]
  },
  {
   "cell_type": "markdown",
   "id": "e2106d71-2611-426a-b4da-6afb3bbc10c8",
   "metadata": {},
   "source": [
    "Define the catalog database. In case of questions have a look at https://blueskyproject.io/databroker/"
   ]
  },
  {
   "cell_type": "code",
   "execution_count": null,
   "id": "98606440-489b-4c63-b1b9-9a6a5dbda224",
   "metadata": {},
   "outputs": [],
   "source": [
    "catalog_name = 'datascc_bba_test'"
   ]
  },
  {
   "cell_type": "markdown",
   "id": "a3bb6514",
   "metadata": {},
   "source": [
    "Standard large database for HZB"
   ]
  },
  {
   "cell_type": "code",
   "execution_count": null,
   "id": "4c7d6b50",
   "metadata": {},
   "outputs": [],
   "source": [
    "catalog_name = 'heavy'"
   ]
  },
  {
   "cell_type": "code",
   "execution_count": null,
   "id": "d4e5847c-87f7-4c0d-8bc2-a02350a1386d",
   "metadata": {},
   "outputs": [],
   "source": [
    "db = catalog[catalog_name]"
   ]
  },
  {
   "cell_type": "markdown",
   "id": "2e9d0742-f9a4-420f-86bf-ba51783cf45f",
   "metadata": {},
   "source": [
    "Define the universal id of the run"
   ]
  },
  {
   "cell_type": "code",
   "execution_count": null,
   "id": "6bc03316-d190-4389-ade5-63ac4fee3c2e",
   "metadata": {},
   "outputs": [],
   "source": [
    "uid = '6c3d31df-0714-4ea9-b7e0-64df3ff039c0'"
   ]
  },
  {
   "cell_type": "markdown",
   "id": "d9a441ab",
   "metadata": {},
   "source": [
    "Here an illustration how to search for measurements\n",
    "\n",
    "* I first define the acceptable time range\n",
    "* From this time range I use the one that have the nickname \"bba\" set"
   ]
  },
  {
   "cell_type": "code",
   "execution_count": null,
   "id": "1e097ff3",
   "metadata": {},
   "outputs": [],
   "source": [
    "from databroker.queries import TimeRange"
   ]
  },
  {
   "cell_type": "code",
   "execution_count": null,
   "id": "f7a9c549",
   "metadata": {},
   "outputs": [],
   "source": [
    "t_search =  db.search(TimeRange(since=\"2022-04-08\", until=\"2022-04-12\"))\n",
    "possible_bba = t_search.search(dict(nickname=\"bba\"))\n",
    "for uid in possible_bba:\n",
    "    run = db[uid]\n",
    "    start = run.metadata[\"start\"]    \n",
    "    ts_start = datetime.datetime.fromtimestamp(int(start['time']))\n",
    "    stop = run.metadata[\"stop\"]\n",
    "    if not stop:\n",
    "        print(f'{uid} {ts_start} ----')\n",
    "        continue\n",
    "    ts_end = datetime.datetime.fromtimestamp(int(stop['time']))\n",
    "    print(f'{uid} {ts_start} {ts_end}')"
   ]
  },
  {
   "cell_type": "code",
   "execution_count": null,
   "id": "a9741179",
   "metadata": {},
   "outputs": [],
   "source": [
    "uid = '20e55c8b-6804-4f5f-bf22-a5a6a8521e41'\n",
    "# uid = '874631e7-fec9-4666-a112-8dfa2e42545c'"
   ]
  },
  {
   "cell_type": "code",
   "execution_count": null,
   "id": "460343fd",
   "metadata": {},
   "outputs": [],
   "source": [
    "# uid = 'e5c25993-feab-4820-b4c5-b6d27e97942a'"
   ]
  },
  {
   "cell_type": "code",
   "execution_count": null,
   "id": "8aabc270",
   "metadata": {},
   "outputs": [],
   "source": [
    " run = db[uid]"
   ]
  },
  {
   "cell_type": "markdown",
   "id": "75c55417-fc39-4703-a91a-55c61c46fb6a",
   "metadata": {},
   "source": [
    "### loading data"
   ]
  },
  {
   "cell_type": "code",
   "execution_count": null,
   "id": "9bb9eb00-fb83-4e93-9640-d2f24205d2ea",
   "metadata": {},
   "outputs": [],
   "source": [
    "descriptor, = run.primary.metadata['descriptors']\n",
    "descriptor;"
   ]
  },
  {
   "cell_type": "code",
   "execution_count": null,
   "id": "eb6625a5-2a0e-42b4-a4bf-8175bc2111ed",
   "metadata": {
    "tags": []
   },
   "outputs": [],
   "source": [
    "configuration = descriptor['configuration']\n",
    "dt_configuration = configuration['dt']\n",
    "list(configuration.keys()), list(dt_configuration.keys())"
   ]
  },
  {
   "cell_type": "markdown",
   "id": "4c64b0b2-4ac6-46dc-be9e-e2d746e43ba8",
   "metadata": {},
   "source": [
    "Loading dask seems to be the fastest approach"
   ]
  },
  {
   "cell_type": "code",
   "execution_count": null,
   "id": "fb858d9c-d63b-48f3-bc20-7a137f288434",
   "metadata": {},
   "outputs": [],
   "source": [
    "start = datetime.datetime.now()\n",
    "all_data_ = run.primary.to_dask()\n",
    "end = datetime.datetime.now()\n",
    "\n",
    "end - start"
   ]
  },
  {
   "cell_type": "markdown",
   "id": "b80c4d8a-bec3-440a-9a3f-695b79886864",
   "metadata": {},
   "source": [
    "Now load all data"
   ]
  },
  {
   "cell_type": "code",
   "execution_count": null,
   "id": "ee263e11-3a49-4d2d-9e84-9278f9f7f212",
   "metadata": {},
   "outputs": [],
   "source": [
    "for name, item in tqdm.tqdm(all_data_.items(), total=len(all_data_.variables)):\n",
    "    item.load()"
   ]
  },
  {
   "cell_type": "markdown",
   "id": "887d8fd5",
   "metadata": {},
   "source": [
    "The bpm names should be stored as configuration values: this is not the case for old data"
   ]
  },
  {
   "cell_type": "code",
   "execution_count": null,
   "id": "b0ca4bfa-b19e-42d6-92cd-ed24cb31960e",
   "metadata": {},
   "outputs": [],
   "source": [
    "bpm_names_in_config = False\n",
    "\n",
    "if bpm_names_in_config:\n",
    "    bpm_names = dt_configuration['data']['dt_bpm_waveform_names']\n",
    "else:\n",
    "    bpm_names = all_data_.dt_bpm_waveform_names.isel(time=0).values"
   ]
  },
  {
   "cell_type": "code",
   "execution_count": null,
   "id": "a6ff952c-911a-44c8-bec2-348b91c9c167",
   "metadata": {},
   "outputs": [],
   "source": [
    "bpm_names_lc = [name.lower() for name in bpm_names]"
   ]
  },
  {
   "cell_type": "code",
   "execution_count": null,
   "id": "6f933e0c-8cf7-4d63-91c7-75f89192e033",
   "metadata": {},
   "outputs": [],
   "source": [
    "bpm_names_check = set(bpm_names_lc)"
   ]
  },
  {
   "cell_type": "markdown",
   "id": "c81bd720-51bf-4e91-997d-4e06fe271730",
   "metadata": {},
   "source": [
    "Check that all bpm's are in the lattice"
   ]
  },
  {
   "cell_type": "code",
   "execution_count": null,
   "id": "705c55e9-9e61-4641-885d-77595395948d",
   "metadata": {},
   "outputs": [],
   "source": [
    "bpm_names_check.difference(beam_info.coords[\"pos\"].values)"
   ]
  },
  {
   "cell_type": "markdown",
   "id": "5d24020b-5da5-4994-9b97-1fbf090cd18b",
   "metadata": {},
   "source": [
    "### Collapsing the number of different dimensions"
   ]
  },
  {
   "cell_type": "markdown",
   "id": "633e6741-3bb7-49d5-b352-02278cf2edbb",
   "metadata": {},
   "source": [
    "Replace them with known lablled alternatives"
   ]
  },
  {
   "cell_type": "code",
   "execution_count": null,
   "id": "1d88f5f8-0aff-4d97-b9a2-ca0762b95e77",
   "metadata": {},
   "outputs": [],
   "source": [
    "bpm_dims = bact_analysis_bessyii.bba.preprocess_data.replaceable_dims_bpm(\n",
    "    all_data_, prefix=\"dt_\", expected_length=len(bpm_names)\n",
    ")"
   ]
  },
  {
   "cell_type": "markdown",
   "id": "dab90b3b-d374-4c6f-91a2-efdee5ed8edd",
   "metadata": {},
   "source": [
    "### Derive info on measurement"
   ]
  },
  {
   "cell_type": "markdown",
   "id": "099aa777-f6b8-450d-820c-5aae70f98333",
   "metadata": {},
   "source": [
    "When were magnets strength was switched or magnet was reselected"
   ]
  },
  {
   "cell_type": "code",
   "execution_count": null,
   "id": "2809095b-ec3c-4458-88bd-5eb57e54fed2",
   "metadata": {},
   "outputs": [],
   "source": [
    "muxer_pc_current_change = bact_analysis.utils.preprocess.enumerate_changed_value(all_data_.dt_mux_power_converter_setpoint)\n",
    "muxer_pc_current_change.name = \"muxer_pc_current_change\" \n",
    "muxer_or_pc_current_change = bact_analysis.utils.preprocess.enumerate_changed_value_pairs(all_data_.dt_mux_power_converter_setpoint, all_data_.dt_mux_selector_selected)\n",
    "muxer_or_pc_current_change.name = \"muxer_or_pc_current_change\" "
   ]
  },
  {
   "cell_type": "markdown",
   "id": "e722957e-c2a0-4c61-9195-65db947013a5",
   "metadata": {},
   "source": [
    "### Combine all info to new xarray "
   ]
  },
  {
   "cell_type": "code",
   "execution_count": null,
   "id": "73d58ca0-ffb5-4bc5-8408-4ce56c30c09e",
   "metadata": {},
   "outputs": [],
   "source": [
    "replace_dims = {dim : 'bpm' for dim in bpm_dims}\n",
    "# replace_dims.update({dim : 'pos' for dim in beam_dims})\n",
    "all_data = all_data_.rename(replace_dims).assign_coords(bpm=list(bpm_names))\n",
    "all_data;"
   ]
  },
  {
   "cell_type": "code",
   "execution_count": null,
   "id": "adaa4772-ed0d-45f4-948d-5a953f811c97",
   "metadata": {},
   "outputs": [],
   "source": [
    "preprocessed = xr.merge([all_data, muxer_pc_current_change, muxer_or_pc_current_change])\n",
    "preprocessed;"
   ]
  },
  {
   "cell_type": "markdown",
   "id": "2474fc37-c92e-4ccd-8596-17866c16ea63",
   "metadata": {},
   "source": [
    "### Make data selectable per magnet"
   ]
  },
  {
   "cell_type": "code",
   "execution_count": null,
   "id": "ba5dc410-0deb-404f-b23a-dca50b105e84",
   "metadata": {},
   "outputs": [],
   "source": [
    "importlib.reload(bact_analysis.utils.preprocess)\n",
    "importlib.reload(bact_analysis.transverse.calc)\n",
    "importlib.reload(bact_analysis_bessyii.bba.preprocess_data)"
   ]
  },
  {
   "cell_type": "code",
   "execution_count": null,
   "id": "607e8988-677d-4741-abf1-a924cd1e7cb0",
   "metadata": {},
   "outputs": [],
   "source": [
    "type(preprocessed)"
   ]
  },
  {
   "cell_type": "code",
   "execution_count": null,
   "id": "f32b57a9-a04f-484e-b3fe-13cceb3f989b",
   "metadata": {},
   "outputs": [],
   "source": [
    "rearranged = xr.concat(\n",
    "    bact_analysis.utils.preprocess.reorder_by_groups(\n",
    "        preprocessed,\n",
    "        preprocessed.groupby(preprocessed.dt_mux_selector_selected),\n",
    "        reordered_dim=\"name\",\n",
    "        dim_sel=\"time\",\n",
    "        new_indices_dim=\"step\",\n",
    "    ),\n",
    "    dim=\"name\",\n",
    ")"
   ]
  },
  {
   "cell_type": "code",
   "execution_count": null,
   "id": "bd699a50-a2ba-4f64-ab66-67c7709abb55",
   "metadata": {},
   "outputs": [],
   "source": [
    "tune_data = xr.merge([rearranged.dt_tunes_hor_readback, rearranged.dt_tunes_vert_readback, rearranged.dt_mux_power_converter_setpoint, rearranged.dt_mux_power_converter_readback])"
   ]
  },
  {
   "cell_type": "code",
   "execution_count": null,
   "id": "fdd71740",
   "metadata": {},
   "outputs": [],
   "source": [
    "tune_sel = tune_data.sel(name=\"Q2M1T1R\")"
   ]
  },
  {
   "cell_type": "code",
   "execution_count": null,
   "id": "8e096e38",
   "metadata": {},
   "outputs": [],
   "source": [
    "from scipy.optimize import lsq_linear"
   ]
  },
  {
   "cell_type": "code",
   "execution_count": null,
   "id": "7bdb6acb",
   "metadata": {},
   "outputs": [],
   "source": [
    "def fit_tune_shift(dI, tune):\n",
    "    X = np.ones((2,) + dI.shape, dtype=np.float_)\n",
    "    X[1, :] = dI\n",
    "    res = lsq_linear(X.T, tune)\n",
    "    return res"
   ]
  },
  {
   "cell_type": "code",
   "execution_count": null,
   "id": "bd5fab9b",
   "metadata": {},
   "outputs": [],
   "source": [
    "res = fit_tune_shift(tune_sel.dt_mux_power_converter_setpoint, tune_sel.dt_tunes_hor_readback)"
   ]
  },
  {
   "cell_type": "code",
   "execution_count": null,
   "id": "e6d187fe",
   "metadata": {},
   "outputs": [],
   "source": [
    "res"
   ]
  },
  {
   "cell_type": "code",
   "execution_count": null,
   "id": "199ecae3",
   "metadata": {},
   "outputs": [],
   "source": [
    "x = np.linspace(-2.2, 2.2)\n",
    "t_f = res.x[1] * x\n",
    "y = res.x[0] + t_f\n",
    "t_f_m = tune_sel.dt_tunes_hor_readback  - res.x[0]"
   ]
  },
  {
   "cell_type": "code",
   "execution_count": null,
   "id": "04a9edce",
   "metadata": {},
   "outputs": [],
   "source": [
    "fig, axes = plt.subplots(1, 2, figsize=[12, 6])\n",
    "ax1, ax2= axes\n",
    "line, = ax1.plot(tune_sel.dt_mux_power_converter_setpoint, tune_sel.dt_tunes_hor_readback, 'x')\n",
    "ax1.plot(x, y, '-', color=line.get_color())\n",
    "ax1.set_xlabel(r\"\\Delta I [A]\")\n",
    "ax1.set_ylabel(r\"f [kHz]\")\n",
    "ax2.plot(tune_sel.dt_mux_power_converter_setpoint, t_f_m, 'x', color=line.get_color())\n",
    "ax2.plot(x, t_f, '-', color=line.get_color())\n",
    "ax2.set_xlabel(r\"\\Delta I [A]\")\n",
    "ax2.set_ylabel(r\"\\Delta t [kHz]\")\n"
   ]
  },
  {
   "cell_type": "code",
   "execution_count": null,
   "id": "7da9cde3",
   "metadata": {},
   "outputs": [],
   "source": []
  },
  {
   "cell_type": "code",
   "execution_count": null,
   "id": "922f7b36",
   "metadata": {},
   "outputs": [],
   "source": []
  },
  {
   "cell_type": "code",
   "execution_count": null,
   "id": "9198de19",
   "metadata": {},
   "outputs": [],
   "source": []
  },
  {
   "cell_type": "code",
   "execution_count": null,
   "id": "d3b9ce83",
   "metadata": {},
   "outputs": [],
   "source": []
  },
  {
   "cell_type": "code",
   "execution_count": null,
   "id": "869160b7-b16b-4929-afab-caea0bedbec4",
   "metadata": {},
   "outputs": [],
   "source": [
    "measurement_vars = dict(dt_beam_orbit_x='x_pos', dt_beam_orbit_y='y_pos', dt_mux_power_converter_setpoint='excitation')\n",
    "redm4proc = rearranged[list(measurement_vars.keys())].rename_vars(**measurement_vars).sel(pos=bpm_names_lc)\n",
    "redm4proc;"
   ]
  },
  {
   "cell_type": "markdown",
   "id": "2ef4a685-cb53-4364-9585-37c983dfa506",
   "metadata": {},
   "source": [
    "## Processing data"
   ]
  },
  {
   "cell_type": "markdown",
   "id": "b7120695-73fa-4482-bef4-cd54be52a8bd",
   "metadata": {},
   "source": [
    "### Using model information"
   ]
  },
  {
   "cell_type": "markdown",
   "id": "8cbf8c00-f308-4471-834f-b6cab5377e61",
   "metadata": {},
   "source": [
    "This model information is obtained here from the model produced by the digital shadow. \n",
    "\n",
    "Should be replaced by a standard lattice from database"
   ]
  },
  {
   "cell_type": "code",
   "execution_count": null,
   "id": "7e163135-2787-474b-bd49-7515b77ee779",
   "metadata": {},
   "outputs": [],
   "source": [
    "orb_dist_vars = dict(dt_beam_twiss_beta_x='beta_x', dt_beam_twiss_beta_y='beta_y', dt_beam_twiss_nu_x='nu_x', dt_beam_twiss_nu_y='nu_y')"
   ]
  },
  {
   "cell_type": "code",
   "execution_count": null,
   "id": "e38a5676-4bf0-4be0-b0ef-469019a4df25",
   "metadata": {},
   "outputs": [],
   "source": [
    "magnet_name = \"Q1M1D1R\"\n",
    "\n",
    "selected_magnet_all_pos = dict(name=magnet_name, step=0)\n",
    "selected_magnet_position = dict(pos=magnet_name.lower())"
   ]
  },
  {
   "cell_type": "code",
   "execution_count": null,
   "id": "87950acc-0352-40d5-a826-c0329fb9894f",
   "metadata": {},
   "outputs": [],
   "source": [
    "selected_model_ = rearranged.sel(selected_magnet_all_pos)[list(orb_dist_vars.keys())]#.rename_vars(**orb_dist_vars)\n",
    "selected_model_;"
   ]
  },
  {
   "cell_type": "code",
   "execution_count": null,
   "id": "b25fef1e-8654-4ba1-b9db-61b1562d8a58",
   "metadata": {},
   "outputs": [],
   "source": [
    "beam_info"
   ]
  },
  {
   "cell_type": "code",
   "execution_count": null,
   "id": "cf8f4c36-64c5-48cc-9af4-3228dbf842ec",
   "metadata": {},
   "outputs": [],
   "source": []
  },
  {
   "cell_type": "code",
   "execution_count": null,
   "id": "7b4dd352-2dd7-4ae6-a648-6d1bb27292e6",
   "metadata": {},
   "outputs": [],
   "source": [
    "(dim,) = selected_model_.dt_beam_twiss_beta_x.dims\n",
    "selected_model = xr.Dataset(\n",
    "    dict(\n",
    "        beta=xr.DataArray(\n",
    "            data=[\n",
    "                selected_model_.dt_beam_twiss_beta_x,\n",
    "                selected_model_.dt_beam_twiss_beta_y,\n",
    "            ],\n",
    "            dims=[\"plane\", dim],\n",
    "            coords=[[\"x\", \"y\"], selected_model_.dt_beam_twiss_beta_x.coords[dim]],\n",
    "        ),\n",
    "        mu=xr.DataArray(\n",
    "            data=[\n",
    "                selected_model_.dt_beam_twiss_nu_x,\n",
    "                selected_model_.dt_beam_twiss_nu_y,\n",
    "            ],\n",
    "            dims=[\"plane\", dim],\n",
    "            coords=[[\"x\", \"y\"], selected_model_.dt_beam_twiss_nu_x.coords[dim]],\n",
    "        ),\n",
    "    )\n",
    ").merge(dict(ds=beam_info.ds))\n",
    "selected_model"
   ]
  },
  {
   "cell_type": "code",
   "execution_count": null,
   "id": "646b4017-61b9-4b75-b07e-256f8bf185ac",
   "metadata": {},
   "outputs": [],
   "source": [
    "selected_model.to_netcdf('bessii_twiss_tracy.nc')"
   ]
  },
  {
   "cell_type": "code",
   "execution_count": null,
   "id": "eb507083-f1dc-4af7-95a8-80b87fbecee4",
   "metadata": {},
   "outputs": [],
   "source": [
    "selected_model_for_magnet = selected_model.sel(selected_magnet_position)\n",
    "selected_model_for_magnet"
   ]
  },
  {
   "cell_type": "code",
   "execution_count": null,
   "id": "1579972e-73c5-4785-a49d-a87f98666eb2",
   "metadata": {},
   "outputs": [],
   "source": [
    "if False:\n",
    "    measurement_vars = dict(dt_bpm_waveform_x_pos='x_pos', dt_bpm_waveform_y_pos='y_pos', dt_mux_power_converter_setpoint='excitation')\n",
    "    selected_measurement = rearranged.sel(name=magnet_name)[list(measurement_vars.keys())].rename_vars(**measurement_vars)#.rename(bpm='pos')"
   ]
  },
  {
   "cell_type": "code",
   "execution_count": null,
   "id": "a82ea173-3167-4e2e-ab7a-feeb46d676f1",
   "metadata": {},
   "outputs": [],
   "source": [
    "if True:\n",
    "    measurement_vars = dict(dt_beam_orbit_x='x_pos', dt_beam_orbit_y='y_pos', dt_mux_power_converter_setpoint='excitation')\n",
    "    selected_measurement = rearranged.sel(name=magnet_name)[list(measurement_vars.keys())].rename_vars(**measurement_vars).sel(pos=bpm_names_lc)"
   ]
  },
  {
   "cell_type": "code",
   "execution_count": null,
   "id": "5e48a794-c619-48bf-92c8-b0207141eadb",
   "metadata": {},
   "outputs": [],
   "source": [
    "selected_measurement"
   ]
  },
  {
   "cell_type": "code",
   "execution_count": null,
   "id": "877475e1-f95a-4389-984d-f498494be00a",
   "metadata": {},
   "outputs": [],
   "source": [
    "theta = 1e-5"
   ]
  },
  {
   "cell_type": "markdown",
   "id": "0b380e90-4cb6-4dba-8294-f915863470d9",
   "metadata": {},
   "source": [
    "### rearranged"
   ]
  },
  {
   "cell_type": "code",
   "execution_count": null,
   "id": "5da0ffe2-b961-4e3d-b111-7d0fd3086cbc",
   "metadata": {},
   "outputs": [],
   "source": [
    "selected_model"
   ]
  },
  {
   "cell_type": "code",
   "execution_count": null,
   "id": "9cec7c4b-9953-42f3-90e1-83b1dbb869a4",
   "metadata": {},
   "outputs": [],
   "source": [
    "importlib.reload(bact_analysis.transverse.distorted_orbit)"
   ]
  },
  {
   "cell_type": "code",
   "execution_count": null,
   "id": "e91910c3-c227-43d4-a337-ffd3bd7b474f",
   "metadata": {},
   "outputs": [],
   "source": [
    "orbit = bact_analysis.transverse.distorted_orbit.closed_orbit_distortion(\n",
    "    selected_model.sel(plane=\"x\"),\n",
    "    selected_model_for_magnet.sel(plane=\"x\"),\n",
    "    theta,\n",
    "    scale_tune=1,\n",
    "    scale_phase_advance=2 * np.pi,\n",
    ")\n",
    "orbit;"
   ]
  },
  {
   "cell_type": "code",
   "execution_count": null,
   "id": "3c887876-20a9-4ec4-9ff8-e0146f1696c4",
   "metadata": {},
   "outputs": [],
   "source": [
    "orbit"
   ]
  },
  {
   "cell_type": "code",
   "execution_count": null,
   "id": "c12c4044-e77f-4b33-b8f7-dd017c278086",
   "metadata": {},
   "outputs": [],
   "source": [
    "orbit_at_bpm = orbit.sel(pos=bpm_names_lc)"
   ]
  },
  {
   "cell_type": "code",
   "execution_count": null,
   "id": "05857804-7374-465c-99d8-42dc72dcc645",
   "metadata": {},
   "outputs": [],
   "source": [
    "plt.plot(\n",
    "    beam_info.ds, orbit, '-',\n",
    "    beam_info.ds.sel(dict(pos=bpm_names_lc)), orbit_at_bpm, '.'\n",
    ")"
   ]
  },
  {
   "cell_type": "code",
   "execution_count": null,
   "id": "8061d542-d11a-4f18-b5f3-a983aa79a0f6",
   "metadata": {},
   "outputs": [],
   "source": [
    "res = bact_analysis.transverse.calc.derive_angle(orbit=orbit_at_bpm, excitation=selected_measurement.excitation, measurement=selected_measurement.x_pos)\n",
    "res.sel(dict(parameter='scaled_angle'))"
   ]
  },
  {
   "cell_type": "code",
   "execution_count": null,
   "id": "03a35cc4-09cb-4fdc-8ef7-eb56df7e6f5b",
   "metadata": {},
   "outputs": [],
   "source": [
    "ds = beam_info.ds.sel(pos=bpm_names_lc)"
   ]
  },
  {
   "cell_type": "code",
   "execution_count": null,
   "id": "7a0fcf5c-480d-4bc0-811e-9bacb114f968",
   "metadata": {},
   "outputs": [],
   "source": [
    "fig, ax = plt.subplots(1, 1, figsize=[8, 6])\n",
    "ax.plot(ds, res.sel(dict(result='value',parameter=bpm_names_lc))*1e6 )"
   ]
  },
  {
   "cell_type": "code",
   "execution_count": null,
   "id": "8d3c1f6d-139f-4cf4-b6df-4d9b5efbbded",
   "metadata": {},
   "outputs": [],
   "source": [
    "ds = all_data.dt_bpm_waveform_ds.isel(time=0)\n",
    "mean_orbit = res.sel(result='value',parameter=bpm_names_lc).rename(parameter='pos')\n",
    "mean_orbit.coords"
   ]
  },
  {
   "cell_type": "code",
   "execution_count": null,
   "id": "3b2cb562-0fad-469f-a965-705defc0c34f",
   "metadata": {},
   "outputs": [],
   "source": [
    "fig, axes = plt.subplots(2, 1, figsize=[16, 8], sharex=True)\n",
    "ax, ax_diff = axes\n",
    "(dim,) = selected_measurement.excitation.dims\n",
    "\n",
    "pscale = 1000\n",
    "\n",
    "ax.plot(ds, mean_orbit * pscale, \"k-\", linewidth=2)\n",
    "\n",
    "scaled_angle = res.sel(dict(parameter=\"scaled_angle\"))\n",
    "\n",
    "for step in selected_measurement.coords[dim]:\n",
    "    if step == 6:\n",
    "        #break\n",
    "        pass\n",
    "    model_scale = scaled_angle * selected_measurement.excitation[step]\n",
    "    sel = selected_measurement.x_pos.sel(dict(step=step))\n",
    "    (line,) = ax.plot(ds, sel.values * pscale)\n",
    "    ax_diff.plot(\n",
    "        ds, (sel - mean_orbit) * pscale, \".-\", color=line.get_color(), linewidth=0.1\n",
    "    )\n",
    "    ax_diff.plot(\n",
    "        ds, orbit_at_bpm * pscale * model_scale,\"+\",\n",
    "        beam_info.ds, orbit * pscale * model_scale,\"-\",\n",
    "        color=line.get_color(),linewidth=0.1\n",
    "    )\n",
    "    \n",
    "ax.set_xlabel('ds [m]')\n",
    "ax.set_ylabel('x, y [mm]')\n",
    "ax_diff.set_ylabel('dx, dy [mm]');\n"
   ]
  },
  {
   "cell_type": "markdown",
   "id": "4ac0135a-bf52-4c21-89a5-b46ee1291973",
   "metadata": {},
   "source": [
    "## Test processing capabilities"
   ]
  },
  {
   "cell_type": "code",
   "execution_count": null,
   "id": "98dc03ca-306b-48e2-a5ae-a00a6cad926f",
   "metadata": {},
   "outputs": [],
   "source": [
    "# d = {name: item for name, item in red4proc.coords.items()}"
   ]
  },
  {
   "cell_type": "code",
   "execution_count": null,
   "id": "0629322a-4e24-4d6c-8961-9d6a186714af",
   "metadata": {},
   "outputs": [],
   "source": [
    "#red4proc.x_pos.expand_dims?"
   ]
  },
  {
   "cell_type": "code",
   "execution_count": null,
   "id": "a71e6eb9-e723-41cb-87ff-980ae51d6a29",
   "metadata": {},
   "outputs": [],
   "source": [
    "importlib.reload( bact_analysis.transverse.distorted_orbit)\n",
    "importlib.reload( bact_analysis.transverse.calc)\n",
    "importlib.reload( bact_analysis.transverse.process)"
   ]
  },
  {
   "cell_type": "code",
   "execution_count": null,
   "id": "f916997b-ff81-4f09-8a77-ee6499b26610",
   "metadata": {},
   "outputs": [],
   "source": [
    "start = datetime.datetime.now()\n",
    "result = {\n",
    "    name: item for name, item in \n",
    "    tqdm.tqdm(bact_analysis.transverse.process.process_all_gen(selected_model, redm4proc, redm4proc.coords['name'].values, bpm_names=bpm_names_lc, theta=1e-5), \n",
    "              total=len(redm4proc.coords['name']))\n",
    "}\n",
    "end  = datetime.datetime.now()\n",
    "end - start"
   ]
  },
  {
   "cell_type": "code",
   "execution_count": null,
   "id": "ecebfa86-4971-434f-9600-661cff8faba5",
   "metadata": {},
   "outputs": [],
   "source": [
    "rds = bact_analysis.transverse.process.combine_all(result)"
   ]
  },
  {
   "cell_type": "code",
   "execution_count": null,
   "id": "804e3c99-ed50-4598-bdb9-712dff337c26",
   "metadata": {},
   "outputs": [],
   "source": [
    "rds.orbit.attrs"
   ]
  },
  {
   "cell_type": "code",
   "execution_count": null,
   "id": "d7241f45-5782-470a-801f-e32058a2b9c2",
   "metadata": {},
   "outputs": [],
   "source": [
    "quad_names = [str(name.values) for name in rds.coords[\"name\"]]\n",
    "quad_names_lc = [name.lower() for name in quad_names]"
   ]
  },
  {
   "cell_type": "code",
   "execution_count": null,
   "id": "0cea6144-ff66-4e92-bc71-35ad140bdc36",
   "metadata": {},
   "outputs": [],
   "source": [
    "beam_info.ds.sel(pos=quad_names_lc)\n",
    "rds.fit_params.sel(name=quad_names, parameter='scaled_angle', result='value');"
   ]
  },
  {
   "cell_type": "code",
   "execution_count": null,
   "id": "4c14a8e7-6258-4a26-b66a-504faabe1c24",
   "metadata": {},
   "outputs": [],
   "source": [
    "fig, axes = plt.subplots(2, 1, figsize=[20, 16], sharex=True)\n",
    "ax_x, ax_y = axes\n",
    "a_scale = rds.orbit.attrs['theta'] * 1e6\n",
    "ax_x.errorbar(\n",
    "    beam_info.ds.sel(pos=quad_names_lc), rds.fit_params.sel(name=quad_names, parameter='scaled_angle', result='value', plane='x') * a_scale, \n",
    "    yerr=rds.fit_params.sel(name=quad_names, parameter='scaled_angle', result='error', plane='x')*a_scale, \n",
    "    fmt= '.'\n",
    ")\n",
    "ax_y.errorbar(\n",
    "    beam_info.ds.sel(pos=quad_names_lc), rds.fit_params.sel(name=quad_names, parameter='scaled_angle', result='value', plane='y') * a_scale, \n",
    "    yerr=rds.fit_params.sel(name=quad_names, parameter='scaled_angle', result='error', plane='y')*a_scale, \n",
    "    fmt= '.'\n",
    ")\n",
    "ax_y.set_xlabel('s [m]')\n",
    "ax_x.set_ylabel('x [$\\mu rad$]')\n",
    "ax_y.set_ylabel('y [$\\mu$ rad]')\n"
   ]
  },
  {
   "cell_type": "code",
   "execution_count": null,
   "id": "141538d2-0492-44d8-bc2d-1d56849a71cc",
   "metadata": {},
   "outputs": [],
   "source": [
    "import bact2_bessyii.magnets\n",
    "importlib.reload(bact2_bessyii.magnets)"
   ]
  },
  {
   "cell_type": "code",
   "execution_count": null,
   "id": "55981534-cdfc-403b-9f3c-8349085e107a",
   "metadata": {},
   "outputs": [],
   "source": [
    "import bact_analysis_bessyii.bba.calc\n",
    "importlib.reload(bact_analysis_bessyii.bba.calc)"
   ]
  },
  {
   "cell_type": "code",
   "execution_count": null,
   "id": "d2c525d6-65ca-4be9-a900-b86bb04682e3",
   "metadata": {},
   "outputs": [],
   "source": [
    "offsets = bact_analysis_bessyii.bba.calc.angles_to_offset_all(rds, names=quad_names)\n",
    "offsets;"
   ]
  },
  {
   "cell_type": "code",
   "execution_count": null,
   "id": "de1a5210-49ff-4303-aaef-3ff8ee77159f",
   "metadata": {},
   "outputs": [],
   "source": [
    "fig, axes = plt.subplots(2, 1, figsize=[20, 16], sharex=True)\n",
    "ax_x, ax_y = axes\n",
    "a_scale = 1e3\n",
    "ax_x.errorbar(\n",
    "    beam_info.ds.sel(pos=quad_names_lc),\n",
    "    offsets.sel(name=quad_names, result=\"value\", plane=\"x\") * a_scale,\n",
    "    yerr=offsets.sel(name=quad_names, result=\"error\", plane=\"x\") * a_scale,\n",
    "    fmt=\".\",\n",
    ")\n",
    "ax_y.errorbar(\n",
    "    beam_info.ds.sel(pos=quad_names_lc),\n",
    "    offsets.sel(name=quad_names, result=\"value\", plane=\"y\") * a_scale,\n",
    "    yerr=offsets.sel(name=quad_names, result=\"error\", plane=\"y\") * a_scale,\n",
    "    fmt=\".\",\n",
    ")\n",
    "ax_y.set_xlabel(\"s [m]\")\n",
    "ax_x.set_ylabel(\"x [mm]\")\n",
    "ax_y.set_ylabel(\"y [mm]\")"
   ]
  },
  {
   "cell_type": "code",
   "execution_count": null,
   "id": "38c6f1e5-3b57-4449-b1a1-32d1d145ffaa",
   "metadata": {},
   "outputs": [],
   "source": []
  }
 ],
 "metadata": {
  "kernelspec": {
   "display_name": "Python 3 (ipykernel)",
   "language": "python",
   "name": "python3"
  },
  "language_info": {
   "codemirror_mode": {
    "name": "ipython",
    "version": 3
   },
   "file_extension": ".py",
   "mimetype": "text/x-python",
   "name": "python",
   "nbconvert_exporter": "python",
   "pygments_lexer": "ipython3",
   "version": "3.8.10"
  },
  "toc": {
   "base_numbering": 1,
   "nav_menu": {},
   "number_sections": true,
   "sideBar": true,
   "skip_h1_title": false,
   "title_cell": "Table of Contents",
   "title_sidebar": "Contents",
   "toc_cell": false,
   "toc_position": {},
   "toc_section_display": true,
   "toc_window_display": false
  }
 },
 "nbformat": 4,
 "nbformat_minor": 5
}
